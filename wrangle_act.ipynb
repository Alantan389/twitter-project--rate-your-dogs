{
 "cells": [
  {
   "cell_type": "code",
   "execution_count": 571,
   "metadata": {
    "scrolled": true
   },
   "outputs": [],
   "source": [
    "import pandas as pd"
   ]
  },
  {
   "cell_type": "code",
   "execution_count": null,
   "metadata": {},
   "outputs": [],
   "source": []
  },
  {
   "cell_type": "code",
   "execution_count": 572,
   "metadata": {
    "scrolled": true
   },
   "outputs": [],
   "source": [
    "## query the twitter-archive data\n",
    "df=pd.read_csv('/Users/balance/Desktop/Twitter_Project/twitter-archive-enhanced.csv')"
   ]
  },
  {
   "cell_type": "code",
   "execution_count": 573,
   "metadata": {
    "scrolled": true
   },
   "outputs": [
    {
     "data": {
      "text/html": [
       "<div>\n",
       "<style scoped>\n",
       "    .dataframe tbody tr th:only-of-type {\n",
       "        vertical-align: middle;\n",
       "    }\n",
       "\n",
       "    .dataframe tbody tr th {\n",
       "        vertical-align: top;\n",
       "    }\n",
       "\n",
       "    .dataframe thead th {\n",
       "        text-align: right;\n",
       "    }\n",
       "</style>\n",
       "<table border=\"1\" class=\"dataframe\">\n",
       "  <thead>\n",
       "    <tr style=\"text-align: right;\">\n",
       "      <th></th>\n",
       "      <th>tweet_id</th>\n",
       "      <th>in_reply_to_status_id</th>\n",
       "      <th>in_reply_to_user_id</th>\n",
       "      <th>timestamp</th>\n",
       "      <th>source</th>\n",
       "      <th>text</th>\n",
       "      <th>retweeted_status_id</th>\n",
       "      <th>retweeted_status_user_id</th>\n",
       "      <th>retweeted_status_timestamp</th>\n",
       "      <th>expanded_urls</th>\n",
       "      <th>rating_numerator</th>\n",
       "      <th>rating_denominator</th>\n",
       "      <th>name</th>\n",
       "      <th>doggo</th>\n",
       "      <th>floofer</th>\n",
       "      <th>pupper</th>\n",
       "      <th>puppo</th>\n",
       "    </tr>\n",
       "  </thead>\n",
       "  <tbody>\n",
       "    <tr>\n",
       "      <th>0</th>\n",
       "      <td>892420643555336193</td>\n",
       "      <td>NaN</td>\n",
       "      <td>NaN</td>\n",
       "      <td>2017-08-01 16:23:56 +0000</td>\n",
       "      <td>&lt;a href=\"http://twitter.com/download/iphone\" r...</td>\n",
       "      <td>This is Phineas. He's a mystical boy. Only eve...</td>\n",
       "      <td>NaN</td>\n",
       "      <td>NaN</td>\n",
       "      <td>NaN</td>\n",
       "      <td>https://twitter.com/dog_rates/status/892420643...</td>\n",
       "      <td>13</td>\n",
       "      <td>10</td>\n",
       "      <td>Phineas</td>\n",
       "      <td>None</td>\n",
       "      <td>None</td>\n",
       "      <td>None</td>\n",
       "      <td>None</td>\n",
       "    </tr>\n",
       "  </tbody>\n",
       "</table>\n",
       "</div>"
      ],
      "text/plain": [
       "             tweet_id  in_reply_to_status_id  in_reply_to_user_id  \\\n",
       "0  892420643555336193                    NaN                  NaN   \n",
       "\n",
       "                   timestamp  \\\n",
       "0  2017-08-01 16:23:56 +0000   \n",
       "\n",
       "                                              source  \\\n",
       "0  <a href=\"http://twitter.com/download/iphone\" r...   \n",
       "\n",
       "                                                text  retweeted_status_id  \\\n",
       "0  This is Phineas. He's a mystical boy. Only eve...                  NaN   \n",
       "\n",
       "   retweeted_status_user_id retweeted_status_timestamp  \\\n",
       "0                       NaN                        NaN   \n",
       "\n",
       "                                       expanded_urls  rating_numerator  \\\n",
       "0  https://twitter.com/dog_rates/status/892420643...                13   \n",
       "\n",
       "   rating_denominator     name doggo floofer pupper puppo  \n",
       "0                  10  Phineas  None    None   None  None  "
      ]
     },
     "execution_count": 573,
     "metadata": {},
     "output_type": "execute_result"
    }
   ],
   "source": [
    "df.head(1)"
   ]
  },
  {
   "cell_type": "code",
   "execution_count": null,
   "metadata": {},
   "outputs": [],
   "source": []
  },
  {
   "cell_type": "code",
   "execution_count": 574,
   "metadata": {},
   "outputs": [
    {
     "name": "stdout",
     "output_type": "stream",
     "text": [
      "<class 'pandas.core.frame.DataFrame'>\n",
      "RangeIndex: 2356 entries, 0 to 2355\n",
      "Data columns (total 17 columns):\n",
      " #   Column                      Non-Null Count  Dtype  \n",
      "---  ------                      --------------  -----  \n",
      " 0   tweet_id                    2356 non-null   int64  \n",
      " 1   in_reply_to_status_id       78 non-null     float64\n",
      " 2   in_reply_to_user_id         78 non-null     float64\n",
      " 3   timestamp                   2356 non-null   object \n",
      " 4   source                      2356 non-null   object \n",
      " 5   text                        2356 non-null   object \n",
      " 6   retweeted_status_id         181 non-null    float64\n",
      " 7   retweeted_status_user_id    181 non-null    float64\n",
      " 8   retweeted_status_timestamp  181 non-null    object \n",
      " 9   expanded_urls               2297 non-null   object \n",
      " 10  rating_numerator            2356 non-null   int64  \n",
      " 11  rating_denominator          2356 non-null   int64  \n",
      " 12  name                        2356 non-null   object \n",
      " 13  doggo                       2356 non-null   object \n",
      " 14  floofer                     2356 non-null   object \n",
      " 15  pupper                      2356 non-null   object \n",
      " 16  puppo                       2356 non-null   object \n",
      "dtypes: float64(4), int64(3), object(10)\n",
      "memory usage: 313.0+ KB\n"
     ]
    }
   ],
   "source": [
    "df.info()"
   ]
  },
  {
   "cell_type": "code",
   "execution_count": null,
   "metadata": {},
   "outputs": [],
   "source": []
  },
  {
   "cell_type": "code",
   "execution_count": 575,
   "metadata": {},
   "outputs": [
    {
     "data": {
      "text/plain": [
       "(2356, 17)"
      ]
     },
     "execution_count": 575,
     "metadata": {},
     "output_type": "execute_result"
    }
   ],
   "source": [
    "df.shape"
   ]
  },
  {
   "cell_type": "code",
   "execution_count": null,
   "metadata": {},
   "outputs": [],
   "source": []
  },
  {
   "cell_type": "code",
   "execution_count": null,
   "metadata": {},
   "outputs": [],
   "source": []
  },
  {
   "cell_type": "code",
   "execution_count": 576,
   "metadata": {},
   "outputs": [],
   "source": [
    "## data qulity and tideness issue inspection."
   ]
  },
  {
   "cell_type": "markdown",
   "metadata": {},
   "source": [
    "Data Qulity Issue\n",
    "    \n",
    "    1.NaN value in some column\n",
    "    2.some datatype is not collect, need to be convert to correct data type\n",
    "    3.some rating_denominator column is not equal '10'\n",
    "    4.some rating_numerator is way more larger than '10'\n",
    "    5.Missing value in Name columns\n",
    "\n",
    "\n",
    "Data Tideness Issue\n",
    "    \n",
    "    1.date and time mixed in timestamp column\n",
    "    2.not all name in name column is first letter capitalized."
   ]
  },
  {
   "cell_type": "code",
   "execution_count": null,
   "metadata": {},
   "outputs": [],
   "source": []
  },
  {
   "cell_type": "code",
   "execution_count": 577,
   "metadata": {
    "scrolled": true
   },
   "outputs": [
    {
     "data": {
      "text/plain": [
       "0"
      ]
     },
     "execution_count": 577,
     "metadata": {},
     "output_type": "execute_result"
    }
   ],
   "source": [
    "## find out any duplicate rows.\n",
    "sum(df.duplicated())"
   ]
  },
  {
   "cell_type": "code",
   "execution_count": null,
   "metadata": {
    "scrolled": true
   },
   "outputs": [],
   "source": []
  },
  {
   "cell_type": "code",
   "execution_count": 578,
   "metadata": {
    "scrolled": true
   },
   "outputs": [
    {
     "data": {
      "text/plain": [
       "None       745\n",
       "a           55\n",
       "Charlie     12\n",
       "Oliver      11\n",
       "Lucy        11\n",
       "Cooper      11\n",
       "Lola        10\n",
       "Tucker      10\n",
       "Penny       10\n",
       "Bo           9\n",
       "Winston      9\n",
       "the          8\n",
       "Sadie        8\n",
       "an           7\n",
       "Buddy        7\n",
       "Daisy        7\n",
       "Toby         7\n",
       "Bailey       7\n",
       "Rusty        6\n",
       "Dave         6\n",
       "Name: name, dtype: int64"
      ]
     },
     "execution_count": 578,
     "metadata": {},
     "output_type": "execute_result"
    }
   ],
   "source": [
    "## missing value under name. since name is not important index, no action taken\n",
    "df.name.value_counts().head(20)"
   ]
  },
  {
   "cell_type": "code",
   "execution_count": null,
   "metadata": {
    "scrolled": true
   },
   "outputs": [],
   "source": []
  },
  {
   "cell_type": "code",
   "execution_count": 579,
   "metadata": {
    "scrolled": true
   },
   "outputs": [
    {
     "data": {
      "text/plain": [
       "a               55\n",
       "actually         2\n",
       "all              1\n",
       "an               7\n",
       "by               1\n",
       "getting          2\n",
       "his              1\n",
       "incredibly       1\n",
       "infuriating      1\n",
       "just             4\n",
       "life             1\n",
       "light            1\n",
       "mad              2\n",
       "my               1\n",
       "not              2\n",
       "officially       1\n",
       "old              1\n",
       "one              4\n",
       "quite            4\n",
       "space            1\n",
       "such             1\n",
       "the              8\n",
       "this             1\n",
       "unacceptable     1\n",
       "very             5\n",
       "Name: name, dtype: int64"
      ]
     },
     "execution_count": 579,
     "metadata": {},
     "output_type": "execute_result"
    }
   ],
   "source": [
    "# list all names that are NOT capitalized\n",
    "err_names_mask = df.name.str.contains('^[a-z]', regex = True)\n",
    "df[err_names_mask].name.value_counts().sort_index()"
   ]
  },
  {
   "cell_type": "code",
   "execution_count": 580,
   "metadata": {
    "scrolled": true
   },
   "outputs": [
    {
     "data": {
      "text/plain": [
       "109"
      ]
     },
     "execution_count": 580,
     "metadata": {},
     "output_type": "execute_result"
    }
   ],
   "source": [
    "len(df[err_names_mask])"
   ]
  },
  {
   "cell_type": "markdown",
   "metadata": {},
   "source": [
    "\n",
    "this list contains non-capitalized words from the 'name' column for 109 tweets. none of which are a valid name."
   ]
  },
  {
   "cell_type": "code",
   "execution_count": null,
   "metadata": {},
   "outputs": [],
   "source": []
  },
  {
   "cell_type": "code",
   "execution_count": 581,
   "metadata": {},
   "outputs": [
    {
     "data": {
      "text/plain": [
       "59"
      ]
     },
     "execution_count": 581,
     "metadata": {},
     "output_type": "execute_result"
    }
   ],
   "source": [
    "# number of tweets with missing urls\n",
    "sum(df.expanded_urls.isna())"
   ]
  },
  {
   "cell_type": "code",
   "execution_count": null,
   "metadata": {},
   "outputs": [],
   "source": []
  },
  {
   "cell_type": "code",
   "execution_count": 582,
   "metadata": {},
   "outputs": [
    {
     "data": {
      "text/plain": [
       "56"
      ]
     },
     "execution_count": 582,
     "metadata": {},
     "output_type": "execute_result"
    }
   ],
   "source": [
    "# how many tweets with missing urls are replies or retweets?\n",
    "sum(df.expanded_urls.isna() & \\\n",
    "    (df.in_reply_to_status_id.notnull() | \\\n",
    "     df.retweeted_status_id.notnull()))"
   ]
  },
  {
   "cell_type": "code",
   "execution_count": null,
   "metadata": {},
   "outputs": [],
   "source": []
  },
  {
   "cell_type": "code",
   "execution_count": 583,
   "metadata": {},
   "outputs": [
    {
     "data": {
      "text/html": [
       "<div>\n",
       "<style scoped>\n",
       "    .dataframe tbody tr th:only-of-type {\n",
       "        vertical-align: middle;\n",
       "    }\n",
       "\n",
       "    .dataframe tbody tr th {\n",
       "        vertical-align: top;\n",
       "    }\n",
       "\n",
       "    .dataframe thead th {\n",
       "        text-align: right;\n",
       "    }\n",
       "</style>\n",
       "<table border=\"1\" class=\"dataframe\">\n",
       "  <thead>\n",
       "    <tr style=\"text-align: right;\">\n",
       "      <th></th>\n",
       "      <th>tweet_id</th>\n",
       "      <th>text</th>\n",
       "      <th>expanded_urls</th>\n",
       "    </tr>\n",
       "  </thead>\n",
       "  <tbody>\n",
       "    <tr>\n",
       "      <th>375</th>\n",
       "      <td>828361771580813312</td>\n",
       "      <td>Beebop and Doobert should start a band 12/10 w...</td>\n",
       "      <td>NaN</td>\n",
       "    </tr>\n",
       "    <tr>\n",
       "      <th>707</th>\n",
       "      <td>785515384317313025</td>\n",
       "      <td>Today, 10/10, should be National Dog Rates Day</td>\n",
       "      <td>NaN</td>\n",
       "    </tr>\n",
       "    <tr>\n",
       "      <th>1445</th>\n",
       "      <td>696518437233913856</td>\n",
       "      <td>Oh my god 10/10 for every little hot dog pupper</td>\n",
       "      <td>NaN</td>\n",
       "    </tr>\n",
       "  </tbody>\n",
       "</table>\n",
       "</div>"
      ],
      "text/plain": [
       "                tweet_id                                               text  \\\n",
       "375   828361771580813312  Beebop and Doobert should start a band 12/10 w...   \n",
       "707   785515384317313025     Today, 10/10, should be National Dog Rates Day   \n",
       "1445  696518437233913856    Oh my god 10/10 for every little hot dog pupper   \n",
       "\n",
       "     expanded_urls  \n",
       "375            NaN  \n",
       "707            NaN  \n",
       "1445           NaN  "
      ]
     },
     "execution_count": 583,
     "metadata": {},
     "output_type": "execute_result"
    }
   ],
   "source": [
    "# display tweets that are missing urls, and are NOT replies and are NOT retweets\n",
    "mask = df.expanded_urls.isna() & \\\n",
    "       df.in_reply_to_status_id.isna() & \\\n",
    "       df.retweeted_status_id.isna()\n",
    "df[mask][['tweet_id', 'text', 'expanded_urls']]"
   ]
  },
  {
   "cell_type": "code",
   "execution_count": null,
   "metadata": {},
   "outputs": [],
   "source": []
  },
  {
   "cell_type": "code",
   "execution_count": null,
   "metadata": {},
   "outputs": [],
   "source": []
  },
  {
   "cell_type": "code",
   "execution_count": 584,
   "metadata": {
    "scrolled": true
   },
   "outputs": [],
   "source": [
    "## make sure python and pd is up to date."
   ]
  },
  {
   "cell_type": "code",
   "execution_count": 585,
   "metadata": {
    "scrolled": true
   },
   "outputs": [
    {
     "name": "stdout",
     "output_type": "stream",
     "text": [
      "3.7.9\n"
     ]
    }
   ],
   "source": [
    "from platform import python_version\n",
    "\n",
    "print(python_version())"
   ]
  },
  {
   "cell_type": "code",
   "execution_count": 586,
   "metadata": {
    "scrolled": true
   },
   "outputs": [],
   "source": [
    "# pd.__version__"
   ]
  },
  {
   "cell_type": "code",
   "execution_count": 587,
   "metadata": {
    "scrolled": true
   },
   "outputs": [],
   "source": [
    "# conda update pandas"
   ]
  },
  {
   "cell_type": "code",
   "execution_count": null,
   "metadata": {
    "scrolled": true
   },
   "outputs": [],
   "source": [
    " "
   ]
  },
  {
   "cell_type": "code",
   "execution_count": 588,
   "metadata": {
    "scrolled": true
   },
   "outputs": [],
   "source": [
    "## visit Twitter Developer Portal, create account"
   ]
  },
  {
   "cell_type": "code",
   "execution_count": 589,
   "metadata": {
    "scrolled": true
   },
   "outputs": [],
   "source": [
    "## scrape the tweepy data from twiter API \n",
    "### Applied twitter account\n",
    "## scrape twitter info\n",
    "\n",
    "## import tweepy\n",
    "## from tweepy import OAuthHandler\n",
    "## import json\n",
    "## from timeit import default_timer as timer"
   ]
  },
  {
   "cell_type": "code",
   "execution_count": 590,
   "metadata": {
    "scrolled": true
   },
   "outputs": [],
   "source": [
    "## consumer_key='xxxxxxxxxxxxxxxxxxxxxxx'\n",
    "## consumer_secret='xxxxxxxxxxxxxxxxxxxxxxxxxxxxxxxxxxxxxxxxxxxxxxxxxxxxxxx'\n",
    "\n",
    "## access_token='xxxxxxxxxxxxxxxxxxxxxxxxxxxxxxxxxxxxxxxxxxxxxxxxxxxxxxxxx'\n",
    "## access_secret='xxxxxxxxxxxxxxxxxxxxxxxxxxxxxxxxxxxxxxxxxxxxxxxxxxxx'\n",
    "\n",
    "\n",
    "## auth=tweepy.OAuthHandler(consumer_key,consumer_secret)\n",
    "## auth.set_access_token(access_token,access_secret)\n",
    "\n",
    "## api=tweepy.API(auth,wait_on_rate_limit=True)\n",
    "\n",
    "## tweet_ids=df.tweet_id.values\n",
    "## len(tweet_ids)\n",
    "\n",
    "#tweet=api.get_status(666029285002620928,tweet_mode='extended')\n",
    "\n",
    "#tweet\n",
    "\n",
    "## tweet_ids = df.tweet_id.values\n",
    "## len(tweet_ids)\n",
    "\n",
    "# Query Twitter's API for JSON data for each tweet ID in the Twitter archive\n",
    "## count = 0\n",
    "## fails_dict = {}\n",
    "## start = timer()\n",
    "# Save each tweet's returned JSON as a new line in a .txt file\n",
    "## with open('tweet_json.txt', 'w') as outfile:\n",
    "    # This loop will likely take 20-30 minutes to run because of Twitter's rate limit\n",
    "    #for tweet_id in tweet_ids:\n",
    "        # count += 1\n",
    "        # print(str(count) + \": \" + str(tweet_id))\n",
    "        # try:\n",
    "            # tweet = api.get_status(tweet_id, tweet_mode='extended')\n",
    "            # print(\"Success\")\n",
    "            # json.dump(tweet._json, outfile)\n",
    "            # outfile.write('\\n')\n",
    "        # except tweepy.TweepError as e:\n",
    "           # print(\"Fail\")\n",
    "           # fails_dict[tweet_id] = e\n",
    "           # pass\n",
    "## end = timer()\n",
    "## print(end - start)\n",
    "## print(fails_dict)\n"
   ]
  },
  {
   "cell_type": "code",
   "execution_count": null,
   "metadata": {
    "scrolled": true
   },
   "outputs": [],
   "source": []
  },
  {
   "cell_type": "code",
   "execution_count": 591,
   "metadata": {
    "scrolled": true
   },
   "outputs": [],
   "source": [
    "df_clean=df.copy()"
   ]
  },
  {
   "cell_type": "code",
   "execution_count": 592,
   "metadata": {
    "scrolled": true
   },
   "outputs": [
    {
     "data": {
      "text/html": [
       "<div>\n",
       "<style scoped>\n",
       "    .dataframe tbody tr th:only-of-type {\n",
       "        vertical-align: middle;\n",
       "    }\n",
       "\n",
       "    .dataframe tbody tr th {\n",
       "        vertical-align: top;\n",
       "    }\n",
       "\n",
       "    .dataframe thead th {\n",
       "        text-align: right;\n",
       "    }\n",
       "</style>\n",
       "<table border=\"1\" class=\"dataframe\">\n",
       "  <thead>\n",
       "    <tr style=\"text-align: right;\">\n",
       "      <th></th>\n",
       "      <th>tweet_id</th>\n",
       "      <th>in_reply_to_status_id</th>\n",
       "      <th>in_reply_to_user_id</th>\n",
       "      <th>timestamp</th>\n",
       "      <th>source</th>\n",
       "      <th>text</th>\n",
       "      <th>retweeted_status_id</th>\n",
       "      <th>retweeted_status_user_id</th>\n",
       "      <th>retweeted_status_timestamp</th>\n",
       "      <th>expanded_urls</th>\n",
       "      <th>rating_numerator</th>\n",
       "      <th>rating_denominator</th>\n",
       "      <th>name</th>\n",
       "      <th>doggo</th>\n",
       "      <th>floofer</th>\n",
       "      <th>pupper</th>\n",
       "      <th>puppo</th>\n",
       "    </tr>\n",
       "  </thead>\n",
       "  <tbody>\n",
       "    <tr>\n",
       "      <th>0</th>\n",
       "      <td>892420643555336193</td>\n",
       "      <td>NaN</td>\n",
       "      <td>NaN</td>\n",
       "      <td>2017-08-01 16:23:56 +0000</td>\n",
       "      <td>&lt;a href=\"http://twitter.com/download/iphone\" r...</td>\n",
       "      <td>This is Phineas. He's a mystical boy. Only eve...</td>\n",
       "      <td>NaN</td>\n",
       "      <td>NaN</td>\n",
       "      <td>NaN</td>\n",
       "      <td>https://twitter.com/dog_rates/status/892420643...</td>\n",
       "      <td>13</td>\n",
       "      <td>10</td>\n",
       "      <td>Phineas</td>\n",
       "      <td>None</td>\n",
       "      <td>None</td>\n",
       "      <td>None</td>\n",
       "      <td>None</td>\n",
       "    </tr>\n",
       "  </tbody>\n",
       "</table>\n",
       "</div>"
      ],
      "text/plain": [
       "             tweet_id  in_reply_to_status_id  in_reply_to_user_id  \\\n",
       "0  892420643555336193                    NaN                  NaN   \n",
       "\n",
       "                   timestamp  \\\n",
       "0  2017-08-01 16:23:56 +0000   \n",
       "\n",
       "                                              source  \\\n",
       "0  <a href=\"http://twitter.com/download/iphone\" r...   \n",
       "\n",
       "                                                text  retweeted_status_id  \\\n",
       "0  This is Phineas. He's a mystical boy. Only eve...                  NaN   \n",
       "\n",
       "   retweeted_status_user_id retweeted_status_timestamp  \\\n",
       "0                       NaN                        NaN   \n",
       "\n",
       "                                       expanded_urls  rating_numerator  \\\n",
       "0  https://twitter.com/dog_rates/status/892420643...                13   \n",
       "\n",
       "   rating_denominator     name doggo floofer pupper puppo  \n",
       "0                  10  Phineas  None    None   None  None  "
      ]
     },
     "execution_count": 592,
     "metadata": {},
     "output_type": "execute_result"
    }
   ],
   "source": [
    "df_clean.head(1)"
   ]
  },
  {
   "cell_type": "code",
   "execution_count": null,
   "metadata": {
    "scrolled": true
   },
   "outputs": [],
   "source": []
  },
  {
   "cell_type": "code",
   "execution_count": 593,
   "metadata": {
    "scrolled": true
   },
   "outputs": [],
   "source": [
    "# Seperate time and date into two different columns"
   ]
  },
  {
   "cell_type": "code",
   "execution_count": 594,
   "metadata": {
    "scrolled": true
   },
   "outputs": [],
   "source": [
    "df_clean['timestamp_date']=pd.to_datetime(df_clean['timestamp']).dt.date"
   ]
  },
  {
   "cell_type": "code",
   "execution_count": 595,
   "metadata": {
    "scrolled": true
   },
   "outputs": [],
   "source": [
    "df_clean['timestamp_time']=pd.to_datetime(df_clean['timestamp']).dt.time"
   ]
  },
  {
   "cell_type": "code",
   "execution_count": 596,
   "metadata": {
    "scrolled": true
   },
   "outputs": [
    {
     "data": {
      "text/html": [
       "<div>\n",
       "<style scoped>\n",
       "    .dataframe tbody tr th:only-of-type {\n",
       "        vertical-align: middle;\n",
       "    }\n",
       "\n",
       "    .dataframe tbody tr th {\n",
       "        vertical-align: top;\n",
       "    }\n",
       "\n",
       "    .dataframe thead th {\n",
       "        text-align: right;\n",
       "    }\n",
       "</style>\n",
       "<table border=\"1\" class=\"dataframe\">\n",
       "  <thead>\n",
       "    <tr style=\"text-align: right;\">\n",
       "      <th></th>\n",
       "      <th>tweet_id</th>\n",
       "      <th>in_reply_to_status_id</th>\n",
       "      <th>in_reply_to_user_id</th>\n",
       "      <th>timestamp</th>\n",
       "      <th>source</th>\n",
       "      <th>text</th>\n",
       "      <th>retweeted_status_id</th>\n",
       "      <th>retweeted_status_user_id</th>\n",
       "      <th>retweeted_status_timestamp</th>\n",
       "      <th>expanded_urls</th>\n",
       "      <th>rating_numerator</th>\n",
       "      <th>rating_denominator</th>\n",
       "      <th>name</th>\n",
       "      <th>doggo</th>\n",
       "      <th>floofer</th>\n",
       "      <th>pupper</th>\n",
       "      <th>puppo</th>\n",
       "      <th>timestamp_date</th>\n",
       "      <th>timestamp_time</th>\n",
       "    </tr>\n",
       "  </thead>\n",
       "  <tbody>\n",
       "    <tr>\n",
       "      <th>0</th>\n",
       "      <td>892420643555336193</td>\n",
       "      <td>NaN</td>\n",
       "      <td>NaN</td>\n",
       "      <td>2017-08-01 16:23:56 +0000</td>\n",
       "      <td>&lt;a href=\"http://twitter.com/download/iphone\" r...</td>\n",
       "      <td>This is Phineas. He's a mystical boy. Only eve...</td>\n",
       "      <td>NaN</td>\n",
       "      <td>NaN</td>\n",
       "      <td>NaN</td>\n",
       "      <td>https://twitter.com/dog_rates/status/892420643...</td>\n",
       "      <td>13</td>\n",
       "      <td>10</td>\n",
       "      <td>Phineas</td>\n",
       "      <td>None</td>\n",
       "      <td>None</td>\n",
       "      <td>None</td>\n",
       "      <td>None</td>\n",
       "      <td>2017-08-01</td>\n",
       "      <td>16:23:56</td>\n",
       "    </tr>\n",
       "  </tbody>\n",
       "</table>\n",
       "</div>"
      ],
      "text/plain": [
       "             tweet_id  in_reply_to_status_id  in_reply_to_user_id  \\\n",
       "0  892420643555336193                    NaN                  NaN   \n",
       "\n",
       "                   timestamp  \\\n",
       "0  2017-08-01 16:23:56 +0000   \n",
       "\n",
       "                                              source  \\\n",
       "0  <a href=\"http://twitter.com/download/iphone\" r...   \n",
       "\n",
       "                                                text  retweeted_status_id  \\\n",
       "0  This is Phineas. He's a mystical boy. Only eve...                  NaN   \n",
       "\n",
       "   retweeted_status_user_id retweeted_status_timestamp  \\\n",
       "0                       NaN                        NaN   \n",
       "\n",
       "                                       expanded_urls  rating_numerator  \\\n",
       "0  https://twitter.com/dog_rates/status/892420643...                13   \n",
       "\n",
       "   rating_denominator     name doggo floofer pupper puppo timestamp_date  \\\n",
       "0                  10  Phineas  None    None   None  None     2017-08-01   \n",
       "\n",
       "  timestamp_time  \n",
       "0       16:23:56  "
      ]
     },
     "execution_count": 596,
     "metadata": {},
     "output_type": "execute_result"
    }
   ],
   "source": [
    "df_clean.head(1)"
   ]
  },
  {
   "cell_type": "code",
   "execution_count": null,
   "metadata": {
    "scrolled": true
   },
   "outputs": [],
   "source": []
  },
  {
   "cell_type": "code",
   "execution_count": 597,
   "metadata": {
    "scrolled": true
   },
   "outputs": [
    {
     "data": {
      "text/plain": [
       "10     2333\n",
       "11        3\n",
       "50        3\n",
       "80        2\n",
       "20        2\n",
       "2         1\n",
       "16        1\n",
       "40        1\n",
       "70        1\n",
       "15        1\n",
       "90        1\n",
       "110       1\n",
       "120       1\n",
       "130       1\n",
       "150       1\n",
       "170       1\n",
       "7         1\n",
       "0         1\n",
       "Name: rating_denominator, dtype: int64"
      ]
     },
     "execution_count": 597,
     "metadata": {},
     "output_type": "execute_result"
    }
   ],
   "source": [
    "### Adjusting the denominator,make sure all is '10'\n",
    "df_clean.rating_denominator.value_counts()"
   ]
  },
  {
   "cell_type": "code",
   "execution_count": null,
   "metadata": {
    "scrolled": true
   },
   "outputs": [],
   "source": []
  },
  {
   "cell_type": "code",
   "execution_count": 598,
   "metadata": {
    "scrolled": true
   },
   "outputs": [],
   "source": [
    " ## make sure all denominator is equal 10"
   ]
  },
  {
   "cell_type": "code",
   "execution_count": 599,
   "metadata": {
    "scrolled": true
   },
   "outputs": [],
   "source": [
    "df_clean['rating_denominator_1']=df_clean['rating_denominator']\n",
    "df_clean.loc[df['rating_denominator'] != '10','rating_denominator_1']=10"
   ]
  },
  {
   "cell_type": "code",
   "execution_count": 600,
   "metadata": {
    "scrolled": true
   },
   "outputs": [
    {
     "data": {
      "text/plain": [
       "10    2356\n",
       "Name: rating_denominator_1, dtype: int64"
      ]
     },
     "execution_count": 600,
     "metadata": {},
     "output_type": "execute_result"
    }
   ],
   "source": [
    "df_clean.rating_denominator_1.value_counts()"
   ]
  },
  {
   "cell_type": "code",
   "execution_count": null,
   "metadata": {
    "scrolled": true
   },
   "outputs": [],
   "source": []
  },
  {
   "cell_type": "code",
   "execution_count": 601,
   "metadata": {
    "scrolled": true
   },
   "outputs": [
    {
     "data": {
      "text/plain": [
       "['tweet_id',\n",
       " 'in_reply_to_status_id',\n",
       " 'in_reply_to_user_id',\n",
       " 'timestamp',\n",
       " 'source',\n",
       " 'text',\n",
       " 'retweeted_status_id',\n",
       " 'retweeted_status_user_id',\n",
       " 'retweeted_status_timestamp',\n",
       " 'expanded_urls',\n",
       " 'rating_numerator',\n",
       " 'rating_denominator',\n",
       " 'name',\n",
       " 'doggo',\n",
       " 'floofer',\n",
       " 'pupper',\n",
       " 'puppo',\n",
       " 'timestamp_date',\n",
       " 'timestamp_time',\n",
       " 'rating_denominator_1']"
      ]
     },
     "execution_count": 601,
     "metadata": {},
     "output_type": "execute_result"
    }
   ],
   "source": [
    "list(df_clean)"
   ]
  },
  {
   "cell_type": "code",
   "execution_count": null,
   "metadata": {
    "scrolled": true
   },
   "outputs": [],
   "source": []
  },
  {
   "cell_type": "code",
   "execution_count": 602,
   "metadata": {
    "scrolled": true
   },
   "outputs": [],
   "source": [
    "df_image_predictions=pd.read_csv('/Users/balance/Desktop/Twitter_Project/image-predictions.tsv')"
   ]
  },
  {
   "cell_type": "code",
   "execution_count": 603,
   "metadata": {
    "scrolled": true
   },
   "outputs": [
    {
     "data": {
      "text/html": [
       "<div>\n",
       "<style scoped>\n",
       "    .dataframe tbody tr th:only-of-type {\n",
       "        vertical-align: middle;\n",
       "    }\n",
       "\n",
       "    .dataframe tbody tr th {\n",
       "        vertical-align: top;\n",
       "    }\n",
       "\n",
       "    .dataframe thead th {\n",
       "        text-align: right;\n",
       "    }\n",
       "</style>\n",
       "<table border=\"1\" class=\"dataframe\">\n",
       "  <thead>\n",
       "    <tr style=\"text-align: right;\">\n",
       "      <th></th>\n",
       "      <th>tweet_id\\tjpg_url\\timg_num\\tp1\\tp1_conf\\tp1_dog\\tp2\\tp2_conf\\tp2_dog\\tp3\\tp3_conf\\tp3_dog</th>\n",
       "    </tr>\n",
       "  </thead>\n",
       "  <tbody>\n",
       "    <tr>\n",
       "      <th>0</th>\n",
       "      <td>666020888022790149\\thttps://pbs.twimg.com/medi...</td>\n",
       "    </tr>\n",
       "    <tr>\n",
       "      <th>1</th>\n",
       "      <td>666029285002620928\\thttps://pbs.twimg.com/medi...</td>\n",
       "    </tr>\n",
       "    <tr>\n",
       "      <th>2</th>\n",
       "      <td>666033412701032449\\thttps://pbs.twimg.com/medi...</td>\n",
       "    </tr>\n",
       "  </tbody>\n",
       "</table>\n",
       "</div>"
      ],
      "text/plain": [
       "  tweet_id\\tjpg_url\\timg_num\\tp1\\tp1_conf\\tp1_dog\\tp2\\tp2_conf\\tp2_dog\\tp3\\tp3_conf\\tp3_dog\n",
       "0  666020888022790149\\thttps://pbs.twimg.com/medi...                                       \n",
       "1  666029285002620928\\thttps://pbs.twimg.com/medi...                                       \n",
       "2  666033412701032449\\thttps://pbs.twimg.com/medi...                                       "
      ]
     },
     "execution_count": 603,
     "metadata": {},
     "output_type": "execute_result"
    }
   ],
   "source": [
    "df_image_predictions.head(3)"
   ]
  },
  {
   "cell_type": "code",
   "execution_count": null,
   "metadata": {
    "scrolled": true
   },
   "outputs": [],
   "source": []
  },
  {
   "cell_type": "code",
   "execution_count": null,
   "metadata": {},
   "outputs": [],
   "source": []
  },
  {
   "cell_type": "code",
   "execution_count": null,
   "metadata": {},
   "outputs": [],
   "source": []
  },
  {
   "cell_type": "code",
   "execution_count": 604,
   "metadata": {
    "scrolled": true
   },
   "outputs": [
    {
     "data": {
      "text/html": [
       "<div>\n",
       "<style scoped>\n",
       "    .dataframe tbody tr th:only-of-type {\n",
       "        vertical-align: middle;\n",
       "    }\n",
       "\n",
       "    .dataframe tbody tr th {\n",
       "        vertical-align: top;\n",
       "    }\n",
       "\n",
       "    .dataframe thead th {\n",
       "        text-align: right;\n",
       "    }\n",
       "</style>\n",
       "<table border=\"1\" class=\"dataframe\">\n",
       "  <thead>\n",
       "    <tr style=\"text-align: right;\">\n",
       "      <th></th>\n",
       "      <th>tweet_id\\tjpg_url\\timg_num\\tp1\\tp1_conf\\tp1_dog\\tp2\\tp2_conf\\tp2_dog\\tp3\\tp3_conf\\tp3_dog</th>\n",
       "    </tr>\n",
       "  </thead>\n",
       "  <tbody>\n",
       "    <tr>\n",
       "      <th>0</th>\n",
       "      <td>666020888022790149\\thttps://pbs.twimg.com/medi...</td>\n",
       "    </tr>\n",
       "    <tr>\n",
       "      <th>1</th>\n",
       "      <td>666029285002620928\\thttps://pbs.twimg.com/medi...</td>\n",
       "    </tr>\n",
       "    <tr>\n",
       "      <th>2</th>\n",
       "      <td>666033412701032449\\thttps://pbs.twimg.com/medi...</td>\n",
       "    </tr>\n",
       "    <tr>\n",
       "      <th>3</th>\n",
       "      <td>666044226329800704\\thttps://pbs.twimg.com/medi...</td>\n",
       "    </tr>\n",
       "    <tr>\n",
       "      <th>4</th>\n",
       "      <td>666049248165822465\\thttps://pbs.twimg.com/medi...</td>\n",
       "    </tr>\n",
       "    <tr>\n",
       "      <th>...</th>\n",
       "      <td>...</td>\n",
       "    </tr>\n",
       "    <tr>\n",
       "      <th>2070</th>\n",
       "      <td>891327558926688256\\thttps://pbs.twimg.com/medi...</td>\n",
       "    </tr>\n",
       "    <tr>\n",
       "      <th>2071</th>\n",
       "      <td>891689557279858688\\thttps://pbs.twimg.com/medi...</td>\n",
       "    </tr>\n",
       "    <tr>\n",
       "      <th>2072</th>\n",
       "      <td>891815181378084864\\thttps://pbs.twimg.com/medi...</td>\n",
       "    </tr>\n",
       "    <tr>\n",
       "      <th>2073</th>\n",
       "      <td>892177421306343426\\thttps://pbs.twimg.com/medi...</td>\n",
       "    </tr>\n",
       "    <tr>\n",
       "      <th>2074</th>\n",
       "      <td>892420643555336193\\thttps://pbs.twimg.com/medi...</td>\n",
       "    </tr>\n",
       "  </tbody>\n",
       "</table>\n",
       "<p>2075 rows × 1 columns</p>\n",
       "</div>"
      ],
      "text/plain": [
       "     tweet_id\\tjpg_url\\timg_num\\tp1\\tp1_conf\\tp1_dog\\tp2\\tp2_conf\\tp2_dog\\tp3\\tp3_conf\\tp3_dog\n",
       "0     666020888022790149\\thttps://pbs.twimg.com/medi...                                       \n",
       "1     666029285002620928\\thttps://pbs.twimg.com/medi...                                       \n",
       "2     666033412701032449\\thttps://pbs.twimg.com/medi...                                       \n",
       "3     666044226329800704\\thttps://pbs.twimg.com/medi...                                       \n",
       "4     666049248165822465\\thttps://pbs.twimg.com/medi...                                       \n",
       "...                                                 ...                                       \n",
       "2070  891327558926688256\\thttps://pbs.twimg.com/medi...                                       \n",
       "2071  891689557279858688\\thttps://pbs.twimg.com/medi...                                       \n",
       "2072  891815181378084864\\thttps://pbs.twimg.com/medi...                                       \n",
       "2073  892177421306343426\\thttps://pbs.twimg.com/medi...                                       \n",
       "2074  892420643555336193\\thttps://pbs.twimg.com/medi...                                       \n",
       "\n",
       "[2075 rows x 1 columns]"
      ]
     },
     "execution_count": 604,
     "metadata": {},
     "output_type": "execute_result"
    }
   ],
   "source": [
    "df_image_predictions"
   ]
  },
  {
   "cell_type": "code",
   "execution_count": null,
   "metadata": {
    "scrolled": true
   },
   "outputs": [],
   "source": []
  },
  {
   "cell_type": "code",
   "execution_count": 605,
   "metadata": {
    "scrolled": true
   },
   "outputs": [
    {
     "data": {
      "text/html": [
       "<div>\n",
       "<style scoped>\n",
       "    .dataframe tbody tr th:only-of-type {\n",
       "        vertical-align: middle;\n",
       "    }\n",
       "\n",
       "    .dataframe tbody tr th {\n",
       "        vertical-align: top;\n",
       "    }\n",
       "\n",
       "    .dataframe thead th {\n",
       "        text-align: right;\n",
       "    }\n",
       "</style>\n",
       "<table border=\"1\" class=\"dataframe\">\n",
       "  <thead>\n",
       "    <tr style=\"text-align: right;\">\n",
       "      <th></th>\n",
       "      <th>created_at</th>\n",
       "      <th>id</th>\n",
       "      <th>id_str</th>\n",
       "      <th>full_text</th>\n",
       "      <th>truncated</th>\n",
       "      <th>display_text_range</th>\n",
       "      <th>entities</th>\n",
       "      <th>extended_entities</th>\n",
       "      <th>source</th>\n",
       "      <th>in_reply_to_status_id</th>\n",
       "      <th>...</th>\n",
       "      <th>favorite_count</th>\n",
       "      <th>favorited</th>\n",
       "      <th>retweeted</th>\n",
       "      <th>possibly_sensitive</th>\n",
       "      <th>possibly_sensitive_appealable</th>\n",
       "      <th>lang</th>\n",
       "      <th>retweeted_status</th>\n",
       "      <th>quoted_status_id</th>\n",
       "      <th>quoted_status_id_str</th>\n",
       "      <th>quoted_status</th>\n",
       "    </tr>\n",
       "  </thead>\n",
       "  <tbody>\n",
       "    <tr>\n",
       "      <th>0</th>\n",
       "      <td>2017-08-01 16:23:56+00:00</td>\n",
       "      <td>892420643555336193</td>\n",
       "      <td>892420643555336192</td>\n",
       "      <td>This is Phineas. He's a mystical boy. Only eve...</td>\n",
       "      <td>False</td>\n",
       "      <td>[0, 85]</td>\n",
       "      <td>{'hashtags': [], 'symbols': [], 'user_mentions...</td>\n",
       "      <td>{'media': [{'id': 892420639486877696, 'id_str'...</td>\n",
       "      <td>&lt;a href=\"http://twitter.com/download/iphone\" r...</td>\n",
       "      <td>NaN</td>\n",
       "      <td>...</td>\n",
       "      <td>39467</td>\n",
       "      <td>False</td>\n",
       "      <td>False</td>\n",
       "      <td>0.0</td>\n",
       "      <td>0.0</td>\n",
       "      <td>en</td>\n",
       "      <td>NaN</td>\n",
       "      <td>NaN</td>\n",
       "      <td>NaN</td>\n",
       "      <td>NaN</td>\n",
       "    </tr>\n",
       "  </tbody>\n",
       "</table>\n",
       "<p>1 rows × 31 columns</p>\n",
       "</div>"
      ],
      "text/plain": [
       "                 created_at                  id              id_str  \\\n",
       "0 2017-08-01 16:23:56+00:00  892420643555336193  892420643555336192   \n",
       "\n",
       "                                           full_text  truncated  \\\n",
       "0  This is Phineas. He's a mystical boy. Only eve...      False   \n",
       "\n",
       "  display_text_range                                           entities  \\\n",
       "0            [0, 85]  {'hashtags': [], 'symbols': [], 'user_mentions...   \n",
       "\n",
       "                                   extended_entities  \\\n",
       "0  {'media': [{'id': 892420639486877696, 'id_str'...   \n",
       "\n",
       "                                              source  in_reply_to_status_id  \\\n",
       "0  <a href=\"http://twitter.com/download/iphone\" r...                    NaN   \n",
       "\n",
       "   ...  favorite_count  favorited  retweeted possibly_sensitive  \\\n",
       "0  ...           39467      False      False                0.0   \n",
       "\n",
       "  possibly_sensitive_appealable  lang  retweeted_status quoted_status_id  \\\n",
       "0                           0.0    en               NaN              NaN   \n",
       "\n",
       "   quoted_status_id_str  quoted_status  \n",
       "0                   NaN            NaN  \n",
       "\n",
       "[1 rows x 31 columns]"
      ]
     },
     "execution_count": 605,
     "metadata": {},
     "output_type": "execute_result"
    }
   ],
   "source": [
    "df_jason_copy=pd.read_json('/Users/balance/Desktop/Twitter_Project/tweet-json copy',lines=True)\n",
    "df_jason_copy.head(1)"
   ]
  },
  {
   "cell_type": "code",
   "execution_count": 606,
   "metadata": {
    "scrolled": true
   },
   "outputs": [
    {
     "data": {
      "text/plain": [
       "(2354, 31)"
      ]
     },
     "execution_count": 606,
     "metadata": {},
     "output_type": "execute_result"
    }
   ],
   "source": [
    "df_jason_copy.shape"
   ]
  },
  {
   "cell_type": "code",
   "execution_count": 607,
   "metadata": {
    "scrolled": true
   },
   "outputs": [
    {
     "data": {
      "text/plain": [
       "created_at                          0\n",
       "id                                  0\n",
       "id_str                              0\n",
       "full_text                           0\n",
       "truncated                           0\n",
       "display_text_range                  0\n",
       "entities                            0\n",
       "extended_entities                 281\n",
       "source                              0\n",
       "in_reply_to_status_id            2276\n",
       "in_reply_to_status_id_str        2276\n",
       "in_reply_to_user_id              2276\n",
       "in_reply_to_user_id_str          2276\n",
       "in_reply_to_screen_name          2276\n",
       "user                                0\n",
       "geo                              2354\n",
       "coordinates                      2354\n",
       "place                            2353\n",
       "contributors                     2354\n",
       "is_quote_status                     0\n",
       "retweet_count                       0\n",
       "favorite_count                      0\n",
       "favorited                           0\n",
       "retweeted                           0\n",
       "possibly_sensitive                143\n",
       "possibly_sensitive_appealable     143\n",
       "lang                                0\n",
       "retweeted_status                 2175\n",
       "quoted_status_id                 2325\n",
       "quoted_status_id_str             2325\n",
       "quoted_status                    2326\n",
       "dtype: int64"
      ]
     },
     "execution_count": 607,
     "metadata": {},
     "output_type": "execute_result"
    }
   ],
   "source": [
    "df_jason_copy.isnull().sum()"
   ]
  },
  {
   "cell_type": "code",
   "execution_count": null,
   "metadata": {
    "scrolled": true
   },
   "outputs": [],
   "source": []
  },
  {
   "cell_type": "code",
   "execution_count": 608,
   "metadata": {
    "scrolled": true
   },
   "outputs": [
    {
     "name": "stdout",
     "output_type": "stream",
     "text": [
      "<class 'pandas.core.frame.DataFrame'>\n",
      "RangeIndex: 2354 entries, 0 to 2353\n",
      "Data columns (total 31 columns):\n",
      " #   Column                         Non-Null Count  Dtype              \n",
      "---  ------                         --------------  -----              \n",
      " 0   created_at                     2354 non-null   datetime64[ns, UTC]\n",
      " 1   id                             2354 non-null   int64              \n",
      " 2   id_str                         2354 non-null   int64              \n",
      " 3   full_text                      2354 non-null   object             \n",
      " 4   truncated                      2354 non-null   bool               \n",
      " 5   display_text_range             2354 non-null   object             \n",
      " 6   entities                       2354 non-null   object             \n",
      " 7   extended_entities              2073 non-null   object             \n",
      " 8   source                         2354 non-null   object             \n",
      " 9   in_reply_to_status_id          78 non-null     float64            \n",
      " 10  in_reply_to_status_id_str      78 non-null     float64            \n",
      " 11  in_reply_to_user_id            78 non-null     float64            \n",
      " 12  in_reply_to_user_id_str        78 non-null     float64            \n",
      " 13  in_reply_to_screen_name        78 non-null     object             \n",
      " 14  user                           2354 non-null   object             \n",
      " 15  geo                            0 non-null      float64            \n",
      " 16  coordinates                    0 non-null      float64            \n",
      " 17  place                          1 non-null      object             \n",
      " 18  contributors                   0 non-null      float64            \n",
      " 19  is_quote_status                2354 non-null   bool               \n",
      " 20  retweet_count                  2354 non-null   int64              \n",
      " 21  favorite_count                 2354 non-null   int64              \n",
      " 22  favorited                      2354 non-null   bool               \n",
      " 23  retweeted                      2354 non-null   bool               \n",
      " 24  possibly_sensitive             2211 non-null   float64            \n",
      " 25  possibly_sensitive_appealable  2211 non-null   float64            \n",
      " 26  lang                           2354 non-null   object             \n",
      " 27  retweeted_status               179 non-null    object             \n",
      " 28  quoted_status_id               29 non-null     float64            \n",
      " 29  quoted_status_id_str           29 non-null     float64            \n",
      " 30  quoted_status                  28 non-null     object             \n",
      "dtypes: bool(4), datetime64[ns, UTC](1), float64(11), int64(4), object(11)\n",
      "memory usage: 505.9+ KB\n"
     ]
    }
   ],
   "source": [
    "df_jason_copy.info()"
   ]
  },
  {
   "cell_type": "code",
   "execution_count": null,
   "metadata": {
    "scrolled": true
   },
   "outputs": [],
   "source": []
  },
  {
   "cell_type": "code",
   "execution_count": null,
   "metadata": {},
   "outputs": [],
   "source": []
  },
  {
   "cell_type": "code",
   "execution_count": null,
   "metadata": {},
   "outputs": [],
   "source": []
  },
  {
   "cell_type": "code",
   "execution_count": null,
   "metadata": {},
   "outputs": [],
   "source": []
  },
  {
   "cell_type": "code",
   "execution_count": 609,
   "metadata": {
    "scrolled": true
   },
   "outputs": [],
   "source": [
    "## update datatype\n",
    "\n",
    "df_jason_copy2=df_jason_copy.astype({\"created_at\": str, \"id_str\" : str,\"in_reply_to_status_id_str\":str, \"in_reply_to_user_id\":str, \"in_reply_to_user_id_str\":str,\"possibly_sensitive\": bool})"
   ]
  },
  {
   "cell_type": "code",
   "execution_count": 610,
   "metadata": {
    "scrolled": true
   },
   "outputs": [
    {
     "name": "stdout",
     "output_type": "stream",
     "text": [
      "<class 'pandas.core.frame.DataFrame'>\n",
      "RangeIndex: 2354 entries, 0 to 2353\n",
      "Data columns (total 31 columns):\n",
      " #   Column                         Non-Null Count  Dtype  \n",
      "---  ------                         --------------  -----  \n",
      " 0   created_at                     2354 non-null   object \n",
      " 1   id                             2354 non-null   int64  \n",
      " 2   id_str                         2354 non-null   object \n",
      " 3   full_text                      2354 non-null   object \n",
      " 4   truncated                      2354 non-null   bool   \n",
      " 5   display_text_range             2354 non-null   object \n",
      " 6   entities                       2354 non-null   object \n",
      " 7   extended_entities              2073 non-null   object \n",
      " 8   source                         2354 non-null   object \n",
      " 9   in_reply_to_status_id          78 non-null     float64\n",
      " 10  in_reply_to_status_id_str      2354 non-null   object \n",
      " 11  in_reply_to_user_id            2354 non-null   object \n",
      " 12  in_reply_to_user_id_str        2354 non-null   object \n",
      " 13  in_reply_to_screen_name        78 non-null     object \n",
      " 14  user                           2354 non-null   object \n",
      " 15  geo                            0 non-null      float64\n",
      " 16  coordinates                    0 non-null      float64\n",
      " 17  place                          1 non-null      object \n",
      " 18  contributors                   0 non-null      float64\n",
      " 19  is_quote_status                2354 non-null   bool   \n",
      " 20  retweet_count                  2354 non-null   int64  \n",
      " 21  favorite_count                 2354 non-null   int64  \n",
      " 22  favorited                      2354 non-null   bool   \n",
      " 23  retweeted                      2354 non-null   bool   \n",
      " 24  possibly_sensitive             2354 non-null   bool   \n",
      " 25  possibly_sensitive_appealable  2211 non-null   float64\n",
      " 26  lang                           2354 non-null   object \n",
      " 27  retweeted_status               179 non-null    object \n",
      " 28  quoted_status_id               29 non-null     float64\n",
      " 29  quoted_status_id_str           29 non-null     float64\n",
      " 30  quoted_status                  28 non-null     object \n",
      "dtypes: bool(5), float64(7), int64(3), object(16)\n",
      "memory usage: 489.8+ KB\n"
     ]
    }
   ],
   "source": [
    "df_jason_copy2.info()"
   ]
  },
  {
   "cell_type": "code",
   "execution_count": null,
   "metadata": {
    "scrolled": true
   },
   "outputs": [],
   "source": []
  },
  {
   "cell_type": "code",
   "execution_count": 611,
   "metadata": {
    "scrolled": true
   },
   "outputs": [],
   "source": [
    "# add '' on id_str"
   ]
  },
  {
   "cell_type": "code",
   "execution_count": 612,
   "metadata": {
    "scrolled": true
   },
   "outputs": [],
   "source": [
    "df_jason_copy2['id_str']=df_jason_copy2['id_str'].apply(lambda x: \"'\" + str(x) + \"'\")"
   ]
  },
  {
   "cell_type": "code",
   "execution_count": 613,
   "metadata": {
    "scrolled": true
   },
   "outputs": [
    {
     "data": {
      "text/html": [
       "<div>\n",
       "<style scoped>\n",
       "    .dataframe tbody tr th:only-of-type {\n",
       "        vertical-align: middle;\n",
       "    }\n",
       "\n",
       "    .dataframe tbody tr th {\n",
       "        vertical-align: top;\n",
       "    }\n",
       "\n",
       "    .dataframe thead th {\n",
       "        text-align: right;\n",
       "    }\n",
       "</style>\n",
       "<table border=\"1\" class=\"dataframe\">\n",
       "  <thead>\n",
       "    <tr style=\"text-align: right;\">\n",
       "      <th></th>\n",
       "      <th>created_at</th>\n",
       "      <th>id</th>\n",
       "      <th>id_str</th>\n",
       "      <th>full_text</th>\n",
       "      <th>truncated</th>\n",
       "      <th>display_text_range</th>\n",
       "      <th>entities</th>\n",
       "      <th>extended_entities</th>\n",
       "      <th>source</th>\n",
       "      <th>in_reply_to_status_id</th>\n",
       "      <th>...</th>\n",
       "      <th>favorite_count</th>\n",
       "      <th>favorited</th>\n",
       "      <th>retweeted</th>\n",
       "      <th>possibly_sensitive</th>\n",
       "      <th>possibly_sensitive_appealable</th>\n",
       "      <th>lang</th>\n",
       "      <th>retweeted_status</th>\n",
       "      <th>quoted_status_id</th>\n",
       "      <th>quoted_status_id_str</th>\n",
       "      <th>quoted_status</th>\n",
       "    </tr>\n",
       "  </thead>\n",
       "  <tbody>\n",
       "    <tr>\n",
       "      <th>0</th>\n",
       "      <td>2017-08-01 16:23:56+00:00</td>\n",
       "      <td>892420643555336193</td>\n",
       "      <td>'892420643555336192'</td>\n",
       "      <td>This is Phineas. He's a mystical boy. Only eve...</td>\n",
       "      <td>False</td>\n",
       "      <td>[0, 85]</td>\n",
       "      <td>{'hashtags': [], 'symbols': [], 'user_mentions...</td>\n",
       "      <td>{'media': [{'id': 892420639486877696, 'id_str'...</td>\n",
       "      <td>&lt;a href=\"http://twitter.com/download/iphone\" r...</td>\n",
       "      <td>NaN</td>\n",
       "      <td>...</td>\n",
       "      <td>39467</td>\n",
       "      <td>False</td>\n",
       "      <td>False</td>\n",
       "      <td>False</td>\n",
       "      <td>0.0</td>\n",
       "      <td>en</td>\n",
       "      <td>NaN</td>\n",
       "      <td>NaN</td>\n",
       "      <td>NaN</td>\n",
       "      <td>NaN</td>\n",
       "    </tr>\n",
       "  </tbody>\n",
       "</table>\n",
       "<p>1 rows × 31 columns</p>\n",
       "</div>"
      ],
      "text/plain": [
       "                  created_at                  id                id_str  \\\n",
       "0  2017-08-01 16:23:56+00:00  892420643555336193  '892420643555336192'   \n",
       "\n",
       "                                           full_text  truncated  \\\n",
       "0  This is Phineas. He's a mystical boy. Only eve...      False   \n",
       "\n",
       "  display_text_range                                           entities  \\\n",
       "0            [0, 85]  {'hashtags': [], 'symbols': [], 'user_mentions...   \n",
       "\n",
       "                                   extended_entities  \\\n",
       "0  {'media': [{'id': 892420639486877696, 'id_str'...   \n",
       "\n",
       "                                              source  in_reply_to_status_id  \\\n",
       "0  <a href=\"http://twitter.com/download/iphone\" r...                    NaN   \n",
       "\n",
       "   ... favorite_count favorited retweeted possibly_sensitive  \\\n",
       "0  ...          39467     False     False              False   \n",
       "\n",
       "  possibly_sensitive_appealable  lang  retweeted_status quoted_status_id  \\\n",
       "0                           0.0    en               NaN              NaN   \n",
       "\n",
       "   quoted_status_id_str  quoted_status  \n",
       "0                   NaN            NaN  \n",
       "\n",
       "[1 rows x 31 columns]"
      ]
     },
     "execution_count": 613,
     "metadata": {},
     "output_type": "execute_result"
    }
   ],
   "source": [
    "df_jason_copy2.head(1)"
   ]
  },
  {
   "cell_type": "code",
   "execution_count": null,
   "metadata": {
    "scrolled": true
   },
   "outputs": [],
   "source": []
  },
  {
   "cell_type": "code",
   "execution_count": 614,
   "metadata": {
    "scrolled": true
   },
   "outputs": [],
   "source": [
    "# update column name\n",
    "df_jason_copy3=df_jason_copy2.rename(columns={'id':'tweet_id'})"
   ]
  },
  {
   "cell_type": "code",
   "execution_count": 615,
   "metadata": {
    "scrolled": true
   },
   "outputs": [
    {
     "data": {
      "text/html": [
       "<div>\n",
       "<style scoped>\n",
       "    .dataframe tbody tr th:only-of-type {\n",
       "        vertical-align: middle;\n",
       "    }\n",
       "\n",
       "    .dataframe tbody tr th {\n",
       "        vertical-align: top;\n",
       "    }\n",
       "\n",
       "    .dataframe thead th {\n",
       "        text-align: right;\n",
       "    }\n",
       "</style>\n",
       "<table border=\"1\" class=\"dataframe\">\n",
       "  <thead>\n",
       "    <tr style=\"text-align: right;\">\n",
       "      <th></th>\n",
       "      <th>created_at</th>\n",
       "      <th>tweet_id</th>\n",
       "      <th>id_str</th>\n",
       "      <th>full_text</th>\n",
       "      <th>truncated</th>\n",
       "      <th>display_text_range</th>\n",
       "      <th>entities</th>\n",
       "      <th>extended_entities</th>\n",
       "      <th>source</th>\n",
       "      <th>in_reply_to_status_id</th>\n",
       "      <th>...</th>\n",
       "      <th>favorite_count</th>\n",
       "      <th>favorited</th>\n",
       "      <th>retweeted</th>\n",
       "      <th>possibly_sensitive</th>\n",
       "      <th>possibly_sensitive_appealable</th>\n",
       "      <th>lang</th>\n",
       "      <th>retweeted_status</th>\n",
       "      <th>quoted_status_id</th>\n",
       "      <th>quoted_status_id_str</th>\n",
       "      <th>quoted_status</th>\n",
       "    </tr>\n",
       "  </thead>\n",
       "  <tbody>\n",
       "    <tr>\n",
       "      <th>0</th>\n",
       "      <td>2017-08-01 16:23:56+00:00</td>\n",
       "      <td>892420643555336193</td>\n",
       "      <td>'892420643555336192'</td>\n",
       "      <td>This is Phineas. He's a mystical boy. Only eve...</td>\n",
       "      <td>False</td>\n",
       "      <td>[0, 85]</td>\n",
       "      <td>{'hashtags': [], 'symbols': [], 'user_mentions...</td>\n",
       "      <td>{'media': [{'id': 892420639486877696, 'id_str'...</td>\n",
       "      <td>&lt;a href=\"http://twitter.com/download/iphone\" r...</td>\n",
       "      <td>NaN</td>\n",
       "      <td>...</td>\n",
       "      <td>39467</td>\n",
       "      <td>False</td>\n",
       "      <td>False</td>\n",
       "      <td>False</td>\n",
       "      <td>0.0</td>\n",
       "      <td>en</td>\n",
       "      <td>NaN</td>\n",
       "      <td>NaN</td>\n",
       "      <td>NaN</td>\n",
       "      <td>NaN</td>\n",
       "    </tr>\n",
       "  </tbody>\n",
       "</table>\n",
       "<p>1 rows × 31 columns</p>\n",
       "</div>"
      ],
      "text/plain": [
       "                  created_at            tweet_id                id_str  \\\n",
       "0  2017-08-01 16:23:56+00:00  892420643555336193  '892420643555336192'   \n",
       "\n",
       "                                           full_text  truncated  \\\n",
       "0  This is Phineas. He's a mystical boy. Only eve...      False   \n",
       "\n",
       "  display_text_range                                           entities  \\\n",
       "0            [0, 85]  {'hashtags': [], 'symbols': [], 'user_mentions...   \n",
       "\n",
       "                                   extended_entities  \\\n",
       "0  {'media': [{'id': 892420639486877696, 'id_str'...   \n",
       "\n",
       "                                              source  in_reply_to_status_id  \\\n",
       "0  <a href=\"http://twitter.com/download/iphone\" r...                    NaN   \n",
       "\n",
       "   ... favorite_count favorited retweeted possibly_sensitive  \\\n",
       "0  ...          39467     False     False              False   \n",
       "\n",
       "  possibly_sensitive_appealable  lang  retweeted_status quoted_status_id  \\\n",
       "0                           0.0    en               NaN              NaN   \n",
       "\n",
       "   quoted_status_id_str  quoted_status  \n",
       "0                   NaN            NaN  \n",
       "\n",
       "[1 rows x 31 columns]"
      ]
     },
     "execution_count": 615,
     "metadata": {},
     "output_type": "execute_result"
    }
   ],
   "source": [
    "df_jason_copy3.head(1)"
   ]
  },
  {
   "cell_type": "code",
   "execution_count": null,
   "metadata": {
    "scrolled": true
   },
   "outputs": [],
   "source": []
  },
  {
   "cell_type": "code",
   "execution_count": 616,
   "metadata": {
    "scrolled": true
   },
   "outputs": [
    {
     "data": {
      "text/plain": [
       "((2356, 20), (2354, 31))"
      ]
     },
     "execution_count": 616,
     "metadata": {},
     "output_type": "execute_result"
    }
   ],
   "source": [
    "df_clean.shape,df_jason_copy3.shape"
   ]
  },
  {
   "cell_type": "code",
   "execution_count": null,
   "metadata": {},
   "outputs": [],
   "source": []
  },
  {
   "cell_type": "code",
   "execution_count": null,
   "metadata": {},
   "outputs": [],
   "source": []
  },
  {
   "cell_type": "code",
   "execution_count": 617,
   "metadata": {
    "scrolled": true
   },
   "outputs": [],
   "source": [
    "## merge 2 dataset (df_clean and ddf_jason_copy3) into one by match up tweet_id\n",
    "combined1 = pd.merge(df_clean, df_jason_copy3, on=['tweet_id'])"
   ]
  },
  {
   "cell_type": "code",
   "execution_count": 618,
   "metadata": {
    "scrolled": true
   },
   "outputs": [
    {
     "data": {
      "text/plain": [
       "(2354, 50)"
      ]
     },
     "execution_count": 618,
     "metadata": {},
     "output_type": "execute_result"
    }
   ],
   "source": [
    "combined1.shape"
   ]
  },
  {
   "cell_type": "code",
   "execution_count": null,
   "metadata": {
    "scrolled": true
   },
   "outputs": [],
   "source": []
  },
  {
   "cell_type": "code",
   "execution_count": 619,
   "metadata": {
    "scrolled": true
   },
   "outputs": [],
   "source": [
    "image_predict = pd.read_csv('/Users/balance/Desktop/Twitter_Project/image-predictions.tsv', sep='\\t')"
   ]
  },
  {
   "cell_type": "code",
   "execution_count": 620,
   "metadata": {
    "scrolled": true
   },
   "outputs": [
    {
     "data": {
      "text/html": [
       "<div>\n",
       "<style scoped>\n",
       "    .dataframe tbody tr th:only-of-type {\n",
       "        vertical-align: middle;\n",
       "    }\n",
       "\n",
       "    .dataframe tbody tr th {\n",
       "        vertical-align: top;\n",
       "    }\n",
       "\n",
       "    .dataframe thead th {\n",
       "        text-align: right;\n",
       "    }\n",
       "</style>\n",
       "<table border=\"1\" class=\"dataframe\">\n",
       "  <thead>\n",
       "    <tr style=\"text-align: right;\">\n",
       "      <th></th>\n",
       "      <th>tweet_id</th>\n",
       "      <th>jpg_url</th>\n",
       "      <th>img_num</th>\n",
       "      <th>p1</th>\n",
       "      <th>p1_conf</th>\n",
       "      <th>p1_dog</th>\n",
       "      <th>p2</th>\n",
       "      <th>p2_conf</th>\n",
       "      <th>p2_dog</th>\n",
       "      <th>p3</th>\n",
       "      <th>p3_conf</th>\n",
       "      <th>p3_dog</th>\n",
       "    </tr>\n",
       "  </thead>\n",
       "  <tbody>\n",
       "    <tr>\n",
       "      <th>0</th>\n",
       "      <td>666020888022790149</td>\n",
       "      <td>https://pbs.twimg.com/media/CT4udn0WwAA0aMy.jpg</td>\n",
       "      <td>1</td>\n",
       "      <td>Welsh_springer_spaniel</td>\n",
       "      <td>0.465074</td>\n",
       "      <td>True</td>\n",
       "      <td>collie</td>\n",
       "      <td>0.156665</td>\n",
       "      <td>True</td>\n",
       "      <td>Shetland_sheepdog</td>\n",
       "      <td>0.061428</td>\n",
       "      <td>True</td>\n",
       "    </tr>\n",
       "    <tr>\n",
       "      <th>1</th>\n",
       "      <td>666029285002620928</td>\n",
       "      <td>https://pbs.twimg.com/media/CT42GRgUYAA5iDo.jpg</td>\n",
       "      <td>1</td>\n",
       "      <td>redbone</td>\n",
       "      <td>0.506826</td>\n",
       "      <td>True</td>\n",
       "      <td>miniature_pinscher</td>\n",
       "      <td>0.074192</td>\n",
       "      <td>True</td>\n",
       "      <td>Rhodesian_ridgeback</td>\n",
       "      <td>0.072010</td>\n",
       "      <td>True</td>\n",
       "    </tr>\n",
       "  </tbody>\n",
       "</table>\n",
       "</div>"
      ],
      "text/plain": [
       "             tweet_id                                          jpg_url  \\\n",
       "0  666020888022790149  https://pbs.twimg.com/media/CT4udn0WwAA0aMy.jpg   \n",
       "1  666029285002620928  https://pbs.twimg.com/media/CT42GRgUYAA5iDo.jpg   \n",
       "\n",
       "   img_num                      p1   p1_conf  p1_dog                  p2  \\\n",
       "0        1  Welsh_springer_spaniel  0.465074    True              collie   \n",
       "1        1                 redbone  0.506826    True  miniature_pinscher   \n",
       "\n",
       "    p2_conf  p2_dog                   p3   p3_conf  p3_dog  \n",
       "0  0.156665    True    Shetland_sheepdog  0.061428    True  \n",
       "1  0.074192    True  Rhodesian_ridgeback  0.072010    True  "
      ]
     },
     "execution_count": 620,
     "metadata": {},
     "output_type": "execute_result"
    }
   ],
   "source": [
    "image_predict.head(2)"
   ]
  },
  {
   "cell_type": "code",
   "execution_count": 621,
   "metadata": {
    "scrolled": true
   },
   "outputs": [
    {
     "data": {
      "text/plain": [
       "(2075, 12)"
      ]
     },
     "execution_count": 621,
     "metadata": {},
     "output_type": "execute_result"
    }
   ],
   "source": [
    "image_predict.shape"
   ]
  },
  {
   "cell_type": "code",
   "execution_count": null,
   "metadata": {
    "scrolled": true
   },
   "outputs": [],
   "source": []
  },
  {
   "cell_type": "code",
   "execution_count": 622,
   "metadata": {
    "scrolled": true
   },
   "outputs": [
    {
     "data": {
      "text/plain": [
       "0"
      ]
     },
     "execution_count": 622,
     "metadata": {},
     "output_type": "execute_result"
    }
   ],
   "source": [
    "sum(image_predict.duplicated())"
   ]
  },
  {
   "cell_type": "code",
   "execution_count": null,
   "metadata": {
    "scrolled": true
   },
   "outputs": [],
   "source": []
  },
  {
   "cell_type": "code",
   "execution_count": 623,
   "metadata": {
    "scrolled": true
   },
   "outputs": [],
   "source": [
    "## combine 2 dataset (combined1 and image_predict) into one, the new dataset has 3 dataset combined. "
   ]
  },
  {
   "cell_type": "code",
   "execution_count": 624,
   "metadata": {
    "scrolled": true
   },
   "outputs": [],
   "source": [
    "combined2 = pd.merge(combined1, image_predict, on=['tweet_id'])"
   ]
  },
  {
   "cell_type": "code",
   "execution_count": 625,
   "metadata": {
    "scrolled": true
   },
   "outputs": [
    {
     "data": {
      "text/plain": [
       "(2073, 61)"
      ]
     },
     "execution_count": 625,
     "metadata": {},
     "output_type": "execute_result"
    }
   ],
   "source": [
    "combined2.shape"
   ]
  },
  {
   "cell_type": "code",
   "execution_count": null,
   "metadata": {
    "scrolled": true
   },
   "outputs": [],
   "source": []
  },
  {
   "cell_type": "code",
   "execution_count": 626,
   "metadata": {
    "scrolled": true
   },
   "outputs": [
    {
     "data": {
      "text/html": [
       "<div>\n",
       "<style scoped>\n",
       "    .dataframe tbody tr th:only-of-type {\n",
       "        vertical-align: middle;\n",
       "    }\n",
       "\n",
       "    .dataframe tbody tr th {\n",
       "        vertical-align: top;\n",
       "    }\n",
       "\n",
       "    .dataframe thead th {\n",
       "        text-align: right;\n",
       "    }\n",
       "</style>\n",
       "<table border=\"1\" class=\"dataframe\">\n",
       "  <thead>\n",
       "    <tr style=\"text-align: right;\">\n",
       "      <th></th>\n",
       "      <th>tweet_id</th>\n",
       "      <th>in_reply_to_status_id_x</th>\n",
       "      <th>in_reply_to_user_id_x</th>\n",
       "      <th>timestamp</th>\n",
       "      <th>source_x</th>\n",
       "      <th>text</th>\n",
       "      <th>retweeted_status_id</th>\n",
       "      <th>retweeted_status_user_id</th>\n",
       "      <th>retweeted_status_timestamp</th>\n",
       "      <th>expanded_urls</th>\n",
       "      <th>...</th>\n",
       "      <th>img_num</th>\n",
       "      <th>p1</th>\n",
       "      <th>p1_conf</th>\n",
       "      <th>p1_dog</th>\n",
       "      <th>p2</th>\n",
       "      <th>p2_conf</th>\n",
       "      <th>p2_dog</th>\n",
       "      <th>p3</th>\n",
       "      <th>p3_conf</th>\n",
       "      <th>p3_dog</th>\n",
       "    </tr>\n",
       "  </thead>\n",
       "  <tbody>\n",
       "    <tr>\n",
       "      <th>0</th>\n",
       "      <td>892420643555336193</td>\n",
       "      <td>NaN</td>\n",
       "      <td>NaN</td>\n",
       "      <td>2017-08-01 16:23:56 +0000</td>\n",
       "      <td>&lt;a href=\"http://twitter.com/download/iphone\" r...</td>\n",
       "      <td>This is Phineas. He's a mystical boy. Only eve...</td>\n",
       "      <td>NaN</td>\n",
       "      <td>NaN</td>\n",
       "      <td>NaN</td>\n",
       "      <td>https://twitter.com/dog_rates/status/892420643...</td>\n",
       "      <td>...</td>\n",
       "      <td>1</td>\n",
       "      <td>orange</td>\n",
       "      <td>0.097049</td>\n",
       "      <td>False</td>\n",
       "      <td>bagel</td>\n",
       "      <td>0.085851</td>\n",
       "      <td>False</td>\n",
       "      <td>banana</td>\n",
       "      <td>0.07611</td>\n",
       "      <td>False</td>\n",
       "    </tr>\n",
       "  </tbody>\n",
       "</table>\n",
       "<p>1 rows × 61 columns</p>\n",
       "</div>"
      ],
      "text/plain": [
       "             tweet_id  in_reply_to_status_id_x  in_reply_to_user_id_x  \\\n",
       "0  892420643555336193                      NaN                    NaN   \n",
       "\n",
       "                   timestamp  \\\n",
       "0  2017-08-01 16:23:56 +0000   \n",
       "\n",
       "                                            source_x  \\\n",
       "0  <a href=\"http://twitter.com/download/iphone\" r...   \n",
       "\n",
       "                                                text  retweeted_status_id  \\\n",
       "0  This is Phineas. He's a mystical boy. Only eve...                  NaN   \n",
       "\n",
       "   retweeted_status_user_id retweeted_status_timestamp  \\\n",
       "0                       NaN                        NaN   \n",
       "\n",
       "                                       expanded_urls  ...  img_num      p1  \\\n",
       "0  https://twitter.com/dog_rates/status/892420643...  ...        1  orange   \n",
       "\n",
       "    p1_conf p1_dog     p2   p2_conf p2_dog      p3  p3_conf  p3_dog  \n",
       "0  0.097049  False  bagel  0.085851  False  banana  0.07611   False  \n",
       "\n",
       "[1 rows x 61 columns]"
      ]
     },
     "execution_count": 626,
     "metadata": {},
     "output_type": "execute_result"
    }
   ],
   "source": [
    "combined2.head(1)"
   ]
  },
  {
   "cell_type": "code",
   "execution_count": 627,
   "metadata": {
    "scrolled": true
   },
   "outputs": [
    {
     "data": {
      "text/plain": [
       "golden_retriever      150\n",
       "Labrador_retriever    100\n",
       "Pembroke               88\n",
       "Chihuahua              83\n",
       "pug                    57\n",
       "chow                   44\n",
       "Samoyed                43\n",
       "toy_poodle             39\n",
       "Pomeranian             38\n",
       "cocker_spaniel         30\n",
       "Name: p1, dtype: int64"
      ]
     },
     "execution_count": 627,
     "metadata": {},
     "output_type": "execute_result"
    }
   ],
   "source": [
    "combined2['p1'].value_counts()[:10]"
   ]
  },
  {
   "cell_type": "code",
   "execution_count": null,
   "metadata": {
    "scrolled": true
   },
   "outputs": [],
   "source": []
  },
  {
   "cell_type": "code",
   "execution_count": 628,
   "metadata": {
    "scrolled": true
   },
   "outputs": [
    {
     "data": {
      "text/plain": [
       "Index(['tweet_id', 'in_reply_to_status_id_x', 'in_reply_to_user_id_x',\n",
       "       'timestamp', 'source_x', 'text', 'retweeted_status_id',\n",
       "       'retweeted_status_user_id', 'retweeted_status_timestamp',\n",
       "       'expanded_urls', 'rating_numerator', 'rating_denominator', 'name',\n",
       "       'doggo', 'floofer', 'pupper', 'puppo', 'timestamp_date',\n",
       "       'timestamp_time', 'rating_denominator_1', 'created_at', 'id_str',\n",
       "       'full_text', 'truncated', 'display_text_range', 'entities',\n",
       "       'extended_entities', 'source_y', 'in_reply_to_status_id_y',\n",
       "       'in_reply_to_status_id_str', 'in_reply_to_user_id_y',\n",
       "       'in_reply_to_user_id_str', 'in_reply_to_screen_name', 'user', 'geo',\n",
       "       'coordinates', 'place', 'contributors', 'is_quote_status',\n",
       "       'retweet_count', 'favorite_count', 'favorited', 'retweeted',\n",
       "       'possibly_sensitive', 'possibly_sensitive_appealable', 'lang',\n",
       "       'retweeted_status', 'quoted_status_id', 'quoted_status_id_str',\n",
       "       'quoted_status', 'jpg_url', 'img_num', 'p1', 'p1_conf', 'p1_dog', 'p2',\n",
       "       'p2_conf', 'p2_dog', 'p3', 'p3_conf', 'p3_dog'],\n",
       "      dtype='object')"
      ]
     },
     "execution_count": 628,
     "metadata": {},
     "output_type": "execute_result"
    }
   ],
   "source": [
    "combined2.columns"
   ]
  },
  {
   "cell_type": "code",
   "execution_count": null,
   "metadata": {
    "scrolled": true
   },
   "outputs": [],
   "source": []
  },
  {
   "cell_type": "code",
   "execution_count": 629,
   "metadata": {
    "scrolled": true
   },
   "outputs": [
    {
     "data": {
      "text/plain": [
       "count    2073.000000\n",
       "mean       12.265798\n",
       "std        40.699924\n",
       "min         0.000000\n",
       "25%        10.000000\n",
       "50%        11.000000\n",
       "75%        12.000000\n",
       "max      1776.000000\n",
       "Name: rating_numerator, dtype: float64"
      ]
     },
     "execution_count": 629,
     "metadata": {},
     "output_type": "execute_result"
    }
   ],
   "source": [
    "combined2.rating_numerator.describe()"
   ]
  },
  {
   "cell_type": "code",
   "execution_count": null,
   "metadata": {
    "scrolled": true
   },
   "outputs": [],
   "source": []
  },
  {
   "cell_type": "code",
   "execution_count": 630,
   "metadata": {},
   "outputs": [],
   "source": [
    "# Notes: back to the result from qulity data evaluate above"
   ]
  },
  {
   "cell_type": "markdown",
   "metadata": {},
   "source": [
    "Of the 59 tweets that are missing data in expanded_urls, 56 are replies or retweets. The remaining 3 tweets (at indexes 375, 707 and 1445) with NaN in the expanded_urls column all have valid ratings but no urls within the text column.\n",
    "The question now is whether these tweets are part of the predictions or json_data tables"
   ]
  },
  {
   "cell_type": "code",
   "execution_count": null,
   "metadata": {},
   "outputs": [],
   "source": []
  },
  {
   "cell_type": "code",
   "execution_count": 631,
   "metadata": {},
   "outputs": [
    {
     "data": {
      "text/plain": [
       "0"
      ]
     },
     "execution_count": 631,
     "metadata": {},
     "output_type": "execute_result"
    }
   ],
   "source": [
    "# are any of these tweets in the predictions table?\n",
    "tweet_set = [828361771580813312, 785515384317313025, 696518437233913856]\n",
    "find_tweet_id = image_predict.tweet_id.isin(tweet_set)\n",
    "sum(find_tweet_id)"
   ]
  },
  {
   "cell_type": "code",
   "execution_count": null,
   "metadata": {},
   "outputs": [],
   "source": []
  },
  {
   "cell_type": "code",
   "execution_count": 632,
   "metadata": {},
   "outputs": [
    {
     "data": {
      "text/plain": [
       "3"
      ]
     },
     "execution_count": 632,
     "metadata": {},
     "output_type": "execute_result"
    }
   ],
   "source": [
    "# are any of these tweets in the df_jason_copy3 table?\n",
    "tweet_set = [828361771580813312, 785515384317313025, 696518437233913856]\n",
    "find_tweet_id1 = df_jason_copy3.tweet_id.isin(tweet_set)\n",
    "sum(find_tweet_id1)"
   ]
  },
  {
   "cell_type": "code",
   "execution_count": null,
   "metadata": {},
   "outputs": [],
   "source": []
  },
  {
   "cell_type": "code",
   "execution_count": 633,
   "metadata": {},
   "outputs": [
    {
     "data": {
      "text/plain": [
       "3"
      ]
     },
     "execution_count": 633,
     "metadata": {},
     "output_type": "execute_result"
    }
   ],
   "source": [
    "find_tweet_id2 = combined1.tweet_id.isin(tweet_set)\n",
    "sum(find_tweet_id2)"
   ]
  },
  {
   "cell_type": "code",
   "execution_count": null,
   "metadata": {},
   "outputs": [],
   "source": []
  },
  {
   "cell_type": "code",
   "execution_count": 634,
   "metadata": {},
   "outputs": [
    {
     "data": {
      "text/plain": [
       "0"
      ]
     },
     "execution_count": 634,
     "metadata": {},
     "output_type": "execute_result"
    }
   ],
   "source": [
    "find_tweet_id3 = combined2.tweet_id.isin(tweet_set)\n",
    "sum(find_tweet_id3)"
   ]
  },
  {
   "cell_type": "code",
   "execution_count": null,
   "metadata": {},
   "outputs": [],
   "source": []
  },
  {
   "cell_type": "code",
   "execution_count": 635,
   "metadata": {
    "scrolled": true
   },
   "outputs": [],
   "source": [
    "# find out tweet total for each breed."
   ]
  },
  {
   "cell_type": "code",
   "execution_count": 636,
   "metadata": {
    "scrolled": true
   },
   "outputs": [
    {
     "data": {
      "text/plain": [
       "p1\n",
       "golden_retriever      1965\n",
       "bow_tie               1806\n",
       "Labrador_retriever    1377\n",
       "Pembroke              1007\n",
       "Chihuahua              897\n",
       "                      ... \n",
       "scorpion                 2\n",
       "coho                     2\n",
       "electric_fan             1\n",
       "lacewing                 1\n",
       "traffic_light            0\n",
       "Name: rating_numerator, Length: 378, dtype: int64"
      ]
     },
     "execution_count": 636,
     "metadata": {},
     "output_type": "execute_result"
    }
   ],
   "source": [
    "combined2.groupby('p1')['rating_numerator'].sum().sort_values(ascending=False)"
   ]
  },
  {
   "cell_type": "code",
   "execution_count": null,
   "metadata": {
    "scrolled": true
   },
   "outputs": [],
   "source": []
  },
  {
   "cell_type": "code",
   "execution_count": 637,
   "metadata": {
    "scrolled": true
   },
   "outputs": [],
   "source": [
    "## only calculate the breed with high confident in its prediction \n",
    "##  Catergorized 'p1_conf' into 4 level (poor confidence, fair confidence, confidence, very confidence)"
   ]
  },
  {
   "cell_type": "code",
   "execution_count": 638,
   "metadata": {
    "scrolled": true
   },
   "outputs": [
    {
     "data": {
      "text/plain": [
       "count    2073.000000\n",
       "mean        0.594532\n",
       "std         0.271234\n",
       "min         0.044333\n",
       "25%         0.364095\n",
       "50%         0.588230\n",
       "75%         0.843911\n",
       "max         1.000000\n",
       "Name: p1_conf, dtype: float64"
      ]
     },
     "execution_count": 638,
     "metadata": {},
     "output_type": "execute_result"
    }
   ],
   "source": [
    "combined2.p1_conf.describe()"
   ]
  },
  {
   "cell_type": "code",
   "execution_count": 639,
   "metadata": {
    "scrolled": true
   },
   "outputs": [
    {
     "data": {
      "text/html": [
       "<div>\n",
       "<style scoped>\n",
       "    .dataframe tbody tr th:only-of-type {\n",
       "        vertical-align: middle;\n",
       "    }\n",
       "\n",
       "    .dataframe tbody tr th {\n",
       "        vertical-align: top;\n",
       "    }\n",
       "\n",
       "    .dataframe thead th {\n",
       "        text-align: right;\n",
       "    }\n",
       "</style>\n",
       "<table border=\"1\" class=\"dataframe\">\n",
       "  <thead>\n",
       "    <tr style=\"text-align: right;\">\n",
       "      <th></th>\n",
       "      <th>tweet_id</th>\n",
       "      <th>in_reply_to_status_id_x</th>\n",
       "      <th>in_reply_to_user_id_x</th>\n",
       "      <th>timestamp</th>\n",
       "      <th>source_x</th>\n",
       "      <th>text</th>\n",
       "      <th>retweeted_status_id</th>\n",
       "      <th>retweeted_status_user_id</th>\n",
       "      <th>retweeted_status_timestamp</th>\n",
       "      <th>expanded_urls</th>\n",
       "      <th>...</th>\n",
       "      <th>p1</th>\n",
       "      <th>p1_conf</th>\n",
       "      <th>p1_dog</th>\n",
       "      <th>p2</th>\n",
       "      <th>p2_conf</th>\n",
       "      <th>p2_dog</th>\n",
       "      <th>p3</th>\n",
       "      <th>p3_conf</th>\n",
       "      <th>p3_dog</th>\n",
       "      <th>p1_conf_level</th>\n",
       "    </tr>\n",
       "  </thead>\n",
       "  <tbody>\n",
       "    <tr>\n",
       "      <th>0</th>\n",
       "      <td>892420643555336193</td>\n",
       "      <td>NaN</td>\n",
       "      <td>NaN</td>\n",
       "      <td>2017-08-01 16:23:56 +0000</td>\n",
       "      <td>&lt;a href=\"http://twitter.com/download/iphone\" r...</td>\n",
       "      <td>This is Phineas. He's a mystical boy. Only eve...</td>\n",
       "      <td>NaN</td>\n",
       "      <td>NaN</td>\n",
       "      <td>NaN</td>\n",
       "      <td>https://twitter.com/dog_rates/status/892420643...</td>\n",
       "      <td>...</td>\n",
       "      <td>orange</td>\n",
       "      <td>0.097049</td>\n",
       "      <td>False</td>\n",
       "      <td>bagel</td>\n",
       "      <td>0.085851</td>\n",
       "      <td>False</td>\n",
       "      <td>banana</td>\n",
       "      <td>0.076110</td>\n",
       "      <td>False</td>\n",
       "      <td>NaN</td>\n",
       "    </tr>\n",
       "    <tr>\n",
       "      <th>1</th>\n",
       "      <td>892177421306343426</td>\n",
       "      <td>NaN</td>\n",
       "      <td>NaN</td>\n",
       "      <td>2017-08-01 00:17:27 +0000</td>\n",
       "      <td>&lt;a href=\"http://twitter.com/download/iphone\" r...</td>\n",
       "      <td>This is Tilly. She's just checking pup on you....</td>\n",
       "      <td>NaN</td>\n",
       "      <td>NaN</td>\n",
       "      <td>NaN</td>\n",
       "      <td>https://twitter.com/dog_rates/status/892177421...</td>\n",
       "      <td>...</td>\n",
       "      <td>Chihuahua</td>\n",
       "      <td>0.323581</td>\n",
       "      <td>True</td>\n",
       "      <td>Pekinese</td>\n",
       "      <td>0.090647</td>\n",
       "      <td>True</td>\n",
       "      <td>papillon</td>\n",
       "      <td>0.068957</td>\n",
       "      <td>True</td>\n",
       "      <td>poor confidence</td>\n",
       "    </tr>\n",
       "  </tbody>\n",
       "</table>\n",
       "<p>2 rows × 62 columns</p>\n",
       "</div>"
      ],
      "text/plain": [
       "             tweet_id  in_reply_to_status_id_x  in_reply_to_user_id_x  \\\n",
       "0  892420643555336193                      NaN                    NaN   \n",
       "1  892177421306343426                      NaN                    NaN   \n",
       "\n",
       "                   timestamp  \\\n",
       "0  2017-08-01 16:23:56 +0000   \n",
       "1  2017-08-01 00:17:27 +0000   \n",
       "\n",
       "                                            source_x  \\\n",
       "0  <a href=\"http://twitter.com/download/iphone\" r...   \n",
       "1  <a href=\"http://twitter.com/download/iphone\" r...   \n",
       "\n",
       "                                                text  retweeted_status_id  \\\n",
       "0  This is Phineas. He's a mystical boy. Only eve...                  NaN   \n",
       "1  This is Tilly. She's just checking pup on you....                  NaN   \n",
       "\n",
       "   retweeted_status_user_id retweeted_status_timestamp  \\\n",
       "0                       NaN                        NaN   \n",
       "1                       NaN                        NaN   \n",
       "\n",
       "                                       expanded_urls  ...         p1  \\\n",
       "0  https://twitter.com/dog_rates/status/892420643...  ...     orange   \n",
       "1  https://twitter.com/dog_rates/status/892177421...  ...  Chihuahua   \n",
       "\n",
       "    p1_conf p1_dog        p2   p2_conf p2_dog        p3   p3_conf p3_dog  \\\n",
       "0  0.097049  False     bagel  0.085851  False    banana  0.076110  False   \n",
       "1  0.323581   True  Pekinese  0.090647   True  papillon  0.068957   True   \n",
       "\n",
       "      p1_conf_level  \n",
       "0               NaN  \n",
       "1  poor confidence   \n",
       "\n",
       "[2 rows x 62 columns]"
      ]
     },
     "execution_count": 639,
     "metadata": {},
     "output_type": "execute_result"
    }
   ],
   "source": [
    "bin_edges = [0.2,0.36,0.5,0.84,1 ]\n",
    "bin_names = ['poor confidence ', 'fair confidence', 'confidence', 'very confidence']\n",
    "\n",
    "combined2['p1_conf_level']=pd.cut(combined2['p1_conf'],bin_edges,labels=bin_names)\n",
    "combined2.head(2)"
   ]
  },
  {
   "cell_type": "code",
   "execution_count": 640,
   "metadata": {
    "scrolled": true
   },
   "outputs": [
    {
     "data": {
      "text/html": [
       "<div>\n",
       "<style scoped>\n",
       "    .dataframe tbody tr th:only-of-type {\n",
       "        vertical-align: middle;\n",
       "    }\n",
       "\n",
       "    .dataframe tbody tr th {\n",
       "        vertical-align: top;\n",
       "    }\n",
       "\n",
       "    .dataframe thead th {\n",
       "        text-align: right;\n",
       "    }\n",
       "</style>\n",
       "<table border=\"1\" class=\"dataframe\">\n",
       "  <thead>\n",
       "    <tr style=\"text-align: right;\">\n",
       "      <th></th>\n",
       "      <th>tweet_id</th>\n",
       "      <th>in_reply_to_status_id_x</th>\n",
       "      <th>in_reply_to_user_id_x</th>\n",
       "      <th>timestamp</th>\n",
       "      <th>source_x</th>\n",
       "      <th>text</th>\n",
       "      <th>retweeted_status_id</th>\n",
       "      <th>retweeted_status_user_id</th>\n",
       "      <th>retweeted_status_timestamp</th>\n",
       "      <th>expanded_urls</th>\n",
       "      <th>...</th>\n",
       "      <th>p1</th>\n",
       "      <th>p1_conf</th>\n",
       "      <th>p1_dog</th>\n",
       "      <th>p2</th>\n",
       "      <th>p2_conf</th>\n",
       "      <th>p2_dog</th>\n",
       "      <th>p3</th>\n",
       "      <th>p3_conf</th>\n",
       "      <th>p3_dog</th>\n",
       "      <th>p1_conf_level</th>\n",
       "    </tr>\n",
       "  </thead>\n",
       "  <tbody>\n",
       "    <tr>\n",
       "      <th>10</th>\n",
       "      <td>890006608113172480</td>\n",
       "      <td>NaN</td>\n",
       "      <td>NaN</td>\n",
       "      <td>2017-07-26 00:31:25 +0000</td>\n",
       "      <td>&lt;a href=\"http://twitter.com/download/iphone\" r...</td>\n",
       "      <td>This is Koda. He is a South Australian decksha...</td>\n",
       "      <td>NaN</td>\n",
       "      <td>NaN</td>\n",
       "      <td>NaN</td>\n",
       "      <td>https://twitter.com/dog_rates/status/890006608...</td>\n",
       "      <td>...</td>\n",
       "      <td>Samoyed</td>\n",
       "      <td>0.957979</td>\n",
       "      <td>True</td>\n",
       "      <td>Pomeranian</td>\n",
       "      <td>0.013884</td>\n",
       "      <td>True</td>\n",
       "      <td>chow</td>\n",
       "      <td>0.008167</td>\n",
       "      <td>True</td>\n",
       "      <td>very confidence</td>\n",
       "    </tr>\n",
       "    <tr>\n",
       "      <th>12</th>\n",
       "      <td>889665388333682689</td>\n",
       "      <td>NaN</td>\n",
       "      <td>NaN</td>\n",
       "      <td>2017-07-25 01:55:32 +0000</td>\n",
       "      <td>&lt;a href=\"http://twitter.com/download/iphone\" r...</td>\n",
       "      <td>Here's a puppo that seems to be on the fence a...</td>\n",
       "      <td>NaN</td>\n",
       "      <td>NaN</td>\n",
       "      <td>NaN</td>\n",
       "      <td>https://twitter.com/dog_rates/status/889665388...</td>\n",
       "      <td>...</td>\n",
       "      <td>Pembroke</td>\n",
       "      <td>0.966327</td>\n",
       "      <td>True</td>\n",
       "      <td>Cardigan</td>\n",
       "      <td>0.027356</td>\n",
       "      <td>True</td>\n",
       "      <td>basenji</td>\n",
       "      <td>0.004633</td>\n",
       "      <td>True</td>\n",
       "      <td>very confidence</td>\n",
       "    </tr>\n",
       "  </tbody>\n",
       "</table>\n",
       "<p>2 rows × 62 columns</p>\n",
       "</div>"
      ],
      "text/plain": [
       "              tweet_id  in_reply_to_status_id_x  in_reply_to_user_id_x  \\\n",
       "10  890006608113172480                      NaN                    NaN   \n",
       "12  889665388333682689                      NaN                    NaN   \n",
       "\n",
       "                    timestamp  \\\n",
       "10  2017-07-26 00:31:25 +0000   \n",
       "12  2017-07-25 01:55:32 +0000   \n",
       "\n",
       "                                             source_x  \\\n",
       "10  <a href=\"http://twitter.com/download/iphone\" r...   \n",
       "12  <a href=\"http://twitter.com/download/iphone\" r...   \n",
       "\n",
       "                                                 text  retweeted_status_id  \\\n",
       "10  This is Koda. He is a South Australian decksha...                  NaN   \n",
       "12  Here's a puppo that seems to be on the fence a...                  NaN   \n",
       "\n",
       "    retweeted_status_user_id retweeted_status_timestamp  \\\n",
       "10                       NaN                        NaN   \n",
       "12                       NaN                        NaN   \n",
       "\n",
       "                                        expanded_urls  ...        p1  \\\n",
       "10  https://twitter.com/dog_rates/status/890006608...  ...   Samoyed   \n",
       "12  https://twitter.com/dog_rates/status/889665388...  ...  Pembroke   \n",
       "\n",
       "     p1_conf p1_dog          p2   p2_conf p2_dog       p3   p3_conf p3_dog  \\\n",
       "10  0.957979   True  Pomeranian  0.013884   True     chow  0.008167   True   \n",
       "12  0.966327   True    Cardigan  0.027356   True  basenji  0.004633   True   \n",
       "\n",
       "      p1_conf_level  \n",
       "10  very confidence  \n",
       "12  very confidence  \n",
       "\n",
       "[2 rows x 62 columns]"
      ]
     },
     "execution_count": 640,
     "metadata": {},
     "output_type": "execute_result"
    }
   ],
   "source": [
    "combined2.query('p1_conf_level==\"very confidence\"').head(2)"
   ]
  },
  {
   "cell_type": "code",
   "execution_count": null,
   "metadata": {
    "scrolled": true
   },
   "outputs": [],
   "source": []
  },
  {
   "cell_type": "code",
   "execution_count": 641,
   "metadata": {
    "scrolled": true
   },
   "outputs": [
    {
     "data": {
      "text/plain": [
       "confidence          709\n",
       "very confidence     529\n",
       "poor confidence     344\n",
       "fair confidence     327\n",
       "Name: p1_conf_level, dtype: int64"
      ]
     },
     "execution_count": 641,
     "metadata": {},
     "output_type": "execute_result"
    }
   ],
   "source": [
    "combined2.p1_conf_level.value_counts()"
   ]
  },
  {
   "cell_type": "code",
   "execution_count": null,
   "metadata": {
    "scrolled": true
   },
   "outputs": [],
   "source": []
  },
  {
   "cell_type": "code",
   "execution_count": 642,
   "metadata": {
    "scrolled": true
   },
   "outputs": [
    {
     "data": {
      "text/plain": [
       "True     1531\n",
       "False     542\n",
       "Name: p1_dog, dtype: int64"
      ]
     },
     "execution_count": 642,
     "metadata": {},
     "output_type": "execute_result"
    }
   ],
   "source": [
    "combined2.p1_dog.value_counts()"
   ]
  },
  {
   "cell_type": "code",
   "execution_count": null,
   "metadata": {
    "scrolled": true
   },
   "outputs": [],
   "source": []
  },
  {
   "cell_type": "code",
   "execution_count": 643,
   "metadata": {
    "scrolled": true
   },
   "outputs": [],
   "source": [
    "# query the row with \"very confidence\" or \"confidence\" in row (p1_conf_level) and \"True\" in (p1_dog)"
   ]
  },
  {
   "cell_type": "code",
   "execution_count": 644,
   "metadata": {
    "scrolled": true
   },
   "outputs": [
    {
     "data": {
      "text/html": [
       "<div>\n",
       "<style scoped>\n",
       "    .dataframe tbody tr th:only-of-type {\n",
       "        vertical-align: middle;\n",
       "    }\n",
       "\n",
       "    .dataframe tbody tr th {\n",
       "        vertical-align: top;\n",
       "    }\n",
       "\n",
       "    .dataframe thead th {\n",
       "        text-align: right;\n",
       "    }\n",
       "</style>\n",
       "<table border=\"1\" class=\"dataframe\">\n",
       "  <thead>\n",
       "    <tr style=\"text-align: right;\">\n",
       "      <th></th>\n",
       "      <th>p1_dog</th>\n",
       "      <th>p1_conf_level</th>\n",
       "    </tr>\n",
       "  </thead>\n",
       "  <tbody>\n",
       "    <tr>\n",
       "      <th>0</th>\n",
       "      <td>False</td>\n",
       "      <td>NaN</td>\n",
       "    </tr>\n",
       "    <tr>\n",
       "      <th>1</th>\n",
       "      <td>True</td>\n",
       "      <td>poor confidence</td>\n",
       "    </tr>\n",
       "    <tr>\n",
       "      <th>2</th>\n",
       "      <td>True</td>\n",
       "      <td>confidence</td>\n",
       "    </tr>\n",
       "    <tr>\n",
       "      <th>3</th>\n",
       "      <td>False</td>\n",
       "      <td>NaN</td>\n",
       "    </tr>\n",
       "    <tr>\n",
       "      <th>4</th>\n",
       "      <td>True</td>\n",
       "      <td>confidence</td>\n",
       "    </tr>\n",
       "    <tr>\n",
       "      <th>...</th>\n",
       "      <td>...</td>\n",
       "      <td>...</td>\n",
       "    </tr>\n",
       "    <tr>\n",
       "      <th>2068</th>\n",
       "      <td>True</td>\n",
       "      <td>confidence</td>\n",
       "    </tr>\n",
       "    <tr>\n",
       "      <th>2069</th>\n",
       "      <td>True</td>\n",
       "      <td>fair confidence</td>\n",
       "    </tr>\n",
       "    <tr>\n",
       "      <th>2070</th>\n",
       "      <td>True</td>\n",
       "      <td>confidence</td>\n",
       "    </tr>\n",
       "    <tr>\n",
       "      <th>2071</th>\n",
       "      <td>True</td>\n",
       "      <td>confidence</td>\n",
       "    </tr>\n",
       "    <tr>\n",
       "      <th>2072</th>\n",
       "      <td>True</td>\n",
       "      <td>fair confidence</td>\n",
       "    </tr>\n",
       "  </tbody>\n",
       "</table>\n",
       "<p>2073 rows × 2 columns</p>\n",
       "</div>"
      ],
      "text/plain": [
       "      p1_dog     p1_conf_level\n",
       "0      False               NaN\n",
       "1       True  poor confidence \n",
       "2       True        confidence\n",
       "3      False               NaN\n",
       "4       True        confidence\n",
       "...      ...               ...\n",
       "2068    True        confidence\n",
       "2069    True   fair confidence\n",
       "2070    True        confidence\n",
       "2071    True        confidence\n",
       "2072    True   fair confidence\n",
       "\n",
       "[2073 rows x 2 columns]"
      ]
     },
     "execution_count": 644,
     "metadata": {},
     "output_type": "execute_result"
    }
   ],
   "source": [
    "combined2.loc[:,['p1_dog','p1_conf_level']]"
   ]
  },
  {
   "cell_type": "code",
   "execution_count": null,
   "metadata": {
    "scrolled": true
   },
   "outputs": [],
   "source": []
  },
  {
   "cell_type": "code",
   "execution_count": 645,
   "metadata": {
    "scrolled": true
   },
   "outputs": [
    {
     "data": {
      "text/html": [
       "<div>\n",
       "<style scoped>\n",
       "    .dataframe tbody tr th:only-of-type {\n",
       "        vertical-align: middle;\n",
       "    }\n",
       "\n",
       "    .dataframe tbody tr th {\n",
       "        vertical-align: top;\n",
       "    }\n",
       "\n",
       "    .dataframe thead th {\n",
       "        text-align: right;\n",
       "    }\n",
       "</style>\n",
       "<table border=\"1\" class=\"dataframe\">\n",
       "  <thead>\n",
       "    <tr style=\"text-align: right;\">\n",
       "      <th></th>\n",
       "      <th>tweet_id</th>\n",
       "      <th>in_reply_to_status_id_x</th>\n",
       "      <th>in_reply_to_user_id_x</th>\n",
       "      <th>timestamp</th>\n",
       "      <th>source_x</th>\n",
       "      <th>text</th>\n",
       "      <th>retweeted_status_id</th>\n",
       "      <th>retweeted_status_user_id</th>\n",
       "      <th>retweeted_status_timestamp</th>\n",
       "      <th>expanded_urls</th>\n",
       "      <th>...</th>\n",
       "      <th>p1</th>\n",
       "      <th>p1_conf</th>\n",
       "      <th>p1_dog</th>\n",
       "      <th>p2</th>\n",
       "      <th>p2_conf</th>\n",
       "      <th>p2_dog</th>\n",
       "      <th>p3</th>\n",
       "      <th>p3_conf</th>\n",
       "      <th>p3_dog</th>\n",
       "      <th>p1_conf_level</th>\n",
       "    </tr>\n",
       "  </thead>\n",
       "  <tbody>\n",
       "    <tr>\n",
       "      <th>10</th>\n",
       "      <td>890006608113172480</td>\n",
       "      <td>NaN</td>\n",
       "      <td>NaN</td>\n",
       "      <td>2017-07-26 00:31:25 +0000</td>\n",
       "      <td>&lt;a href=\"http://twitter.com/download/iphone\" r...</td>\n",
       "      <td>This is Koda. He is a South Australian decksha...</td>\n",
       "      <td>NaN</td>\n",
       "      <td>NaN</td>\n",
       "      <td>NaN</td>\n",
       "      <td>https://twitter.com/dog_rates/status/890006608...</td>\n",
       "      <td>...</td>\n",
       "      <td>Samoyed</td>\n",
       "      <td>0.957979</td>\n",
       "      <td>True</td>\n",
       "      <td>Pomeranian</td>\n",
       "      <td>0.013884</td>\n",
       "      <td>True</td>\n",
       "      <td>chow</td>\n",
       "      <td>0.008167</td>\n",
       "      <td>True</td>\n",
       "      <td>very confidence</td>\n",
       "    </tr>\n",
       "  </tbody>\n",
       "</table>\n",
       "<p>1 rows × 62 columns</p>\n",
       "</div>"
      ],
      "text/plain": [
       "              tweet_id  in_reply_to_status_id_x  in_reply_to_user_id_x  \\\n",
       "10  890006608113172480                      NaN                    NaN   \n",
       "\n",
       "                    timestamp  \\\n",
       "10  2017-07-26 00:31:25 +0000   \n",
       "\n",
       "                                             source_x  \\\n",
       "10  <a href=\"http://twitter.com/download/iphone\" r...   \n",
       "\n",
       "                                                 text  retweeted_status_id  \\\n",
       "10  This is Koda. He is a South Australian decksha...                  NaN   \n",
       "\n",
       "    retweeted_status_user_id retweeted_status_timestamp  \\\n",
       "10                       NaN                        NaN   \n",
       "\n",
       "                                        expanded_urls  ...       p1   p1_conf  \\\n",
       "10  https://twitter.com/dog_rates/status/890006608...  ...  Samoyed  0.957979   \n",
       "\n",
       "   p1_dog          p2   p2_conf p2_dog    p3   p3_conf p3_dog    p1_conf_level  \n",
       "10   True  Pomeranian  0.013884   True  chow  0.008167   True  very confidence  \n",
       "\n",
       "[1 rows x 62 columns]"
      ]
     },
     "execution_count": 645,
     "metadata": {},
     "output_type": "execute_result"
    }
   ],
   "source": [
    "combined2.loc[combined2['p1_conf_level']=='very confidence'].head(1)"
   ]
  },
  {
   "cell_type": "code",
   "execution_count": null,
   "metadata": {
    "scrolled": true
   },
   "outputs": [],
   "source": []
  },
  {
   "cell_type": "code",
   "execution_count": 646,
   "metadata": {
    "scrolled": true
   },
   "outputs": [
    {
     "data": {
      "text/html": [
       "<div>\n",
       "<style scoped>\n",
       "    .dataframe tbody tr th:only-of-type {\n",
       "        vertical-align: middle;\n",
       "    }\n",
       "\n",
       "    .dataframe tbody tr th {\n",
       "        vertical-align: top;\n",
       "    }\n",
       "\n",
       "    .dataframe thead th {\n",
       "        text-align: right;\n",
       "    }\n",
       "</style>\n",
       "<table border=\"1\" class=\"dataframe\">\n",
       "  <thead>\n",
       "    <tr style=\"text-align: right;\">\n",
       "      <th></th>\n",
       "      <th>tweet_id</th>\n",
       "      <th>in_reply_to_status_id_x</th>\n",
       "      <th>in_reply_to_user_id_x</th>\n",
       "      <th>timestamp</th>\n",
       "      <th>source_x</th>\n",
       "      <th>text</th>\n",
       "      <th>retweeted_status_id</th>\n",
       "      <th>retweeted_status_user_id</th>\n",
       "      <th>retweeted_status_timestamp</th>\n",
       "      <th>expanded_urls</th>\n",
       "      <th>...</th>\n",
       "      <th>p1</th>\n",
       "      <th>p1_conf</th>\n",
       "      <th>p1_dog</th>\n",
       "      <th>p2</th>\n",
       "      <th>p2_conf</th>\n",
       "      <th>p2_dog</th>\n",
       "      <th>p3</th>\n",
       "      <th>p3_conf</th>\n",
       "      <th>p3_dog</th>\n",
       "      <th>p1_conf_level</th>\n",
       "    </tr>\n",
       "  </thead>\n",
       "  <tbody>\n",
       "    <tr>\n",
       "      <th>1</th>\n",
       "      <td>892177421306343426</td>\n",
       "      <td>NaN</td>\n",
       "      <td>NaN</td>\n",
       "      <td>2017-08-01 00:17:27 +0000</td>\n",
       "      <td>&lt;a href=\"http://twitter.com/download/iphone\" r...</td>\n",
       "      <td>This is Tilly. She's just checking pup on you....</td>\n",
       "      <td>NaN</td>\n",
       "      <td>NaN</td>\n",
       "      <td>NaN</td>\n",
       "      <td>https://twitter.com/dog_rates/status/892177421...</td>\n",
       "      <td>...</td>\n",
       "      <td>Chihuahua</td>\n",
       "      <td>0.323581</td>\n",
       "      <td>True</td>\n",
       "      <td>Pekinese</td>\n",
       "      <td>0.090647</td>\n",
       "      <td>True</td>\n",
       "      <td>papillon</td>\n",
       "      <td>0.068957</td>\n",
       "      <td>True</td>\n",
       "      <td>poor confidence</td>\n",
       "    </tr>\n",
       "    <tr>\n",
       "      <th>2</th>\n",
       "      <td>891815181378084864</td>\n",
       "      <td>NaN</td>\n",
       "      <td>NaN</td>\n",
       "      <td>2017-07-31 00:18:03 +0000</td>\n",
       "      <td>&lt;a href=\"http://twitter.com/download/iphone\" r...</td>\n",
       "      <td>This is Archie. He is a rare Norwegian Pouncin...</td>\n",
       "      <td>NaN</td>\n",
       "      <td>NaN</td>\n",
       "      <td>NaN</td>\n",
       "      <td>https://twitter.com/dog_rates/status/891815181...</td>\n",
       "      <td>...</td>\n",
       "      <td>Chihuahua</td>\n",
       "      <td>0.716012</td>\n",
       "      <td>True</td>\n",
       "      <td>malamute</td>\n",
       "      <td>0.078253</td>\n",
       "      <td>True</td>\n",
       "      <td>kelpie</td>\n",
       "      <td>0.031379</td>\n",
       "      <td>True</td>\n",
       "      <td>confidence</td>\n",
       "    </tr>\n",
       "    <tr>\n",
       "      <th>4</th>\n",
       "      <td>891327558926688256</td>\n",
       "      <td>NaN</td>\n",
       "      <td>NaN</td>\n",
       "      <td>2017-07-29 16:00:24 +0000</td>\n",
       "      <td>&lt;a href=\"http://twitter.com/download/iphone\" r...</td>\n",
       "      <td>This is Franklin. He would like you to stop ca...</td>\n",
       "      <td>NaN</td>\n",
       "      <td>NaN</td>\n",
       "      <td>NaN</td>\n",
       "      <td>https://twitter.com/dog_rates/status/891327558...</td>\n",
       "      <td>...</td>\n",
       "      <td>basset</td>\n",
       "      <td>0.555712</td>\n",
       "      <td>True</td>\n",
       "      <td>English_springer</td>\n",
       "      <td>0.225770</td>\n",
       "      <td>True</td>\n",
       "      <td>German_short-haired_pointer</td>\n",
       "      <td>0.175219</td>\n",
       "      <td>True</td>\n",
       "      <td>confidence</td>\n",
       "    </tr>\n",
       "    <tr>\n",
       "      <th>5</th>\n",
       "      <td>891087950875897856</td>\n",
       "      <td>NaN</td>\n",
       "      <td>NaN</td>\n",
       "      <td>2017-07-29 00:08:17 +0000</td>\n",
       "      <td>&lt;a href=\"http://twitter.com/download/iphone\" r...</td>\n",
       "      <td>Here we have a majestic great white breaching ...</td>\n",
       "      <td>NaN</td>\n",
       "      <td>NaN</td>\n",
       "      <td>NaN</td>\n",
       "      <td>https://twitter.com/dog_rates/status/891087950...</td>\n",
       "      <td>...</td>\n",
       "      <td>Chesapeake_Bay_retriever</td>\n",
       "      <td>0.425595</td>\n",
       "      <td>True</td>\n",
       "      <td>Irish_terrier</td>\n",
       "      <td>0.116317</td>\n",
       "      <td>True</td>\n",
       "      <td>Indian_elephant</td>\n",
       "      <td>0.076902</td>\n",
       "      <td>False</td>\n",
       "      <td>fair confidence</td>\n",
       "    </tr>\n",
       "    <tr>\n",
       "      <th>6</th>\n",
       "      <td>890971913173991426</td>\n",
       "      <td>NaN</td>\n",
       "      <td>NaN</td>\n",
       "      <td>2017-07-28 16:27:12 +0000</td>\n",
       "      <td>&lt;a href=\"http://twitter.com/download/iphone\" r...</td>\n",
       "      <td>Meet Jax. He enjoys ice cream so much he gets ...</td>\n",
       "      <td>NaN</td>\n",
       "      <td>NaN</td>\n",
       "      <td>NaN</td>\n",
       "      <td>https://gofundme.com/ydvmve-surgery-for-jax,ht...</td>\n",
       "      <td>...</td>\n",
       "      <td>Appenzeller</td>\n",
       "      <td>0.341703</td>\n",
       "      <td>True</td>\n",
       "      <td>Border_collie</td>\n",
       "      <td>0.199287</td>\n",
       "      <td>True</td>\n",
       "      <td>ice_lolly</td>\n",
       "      <td>0.193548</td>\n",
       "      <td>False</td>\n",
       "      <td>poor confidence</td>\n",
       "    </tr>\n",
       "    <tr>\n",
       "      <th>...</th>\n",
       "      <td>...</td>\n",
       "      <td>...</td>\n",
       "      <td>...</td>\n",
       "      <td>...</td>\n",
       "      <td>...</td>\n",
       "      <td>...</td>\n",
       "      <td>...</td>\n",
       "      <td>...</td>\n",
       "      <td>...</td>\n",
       "      <td>...</td>\n",
       "      <td>...</td>\n",
       "      <td>...</td>\n",
       "      <td>...</td>\n",
       "      <td>...</td>\n",
       "      <td>...</td>\n",
       "      <td>...</td>\n",
       "      <td>...</td>\n",
       "      <td>...</td>\n",
       "      <td>...</td>\n",
       "      <td>...</td>\n",
       "      <td>...</td>\n",
       "    </tr>\n",
       "    <tr>\n",
       "      <th>2068</th>\n",
       "      <td>666049248165822465</td>\n",
       "      <td>NaN</td>\n",
       "      <td>NaN</td>\n",
       "      <td>2015-11-16 00:24:50 +0000</td>\n",
       "      <td>&lt;a href=\"http://twitter.com/download/iphone\" r...</td>\n",
       "      <td>Here we have a 1949 1st generation vulpix. Enj...</td>\n",
       "      <td>NaN</td>\n",
       "      <td>NaN</td>\n",
       "      <td>NaN</td>\n",
       "      <td>https://twitter.com/dog_rates/status/666049248...</td>\n",
       "      <td>...</td>\n",
       "      <td>miniature_pinscher</td>\n",
       "      <td>0.560311</td>\n",
       "      <td>True</td>\n",
       "      <td>Rottweiler</td>\n",
       "      <td>0.243682</td>\n",
       "      <td>True</td>\n",
       "      <td>Doberman</td>\n",
       "      <td>0.154629</td>\n",
       "      <td>True</td>\n",
       "      <td>confidence</td>\n",
       "    </tr>\n",
       "    <tr>\n",
       "      <th>2069</th>\n",
       "      <td>666044226329800704</td>\n",
       "      <td>NaN</td>\n",
       "      <td>NaN</td>\n",
       "      <td>2015-11-16 00:04:52 +0000</td>\n",
       "      <td>&lt;a href=\"http://twitter.com/download/iphone\" r...</td>\n",
       "      <td>This is a purebred Piers Morgan. Loves to Netf...</td>\n",
       "      <td>NaN</td>\n",
       "      <td>NaN</td>\n",
       "      <td>NaN</td>\n",
       "      <td>https://twitter.com/dog_rates/status/666044226...</td>\n",
       "      <td>...</td>\n",
       "      <td>Rhodesian_ridgeback</td>\n",
       "      <td>0.408143</td>\n",
       "      <td>True</td>\n",
       "      <td>redbone</td>\n",
       "      <td>0.360687</td>\n",
       "      <td>True</td>\n",
       "      <td>miniature_pinscher</td>\n",
       "      <td>0.222752</td>\n",
       "      <td>True</td>\n",
       "      <td>fair confidence</td>\n",
       "    </tr>\n",
       "    <tr>\n",
       "      <th>2070</th>\n",
       "      <td>666033412701032449</td>\n",
       "      <td>NaN</td>\n",
       "      <td>NaN</td>\n",
       "      <td>2015-11-15 23:21:54 +0000</td>\n",
       "      <td>&lt;a href=\"http://twitter.com/download/iphone\" r...</td>\n",
       "      <td>Here is a very happy pup. Big fan of well-main...</td>\n",
       "      <td>NaN</td>\n",
       "      <td>NaN</td>\n",
       "      <td>NaN</td>\n",
       "      <td>https://twitter.com/dog_rates/status/666033412...</td>\n",
       "      <td>...</td>\n",
       "      <td>German_shepherd</td>\n",
       "      <td>0.596461</td>\n",
       "      <td>True</td>\n",
       "      <td>malinois</td>\n",
       "      <td>0.138584</td>\n",
       "      <td>True</td>\n",
       "      <td>bloodhound</td>\n",
       "      <td>0.116197</td>\n",
       "      <td>True</td>\n",
       "      <td>confidence</td>\n",
       "    </tr>\n",
       "    <tr>\n",
       "      <th>2071</th>\n",
       "      <td>666029285002620928</td>\n",
       "      <td>NaN</td>\n",
       "      <td>NaN</td>\n",
       "      <td>2015-11-15 23:05:30 +0000</td>\n",
       "      <td>&lt;a href=\"http://twitter.com/download/iphone\" r...</td>\n",
       "      <td>This is a western brown Mitsubishi terrier. Up...</td>\n",
       "      <td>NaN</td>\n",
       "      <td>NaN</td>\n",
       "      <td>NaN</td>\n",
       "      <td>https://twitter.com/dog_rates/status/666029285...</td>\n",
       "      <td>...</td>\n",
       "      <td>redbone</td>\n",
       "      <td>0.506826</td>\n",
       "      <td>True</td>\n",
       "      <td>miniature_pinscher</td>\n",
       "      <td>0.074192</td>\n",
       "      <td>True</td>\n",
       "      <td>Rhodesian_ridgeback</td>\n",
       "      <td>0.072010</td>\n",
       "      <td>True</td>\n",
       "      <td>confidence</td>\n",
       "    </tr>\n",
       "    <tr>\n",
       "      <th>2072</th>\n",
       "      <td>666020888022790149</td>\n",
       "      <td>NaN</td>\n",
       "      <td>NaN</td>\n",
       "      <td>2015-11-15 22:32:08 +0000</td>\n",
       "      <td>&lt;a href=\"http://twitter.com/download/iphone\" r...</td>\n",
       "      <td>Here we have a Japanese Irish Setter. Lost eye...</td>\n",
       "      <td>NaN</td>\n",
       "      <td>NaN</td>\n",
       "      <td>NaN</td>\n",
       "      <td>https://twitter.com/dog_rates/status/666020888...</td>\n",
       "      <td>...</td>\n",
       "      <td>Welsh_springer_spaniel</td>\n",
       "      <td>0.465074</td>\n",
       "      <td>True</td>\n",
       "      <td>collie</td>\n",
       "      <td>0.156665</td>\n",
       "      <td>True</td>\n",
       "      <td>Shetland_sheepdog</td>\n",
       "      <td>0.061428</td>\n",
       "      <td>True</td>\n",
       "      <td>fair confidence</td>\n",
       "    </tr>\n",
       "  </tbody>\n",
       "</table>\n",
       "<p>1531 rows × 62 columns</p>\n",
       "</div>"
      ],
      "text/plain": [
       "                tweet_id  in_reply_to_status_id_x  in_reply_to_user_id_x  \\\n",
       "1     892177421306343426                      NaN                    NaN   \n",
       "2     891815181378084864                      NaN                    NaN   \n",
       "4     891327558926688256                      NaN                    NaN   \n",
       "5     891087950875897856                      NaN                    NaN   \n",
       "6     890971913173991426                      NaN                    NaN   \n",
       "...                  ...                      ...                    ...   \n",
       "2068  666049248165822465                      NaN                    NaN   \n",
       "2069  666044226329800704                      NaN                    NaN   \n",
       "2070  666033412701032449                      NaN                    NaN   \n",
       "2071  666029285002620928                      NaN                    NaN   \n",
       "2072  666020888022790149                      NaN                    NaN   \n",
       "\n",
       "                      timestamp  \\\n",
       "1     2017-08-01 00:17:27 +0000   \n",
       "2     2017-07-31 00:18:03 +0000   \n",
       "4     2017-07-29 16:00:24 +0000   \n",
       "5     2017-07-29 00:08:17 +0000   \n",
       "6     2017-07-28 16:27:12 +0000   \n",
       "...                         ...   \n",
       "2068  2015-11-16 00:24:50 +0000   \n",
       "2069  2015-11-16 00:04:52 +0000   \n",
       "2070  2015-11-15 23:21:54 +0000   \n",
       "2071  2015-11-15 23:05:30 +0000   \n",
       "2072  2015-11-15 22:32:08 +0000   \n",
       "\n",
       "                                               source_x  \\\n",
       "1     <a href=\"http://twitter.com/download/iphone\" r...   \n",
       "2     <a href=\"http://twitter.com/download/iphone\" r...   \n",
       "4     <a href=\"http://twitter.com/download/iphone\" r...   \n",
       "5     <a href=\"http://twitter.com/download/iphone\" r...   \n",
       "6     <a href=\"http://twitter.com/download/iphone\" r...   \n",
       "...                                                 ...   \n",
       "2068  <a href=\"http://twitter.com/download/iphone\" r...   \n",
       "2069  <a href=\"http://twitter.com/download/iphone\" r...   \n",
       "2070  <a href=\"http://twitter.com/download/iphone\" r...   \n",
       "2071  <a href=\"http://twitter.com/download/iphone\" r...   \n",
       "2072  <a href=\"http://twitter.com/download/iphone\" r...   \n",
       "\n",
       "                                                   text  retweeted_status_id  \\\n",
       "1     This is Tilly. She's just checking pup on you....                  NaN   \n",
       "2     This is Archie. He is a rare Norwegian Pouncin...                  NaN   \n",
       "4     This is Franklin. He would like you to stop ca...                  NaN   \n",
       "5     Here we have a majestic great white breaching ...                  NaN   \n",
       "6     Meet Jax. He enjoys ice cream so much he gets ...                  NaN   \n",
       "...                                                 ...                  ...   \n",
       "2068  Here we have a 1949 1st generation vulpix. Enj...                  NaN   \n",
       "2069  This is a purebred Piers Morgan. Loves to Netf...                  NaN   \n",
       "2070  Here is a very happy pup. Big fan of well-main...                  NaN   \n",
       "2071  This is a western brown Mitsubishi terrier. Up...                  NaN   \n",
       "2072  Here we have a Japanese Irish Setter. Lost eye...                  NaN   \n",
       "\n",
       "      retweeted_status_user_id retweeted_status_timestamp  \\\n",
       "1                          NaN                        NaN   \n",
       "2                          NaN                        NaN   \n",
       "4                          NaN                        NaN   \n",
       "5                          NaN                        NaN   \n",
       "6                          NaN                        NaN   \n",
       "...                        ...                        ...   \n",
       "2068                       NaN                        NaN   \n",
       "2069                       NaN                        NaN   \n",
       "2070                       NaN                        NaN   \n",
       "2071                       NaN                        NaN   \n",
       "2072                       NaN                        NaN   \n",
       "\n",
       "                                          expanded_urls  ...  \\\n",
       "1     https://twitter.com/dog_rates/status/892177421...  ...   \n",
       "2     https://twitter.com/dog_rates/status/891815181...  ...   \n",
       "4     https://twitter.com/dog_rates/status/891327558...  ...   \n",
       "5     https://twitter.com/dog_rates/status/891087950...  ...   \n",
       "6     https://gofundme.com/ydvmve-surgery-for-jax,ht...  ...   \n",
       "...                                                 ...  ...   \n",
       "2068  https://twitter.com/dog_rates/status/666049248...  ...   \n",
       "2069  https://twitter.com/dog_rates/status/666044226...  ...   \n",
       "2070  https://twitter.com/dog_rates/status/666033412...  ...   \n",
       "2071  https://twitter.com/dog_rates/status/666029285...  ...   \n",
       "2072  https://twitter.com/dog_rates/status/666020888...  ...   \n",
       "\n",
       "                            p1   p1_conf p1_dog                  p2   p2_conf  \\\n",
       "1                    Chihuahua  0.323581   True            Pekinese  0.090647   \n",
       "2                    Chihuahua  0.716012   True            malamute  0.078253   \n",
       "4                       basset  0.555712   True    English_springer  0.225770   \n",
       "5     Chesapeake_Bay_retriever  0.425595   True       Irish_terrier  0.116317   \n",
       "6                  Appenzeller  0.341703   True       Border_collie  0.199287   \n",
       "...                        ...       ...    ...                 ...       ...   \n",
       "2068        miniature_pinscher  0.560311   True          Rottweiler  0.243682   \n",
       "2069       Rhodesian_ridgeback  0.408143   True             redbone  0.360687   \n",
       "2070           German_shepherd  0.596461   True            malinois  0.138584   \n",
       "2071                   redbone  0.506826   True  miniature_pinscher  0.074192   \n",
       "2072    Welsh_springer_spaniel  0.465074   True              collie  0.156665   \n",
       "\n",
       "     p2_dog                           p3   p3_conf p3_dog     p1_conf_level  \n",
       "1      True                     papillon  0.068957   True  poor confidence   \n",
       "2      True                       kelpie  0.031379   True        confidence  \n",
       "4      True  German_short-haired_pointer  0.175219   True        confidence  \n",
       "5      True              Indian_elephant  0.076902  False   fair confidence  \n",
       "6      True                    ice_lolly  0.193548  False  poor confidence   \n",
       "...     ...                          ...       ...    ...               ...  \n",
       "2068   True                     Doberman  0.154629   True        confidence  \n",
       "2069   True           miniature_pinscher  0.222752   True   fair confidence  \n",
       "2070   True                   bloodhound  0.116197   True        confidence  \n",
       "2071   True          Rhodesian_ridgeback  0.072010   True        confidence  \n",
       "2072   True            Shetland_sheepdog  0.061428   True   fair confidence  \n",
       "\n",
       "[1531 rows x 62 columns]"
      ]
     },
     "execution_count": 646,
     "metadata": {},
     "output_type": "execute_result"
    }
   ],
   "source": [
    "combined2.loc[combined2['p1_dog']==True]"
   ]
  },
  {
   "cell_type": "code",
   "execution_count": null,
   "metadata": {
    "scrolled": true
   },
   "outputs": [],
   "source": []
  },
  {
   "cell_type": "code",
   "execution_count": 647,
   "metadata": {
    "scrolled": true
   },
   "outputs": [],
   "source": [
    "## since the dtype of p1_dog is boolean which unable to select with another column(dtype:str),\n",
    "### so we need to change the datatype for it."
   ]
  },
  {
   "cell_type": "code",
   "execution_count": 648,
   "metadata": {
    "scrolled": true
   },
   "outputs": [
    {
     "data": {
      "text/plain": [
       "tweet_id                      int64\n",
       "in_reply_to_status_id_x     float64\n",
       "in_reply_to_user_id_x       float64\n",
       "timestamp                    object\n",
       "source_x                     object\n",
       "                             ...   \n",
       "p2_dog                         bool\n",
       "p3                           object\n",
       "p3_conf                     float64\n",
       "p3_dog                         bool\n",
       "p1_conf_level              category\n",
       "Length: 62, dtype: object"
      ]
     },
     "execution_count": 648,
     "metadata": {},
     "output_type": "execute_result"
    }
   ],
   "source": [
    "combined2.dtypes"
   ]
  },
  {
   "cell_type": "code",
   "execution_count": null,
   "metadata": {
    "scrolled": true
   },
   "outputs": [],
   "source": []
  },
  {
   "cell_type": "code",
   "execution_count": 649,
   "metadata": {
    "scrolled": true
   },
   "outputs": [],
   "source": [
    "combined2_p1_dog_convert=combined2['p1_dog'].astype(str)"
   ]
  },
  {
   "cell_type": "code",
   "execution_count": null,
   "metadata": {
    "scrolled": true
   },
   "outputs": [],
   "source": []
  },
  {
   "cell_type": "code",
   "execution_count": 650,
   "metadata": {
    "scrolled": true
   },
   "outputs": [
    {
     "data": {
      "text/plain": [
       "0       False\n",
       "1        True\n",
       "2        True\n",
       "3       False\n",
       "4        True\n",
       "        ...  \n",
       "2068     True\n",
       "2069     True\n",
       "2070     True\n",
       "2071     True\n",
       "2072     True\n",
       "Name: p1_dog, Length: 2073, dtype: object"
      ]
     },
     "execution_count": 650,
     "metadata": {},
     "output_type": "execute_result"
    }
   ],
   "source": [
    "combined2_p1_dog_convert"
   ]
  },
  {
   "cell_type": "code",
   "execution_count": null,
   "metadata": {
    "scrolled": true
   },
   "outputs": [],
   "source": []
  },
  {
   "cell_type": "code",
   "execution_count": 651,
   "metadata": {
    "scrolled": true
   },
   "outputs": [],
   "source": [
    "combined2['p1_dog']=combined2_p1_dog_convert"
   ]
  },
  {
   "cell_type": "code",
   "execution_count": null,
   "metadata": {
    "scrolled": true
   },
   "outputs": [],
   "source": []
  },
  {
   "cell_type": "code",
   "execution_count": 652,
   "metadata": {
    "scrolled": true
   },
   "outputs": [],
   "source": [
    "## query the row with 'True' in column (p1_dog) and 'very confiden' in column (p1_conf_level)"
   ]
  },
  {
   "cell_type": "code",
   "execution_count": 653,
   "metadata": {
    "scrolled": true
   },
   "outputs": [
    {
     "data": {
      "text/html": [
       "<div>\n",
       "<style scoped>\n",
       "    .dataframe tbody tr th:only-of-type {\n",
       "        vertical-align: middle;\n",
       "    }\n",
       "\n",
       "    .dataframe tbody tr th {\n",
       "        vertical-align: top;\n",
       "    }\n",
       "\n",
       "    .dataframe thead th {\n",
       "        text-align: right;\n",
       "    }\n",
       "</style>\n",
       "<table border=\"1\" class=\"dataframe\">\n",
       "  <thead>\n",
       "    <tr style=\"text-align: right;\">\n",
       "      <th></th>\n",
       "      <th>tweet_id</th>\n",
       "      <th>in_reply_to_status_id_x</th>\n",
       "      <th>in_reply_to_user_id_x</th>\n",
       "      <th>timestamp</th>\n",
       "      <th>source_x</th>\n",
       "      <th>text</th>\n",
       "      <th>retweeted_status_id</th>\n",
       "      <th>retweeted_status_user_id</th>\n",
       "      <th>retweeted_status_timestamp</th>\n",
       "      <th>expanded_urls</th>\n",
       "      <th>...</th>\n",
       "      <th>p1</th>\n",
       "      <th>p1_conf</th>\n",
       "      <th>p1_dog</th>\n",
       "      <th>p2</th>\n",
       "      <th>p2_conf</th>\n",
       "      <th>p2_dog</th>\n",
       "      <th>p3</th>\n",
       "      <th>p3_conf</th>\n",
       "      <th>p3_dog</th>\n",
       "      <th>p1_conf_level</th>\n",
       "    </tr>\n",
       "  </thead>\n",
       "  <tbody>\n",
       "    <tr>\n",
       "      <th>10</th>\n",
       "      <td>890006608113172480</td>\n",
       "      <td>NaN</td>\n",
       "      <td>NaN</td>\n",
       "      <td>2017-07-26 00:31:25 +0000</td>\n",
       "      <td>&lt;a href=\"http://twitter.com/download/iphone\" r...</td>\n",
       "      <td>This is Koda. He is a South Australian decksha...</td>\n",
       "      <td>NaN</td>\n",
       "      <td>NaN</td>\n",
       "      <td>NaN</td>\n",
       "      <td>https://twitter.com/dog_rates/status/890006608...</td>\n",
       "      <td>...</td>\n",
       "      <td>Samoyed</td>\n",
       "      <td>0.957979</td>\n",
       "      <td>True</td>\n",
       "      <td>Pomeranian</td>\n",
       "      <td>0.013884</td>\n",
       "      <td>True</td>\n",
       "      <td>chow</td>\n",
       "      <td>0.008167</td>\n",
       "      <td>True</td>\n",
       "      <td>very confidence</td>\n",
       "    </tr>\n",
       "    <tr>\n",
       "      <th>12</th>\n",
       "      <td>889665388333682689</td>\n",
       "      <td>NaN</td>\n",
       "      <td>NaN</td>\n",
       "      <td>2017-07-25 01:55:32 +0000</td>\n",
       "      <td>&lt;a href=\"http://twitter.com/download/iphone\" r...</td>\n",
       "      <td>Here's a puppo that seems to be on the fence a...</td>\n",
       "      <td>NaN</td>\n",
       "      <td>NaN</td>\n",
       "      <td>NaN</td>\n",
       "      <td>https://twitter.com/dog_rates/status/889665388...</td>\n",
       "      <td>...</td>\n",
       "      <td>Pembroke</td>\n",
       "      <td>0.966327</td>\n",
       "      <td>True</td>\n",
       "      <td>Cardigan</td>\n",
       "      <td>0.027356</td>\n",
       "      <td>True</td>\n",
       "      <td>basenji</td>\n",
       "      <td>0.004633</td>\n",
       "      <td>True</td>\n",
       "      <td>very confidence</td>\n",
       "    </tr>\n",
       "    <tr>\n",
       "      <th>13</th>\n",
       "      <td>889638837579907072</td>\n",
       "      <td>NaN</td>\n",
       "      <td>NaN</td>\n",
       "      <td>2017-07-25 00:10:02 +0000</td>\n",
       "      <td>&lt;a href=\"http://twitter.com/download/iphone\" r...</td>\n",
       "      <td>This is Ted. He does his best. Sometimes that'...</td>\n",
       "      <td>NaN</td>\n",
       "      <td>NaN</td>\n",
       "      <td>NaN</td>\n",
       "      <td>https://twitter.com/dog_rates/status/889638837...</td>\n",
       "      <td>...</td>\n",
       "      <td>French_bulldog</td>\n",
       "      <td>0.991650</td>\n",
       "      <td>True</td>\n",
       "      <td>boxer</td>\n",
       "      <td>0.002129</td>\n",
       "      <td>True</td>\n",
       "      <td>Staffordshire_bullterrier</td>\n",
       "      <td>0.001498</td>\n",
       "      <td>True</td>\n",
       "      <td>very confidence</td>\n",
       "    </tr>\n",
       "    <tr>\n",
       "      <th>14</th>\n",
       "      <td>889531135344209921</td>\n",
       "      <td>NaN</td>\n",
       "      <td>NaN</td>\n",
       "      <td>2017-07-24 17:02:04 +0000</td>\n",
       "      <td>&lt;a href=\"http://twitter.com/download/iphone\" r...</td>\n",
       "      <td>This is Stuart. He's sporting his favorite fan...</td>\n",
       "      <td>NaN</td>\n",
       "      <td>NaN</td>\n",
       "      <td>NaN</td>\n",
       "      <td>https://twitter.com/dog_rates/status/889531135...</td>\n",
       "      <td>...</td>\n",
       "      <td>golden_retriever</td>\n",
       "      <td>0.953442</td>\n",
       "      <td>True</td>\n",
       "      <td>Labrador_retriever</td>\n",
       "      <td>0.013834</td>\n",
       "      <td>True</td>\n",
       "      <td>redbone</td>\n",
       "      <td>0.007958</td>\n",
       "      <td>True</td>\n",
       "      <td>very confidence</td>\n",
       "    </tr>\n",
       "    <tr>\n",
       "      <th>19</th>\n",
       "      <td>888078434458587136</td>\n",
       "      <td>NaN</td>\n",
       "      <td>NaN</td>\n",
       "      <td>2017-07-20 16:49:33 +0000</td>\n",
       "      <td>&lt;a href=\"http://twitter.com/download/iphone\" r...</td>\n",
       "      <td>This is Gerald. He was just told he didn't get...</td>\n",
       "      <td>NaN</td>\n",
       "      <td>NaN</td>\n",
       "      <td>NaN</td>\n",
       "      <td>https://twitter.com/dog_rates/status/888078434...</td>\n",
       "      <td>...</td>\n",
       "      <td>French_bulldog</td>\n",
       "      <td>0.995026</td>\n",
       "      <td>True</td>\n",
       "      <td>pug</td>\n",
       "      <td>0.000932</td>\n",
       "      <td>True</td>\n",
       "      <td>bull_mastiff</td>\n",
       "      <td>0.000903</td>\n",
       "      <td>True</td>\n",
       "      <td>very confidence</td>\n",
       "    </tr>\n",
       "    <tr>\n",
       "      <th>...</th>\n",
       "      <td>...</td>\n",
       "      <td>...</td>\n",
       "      <td>...</td>\n",
       "      <td>...</td>\n",
       "      <td>...</td>\n",
       "      <td>...</td>\n",
       "      <td>...</td>\n",
       "      <td>...</td>\n",
       "      <td>...</td>\n",
       "      <td>...</td>\n",
       "      <td>...</td>\n",
       "      <td>...</td>\n",
       "      <td>...</td>\n",
       "      <td>...</td>\n",
       "      <td>...</td>\n",
       "      <td>...</td>\n",
       "      <td>...</td>\n",
       "      <td>...</td>\n",
       "      <td>...</td>\n",
       "      <td>...</td>\n",
       "      <td>...</td>\n",
       "    </tr>\n",
       "    <tr>\n",
       "      <th>2032</th>\n",
       "      <td>666691418707132416</td>\n",
       "      <td>NaN</td>\n",
       "      <td>NaN</td>\n",
       "      <td>2015-11-17 18:56:35 +0000</td>\n",
       "      <td>&lt;a href=\"http://twitter.com/download/iphone\" r...</td>\n",
       "      <td>This is Christoper. He is a spotted Penne. Can...</td>\n",
       "      <td>NaN</td>\n",
       "      <td>NaN</td>\n",
       "      <td>NaN</td>\n",
       "      <td>https://twitter.com/dog_rates/status/666691418...</td>\n",
       "      <td>...</td>\n",
       "      <td>German_shepherd</td>\n",
       "      <td>0.975401</td>\n",
       "      <td>True</td>\n",
       "      <td>beagle</td>\n",
       "      <td>0.008687</td>\n",
       "      <td>True</td>\n",
       "      <td>bloodhound</td>\n",
       "      <td>0.005394</td>\n",
       "      <td>True</td>\n",
       "      <td>very confidence</td>\n",
       "    </tr>\n",
       "    <tr>\n",
       "      <th>2041</th>\n",
       "      <td>666421158376562688</td>\n",
       "      <td>NaN</td>\n",
       "      <td>NaN</td>\n",
       "      <td>2015-11-17 01:02:40 +0000</td>\n",
       "      <td>&lt;a href=\"http://twitter.com/download/iphone\" r...</td>\n",
       "      <td>*internally screaming* 12/10 https://t.co/YMcr...</td>\n",
       "      <td>NaN</td>\n",
       "      <td>NaN</td>\n",
       "      <td>NaN</td>\n",
       "      <td>https://twitter.com/dog_rates/status/666421158...</td>\n",
       "      <td>...</td>\n",
       "      <td>Blenheim_spaniel</td>\n",
       "      <td>0.906777</td>\n",
       "      <td>True</td>\n",
       "      <td>cocker_spaniel</td>\n",
       "      <td>0.090346</td>\n",
       "      <td>True</td>\n",
       "      <td>Shih-Tzu</td>\n",
       "      <td>0.001117</td>\n",
       "      <td>True</td>\n",
       "      <td>very confidence</td>\n",
       "    </tr>\n",
       "    <tr>\n",
       "      <th>2045</th>\n",
       "      <td>666396247373291520</td>\n",
       "      <td>NaN</td>\n",
       "      <td>NaN</td>\n",
       "      <td>2015-11-16 23:23:41 +0000</td>\n",
       "      <td>&lt;a href=\"http://twitter.com/download/iphone\" r...</td>\n",
       "      <td>Oh goodness. A super rare northeast Qdoba kang...</td>\n",
       "      <td>NaN</td>\n",
       "      <td>NaN</td>\n",
       "      <td>NaN</td>\n",
       "      <td>https://twitter.com/dog_rates/status/666396247...</td>\n",
       "      <td>...</td>\n",
       "      <td>Chihuahua</td>\n",
       "      <td>0.978108</td>\n",
       "      <td>True</td>\n",
       "      <td>toy_terrier</td>\n",
       "      <td>0.009397</td>\n",
       "      <td>True</td>\n",
       "      <td>papillon</td>\n",
       "      <td>0.004577</td>\n",
       "      <td>True</td>\n",
       "      <td>very confidence</td>\n",
       "    </tr>\n",
       "    <tr>\n",
       "      <th>2049</th>\n",
       "      <td>666345417576210432</td>\n",
       "      <td>NaN</td>\n",
       "      <td>NaN</td>\n",
       "      <td>2015-11-16 20:01:42 +0000</td>\n",
       "      <td>&lt;a href=\"http://twitter.com/download/iphone\" r...</td>\n",
       "      <td>Look at this jokester thinking seat belt laws ...</td>\n",
       "      <td>NaN</td>\n",
       "      <td>NaN</td>\n",
       "      <td>NaN</td>\n",
       "      <td>https://twitter.com/dog_rates/status/666345417...</td>\n",
       "      <td>...</td>\n",
       "      <td>golden_retriever</td>\n",
       "      <td>0.858744</td>\n",
       "      <td>True</td>\n",
       "      <td>Chesapeake_Bay_retriever</td>\n",
       "      <td>0.054787</td>\n",
       "      <td>True</td>\n",
       "      <td>Labrador_retriever</td>\n",
       "      <td>0.014241</td>\n",
       "      <td>True</td>\n",
       "      <td>very confidence</td>\n",
       "    </tr>\n",
       "    <tr>\n",
       "      <th>2052</th>\n",
       "      <td>666287406224695296</td>\n",
       "      <td>NaN</td>\n",
       "      <td>NaN</td>\n",
       "      <td>2015-11-16 16:11:11 +0000</td>\n",
       "      <td>&lt;a href=\"http://twitter.com/download/iphone\" r...</td>\n",
       "      <td>This is an Albanian 3 1/2 legged  Episcopalian...</td>\n",
       "      <td>NaN</td>\n",
       "      <td>NaN</td>\n",
       "      <td>NaN</td>\n",
       "      <td>https://twitter.com/dog_rates/status/666287406...</td>\n",
       "      <td>...</td>\n",
       "      <td>Maltese_dog</td>\n",
       "      <td>0.857531</td>\n",
       "      <td>True</td>\n",
       "      <td>toy_poodle</td>\n",
       "      <td>0.063064</td>\n",
       "      <td>True</td>\n",
       "      <td>miniature_poodle</td>\n",
       "      <td>0.025581</td>\n",
       "      <td>True</td>\n",
       "      <td>very confidence</td>\n",
       "    </tr>\n",
       "  </tbody>\n",
       "</table>\n",
       "<p>399 rows × 62 columns</p>\n",
       "</div>"
      ],
      "text/plain": [
       "                tweet_id  in_reply_to_status_id_x  in_reply_to_user_id_x  \\\n",
       "10    890006608113172480                      NaN                    NaN   \n",
       "12    889665388333682689                      NaN                    NaN   \n",
       "13    889638837579907072                      NaN                    NaN   \n",
       "14    889531135344209921                      NaN                    NaN   \n",
       "19    888078434458587136                      NaN                    NaN   \n",
       "...                  ...                      ...                    ...   \n",
       "2032  666691418707132416                      NaN                    NaN   \n",
       "2041  666421158376562688                      NaN                    NaN   \n",
       "2045  666396247373291520                      NaN                    NaN   \n",
       "2049  666345417576210432                      NaN                    NaN   \n",
       "2052  666287406224695296                      NaN                    NaN   \n",
       "\n",
       "                      timestamp  \\\n",
       "10    2017-07-26 00:31:25 +0000   \n",
       "12    2017-07-25 01:55:32 +0000   \n",
       "13    2017-07-25 00:10:02 +0000   \n",
       "14    2017-07-24 17:02:04 +0000   \n",
       "19    2017-07-20 16:49:33 +0000   \n",
       "...                         ...   \n",
       "2032  2015-11-17 18:56:35 +0000   \n",
       "2041  2015-11-17 01:02:40 +0000   \n",
       "2045  2015-11-16 23:23:41 +0000   \n",
       "2049  2015-11-16 20:01:42 +0000   \n",
       "2052  2015-11-16 16:11:11 +0000   \n",
       "\n",
       "                                               source_x  \\\n",
       "10    <a href=\"http://twitter.com/download/iphone\" r...   \n",
       "12    <a href=\"http://twitter.com/download/iphone\" r...   \n",
       "13    <a href=\"http://twitter.com/download/iphone\" r...   \n",
       "14    <a href=\"http://twitter.com/download/iphone\" r...   \n",
       "19    <a href=\"http://twitter.com/download/iphone\" r...   \n",
       "...                                                 ...   \n",
       "2032  <a href=\"http://twitter.com/download/iphone\" r...   \n",
       "2041  <a href=\"http://twitter.com/download/iphone\" r...   \n",
       "2045  <a href=\"http://twitter.com/download/iphone\" r...   \n",
       "2049  <a href=\"http://twitter.com/download/iphone\" r...   \n",
       "2052  <a href=\"http://twitter.com/download/iphone\" r...   \n",
       "\n",
       "                                                   text  retweeted_status_id  \\\n",
       "10    This is Koda. He is a South Australian decksha...                  NaN   \n",
       "12    Here's a puppo that seems to be on the fence a...                  NaN   \n",
       "13    This is Ted. He does his best. Sometimes that'...                  NaN   \n",
       "14    This is Stuart. He's sporting his favorite fan...                  NaN   \n",
       "19    This is Gerald. He was just told he didn't get...                  NaN   \n",
       "...                                                 ...                  ...   \n",
       "2032  This is Christoper. He is a spotted Penne. Can...                  NaN   \n",
       "2041  *internally screaming* 12/10 https://t.co/YMcr...                  NaN   \n",
       "2045  Oh goodness. A super rare northeast Qdoba kang...                  NaN   \n",
       "2049  Look at this jokester thinking seat belt laws ...                  NaN   \n",
       "2052  This is an Albanian 3 1/2 legged  Episcopalian...                  NaN   \n",
       "\n",
       "      retweeted_status_user_id retweeted_status_timestamp  \\\n",
       "10                         NaN                        NaN   \n",
       "12                         NaN                        NaN   \n",
       "13                         NaN                        NaN   \n",
       "14                         NaN                        NaN   \n",
       "19                         NaN                        NaN   \n",
       "...                        ...                        ...   \n",
       "2032                       NaN                        NaN   \n",
       "2041                       NaN                        NaN   \n",
       "2045                       NaN                        NaN   \n",
       "2049                       NaN                        NaN   \n",
       "2052                       NaN                        NaN   \n",
       "\n",
       "                                          expanded_urls  ...  \\\n",
       "10    https://twitter.com/dog_rates/status/890006608...  ...   \n",
       "12    https://twitter.com/dog_rates/status/889665388...  ...   \n",
       "13    https://twitter.com/dog_rates/status/889638837...  ...   \n",
       "14    https://twitter.com/dog_rates/status/889531135...  ...   \n",
       "19    https://twitter.com/dog_rates/status/888078434...  ...   \n",
       "...                                                 ...  ...   \n",
       "2032  https://twitter.com/dog_rates/status/666691418...  ...   \n",
       "2041  https://twitter.com/dog_rates/status/666421158...  ...   \n",
       "2045  https://twitter.com/dog_rates/status/666396247...  ...   \n",
       "2049  https://twitter.com/dog_rates/status/666345417...  ...   \n",
       "2052  https://twitter.com/dog_rates/status/666287406...  ...   \n",
       "\n",
       "                    p1   p1_conf p1_dog                        p2   p2_conf  \\\n",
       "10             Samoyed  0.957979   True                Pomeranian  0.013884   \n",
       "12            Pembroke  0.966327   True                  Cardigan  0.027356   \n",
       "13      French_bulldog  0.991650   True                     boxer  0.002129   \n",
       "14    golden_retriever  0.953442   True        Labrador_retriever  0.013834   \n",
       "19      French_bulldog  0.995026   True                       pug  0.000932   \n",
       "...                ...       ...    ...                       ...       ...   \n",
       "2032   German_shepherd  0.975401   True                    beagle  0.008687   \n",
       "2041  Blenheim_spaniel  0.906777   True            cocker_spaniel  0.090346   \n",
       "2045         Chihuahua  0.978108   True               toy_terrier  0.009397   \n",
       "2049  golden_retriever  0.858744   True  Chesapeake_Bay_retriever  0.054787   \n",
       "2052       Maltese_dog  0.857531   True                toy_poodle  0.063064   \n",
       "\n",
       "     p2_dog                         p3   p3_conf p3_dog    p1_conf_level  \n",
       "10     True                       chow  0.008167   True  very confidence  \n",
       "12     True                    basenji  0.004633   True  very confidence  \n",
       "13     True  Staffordshire_bullterrier  0.001498   True  very confidence  \n",
       "14     True                    redbone  0.007958   True  very confidence  \n",
       "19     True               bull_mastiff  0.000903   True  very confidence  \n",
       "...     ...                        ...       ...    ...              ...  \n",
       "2032   True                 bloodhound  0.005394   True  very confidence  \n",
       "2041   True                   Shih-Tzu  0.001117   True  very confidence  \n",
       "2045   True                   papillon  0.004577   True  very confidence  \n",
       "2049   True         Labrador_retriever  0.014241   True  very confidence  \n",
       "2052   True           miniature_poodle  0.025581   True  very confidence  \n",
       "\n",
       "[399 rows x 62 columns]"
      ]
     },
     "execution_count": 653,
     "metadata": {},
     "output_type": "execute_result"
    }
   ],
   "source": [
    "combined2.loc[(combined2['p1_conf_level']=='very confidence') & combined2['p1_dog'].str.contains('True')]"
   ]
  },
  {
   "cell_type": "code",
   "execution_count": null,
   "metadata": {
    "scrolled": true
   },
   "outputs": [],
   "source": []
  },
  {
   "cell_type": "code",
   "execution_count": 654,
   "metadata": {
    "scrolled": true
   },
   "outputs": [],
   "source": [
    "## query the row with 'True' in column (p1_dog) and 'very confiden'&'confidence' in column (p1_conf_level)"
   ]
  },
  {
   "cell_type": "code",
   "execution_count": 655,
   "metadata": {
    "scrolled": true
   },
   "outputs": [
    {
     "data": {
      "text/html": [
       "<div>\n",
       "<style scoped>\n",
       "    .dataframe tbody tr th:only-of-type {\n",
       "        vertical-align: middle;\n",
       "    }\n",
       "\n",
       "    .dataframe tbody tr th {\n",
       "        vertical-align: top;\n",
       "    }\n",
       "\n",
       "    .dataframe thead th {\n",
       "        text-align: right;\n",
       "    }\n",
       "</style>\n",
       "<table border=\"1\" class=\"dataframe\">\n",
       "  <thead>\n",
       "    <tr style=\"text-align: right;\">\n",
       "      <th></th>\n",
       "      <th>tweet_id</th>\n",
       "      <th>in_reply_to_status_id_x</th>\n",
       "      <th>in_reply_to_user_id_x</th>\n",
       "      <th>timestamp</th>\n",
       "      <th>source_x</th>\n",
       "      <th>text</th>\n",
       "      <th>retweeted_status_id</th>\n",
       "      <th>retweeted_status_user_id</th>\n",
       "      <th>retweeted_status_timestamp</th>\n",
       "      <th>expanded_urls</th>\n",
       "      <th>...</th>\n",
       "      <th>p1</th>\n",
       "      <th>p1_conf</th>\n",
       "      <th>p1_dog</th>\n",
       "      <th>p2</th>\n",
       "      <th>p2_conf</th>\n",
       "      <th>p2_dog</th>\n",
       "      <th>p3</th>\n",
       "      <th>p3_conf</th>\n",
       "      <th>p3_dog</th>\n",
       "      <th>p1_conf_level</th>\n",
       "    </tr>\n",
       "  </thead>\n",
       "  <tbody>\n",
       "    <tr>\n",
       "      <th>2</th>\n",
       "      <td>891815181378084864</td>\n",
       "      <td>NaN</td>\n",
       "      <td>NaN</td>\n",
       "      <td>2017-07-31 00:18:03 +0000</td>\n",
       "      <td>&lt;a href=\"http://twitter.com/download/iphone\" r...</td>\n",
       "      <td>This is Archie. He is a rare Norwegian Pouncin...</td>\n",
       "      <td>NaN</td>\n",
       "      <td>NaN</td>\n",
       "      <td>NaN</td>\n",
       "      <td>https://twitter.com/dog_rates/status/891815181...</td>\n",
       "      <td>...</td>\n",
       "      <td>Chihuahua</td>\n",
       "      <td>0.716012</td>\n",
       "      <td>True</td>\n",
       "      <td>malamute</td>\n",
       "      <td>0.078253</td>\n",
       "      <td>True</td>\n",
       "      <td>kelpie</td>\n",
       "      <td>0.031379</td>\n",
       "      <td>True</td>\n",
       "      <td>confidence</td>\n",
       "    </tr>\n",
       "    <tr>\n",
       "      <th>4</th>\n",
       "      <td>891327558926688256</td>\n",
       "      <td>NaN</td>\n",
       "      <td>NaN</td>\n",
       "      <td>2017-07-29 16:00:24 +0000</td>\n",
       "      <td>&lt;a href=\"http://twitter.com/download/iphone\" r...</td>\n",
       "      <td>This is Franklin. He would like you to stop ca...</td>\n",
       "      <td>NaN</td>\n",
       "      <td>NaN</td>\n",
       "      <td>NaN</td>\n",
       "      <td>https://twitter.com/dog_rates/status/891327558...</td>\n",
       "      <td>...</td>\n",
       "      <td>basset</td>\n",
       "      <td>0.555712</td>\n",
       "      <td>True</td>\n",
       "      <td>English_springer</td>\n",
       "      <td>0.225770</td>\n",
       "      <td>True</td>\n",
       "      <td>German_short-haired_pointer</td>\n",
       "      <td>0.175219</td>\n",
       "      <td>True</td>\n",
       "      <td>confidence</td>\n",
       "    </tr>\n",
       "    <tr>\n",
       "      <th>7</th>\n",
       "      <td>890729181411237888</td>\n",
       "      <td>NaN</td>\n",
       "      <td>NaN</td>\n",
       "      <td>2017-07-28 00:22:40 +0000</td>\n",
       "      <td>&lt;a href=\"http://twitter.com/download/iphone\" r...</td>\n",
       "      <td>When you watch your owner call another dog a g...</td>\n",
       "      <td>NaN</td>\n",
       "      <td>NaN</td>\n",
       "      <td>NaN</td>\n",
       "      <td>https://twitter.com/dog_rates/status/890729181...</td>\n",
       "      <td>...</td>\n",
       "      <td>Pomeranian</td>\n",
       "      <td>0.566142</td>\n",
       "      <td>True</td>\n",
       "      <td>Eskimo_dog</td>\n",
       "      <td>0.178406</td>\n",
       "      <td>True</td>\n",
       "      <td>Pembroke</td>\n",
       "      <td>0.076507</td>\n",
       "      <td>True</td>\n",
       "      <td>confidence</td>\n",
       "    </tr>\n",
       "    <tr>\n",
       "      <th>9</th>\n",
       "      <td>890240255349198849</td>\n",
       "      <td>NaN</td>\n",
       "      <td>NaN</td>\n",
       "      <td>2017-07-26 15:59:51 +0000</td>\n",
       "      <td>&lt;a href=\"http://twitter.com/download/iphone\" r...</td>\n",
       "      <td>This is Cassie. She is a college pup. Studying...</td>\n",
       "      <td>NaN</td>\n",
       "      <td>NaN</td>\n",
       "      <td>NaN</td>\n",
       "      <td>https://twitter.com/dog_rates/status/890240255...</td>\n",
       "      <td>...</td>\n",
       "      <td>Pembroke</td>\n",
       "      <td>0.511319</td>\n",
       "      <td>True</td>\n",
       "      <td>Cardigan</td>\n",
       "      <td>0.451038</td>\n",
       "      <td>True</td>\n",
       "      <td>Chihuahua</td>\n",
       "      <td>0.029248</td>\n",
       "      <td>True</td>\n",
       "      <td>confidence</td>\n",
       "    </tr>\n",
       "    <tr>\n",
       "      <th>10</th>\n",
       "      <td>890006608113172480</td>\n",
       "      <td>NaN</td>\n",
       "      <td>NaN</td>\n",
       "      <td>2017-07-26 00:31:25 +0000</td>\n",
       "      <td>&lt;a href=\"http://twitter.com/download/iphone\" r...</td>\n",
       "      <td>This is Koda. He is a South Australian decksha...</td>\n",
       "      <td>NaN</td>\n",
       "      <td>NaN</td>\n",
       "      <td>NaN</td>\n",
       "      <td>https://twitter.com/dog_rates/status/890006608...</td>\n",
       "      <td>...</td>\n",
       "      <td>Samoyed</td>\n",
       "      <td>0.957979</td>\n",
       "      <td>True</td>\n",
       "      <td>Pomeranian</td>\n",
       "      <td>0.013884</td>\n",
       "      <td>True</td>\n",
       "      <td>chow</td>\n",
       "      <td>0.008167</td>\n",
       "      <td>True</td>\n",
       "      <td>very confidence</td>\n",
       "    </tr>\n",
       "    <tr>\n",
       "      <th>...</th>\n",
       "      <td>...</td>\n",
       "      <td>...</td>\n",
       "      <td>...</td>\n",
       "      <td>...</td>\n",
       "      <td>...</td>\n",
       "      <td>...</td>\n",
       "      <td>...</td>\n",
       "      <td>...</td>\n",
       "      <td>...</td>\n",
       "      <td>...</td>\n",
       "      <td>...</td>\n",
       "      <td>...</td>\n",
       "      <td>...</td>\n",
       "      <td>...</td>\n",
       "      <td>...</td>\n",
       "      <td>...</td>\n",
       "      <td>...</td>\n",
       "      <td>...</td>\n",
       "      <td>...</td>\n",
       "      <td>...</td>\n",
       "      <td>...</td>\n",
       "    </tr>\n",
       "    <tr>\n",
       "      <th>2065</th>\n",
       "      <td>666055525042405380</td>\n",
       "      <td>NaN</td>\n",
       "      <td>NaN</td>\n",
       "      <td>2015-11-16 00:49:46 +0000</td>\n",
       "      <td>&lt;a href=\"http://twitter.com/download/iphone\" r...</td>\n",
       "      <td>Here is a Siberian heavily armored polar bear ...</td>\n",
       "      <td>NaN</td>\n",
       "      <td>NaN</td>\n",
       "      <td>NaN</td>\n",
       "      <td>https://twitter.com/dog_rates/status/666055525...</td>\n",
       "      <td>...</td>\n",
       "      <td>chow</td>\n",
       "      <td>0.692517</td>\n",
       "      <td>True</td>\n",
       "      <td>Tibetan_mastiff</td>\n",
       "      <td>0.058279</td>\n",
       "      <td>True</td>\n",
       "      <td>fur_coat</td>\n",
       "      <td>0.054449</td>\n",
       "      <td>False</td>\n",
       "      <td>confidence</td>\n",
       "    </tr>\n",
       "    <tr>\n",
       "      <th>2067</th>\n",
       "      <td>666050758794694657</td>\n",
       "      <td>NaN</td>\n",
       "      <td>NaN</td>\n",
       "      <td>2015-11-16 00:30:50 +0000</td>\n",
       "      <td>&lt;a href=\"http://twitter.com/download/iphone\" r...</td>\n",
       "      <td>This is a truly beautiful English Wilson Staff...</td>\n",
       "      <td>NaN</td>\n",
       "      <td>NaN</td>\n",
       "      <td>NaN</td>\n",
       "      <td>https://twitter.com/dog_rates/status/666050758...</td>\n",
       "      <td>...</td>\n",
       "      <td>Bernese_mountain_dog</td>\n",
       "      <td>0.651137</td>\n",
       "      <td>True</td>\n",
       "      <td>English_springer</td>\n",
       "      <td>0.263788</td>\n",
       "      <td>True</td>\n",
       "      <td>Greater_Swiss_Mountain_dog</td>\n",
       "      <td>0.016199</td>\n",
       "      <td>True</td>\n",
       "      <td>confidence</td>\n",
       "    </tr>\n",
       "    <tr>\n",
       "      <th>2068</th>\n",
       "      <td>666049248165822465</td>\n",
       "      <td>NaN</td>\n",
       "      <td>NaN</td>\n",
       "      <td>2015-11-16 00:24:50 +0000</td>\n",
       "      <td>&lt;a href=\"http://twitter.com/download/iphone\" r...</td>\n",
       "      <td>Here we have a 1949 1st generation vulpix. Enj...</td>\n",
       "      <td>NaN</td>\n",
       "      <td>NaN</td>\n",
       "      <td>NaN</td>\n",
       "      <td>https://twitter.com/dog_rates/status/666049248...</td>\n",
       "      <td>...</td>\n",
       "      <td>miniature_pinscher</td>\n",
       "      <td>0.560311</td>\n",
       "      <td>True</td>\n",
       "      <td>Rottweiler</td>\n",
       "      <td>0.243682</td>\n",
       "      <td>True</td>\n",
       "      <td>Doberman</td>\n",
       "      <td>0.154629</td>\n",
       "      <td>True</td>\n",
       "      <td>confidence</td>\n",
       "    </tr>\n",
       "    <tr>\n",
       "      <th>2070</th>\n",
       "      <td>666033412701032449</td>\n",
       "      <td>NaN</td>\n",
       "      <td>NaN</td>\n",
       "      <td>2015-11-15 23:21:54 +0000</td>\n",
       "      <td>&lt;a href=\"http://twitter.com/download/iphone\" r...</td>\n",
       "      <td>Here is a very happy pup. Big fan of well-main...</td>\n",
       "      <td>NaN</td>\n",
       "      <td>NaN</td>\n",
       "      <td>NaN</td>\n",
       "      <td>https://twitter.com/dog_rates/status/666033412...</td>\n",
       "      <td>...</td>\n",
       "      <td>German_shepherd</td>\n",
       "      <td>0.596461</td>\n",
       "      <td>True</td>\n",
       "      <td>malinois</td>\n",
       "      <td>0.138584</td>\n",
       "      <td>True</td>\n",
       "      <td>bloodhound</td>\n",
       "      <td>0.116197</td>\n",
       "      <td>True</td>\n",
       "      <td>confidence</td>\n",
       "    </tr>\n",
       "    <tr>\n",
       "      <th>2071</th>\n",
       "      <td>666029285002620928</td>\n",
       "      <td>NaN</td>\n",
       "      <td>NaN</td>\n",
       "      <td>2015-11-15 23:05:30 +0000</td>\n",
       "      <td>&lt;a href=\"http://twitter.com/download/iphone\" r...</td>\n",
       "      <td>This is a western brown Mitsubishi terrier. Up...</td>\n",
       "      <td>NaN</td>\n",
       "      <td>NaN</td>\n",
       "      <td>NaN</td>\n",
       "      <td>https://twitter.com/dog_rates/status/666029285...</td>\n",
       "      <td>...</td>\n",
       "      <td>redbone</td>\n",
       "      <td>0.506826</td>\n",
       "      <td>True</td>\n",
       "      <td>miniature_pinscher</td>\n",
       "      <td>0.074192</td>\n",
       "      <td>True</td>\n",
       "      <td>Rhodesian_ridgeback</td>\n",
       "      <td>0.072010</td>\n",
       "      <td>True</td>\n",
       "      <td>confidence</td>\n",
       "    </tr>\n",
       "  </tbody>\n",
       "</table>\n",
       "<p>972 rows × 62 columns</p>\n",
       "</div>"
      ],
      "text/plain": [
       "                tweet_id  in_reply_to_status_id_x  in_reply_to_user_id_x  \\\n",
       "2     891815181378084864                      NaN                    NaN   \n",
       "4     891327558926688256                      NaN                    NaN   \n",
       "7     890729181411237888                      NaN                    NaN   \n",
       "9     890240255349198849                      NaN                    NaN   \n",
       "10    890006608113172480                      NaN                    NaN   \n",
       "...                  ...                      ...                    ...   \n",
       "2065  666055525042405380                      NaN                    NaN   \n",
       "2067  666050758794694657                      NaN                    NaN   \n",
       "2068  666049248165822465                      NaN                    NaN   \n",
       "2070  666033412701032449                      NaN                    NaN   \n",
       "2071  666029285002620928                      NaN                    NaN   \n",
       "\n",
       "                      timestamp  \\\n",
       "2     2017-07-31 00:18:03 +0000   \n",
       "4     2017-07-29 16:00:24 +0000   \n",
       "7     2017-07-28 00:22:40 +0000   \n",
       "9     2017-07-26 15:59:51 +0000   \n",
       "10    2017-07-26 00:31:25 +0000   \n",
       "...                         ...   \n",
       "2065  2015-11-16 00:49:46 +0000   \n",
       "2067  2015-11-16 00:30:50 +0000   \n",
       "2068  2015-11-16 00:24:50 +0000   \n",
       "2070  2015-11-15 23:21:54 +0000   \n",
       "2071  2015-11-15 23:05:30 +0000   \n",
       "\n",
       "                                               source_x  \\\n",
       "2     <a href=\"http://twitter.com/download/iphone\" r...   \n",
       "4     <a href=\"http://twitter.com/download/iphone\" r...   \n",
       "7     <a href=\"http://twitter.com/download/iphone\" r...   \n",
       "9     <a href=\"http://twitter.com/download/iphone\" r...   \n",
       "10    <a href=\"http://twitter.com/download/iphone\" r...   \n",
       "...                                                 ...   \n",
       "2065  <a href=\"http://twitter.com/download/iphone\" r...   \n",
       "2067  <a href=\"http://twitter.com/download/iphone\" r...   \n",
       "2068  <a href=\"http://twitter.com/download/iphone\" r...   \n",
       "2070  <a href=\"http://twitter.com/download/iphone\" r...   \n",
       "2071  <a href=\"http://twitter.com/download/iphone\" r...   \n",
       "\n",
       "                                                   text  retweeted_status_id  \\\n",
       "2     This is Archie. He is a rare Norwegian Pouncin...                  NaN   \n",
       "4     This is Franklin. He would like you to stop ca...                  NaN   \n",
       "7     When you watch your owner call another dog a g...                  NaN   \n",
       "9     This is Cassie. She is a college pup. Studying...                  NaN   \n",
       "10    This is Koda. He is a South Australian decksha...                  NaN   \n",
       "...                                                 ...                  ...   \n",
       "2065  Here is a Siberian heavily armored polar bear ...                  NaN   \n",
       "2067  This is a truly beautiful English Wilson Staff...                  NaN   \n",
       "2068  Here we have a 1949 1st generation vulpix. Enj...                  NaN   \n",
       "2070  Here is a very happy pup. Big fan of well-main...                  NaN   \n",
       "2071  This is a western brown Mitsubishi terrier. Up...                  NaN   \n",
       "\n",
       "      retweeted_status_user_id retweeted_status_timestamp  \\\n",
       "2                          NaN                        NaN   \n",
       "4                          NaN                        NaN   \n",
       "7                          NaN                        NaN   \n",
       "9                          NaN                        NaN   \n",
       "10                         NaN                        NaN   \n",
       "...                        ...                        ...   \n",
       "2065                       NaN                        NaN   \n",
       "2067                       NaN                        NaN   \n",
       "2068                       NaN                        NaN   \n",
       "2070                       NaN                        NaN   \n",
       "2071                       NaN                        NaN   \n",
       "\n",
       "                                          expanded_urls  ...  \\\n",
       "2     https://twitter.com/dog_rates/status/891815181...  ...   \n",
       "4     https://twitter.com/dog_rates/status/891327558...  ...   \n",
       "7     https://twitter.com/dog_rates/status/890729181...  ...   \n",
       "9     https://twitter.com/dog_rates/status/890240255...  ...   \n",
       "10    https://twitter.com/dog_rates/status/890006608...  ...   \n",
       "...                                                 ...  ...   \n",
       "2065  https://twitter.com/dog_rates/status/666055525...  ...   \n",
       "2067  https://twitter.com/dog_rates/status/666050758...  ...   \n",
       "2068  https://twitter.com/dog_rates/status/666049248...  ...   \n",
       "2070  https://twitter.com/dog_rates/status/666033412...  ...   \n",
       "2071  https://twitter.com/dog_rates/status/666029285...  ...   \n",
       "\n",
       "                        p1   p1_conf p1_dog                  p2   p2_conf  \\\n",
       "2                Chihuahua  0.716012   True            malamute  0.078253   \n",
       "4                   basset  0.555712   True    English_springer  0.225770   \n",
       "7               Pomeranian  0.566142   True          Eskimo_dog  0.178406   \n",
       "9                 Pembroke  0.511319   True            Cardigan  0.451038   \n",
       "10                 Samoyed  0.957979   True          Pomeranian  0.013884   \n",
       "...                    ...       ...    ...                 ...       ...   \n",
       "2065                  chow  0.692517   True     Tibetan_mastiff  0.058279   \n",
       "2067  Bernese_mountain_dog  0.651137   True    English_springer  0.263788   \n",
       "2068    miniature_pinscher  0.560311   True          Rottweiler  0.243682   \n",
       "2070       German_shepherd  0.596461   True            malinois  0.138584   \n",
       "2071               redbone  0.506826   True  miniature_pinscher  0.074192   \n",
       "\n",
       "     p2_dog                           p3   p3_conf p3_dog    p1_conf_level  \n",
       "2      True                       kelpie  0.031379   True       confidence  \n",
       "4      True  German_short-haired_pointer  0.175219   True       confidence  \n",
       "7      True                     Pembroke  0.076507   True       confidence  \n",
       "9      True                    Chihuahua  0.029248   True       confidence  \n",
       "10     True                         chow  0.008167   True  very confidence  \n",
       "...     ...                          ...       ...    ...              ...  \n",
       "2065   True                     fur_coat  0.054449  False       confidence  \n",
       "2067   True   Greater_Swiss_Mountain_dog  0.016199   True       confidence  \n",
       "2068   True                     Doberman  0.154629   True       confidence  \n",
       "2070   True                   bloodhound  0.116197   True       confidence  \n",
       "2071   True          Rhodesian_ridgeback  0.072010   True       confidence  \n",
       "\n",
       "[972 rows x 62 columns]"
      ]
     },
     "execution_count": 655,
     "metadata": {},
     "output_type": "execute_result"
    }
   ],
   "source": [
    "combined2.loc[combined2['p1_conf_level'].isin(['very confidence','confidence'])&combined2['p1_dog'].str.contains('True')] "
   ]
  },
  {
   "cell_type": "code",
   "execution_count": null,
   "metadata": {
    "scrolled": true
   },
   "outputs": [],
   "source": []
  },
  {
   "cell_type": "code",
   "execution_count": 656,
   "metadata": {
    "scrolled": true
   },
   "outputs": [],
   "source": [
    "combined3=combined2.loc[combined2['p1_conf_level'].isin(['very confidence','confidence'])&combined2['p1_dog'].str.contains('True')] "
   ]
  },
  {
   "cell_type": "markdown",
   "metadata": {},
   "source": [
    "combined3.shape"
   ]
  },
  {
   "cell_type": "code",
   "execution_count": 657,
   "metadata": {
    "scrolled": true
   },
   "outputs": [
    {
     "data": {
      "text/plain": [
       "(972, 62)"
      ]
     },
     "execution_count": 657,
     "metadata": {},
     "output_type": "execute_result"
    }
   ],
   "source": [
    "combined3.shape"
   ]
  },
  {
   "cell_type": "code",
   "execution_count": null,
   "metadata": {
    "scrolled": true
   },
   "outputs": [],
   "source": []
  },
  {
   "cell_type": "markdown",
   "metadata": {},
   "source": [
    "## more artical reference for data selecting \n",
    "\n",
    "# select row from two differnet column [str]\n",
    "\n",
    "# please refer\n",
    "# https://stackoverflow.com/questions/17071871/how-to-select-rows-from-a-dataframe-based-on-column-values\n",
    "\n",
    "\n",
    "## select row include keyword please refer url\n",
    "###  https://stackoverflow.com/questions/11350770/select-by-partial-string-from-a-pandas-dataframe"
   ]
  },
  {
   "cell_type": "code",
   "execution_count": null,
   "metadata": {
    "scrolled": true
   },
   "outputs": [],
   "source": []
  },
  {
   "cell_type": "code",
   "execution_count": 658,
   "metadata": {
    "scrolled": true
   },
   "outputs": [
    {
     "data": {
      "text/plain": [
       "tweet_id                      int64\n",
       "in_reply_to_status_id_x     float64\n",
       "in_reply_to_user_id_x       float64\n",
       "timestamp                    object\n",
       "source_x                     object\n",
       "                             ...   \n",
       "p2_dog                         bool\n",
       "p3                           object\n",
       "p3_conf                     float64\n",
       "p3_dog                         bool\n",
       "p1_conf_level              category\n",
       "Length: 62, dtype: object"
      ]
     },
     "execution_count": 658,
     "metadata": {},
     "output_type": "execute_result"
    }
   ],
   "source": [
    "combined3.dtypes"
   ]
  },
  {
   "cell_type": "code",
   "execution_count": null,
   "metadata": {
    "scrolled": true
   },
   "outputs": [],
   "source": []
  },
  {
   "cell_type": "code",
   "execution_count": 659,
   "metadata": {
    "scrolled": true
   },
   "outputs": [
    {
     "data": {
      "text/plain": [
       "True    972\n",
       "Name: p1_dog, dtype: int64"
      ]
     },
     "execution_count": 659,
     "metadata": {},
     "output_type": "execute_result"
    }
   ],
   "source": [
    "combined3.p1_dog.value_counts()"
   ]
  },
  {
   "cell_type": "code",
   "execution_count": 660,
   "metadata": {
    "scrolled": true
   },
   "outputs": [
    {
     "data": {
      "text/plain": [
       "confidence          573\n",
       "very confidence     399\n",
       "fair confidence       0\n",
       "poor confidence       0\n",
       "Name: p1_conf_level, dtype: int64"
      ]
     },
     "execution_count": 660,
     "metadata": {},
     "output_type": "execute_result"
    }
   ],
   "source": [
    "combined3.p1_conf_level.value_counts()"
   ]
  },
  {
   "cell_type": "code",
   "execution_count": 661,
   "metadata": {
    "scrolled": true
   },
   "outputs": [
    {
     "data": {
      "text/plain": [
       "10     963\n",
       "80       2\n",
       "110      1\n",
       "70       1\n",
       "50       1\n",
       "40       1\n",
       "11       1\n",
       "7        1\n",
       "2        1\n",
       "Name: rating_denominator, dtype: int64"
      ]
     },
     "execution_count": 661,
     "metadata": {},
     "output_type": "execute_result"
    }
   ],
   "source": [
    "combined3.rating_denominator.value_counts()"
   ]
  },
  {
   "cell_type": "code",
   "execution_count": 662,
   "metadata": {
    "scrolled": true
   },
   "outputs": [
    {
     "data": {
      "text/plain": [
       "12     267\n",
       "11     209\n",
       "10     201\n",
       "13     153\n",
       "9       58\n",
       "8       31\n",
       "14      16\n",
       "7       13\n",
       "5        9\n",
       "6        3\n",
       "2        1\n",
       "3        1\n",
       "4        1\n",
       "121      1\n",
       "88       1\n",
       "24       1\n",
       "27       1\n",
       "44       1\n",
       "60       1\n",
       "80       1\n",
       "84       1\n",
       "1        1\n",
       "Name: rating_numerator, dtype: int64"
      ]
     },
     "execution_count": 662,
     "metadata": {},
     "output_type": "execute_result"
    }
   ],
   "source": [
    "combined3.rating_numerator.value_counts()"
   ]
  },
  {
   "cell_type": "code",
   "execution_count": null,
   "metadata": {
    "scrolled": true
   },
   "outputs": [],
   "source": []
  },
  {
   "cell_type": "code",
   "execution_count": 663,
   "metadata": {
    "scrolled": true
   },
   "outputs": [],
   "source": [
    "# filter those data in a range that make sense \n",
    "\n",
    "## 1. remove the rating_numerator that with large number that way beyond normal\n",
    "## 2. make sure all rating_denominator equal 10"
   ]
  },
  {
   "cell_type": "code",
   "execution_count": 664,
   "metadata": {
    "scrolled": true
   },
   "outputs": [],
   "source": [
    "combined4=combined3[(combined3['rating_numerator'] < 20) & (combined3['rating_denominator']==10)]"
   ]
  },
  {
   "cell_type": "code",
   "execution_count": 665,
   "metadata": {
    "scrolled": true
   },
   "outputs": [
    {
     "data": {
      "text/plain": [
       "10    962\n",
       "Name: rating_denominator, dtype: int64"
      ]
     },
     "execution_count": 665,
     "metadata": {},
     "output_type": "execute_result"
    }
   ],
   "source": [
    "combined4.rating_denominator.value_counts()"
   ]
  },
  {
   "cell_type": "code",
   "execution_count": 666,
   "metadata": {
    "scrolled": true
   },
   "outputs": [
    {
     "data": {
      "text/plain": [
       "12    267\n",
       "11    209\n",
       "10    201\n",
       "13    153\n",
       "9      57\n",
       "8      31\n",
       "14     16\n",
       "7      13\n",
       "5       9\n",
       "6       3\n",
       "4       1\n",
       "3       1\n",
       "2       1\n",
       "Name: rating_numerator, dtype: int64"
      ]
     },
     "execution_count": 666,
     "metadata": {},
     "output_type": "execute_result"
    }
   ],
   "source": [
    "combined4.rating_numerator.value_counts()"
   ]
  },
  {
   "cell_type": "code",
   "execution_count": null,
   "metadata": {
    "scrolled": true
   },
   "outputs": [],
   "source": []
  },
  {
   "cell_type": "code",
   "execution_count": 667,
   "metadata": {},
   "outputs": [
    {
     "data": {
      "text/html": [
       "<div>\n",
       "<style scoped>\n",
       "    .dataframe tbody tr th:only-of-type {\n",
       "        vertical-align: middle;\n",
       "    }\n",
       "\n",
       "    .dataframe tbody tr th {\n",
       "        vertical-align: top;\n",
       "    }\n",
       "\n",
       "    .dataframe thead th {\n",
       "        text-align: right;\n",
       "    }\n",
       "</style>\n",
       "<table border=\"1\" class=\"dataframe\">\n",
       "  <thead>\n",
       "    <tr style=\"text-align: right;\">\n",
       "      <th></th>\n",
       "      <th>tweet_id</th>\n",
       "      <th>in_reply_to_status_id_x</th>\n",
       "      <th>in_reply_to_user_id_x</th>\n",
       "      <th>retweeted_status_id</th>\n",
       "      <th>retweeted_status_user_id</th>\n",
       "      <th>rating_numerator</th>\n",
       "      <th>rating_denominator</th>\n",
       "      <th>rating_denominator_1</th>\n",
       "      <th>in_reply_to_status_id_y</th>\n",
       "      <th>geo</th>\n",
       "      <th>...</th>\n",
       "      <th>contributors</th>\n",
       "      <th>retweet_count</th>\n",
       "      <th>favorite_count</th>\n",
       "      <th>possibly_sensitive_appealable</th>\n",
       "      <th>quoted_status_id</th>\n",
       "      <th>quoted_status_id_str</th>\n",
       "      <th>img_num</th>\n",
       "      <th>p1_conf</th>\n",
       "      <th>p2_conf</th>\n",
       "      <th>p3_conf</th>\n",
       "    </tr>\n",
       "  </thead>\n",
       "  <tbody>\n",
       "    <tr>\n",
       "      <th>count</th>\n",
       "      <td>9.620000e+02</td>\n",
       "      <td>8.000000e+00</td>\n",
       "      <td>8.000000e+00</td>\n",
       "      <td>3.500000e+01</td>\n",
       "      <td>3.500000e+01</td>\n",
       "      <td>962.000000</td>\n",
       "      <td>962.0</td>\n",
       "      <td>962.0</td>\n",
       "      <td>8.000000e+00</td>\n",
       "      <td>0.0</td>\n",
       "      <td>...</td>\n",
       "      <td>0.0</td>\n",
       "      <td>962.000000</td>\n",
       "      <td>962.000000</td>\n",
       "      <td>962.0</td>\n",
       "      <td>0.0</td>\n",
       "      <td>0.0</td>\n",
       "      <td>962.000000</td>\n",
       "      <td>962.000000</td>\n",
       "      <td>962.000000</td>\n",
       "      <td>9.620000e+02</td>\n",
       "    </tr>\n",
       "    <tr>\n",
       "      <th>mean</th>\n",
       "      <td>7.474517e+17</td>\n",
       "      <td>7.072182e+17</td>\n",
       "      <td>4.196984e+09</td>\n",
       "      <td>7.629289e+17</td>\n",
       "      <td>4.112165e+09</td>\n",
       "      <td>11.070686</td>\n",
       "      <td>10.0</td>\n",
       "      <td>10.0</td>\n",
       "      <td>7.072182e+17</td>\n",
       "      <td>NaN</td>\n",
       "      <td>...</td>\n",
       "      <td>NaN</td>\n",
       "      <td>3259.379418</td>\n",
       "      <td>9750.027027</td>\n",
       "      <td>0.0</td>\n",
       "      <td>NaN</td>\n",
       "      <td>NaN</td>\n",
       "      <td>1.280665</td>\n",
       "      <td>0.778559</td>\n",
       "      <td>0.111436</td>\n",
       "      <td>3.544327e-02</td>\n",
       "    </tr>\n",
       "    <tr>\n",
       "      <th>std</th>\n",
       "      <td>6.946847e+16</td>\n",
       "      <td>6.348216e+16</td>\n",
       "      <td>0.000000e+00</td>\n",
       "      <td>4.721280e+16</td>\n",
       "      <td>5.017948e+08</td>\n",
       "      <td>1.621652</td>\n",
       "      <td>0.0</td>\n",
       "      <td>0.0</td>\n",
       "      <td>6.348216e+16</td>\n",
       "      <td>NaN</td>\n",
       "      <td>...</td>\n",
       "      <td>NaN</td>\n",
       "      <td>5332.807197</td>\n",
       "      <td>12769.123967</td>\n",
       "      <td>0.0</td>\n",
       "      <td>NaN</td>\n",
       "      <td>NaN</td>\n",
       "      <td>0.654942</td>\n",
       "      <td>0.157192</td>\n",
       "      <td>0.100834</td>\n",
       "      <td>3.659976e-02</td>\n",
       "    </tr>\n",
       "    <tr>\n",
       "      <th>min</th>\n",
       "      <td>6.660293e+17</td>\n",
       "      <td>6.671522e+17</td>\n",
       "      <td>4.196984e+09</td>\n",
       "      <td>6.675094e+17</td>\n",
       "      <td>1.228326e+09</td>\n",
       "      <td>2.000000</td>\n",
       "      <td>10.0</td>\n",
       "      <td>10.0</td>\n",
       "      <td>6.671522e+17</td>\n",
       "      <td>NaN</td>\n",
       "      <td>...</td>\n",
       "      <td>NaN</td>\n",
       "      <td>41.000000</td>\n",
       "      <td>0.000000</td>\n",
       "      <td>0.0</td>\n",
       "      <td>NaN</td>\n",
       "      <td>NaN</td>\n",
       "      <td>1.000000</td>\n",
       "      <td>0.500373</td>\n",
       "      <td>0.000023</td>\n",
       "      <td>2.160900e-07</td>\n",
       "    </tr>\n",
       "    <tr>\n",
       "      <th>25%</th>\n",
       "      <td>6.808956e+17</td>\n",
       "      <td>6.749482e+17</td>\n",
       "      <td>4.196984e+09</td>\n",
       "      <td>7.363268e+17</td>\n",
       "      <td>4.196984e+09</td>\n",
       "      <td>10.000000</td>\n",
       "      <td>10.0</td>\n",
       "      <td>10.0</td>\n",
       "      <td>6.749482e+17</td>\n",
       "      <td>NaN</td>\n",
       "      <td>...</td>\n",
       "      <td>NaN</td>\n",
       "      <td>761.250000</td>\n",
       "      <td>2216.750000</td>\n",
       "      <td>0.0</td>\n",
       "      <td>NaN</td>\n",
       "      <td>NaN</td>\n",
       "      <td>1.000000</td>\n",
       "      <td>0.633452</td>\n",
       "      <td>0.028346</td>\n",
       "      <td>6.723728e-03</td>\n",
       "    </tr>\n",
       "    <tr>\n",
       "      <th>50%</th>\n",
       "      <td>7.326560e+17</td>\n",
       "      <td>6.799152e+17</td>\n",
       "      <td>4.196984e+09</td>\n",
       "      <td>7.790561e+17</td>\n",
       "      <td>4.196984e+09</td>\n",
       "      <td>11.000000</td>\n",
       "      <td>10.0</td>\n",
       "      <td>10.0</td>\n",
       "      <td>6.799152e+17</td>\n",
       "      <td>NaN</td>\n",
       "      <td>...</td>\n",
       "      <td>NaN</td>\n",
       "      <td>1737.500000</td>\n",
       "      <td>4981.500000</td>\n",
       "      <td>0.0</td>\n",
       "      <td>NaN</td>\n",
       "      <td>NaN</td>\n",
       "      <td>1.000000</td>\n",
       "      <td>0.790378</td>\n",
       "      <td>0.084342</td>\n",
       "      <td>2.344760e-02</td>\n",
       "    </tr>\n",
       "    <tr>\n",
       "      <th>75%</th>\n",
       "      <td>8.059524e+17</td>\n",
       "      <td>7.023088e+17</td>\n",
       "      <td>4.196984e+09</td>\n",
       "      <td>7.950560e+17</td>\n",
       "      <td>4.196984e+09</td>\n",
       "      <td>12.000000</td>\n",
       "      <td>10.0</td>\n",
       "      <td>10.0</td>\n",
       "      <td>7.023088e+17</td>\n",
       "      <td>NaN</td>\n",
       "      <td>...</td>\n",
       "      <td>NaN</td>\n",
       "      <td>3827.250000</td>\n",
       "      <td>12604.750000</td>\n",
       "      <td>0.0</td>\n",
       "      <td>NaN</td>\n",
       "      <td>NaN</td>\n",
       "      <td>1.000000</td>\n",
       "      <td>0.928943</td>\n",
       "      <td>0.166431</td>\n",
       "      <td>5.062433e-02</td>\n",
       "    </tr>\n",
       "    <tr>\n",
       "      <th>max</th>\n",
       "      <td>8.918152e+17</td>\n",
       "      <td>8.558181e+17</td>\n",
       "      <td>4.196984e+09</td>\n",
       "      <td>8.305833e+17</td>\n",
       "      <td>4.196984e+09</td>\n",
       "      <td>14.000000</td>\n",
       "      <td>10.0</td>\n",
       "      <td>10.0</td>\n",
       "      <td>8.558181e+17</td>\n",
       "      <td>NaN</td>\n",
       "      <td>...</td>\n",
       "      <td>NaN</td>\n",
       "      <td>79515.000000</td>\n",
       "      <td>131075.000000</td>\n",
       "      <td>0.0</td>\n",
       "      <td>NaN</td>\n",
       "      <td>NaN</td>\n",
       "      <td>4.000000</td>\n",
       "      <td>0.999956</td>\n",
       "      <td>0.467678</td>\n",
       "      <td>2.168390e-01</td>\n",
       "    </tr>\n",
       "  </tbody>\n",
       "</table>\n",
       "<p>8 rows × 21 columns</p>\n",
       "</div>"
      ],
      "text/plain": [
       "           tweet_id  in_reply_to_status_id_x  in_reply_to_user_id_x  \\\n",
       "count  9.620000e+02             8.000000e+00           8.000000e+00   \n",
       "mean   7.474517e+17             7.072182e+17           4.196984e+09   \n",
       "std    6.946847e+16             6.348216e+16           0.000000e+00   \n",
       "min    6.660293e+17             6.671522e+17           4.196984e+09   \n",
       "25%    6.808956e+17             6.749482e+17           4.196984e+09   \n",
       "50%    7.326560e+17             6.799152e+17           4.196984e+09   \n",
       "75%    8.059524e+17             7.023088e+17           4.196984e+09   \n",
       "max    8.918152e+17             8.558181e+17           4.196984e+09   \n",
       "\n",
       "       retweeted_status_id  retweeted_status_user_id  rating_numerator  \\\n",
       "count         3.500000e+01              3.500000e+01        962.000000   \n",
       "mean          7.629289e+17              4.112165e+09         11.070686   \n",
       "std           4.721280e+16              5.017948e+08          1.621652   \n",
       "min           6.675094e+17              1.228326e+09          2.000000   \n",
       "25%           7.363268e+17              4.196984e+09         10.000000   \n",
       "50%           7.790561e+17              4.196984e+09         11.000000   \n",
       "75%           7.950560e+17              4.196984e+09         12.000000   \n",
       "max           8.305833e+17              4.196984e+09         14.000000   \n",
       "\n",
       "       rating_denominator  rating_denominator_1  in_reply_to_status_id_y  geo  \\\n",
       "count               962.0                 962.0             8.000000e+00  0.0   \n",
       "mean                 10.0                  10.0             7.072182e+17  NaN   \n",
       "std                   0.0                   0.0             6.348216e+16  NaN   \n",
       "min                  10.0                  10.0             6.671522e+17  NaN   \n",
       "25%                  10.0                  10.0             6.749482e+17  NaN   \n",
       "50%                  10.0                  10.0             6.799152e+17  NaN   \n",
       "75%                  10.0                  10.0             7.023088e+17  NaN   \n",
       "max                  10.0                  10.0             8.558181e+17  NaN   \n",
       "\n",
       "       ...  contributors  retweet_count  favorite_count  \\\n",
       "count  ...           0.0     962.000000      962.000000   \n",
       "mean   ...           NaN    3259.379418     9750.027027   \n",
       "std    ...           NaN    5332.807197    12769.123967   \n",
       "min    ...           NaN      41.000000        0.000000   \n",
       "25%    ...           NaN     761.250000     2216.750000   \n",
       "50%    ...           NaN    1737.500000     4981.500000   \n",
       "75%    ...           NaN    3827.250000    12604.750000   \n",
       "max    ...           NaN   79515.000000   131075.000000   \n",
       "\n",
       "       possibly_sensitive_appealable  quoted_status_id  quoted_status_id_str  \\\n",
       "count                          962.0               0.0                   0.0   \n",
       "mean                             0.0               NaN                   NaN   \n",
       "std                              0.0               NaN                   NaN   \n",
       "min                              0.0               NaN                   NaN   \n",
       "25%                              0.0               NaN                   NaN   \n",
       "50%                              0.0               NaN                   NaN   \n",
       "75%                              0.0               NaN                   NaN   \n",
       "max                              0.0               NaN                   NaN   \n",
       "\n",
       "          img_num     p1_conf     p2_conf       p3_conf  \n",
       "count  962.000000  962.000000  962.000000  9.620000e+02  \n",
       "mean     1.280665    0.778559    0.111436  3.544327e-02  \n",
       "std      0.654942    0.157192    0.100834  3.659976e-02  \n",
       "min      1.000000    0.500373    0.000023  2.160900e-07  \n",
       "25%      1.000000    0.633452    0.028346  6.723728e-03  \n",
       "50%      1.000000    0.790378    0.084342  2.344760e-02  \n",
       "75%      1.000000    0.928943    0.166431  5.062433e-02  \n",
       "max      4.000000    0.999956    0.467678  2.168390e-01  \n",
       "\n",
       "[8 rows x 21 columns]"
      ]
     },
     "execution_count": 667,
     "metadata": {},
     "output_type": "execute_result"
    }
   ],
   "source": [
    "combined4.describe()"
   ]
  },
  {
   "cell_type": "code",
   "execution_count": null,
   "metadata": {},
   "outputs": [],
   "source": []
  },
  {
   "cell_type": "code",
   "execution_count": 668,
   "metadata": {
    "scrolled": true
   },
   "outputs": [
    {
     "data": {
      "text/plain": [
       "golden_retriever             124\n",
       "Pembroke                      70\n",
       "Labrador_retriever            67\n",
       "Chihuahua                     50\n",
       "pug                           45\n",
       "Samoyed                       32\n",
       "Pomeranian                    29\n",
       "chow                          26\n",
       "toy_poodle                    24\n",
       "French_bulldog                22\n",
       "German_shepherd               19\n",
       "malamute                      18\n",
       "cocker_spaniel                16\n",
       "Cardigan                      14\n",
       "Maltese_dog                   14\n",
       "Shetland_sheepdog             12\n",
       "miniature_pinscher            12\n",
       "Chesapeake_Bay_retriever      11\n",
       "Shih-Tzu                      11\n",
       "Staffordshire_bullterrier     11\n",
       "Name: p1, dtype: int64"
      ]
     },
     "execution_count": 668,
     "metadata": {},
     "output_type": "execute_result"
    }
   ],
   "source": [
    "combined4.p1.value_counts()[:20]"
   ]
  },
  {
   "cell_type": "code",
   "execution_count": null,
   "metadata": {
    "scrolled": true
   },
   "outputs": [],
   "source": []
  },
  {
   "cell_type": "code",
   "execution_count": 669,
   "metadata": {
    "scrolled": true
   },
   "outputs": [],
   "source": [
    "## calculate and rank the rating_numerator mean of the of all breed"
   ]
  },
  {
   "cell_type": "code",
   "execution_count": 670,
   "metadata": {
    "scrolled": true
   },
   "outputs": [
    {
     "data": {
      "text/plain": [
       "p1\n",
       "Afghan_hound                      13.000000\n",
       "Airedale                          10.166667\n",
       "American_Staffordshire_terrier    11.111111\n",
       "Appenzeller                        9.000000\n",
       "Bernese_mountain_dog              11.200000\n",
       "                                    ...    \n",
       "standard_poodle                   10.000000\n",
       "toy_poodle                        11.208333\n",
       "toy_terrier                       12.000000\n",
       "vizsla                            11.100000\n",
       "whippet                           10.333333\n",
       "Name: rating_numerator, Length: 99, dtype: float64"
      ]
     },
     "execution_count": 670,
     "metadata": {},
     "output_type": "execute_result"
    }
   ],
   "source": [
    "# calculate the rating_numerator for p1 and rank them\n",
    "combined4.groupby('p1')['rating_numerator'].mean()"
   ]
  },
  {
   "cell_type": "code",
   "execution_count": 671,
   "metadata": {
    "scrolled": true
   },
   "outputs": [],
   "source": [
    "combined4_rank=combined4.groupby('p1')['rating_numerator'].mean()"
   ]
  },
  {
   "cell_type": "code",
   "execution_count": 672,
   "metadata": {
    "scrolled": true
   },
   "outputs": [
    {
     "data": {
      "text/plain": [
       "p1\n",
       "Afghan_hound                      13.000000\n",
       "Airedale                          10.166667\n",
       "American_Staffordshire_terrier    11.111111\n",
       "Appenzeller                        9.000000\n",
       "Bernese_mountain_dog              11.200000\n",
       "                                    ...    \n",
       "standard_poodle                   10.000000\n",
       "toy_poodle                        11.208333\n",
       "toy_terrier                       12.000000\n",
       "vizsla                            11.100000\n",
       "whippet                           10.333333\n",
       "Name: rating_numerator, Length: 99, dtype: float64"
      ]
     },
     "execution_count": 672,
     "metadata": {},
     "output_type": "execute_result"
    }
   ],
   "source": [
    "combined4_rank"
   ]
  },
  {
   "cell_type": "code",
   "execution_count": null,
   "metadata": {
    "scrolled": true
   },
   "outputs": [],
   "source": []
  },
  {
   "cell_type": "code",
   "execution_count": 673,
   "metadata": {
    "scrolled": true
   },
   "outputs": [],
   "source": [
    "# sort the combined4_rank "
   ]
  },
  {
   "cell_type": "markdown",
   "metadata": {},
   "source": []
  },
  {
   "cell_type": "code",
   "execution_count": 674,
   "metadata": {
    "scrolled": true
   },
   "outputs": [],
   "source": [
    "from pandas import DataFrame\n"
   ]
  },
  {
   "cell_type": "code",
   "execution_count": 675,
   "metadata": {
    "scrolled": true
   },
   "outputs": [
    {
     "data": {
      "text/plain": [
       "p1\n",
       "Afghan_hound                      13\n",
       "Airedale                          10\n",
       "American_Staffordshire_terrier    11\n",
       "Appenzeller                        9\n",
       "Bernese_mountain_dog              11\n",
       "                                  ..\n",
       "standard_poodle                   10\n",
       "toy_poodle                        11\n",
       "toy_terrier                       12\n",
       "vizsla                            11\n",
       "whippet                           10\n",
       "Name: rating_numerator, Length: 99, dtype: int64"
      ]
     },
     "execution_count": 675,
     "metadata": {},
     "output_type": "execute_result"
    }
   ],
   "source": [
    "combined4_rank.astype(int)"
   ]
  },
  {
   "cell_type": "code",
   "execution_count": null,
   "metadata": {
    "scrolled": true
   },
   "outputs": [],
   "source": []
  },
  {
   "cell_type": "code",
   "execution_count": 676,
   "metadata": {
    "scrolled": true
   },
   "outputs": [],
   "source": [
    "combined4_rank1=combined4_rank.astype(int)"
   ]
  },
  {
   "cell_type": "code",
   "execution_count": 677,
   "metadata": {
    "scrolled": true
   },
   "outputs": [
    {
     "data": {
      "text/plain": [
       "p1\n",
       "Afghan_hound                      13\n",
       "Airedale                          10\n",
       "American_Staffordshire_terrier    11\n",
       "Appenzeller                        9\n",
       "Bernese_mountain_dog              11\n",
       "                                  ..\n",
       "standard_poodle                   10\n",
       "toy_poodle                        11\n",
       "toy_terrier                       12\n",
       "vizsla                            11\n",
       "whippet                           10\n",
       "Name: rating_numerator, Length: 99, dtype: int64"
      ]
     },
     "execution_count": 677,
     "metadata": {},
     "output_type": "execute_result"
    }
   ],
   "source": [
    "combined4_rank1"
   ]
  },
  {
   "cell_type": "code",
   "execution_count": null,
   "metadata": {
    "scrolled": true
   },
   "outputs": [],
   "source": []
  },
  {
   "cell_type": "code",
   "execution_count": 678,
   "metadata": {
    "scrolled": true
   },
   "outputs": [],
   "source": [
    "from pandas import DataFrame"
   ]
  },
  {
   "cell_type": "code",
   "execution_count": 679,
   "metadata": {
    "scrolled": true
   },
   "outputs": [],
   "source": [
    "df3=DataFrame(combined4_rank1,columns=['breed'])"
   ]
  },
  {
   "cell_type": "code",
   "execution_count": 680,
   "metadata": {
    "scrolled": true
   },
   "outputs": [
    {
     "data": {
      "text/html": [
       "<div>\n",
       "<style scoped>\n",
       "    .dataframe tbody tr th:only-of-type {\n",
       "        vertical-align: middle;\n",
       "    }\n",
       "\n",
       "    .dataframe tbody tr th {\n",
       "        vertical-align: top;\n",
       "    }\n",
       "\n",
       "    .dataframe thead th {\n",
       "        text-align: right;\n",
       "    }\n",
       "</style>\n",
       "<table border=\"1\" class=\"dataframe\">\n",
       "  <thead>\n",
       "    <tr style=\"text-align: right;\">\n",
       "      <th></th>\n",
       "      <th>breed</th>\n",
       "    </tr>\n",
       "  </thead>\n",
       "  <tbody>\n",
       "  </tbody>\n",
       "</table>\n",
       "</div>"
      ],
      "text/plain": [
       "Empty DataFrame\n",
       "Columns: [breed]\n",
       "Index: []"
      ]
     },
     "execution_count": 680,
     "metadata": {},
     "output_type": "execute_result"
    }
   ],
   "source": [
    "df3"
   ]
  },
  {
   "cell_type": "code",
   "execution_count": 681,
   "metadata": {
    "scrolled": true
   },
   "outputs": [
    {
     "data": {
      "text/plain": [
       "dtype('int64')"
      ]
     },
     "execution_count": 681,
     "metadata": {},
     "output_type": "execute_result"
    }
   ],
   "source": [
    "combined4_rank1.dtype"
   ]
  },
  {
   "cell_type": "code",
   "execution_count": 682,
   "metadata": {
    "scrolled": true
   },
   "outputs": [],
   "source": [
    "## sort_index"
   ]
  },
  {
   "cell_type": "code",
   "execution_count": 683,
   "metadata": {
    "scrolled": true
   },
   "outputs": [
    {
     "data": {
      "text/plain": [
       "p1\n",
       "Afghan_hound                      13\n",
       "Airedale                          10\n",
       "American_Staffordshire_terrier    11\n",
       "Appenzeller                        9\n",
       "Bernese_mountain_dog              11\n",
       "                                  ..\n",
       "standard_poodle                   10\n",
       "toy_poodle                        11\n",
       "toy_terrier                       12\n",
       "vizsla                            11\n",
       "whippet                           10\n",
       "Name: rating_numerator, Length: 99, dtype: int64"
      ]
     },
     "execution_count": 683,
     "metadata": {},
     "output_type": "execute_result"
    }
   ],
   "source": [
    "combined4_rank1.sort_index()"
   ]
  },
  {
   "cell_type": "code",
   "execution_count": null,
   "metadata": {
    "scrolled": true
   },
   "outputs": [],
   "source": []
  },
  {
   "cell_type": "code",
   "execution_count": 684,
   "metadata": {
    "scrolled": true
   },
   "outputs": [
    {
     "data": {
      "text/plain": [
       "p1\n",
       "Afghan_hound                      13\n",
       "Airedale                          10\n",
       "American_Staffordshire_terrier    11\n",
       "Appenzeller                        9\n",
       "basenji                           10\n",
       "                                  ..\n",
       "Weimaraner                        10\n",
       "Welsh_springer_spaniel            11\n",
       "West_Highland_white_terrier       10\n",
       "whippet                           10\n",
       "Yorkshire_terrier                 10\n",
       "Name: rating_numerator, Length: 99, dtype: int64"
      ]
     },
     "execution_count": 684,
     "metadata": {},
     "output_type": "execute_result"
    }
   ],
   "source": [
    "combined4_rank1.sort_index(key=lambda x:x.str.lower())"
   ]
  },
  {
   "cell_type": "code",
   "execution_count": null,
   "metadata": {
    "scrolled": true
   },
   "outputs": [],
   "source": []
  },
  {
   "cell_type": "code",
   "execution_count": 685,
   "metadata": {
    "scrolled": true
   },
   "outputs": [
    {
     "data": {
      "text/plain": [
       "<module 'pandas._version' from '/opt/anaconda3/lib/python3.7/site-packages/pandas/_version.py'>"
      ]
     },
     "execution_count": 685,
     "metadata": {},
     "output_type": "execute_result"
    }
   ],
   "source": [
    "pd._version"
   ]
  },
  {
   "cell_type": "code",
   "execution_count": 686,
   "metadata": {
    "scrolled": false
   },
   "outputs": [],
   "source": [
    "# conda update pandas"
   ]
  },
  {
   "cell_type": "code",
   "execution_count": null,
   "metadata": {
    "scrolled": true
   },
   "outputs": [],
   "source": []
  },
  {
   "cell_type": "code",
   "execution_count": 687,
   "metadata": {
    "scrolled": true
   },
   "outputs": [
    {
     "data": {
      "text/plain": [
       "p1\n",
       "Afghan_hound                      13\n",
       "Airedale                          10\n",
       "American_Staffordshire_terrier    11\n",
       "Appenzeller                        9\n",
       "Bernese_mountain_dog              11\n",
       "                                  ..\n",
       "standard_poodle                   10\n",
       "toy_poodle                        11\n",
       "toy_terrier                       12\n",
       "vizsla                            11\n",
       "whippet                           10\n",
       "Name: rating_numerator, Length: 99, dtype: int64"
      ]
     },
     "execution_count": 687,
     "metadata": {},
     "output_type": "execute_result"
    }
   ],
   "source": [
    "combined4_rank1"
   ]
  },
  {
   "cell_type": "code",
   "execution_count": null,
   "metadata": {
    "scrolled": true
   },
   "outputs": [],
   "source": []
  },
  {
   "cell_type": "code",
   "execution_count": 688,
   "metadata": {
    "scrolled": true
   },
   "outputs": [
    {
     "data": {
      "text/plain": [
       "p1\n",
       "whippet                           10\n",
       "vizsla                            11\n",
       "toy_terrier                       12\n",
       "toy_poodle                        11\n",
       "standard_poodle                   10\n",
       "                                  ..\n",
       "Bernese_mountain_dog              11\n",
       "Appenzeller                        9\n",
       "American_Staffordshire_terrier    11\n",
       "Airedale                          10\n",
       "Afghan_hound                      13\n",
       "Name: rating_numerator, Length: 99, dtype: int64"
      ]
     },
     "execution_count": 688,
     "metadata": {},
     "output_type": "execute_result"
    }
   ],
   "source": [
    "combined4_rank1.sort_index(ascending=False)"
   ]
  },
  {
   "cell_type": "code",
   "execution_count": 689,
   "metadata": {
    "scrolled": true
   },
   "outputs": [
    {
     "data": {
      "text/plain": [
       "p1\n",
       "Afghan_hound                      13\n",
       "Airedale                          10\n",
       "American_Staffordshire_terrier    11\n",
       "Appenzeller                        9\n",
       "basenji                           10\n",
       "                                  ..\n",
       "Weimaraner                        10\n",
       "Welsh_springer_spaniel            11\n",
       "West_Highland_white_terrier       10\n",
       "whippet                           10\n",
       "Yorkshire_terrier                 10\n",
       "Name: rating_numerator, Length: 99, dtype: int64"
      ]
     },
     "execution_count": 689,
     "metadata": {},
     "output_type": "execute_result"
    }
   ],
   "source": [
    "combined4_rank1.sort_index(key=lambda x: x.str.lower())"
   ]
  },
  {
   "cell_type": "code",
   "execution_count": null,
   "metadata": {
    "scrolled": true
   },
   "outputs": [],
   "source": []
  },
  {
   "cell_type": "code",
   "execution_count": 690,
   "metadata": {
    "scrolled": true
   },
   "outputs": [],
   "source": [
    "# find out the rank of breed"
   ]
  },
  {
   "cell_type": "code",
   "execution_count": 691,
   "metadata": {
    "scrolled": true
   },
   "outputs": [
    {
     "data": {
      "text/plain": [
       "p1\n",
       "Afghan_hound              13\n",
       "Saluki                    13\n",
       "curly-coated_retriever    13\n",
       "Irish_water_spaniel       12\n",
       "bluetick                  12\n",
       "                          ..\n",
       "Boston_bull                8\n",
       "Walker_hound               8\n",
       "Tibetan_terrier            7\n",
       "miniature_schnauzer        5\n",
       "Japanese_spaniel           5\n",
       "Name: rating_numerator, Length: 99, dtype: int64"
      ]
     },
     "execution_count": 691,
     "metadata": {},
     "output_type": "execute_result"
    }
   ],
   "source": [
    "#combined4_rank1.sort_values(by=['p1'])\n",
    "combined4_rank1.sort_values(ascending=False)"
   ]
  },
  {
   "cell_type": "code",
   "execution_count": null,
   "metadata": {
    "scrolled": true
   },
   "outputs": [],
   "source": []
  },
  {
   "cell_type": "code",
   "execution_count": 692,
   "metadata": {
    "scrolled": true
   },
   "outputs": [
    {
     "data": {
      "text/plain": [
       "(99,)"
      ]
     },
     "execution_count": 692,
     "metadata": {},
     "output_type": "execute_result"
    }
   ],
   "source": [
    "combined4_rank1.shape"
   ]
  },
  {
   "cell_type": "code",
   "execution_count": null,
   "metadata": {
    "scrolled": true
   },
   "outputs": [],
   "source": []
  },
  {
   "cell_type": "code",
   "execution_count": 693,
   "metadata": {
    "scrolled": true
   },
   "outputs": [],
   "source": [
    "## only query the sinificant breed and rank"
   ]
  },
  {
   "cell_type": "code",
   "execution_count": 694,
   "metadata": {
    "scrolled": true
   },
   "outputs": [
    {
     "data": {
      "text/plain": [
       "golden_retriever      124\n",
       "Pembroke               70\n",
       "Labrador_retriever     67\n",
       "Chihuahua              50\n",
       "pug                    45\n",
       "Samoyed                32\n",
       "Pomeranian             29\n",
       "chow                   26\n",
       "toy_poodle             24\n",
       "French_bulldog         22\n",
       "German_shepherd        19\n",
       "malamute               18\n",
       "cocker_spaniel         16\n",
       "Cardigan               14\n",
       "Maltese_dog            14\n",
       "Name: p1, dtype: int64"
      ]
     },
     "execution_count": 694,
     "metadata": {},
     "output_type": "execute_result"
    }
   ],
   "source": [
    "combined4.p1.value_counts()[:15]"
   ]
  },
  {
   "cell_type": "code",
   "execution_count": null,
   "metadata": {
    "scrolled": true
   },
   "outputs": [],
   "source": []
  },
  {
   "cell_type": "code",
   "execution_count": 695,
   "metadata": {
    "scrolled": true
   },
   "outputs": [
    {
     "data": {
      "text/html": [
       "<div>\n",
       "<style scoped>\n",
       "    .dataframe tbody tr th:only-of-type {\n",
       "        vertical-align: middle;\n",
       "    }\n",
       "\n",
       "    .dataframe tbody tr th {\n",
       "        vertical-align: top;\n",
       "    }\n",
       "\n",
       "    .dataframe thead th {\n",
       "        text-align: right;\n",
       "    }\n",
       "</style>\n",
       "<table border=\"1\" class=\"dataframe\">\n",
       "  <thead>\n",
       "    <tr style=\"text-align: right;\">\n",
       "      <th></th>\n",
       "      <th>tweet_id</th>\n",
       "      <th>in_reply_to_status_id_x</th>\n",
       "      <th>in_reply_to_user_id_x</th>\n",
       "      <th>timestamp</th>\n",
       "      <th>source_x</th>\n",
       "      <th>text</th>\n",
       "      <th>retweeted_status_id</th>\n",
       "      <th>retweeted_status_user_id</th>\n",
       "      <th>retweeted_status_timestamp</th>\n",
       "      <th>expanded_urls</th>\n",
       "      <th>...</th>\n",
       "      <th>p1</th>\n",
       "      <th>p1_conf</th>\n",
       "      <th>p1_dog</th>\n",
       "      <th>p2</th>\n",
       "      <th>p2_conf</th>\n",
       "      <th>p2_dog</th>\n",
       "      <th>p3</th>\n",
       "      <th>p3_conf</th>\n",
       "      <th>p3_dog</th>\n",
       "      <th>p1_conf_level</th>\n",
       "    </tr>\n",
       "  </thead>\n",
       "  <tbody>\n",
       "    <tr>\n",
       "      <th>2</th>\n",
       "      <td>891815181378084864</td>\n",
       "      <td>NaN</td>\n",
       "      <td>NaN</td>\n",
       "      <td>2017-07-31 00:18:03 +0000</td>\n",
       "      <td>&lt;a href=\"http://twitter.com/download/iphone\" r...</td>\n",
       "      <td>This is Archie. He is a rare Norwegian Pouncin...</td>\n",
       "      <td>NaN</td>\n",
       "      <td>NaN</td>\n",
       "      <td>NaN</td>\n",
       "      <td>https://twitter.com/dog_rates/status/891815181...</td>\n",
       "      <td>...</td>\n",
       "      <td>Chihuahua</td>\n",
       "      <td>0.716012</td>\n",
       "      <td>True</td>\n",
       "      <td>malamute</td>\n",
       "      <td>0.078253</td>\n",
       "      <td>True</td>\n",
       "      <td>kelpie</td>\n",
       "      <td>0.031379</td>\n",
       "      <td>True</td>\n",
       "      <td>confidence</td>\n",
       "    </tr>\n",
       "    <tr>\n",
       "      <th>4</th>\n",
       "      <td>891327558926688256</td>\n",
       "      <td>NaN</td>\n",
       "      <td>NaN</td>\n",
       "      <td>2017-07-29 16:00:24 +0000</td>\n",
       "      <td>&lt;a href=\"http://twitter.com/download/iphone\" r...</td>\n",
       "      <td>This is Franklin. He would like you to stop ca...</td>\n",
       "      <td>NaN</td>\n",
       "      <td>NaN</td>\n",
       "      <td>NaN</td>\n",
       "      <td>https://twitter.com/dog_rates/status/891327558...</td>\n",
       "      <td>...</td>\n",
       "      <td>basset</td>\n",
       "      <td>0.555712</td>\n",
       "      <td>True</td>\n",
       "      <td>English_springer</td>\n",
       "      <td>0.225770</td>\n",
       "      <td>True</td>\n",
       "      <td>German_short-haired_pointer</td>\n",
       "      <td>0.175219</td>\n",
       "      <td>True</td>\n",
       "      <td>confidence</td>\n",
       "    </tr>\n",
       "  </tbody>\n",
       "</table>\n",
       "<p>2 rows × 62 columns</p>\n",
       "</div>"
      ],
      "text/plain": [
       "             tweet_id  in_reply_to_status_id_x  in_reply_to_user_id_x  \\\n",
       "2  891815181378084864                      NaN                    NaN   \n",
       "4  891327558926688256                      NaN                    NaN   \n",
       "\n",
       "                   timestamp  \\\n",
       "2  2017-07-31 00:18:03 +0000   \n",
       "4  2017-07-29 16:00:24 +0000   \n",
       "\n",
       "                                            source_x  \\\n",
       "2  <a href=\"http://twitter.com/download/iphone\" r...   \n",
       "4  <a href=\"http://twitter.com/download/iphone\" r...   \n",
       "\n",
       "                                                text  retweeted_status_id  \\\n",
       "2  This is Archie. He is a rare Norwegian Pouncin...                  NaN   \n",
       "4  This is Franklin. He would like you to stop ca...                  NaN   \n",
       "\n",
       "   retweeted_status_user_id retweeted_status_timestamp  \\\n",
       "2                       NaN                        NaN   \n",
       "4                       NaN                        NaN   \n",
       "\n",
       "                                       expanded_urls  ...         p1  \\\n",
       "2  https://twitter.com/dog_rates/status/891815181...  ...  Chihuahua   \n",
       "4  https://twitter.com/dog_rates/status/891327558...  ...     basset   \n",
       "\n",
       "    p1_conf p1_dog                p2   p2_conf p2_dog  \\\n",
       "2  0.716012   True          malamute  0.078253   True   \n",
       "4  0.555712   True  English_springer  0.225770   True   \n",
       "\n",
       "                            p3   p3_conf p3_dog  p1_conf_level  \n",
       "2                       kelpie  0.031379   True     confidence  \n",
       "4  German_short-haired_pointer  0.175219   True     confidence  \n",
       "\n",
       "[2 rows x 62 columns]"
      ]
     },
     "execution_count": 695,
     "metadata": {},
     "output_type": "execute_result"
    }
   ],
   "source": [
    "combined4.head(2)"
   ]
  },
  {
   "cell_type": "code",
   "execution_count": null,
   "metadata": {
    "scrolled": true
   },
   "outputs": [],
   "source": []
  },
  {
   "cell_type": "code",
   "execution_count": 696,
   "metadata": {
    "scrolled": true
   },
   "outputs": [],
   "source": [
    "## query the breed with sinificant tweet comments "
   ]
  },
  {
   "cell_type": "code",
   "execution_count": 697,
   "metadata": {
    "scrolled": true
   },
   "outputs": [
    {
     "data": {
      "text/plain": [
       "golden_retriever      124\n",
       "Pembroke               70\n",
       "Labrador_retriever     67\n",
       "Chihuahua              50\n",
       "pug                    45\n",
       "Samoyed                32\n",
       "Pomeranian             29\n",
       "chow                   26\n",
       "toy_poodle             24\n",
       "French_bulldog         22\n",
       "Name: p1, dtype: int64"
      ]
     },
     "execution_count": 697,
     "metadata": {},
     "output_type": "execute_result"
    }
   ],
   "source": [
    "combined4.p1.value_counts()[:10]"
   ]
  },
  {
   "cell_type": "code",
   "execution_count": null,
   "metadata": {
    "scrolled": true
   },
   "outputs": [],
   "source": []
  },
  {
   "cell_type": "code",
   "execution_count": 698,
   "metadata": {
    "scrolled": true
   },
   "outputs": [
    {
     "data": {
      "text/plain": [
       "11.208333333333334"
      ]
     },
     "execution_count": 698,
     "metadata": {},
     "output_type": "execute_result"
    }
   ],
   "source": [
    "combined4.query('p1==\"toy_poodle\"').rating_numerator.mean()"
   ]
  },
  {
   "cell_type": "code",
   "execution_count": null,
   "metadata": {
    "scrolled": true
   },
   "outputs": [],
   "source": []
  },
  {
   "cell_type": "code",
   "execution_count": 699,
   "metadata": {
    "scrolled": true
   },
   "outputs": [],
   "source": [
    "list_doggy=[('golden_retriever',combined4.query('p1==\"golden_retriever\"').rating_numerator.mean()),\n",
    "('Pembroke',combined4.query('p1==\"Pembroke\"').rating_numerator.mean()),\n",
    "('combined4',combined4.query('p1==\"Labrador_retriever\"').rating_numerator.mean()),      \n",
    "('Chihuahua',combined4.query('p1==\"Chihuahua\"').rating_numerator.mean()),\n",
    "('Pug',combined4.query('p1==\"pug\"').rating_numerator.mean()),\n",
    "('Samoyed',combined4.query('p1==\"Samoyed\"').rating_numerator.mean()),\n",
    "('Pomeranian',combined4.query('p1==\"Pomeranian\"').rating_numerator.mean()),\n",
    "('chow',combined4.query('p1==\"chow\"').rating_numerator.mean()),\n",
    "('toy_poodle',combined4.query('p1==\"toy_poodle\"').rating_numerator.mean()),\n",
    "('French_bulldog',combined4.query('p1==\"French_bulldog\"').rating_numerator.mean(),)]"
   ]
  },
  {
   "cell_type": "code",
   "execution_count": null,
   "metadata": {
    "scrolled": true
   },
   "outputs": [],
   "source": []
  },
  {
   "cell_type": "code",
   "execution_count": 700,
   "metadata": {
    "scrolled": true
   },
   "outputs": [
    {
     "data": {
      "text/plain": [
       "[('golden_retriever', 11.596774193548388),\n",
       " ('Pembroke', 11.657142857142857),\n",
       " ('combined4', 11.194029850746269),\n",
       " ('Chihuahua', 10.72),\n",
       " ('Pug', 10.28888888888889),\n",
       " ('Samoyed', 11.6875),\n",
       " ('Pomeranian', 11.172413793103448),\n",
       " ('chow', 11.73076923076923),\n",
       " ('toy_poodle', 11.208333333333334),\n",
       " ('French_bulldog', 11.227272727272727)]"
      ]
     },
     "execution_count": 700,
     "metadata": {},
     "output_type": "execute_result"
    }
   ],
   "source": [
    "# the mean of rating for those breed has sinificant twitter comment.\n",
    "\n",
    "list_doggy"
   ]
  },
  {
   "cell_type": "code",
   "execution_count": null,
   "metadata": {
    "scrolled": true
   },
   "outputs": [],
   "source": []
  },
  {
   "cell_type": "code",
   "execution_count": 701,
   "metadata": {
    "scrolled": true
   },
   "outputs": [],
   "source": [
    "## counts and sort the second value and sort them."
   ]
  },
  {
   "cell_type": "code",
   "execution_count": 702,
   "metadata": {
    "scrolled": true
   },
   "outputs": [
    {
     "data": {
      "text/plain": [
       "[('Pug', 10.28888888888889),\n",
       " ('Chihuahua', 10.72),\n",
       " ('Pomeranian', 11.172413793103448),\n",
       " ('combined4', 11.194029850746269),\n",
       " ('toy_poodle', 11.208333333333334),\n",
       " ('French_bulldog', 11.227272727272727),\n",
       " ('golden_retriever', 11.596774193548388),\n",
       " ('Pembroke', 11.657142857142857),\n",
       " ('Samoyed', 11.6875),\n",
       " ('chow', 11.73076923076923)]"
      ]
     },
     "execution_count": 702,
     "metadata": {},
     "output_type": "execute_result"
    }
   ],
   "source": [
    "def Sort(sub_li): \n",
    "  \n",
    "    # reverse = None (Sorts in Ascending order) \n",
    "    # key is set to sort using second element of  \n",
    "    # sublist lambda has been used \n",
    "    sub_li.sort(key = lambda x: x[1]) \n",
    "    return sub_li \n",
    "  \n",
    "# Driver Code \n",
    "sub_li =[('golden_retriever', 11.596774193548388),\n",
    " ('Pembroke', 11.657142857142857),\n",
    " ('combined4', 11.194029850746269),\n",
    " ('Chihuahua', 10.72),\n",
    " ('Pug', 10.28888888888889),\n",
    " ('Samoyed', 11.6875),\n",
    " ('Pomeranian', 11.172413793103448),\n",
    " ('chow', 11.73076923076923),\n",
    " ('toy_poodle', 11.208333333333334),\n",
    " ('French_bulldog', 11.227272727272727)] \n",
    "(Sort(sub_li))"
   ]
  },
  {
   "cell_type": "code",
   "execution_count": 703,
   "metadata": {
    "scrolled": true
   },
   "outputs": [],
   "source": [
    "sub_li2=(Sort(sub_li))"
   ]
  },
  {
   "cell_type": "code",
   "execution_count": 704,
   "metadata": {
    "scrolled": true
   },
   "outputs": [
    {
     "data": {
      "text/plain": [
       "[('Pug', 10.28888888888889),\n",
       " ('Chihuahua', 10.72),\n",
       " ('Pomeranian', 11.172413793103448),\n",
       " ('combined4', 11.194029850746269),\n",
       " ('toy_poodle', 11.208333333333334),\n",
       " ('French_bulldog', 11.227272727272727),\n",
       " ('golden_retriever', 11.596774193548388),\n",
       " ('Pembroke', 11.657142857142857),\n",
       " ('Samoyed', 11.6875),\n",
       " ('chow', 11.73076923076923)]"
      ]
     },
     "execution_count": 704,
     "metadata": {},
     "output_type": "execute_result"
    }
   ],
   "source": [
    "sub_li2"
   ]
  },
  {
   "cell_type": "code",
   "execution_count": null,
   "metadata": {
    "scrolled": true
   },
   "outputs": [],
   "source": []
  },
  {
   "cell_type": "code",
   "execution_count": 705,
   "metadata": {
    "scrolled": true
   },
   "outputs": [
    {
     "data": {
      "text/html": [
       "<div>\n",
       "<style scoped>\n",
       "    .dataframe tbody tr th:only-of-type {\n",
       "        vertical-align: middle;\n",
       "    }\n",
       "\n",
       "    .dataframe tbody tr th {\n",
       "        vertical-align: top;\n",
       "    }\n",
       "\n",
       "    .dataframe thead th {\n",
       "        text-align: right;\n",
       "    }\n",
       "</style>\n",
       "<table border=\"1\" class=\"dataframe\">\n",
       "  <thead>\n",
       "    <tr style=\"text-align: right;\">\n",
       "      <th></th>\n",
       "      <th>breed</th>\n",
       "      <th>rating_mean</th>\n",
       "    </tr>\n",
       "  </thead>\n",
       "  <tbody>\n",
       "    <tr>\n",
       "      <th>0</th>\n",
       "      <td>Pug</td>\n",
       "      <td>10.288889</td>\n",
       "    </tr>\n",
       "    <tr>\n",
       "      <th>1</th>\n",
       "      <td>Chihuahua</td>\n",
       "      <td>10.720000</td>\n",
       "    </tr>\n",
       "    <tr>\n",
       "      <th>2</th>\n",
       "      <td>Pomeranian</td>\n",
       "      <td>11.172414</td>\n",
       "    </tr>\n",
       "    <tr>\n",
       "      <th>3</th>\n",
       "      <td>combined4</td>\n",
       "      <td>11.194030</td>\n",
       "    </tr>\n",
       "    <tr>\n",
       "      <th>4</th>\n",
       "      <td>toy_poodle</td>\n",
       "      <td>11.208333</td>\n",
       "    </tr>\n",
       "    <tr>\n",
       "      <th>5</th>\n",
       "      <td>French_bulldog</td>\n",
       "      <td>11.227273</td>\n",
       "    </tr>\n",
       "    <tr>\n",
       "      <th>6</th>\n",
       "      <td>golden_retriever</td>\n",
       "      <td>11.596774</td>\n",
       "    </tr>\n",
       "    <tr>\n",
       "      <th>7</th>\n",
       "      <td>Pembroke</td>\n",
       "      <td>11.657143</td>\n",
       "    </tr>\n",
       "    <tr>\n",
       "      <th>8</th>\n",
       "      <td>Samoyed</td>\n",
       "      <td>11.687500</td>\n",
       "    </tr>\n",
       "    <tr>\n",
       "      <th>9</th>\n",
       "      <td>chow</td>\n",
       "      <td>11.730769</td>\n",
       "    </tr>\n",
       "  </tbody>\n",
       "</table>\n",
       "</div>"
      ],
      "text/plain": [
       "              breed  rating_mean\n",
       "0               Pug    10.288889\n",
       "1         Chihuahua    10.720000\n",
       "2        Pomeranian    11.172414\n",
       "3         combined4    11.194030\n",
       "4        toy_poodle    11.208333\n",
       "5    French_bulldog    11.227273\n",
       "6  golden_retriever    11.596774\n",
       "7          Pembroke    11.657143\n",
       "8           Samoyed    11.687500\n",
       "9              chow    11.730769"
      ]
     },
     "execution_count": 705,
     "metadata": {},
     "output_type": "execute_result"
    }
   ],
   "source": [
    "from pandas import DataFrame\n",
    "df4=DataFrame(sub_li2,columns=['breed','rating_mean'])\n",
    "df4"
   ]
  },
  {
   "cell_type": "code",
   "execution_count": null,
   "metadata": {
    "scrolled": true
   },
   "outputs": [],
   "source": []
  },
  {
   "cell_type": "code",
   "execution_count": null,
   "metadata": {
    "scrolled": true
   },
   "outputs": [],
   "source": []
  },
  {
   "cell_type": "code",
   "execution_count": 706,
   "metadata": {
    "scrolled": true
   },
   "outputs": [],
   "source": [
    "# different way to sort the list"
   ]
  },
  {
   "cell_type": "code",
   "execution_count": 707,
   "metadata": {
    "scrolled": true
   },
   "outputs": [
    {
     "data": {
      "text/html": [
       "<div>\n",
       "<style scoped>\n",
       "    .dataframe tbody tr th:only-of-type {\n",
       "        vertical-align: middle;\n",
       "    }\n",
       "\n",
       "    .dataframe tbody tr th {\n",
       "        vertical-align: top;\n",
       "    }\n",
       "\n",
       "    .dataframe thead th {\n",
       "        text-align: right;\n",
       "    }\n",
       "</style>\n",
       "<table border=\"1\" class=\"dataframe\">\n",
       "  <thead>\n",
       "    <tr style=\"text-align: right;\">\n",
       "      <th></th>\n",
       "      <th>breed</th>\n",
       "      <th>rating_mean</th>\n",
       "    </tr>\n",
       "  </thead>\n",
       "  <tbody>\n",
       "    <tr>\n",
       "      <th>0</th>\n",
       "      <td>golden_retriever</td>\n",
       "      <td>11.596774</td>\n",
       "    </tr>\n",
       "    <tr>\n",
       "      <th>1</th>\n",
       "      <td>Pembroke</td>\n",
       "      <td>11.657143</td>\n",
       "    </tr>\n",
       "    <tr>\n",
       "      <th>2</th>\n",
       "      <td>combined4</td>\n",
       "      <td>11.194030</td>\n",
       "    </tr>\n",
       "    <tr>\n",
       "      <th>3</th>\n",
       "      <td>Chihuahua</td>\n",
       "      <td>10.720000</td>\n",
       "    </tr>\n",
       "    <tr>\n",
       "      <th>4</th>\n",
       "      <td>Pug</td>\n",
       "      <td>10.288889</td>\n",
       "    </tr>\n",
       "    <tr>\n",
       "      <th>5</th>\n",
       "      <td>Samoyed</td>\n",
       "      <td>11.687500</td>\n",
       "    </tr>\n",
       "    <tr>\n",
       "      <th>6</th>\n",
       "      <td>Pomeranian</td>\n",
       "      <td>11.172414</td>\n",
       "    </tr>\n",
       "    <tr>\n",
       "      <th>7</th>\n",
       "      <td>chow</td>\n",
       "      <td>11.730769</td>\n",
       "    </tr>\n",
       "    <tr>\n",
       "      <th>8</th>\n",
       "      <td>toy_poodle</td>\n",
       "      <td>11.208333</td>\n",
       "    </tr>\n",
       "    <tr>\n",
       "      <th>9</th>\n",
       "      <td>French_bulldog</td>\n",
       "      <td>11.227273</td>\n",
       "    </tr>\n",
       "  </tbody>\n",
       "</table>\n",
       "</div>"
      ],
      "text/plain": [
       "              breed  rating_mean\n",
       "0  golden_retriever    11.596774\n",
       "1          Pembroke    11.657143\n",
       "2         combined4    11.194030\n",
       "3         Chihuahua    10.720000\n",
       "4               Pug    10.288889\n",
       "5           Samoyed    11.687500\n",
       "6        Pomeranian    11.172414\n",
       "7              chow    11.730769\n",
       "8        toy_poodle    11.208333\n",
       "9    French_bulldog    11.227273"
      ]
     },
     "execution_count": 707,
     "metadata": {},
     "output_type": "execute_result"
    }
   ],
   "source": [
    "from pandas import DataFrame\n",
    "df3=DataFrame(list_doggy,columns=['breed','rating_mean'])\n",
    "df3"
   ]
  },
  {
   "cell_type": "code",
   "execution_count": null,
   "metadata": {
    "scrolled": true
   },
   "outputs": [],
   "source": []
  },
  {
   "cell_type": "code",
   "execution_count": 708,
   "metadata": {
    "scrolled": true
   },
   "outputs": [
    {
     "data": {
      "text/html": [
       "<div>\n",
       "<style scoped>\n",
       "    .dataframe tbody tr th:only-of-type {\n",
       "        vertical-align: middle;\n",
       "    }\n",
       "\n",
       "    .dataframe tbody tr th {\n",
       "        vertical-align: top;\n",
       "    }\n",
       "\n",
       "    .dataframe thead th {\n",
       "        text-align: right;\n",
       "    }\n",
       "</style>\n",
       "<table border=\"1\" class=\"dataframe\">\n",
       "  <thead>\n",
       "    <tr style=\"text-align: right;\">\n",
       "      <th></th>\n",
       "      <th>breed</th>\n",
       "      <th>rating_mean</th>\n",
       "    </tr>\n",
       "  </thead>\n",
       "  <tbody>\n",
       "    <tr>\n",
       "      <th>4</th>\n",
       "      <td>Pug</td>\n",
       "      <td>10.288889</td>\n",
       "    </tr>\n",
       "    <tr>\n",
       "      <th>3</th>\n",
       "      <td>Chihuahua</td>\n",
       "      <td>10.720000</td>\n",
       "    </tr>\n",
       "    <tr>\n",
       "      <th>6</th>\n",
       "      <td>Pomeranian</td>\n",
       "      <td>11.172414</td>\n",
       "    </tr>\n",
       "    <tr>\n",
       "      <th>2</th>\n",
       "      <td>combined4</td>\n",
       "      <td>11.194030</td>\n",
       "    </tr>\n",
       "    <tr>\n",
       "      <th>8</th>\n",
       "      <td>toy_poodle</td>\n",
       "      <td>11.208333</td>\n",
       "    </tr>\n",
       "    <tr>\n",
       "      <th>9</th>\n",
       "      <td>French_bulldog</td>\n",
       "      <td>11.227273</td>\n",
       "    </tr>\n",
       "    <tr>\n",
       "      <th>0</th>\n",
       "      <td>golden_retriever</td>\n",
       "      <td>11.596774</td>\n",
       "    </tr>\n",
       "    <tr>\n",
       "      <th>1</th>\n",
       "      <td>Pembroke</td>\n",
       "      <td>11.657143</td>\n",
       "    </tr>\n",
       "    <tr>\n",
       "      <th>5</th>\n",
       "      <td>Samoyed</td>\n",
       "      <td>11.687500</td>\n",
       "    </tr>\n",
       "    <tr>\n",
       "      <th>7</th>\n",
       "      <td>chow</td>\n",
       "      <td>11.730769</td>\n",
       "    </tr>\n",
       "  </tbody>\n",
       "</table>\n",
       "</div>"
      ],
      "text/plain": [
       "              breed  rating_mean\n",
       "4               Pug    10.288889\n",
       "3         Chihuahua    10.720000\n",
       "6        Pomeranian    11.172414\n",
       "2         combined4    11.194030\n",
       "8        toy_poodle    11.208333\n",
       "9    French_bulldog    11.227273\n",
       "0  golden_retriever    11.596774\n",
       "1          Pembroke    11.657143\n",
       "5           Samoyed    11.687500\n",
       "7              chow    11.730769"
      ]
     },
     "execution_count": 708,
     "metadata": {},
     "output_type": "execute_result"
    }
   ],
   "source": [
    "df3.sort_values(by=['rating_mean'])"
   ]
  },
  {
   "cell_type": "code",
   "execution_count": 709,
   "metadata": {
    "scrolled": true
   },
   "outputs": [],
   "source": [
    "# chow is the breed has the highest avarage rating amond all breed."
   ]
  },
  {
   "cell_type": "code",
   "execution_count": null,
   "metadata": {
    "scrolled": true
   },
   "outputs": [],
   "source": []
  },
  {
   "cell_type": "code",
   "execution_count": 710,
   "metadata": {
    "scrolled": true
   },
   "outputs": [],
   "source": [
    "import matplotlib.pyplot as plt\n",
    "import numpy as np\n",
    "import statsmodels.api as sm"
   ]
  },
  {
   "cell_type": "code",
   "execution_count": 711,
   "metadata": {
    "scrolled": true
   },
   "outputs": [
    {
     "data": {
      "text/plain": [
       "Text(0, 0.5, 'rating_mean')"
      ]
     },
     "execution_count": 711,
     "metadata": {},
     "output_type": "execute_result"
    },
    {
     "data": {
      "image/png": "[encoded data removed]",
      "text/plain": [
       "<Figure size 720x360 with 1 Axes>"
      ]
     },
     "metadata": {
      "needs_background": "light"
     },
     "output_type": "display_data"
    }
   ],
   "source": [
    "df3.plot.bar(figsize=(10,5),title='sinificant tweet rating_mean ranking of dog breed ',x=\"breed\",fontsize=10,y='rating_mean',rot=50)\n",
    "plt.xlabel('breed',fontsize=18)\n",
    "plt.ylabel('rating_mean',fontsize=18)"
   ]
  },
  {
   "cell_type": "code",
   "execution_count": null,
   "metadata": {
    "scrolled": true
   },
   "outputs": [],
   "source": []
  },
  {
   "cell_type": "code",
   "execution_count": 712,
   "metadata": {
    "scrolled": true
   },
   "outputs": [],
   "source": [
    "# use color(from light to dark) to list out the tweet rating_mean ranking"
   ]
  },
  {
   "cell_type": "code",
   "execution_count": 713,
   "metadata": {
    "scrolled": true
   },
   "outputs": [
    {
     "data": {
      "text/plain": [
       "Text(0, 0.5, 'rating_mean')"
      ]
     },
     "execution_count": 713,
     "metadata": {},
     "output_type": "execute_result"
    },
    {
     "data": {
      "image/png": "[encoded data removed]",
      "text/plain": [
       "<Figure size 720x360 with 1 Axes>"
      ]
     },
     "metadata": {
      "needs_background": "light"
     },
     "output_type": "display_data"
    }
   ],
   "source": [
    "color_list = ['lightcoral', 'lightcyan', 'paleturquoise', 'powderblue','lightskyblue','steelblue','deepskyblue','dodgerblue','mediumblue','navy']\n",
    "df4.plot.bar(figsize=(10,5),title='sinificant tweet rating_mean ranking of dog breed ',x=\"breed\",fontsize=10,y='rating_mean',rot=50,color=color_list)\n",
    "plt.xlabel('breed',fontsize=18)\n",
    "plt.ylabel('rating_mean',fontsize=18)"
   ]
  },
  {
   "cell_type": "code",
   "execution_count": null,
   "metadata": {
    "scrolled": true
   },
   "outputs": [],
   "source": []
  },
  {
   "cell_type": "code",
   "execution_count": 714,
   "metadata": {
    "scrolled": true
   },
   "outputs": [
    {
     "data": {
      "text/plain": [
       "2       00:18:03\n",
       "4       16:00:24\n",
       "7       00:22:40\n",
       "9       15:59:51\n",
       "10      00:31:25\n",
       "          ...   \n",
       "2065    00:49:46\n",
       "2067    00:30:50\n",
       "2068    00:24:50\n",
       "2070    23:21:54\n",
       "2071    23:05:30\n",
       "Name: timestamp_time, Length: 962, dtype: object"
      ]
     },
     "execution_count": 714,
     "metadata": {},
     "output_type": "execute_result"
    }
   ],
   "source": [
    "combined4.timestamp_time"
   ]
  },
  {
   "cell_type": "code",
   "execution_count": 715,
   "metadata": {
    "scrolled": true
   },
   "outputs": [
    {
     "data": {
      "text/html": [
       "<div>\n",
       "<style scoped>\n",
       "    .dataframe tbody tr th:only-of-type {\n",
       "        vertical-align: middle;\n",
       "    }\n",
       "\n",
       "    .dataframe tbody tr th {\n",
       "        vertical-align: top;\n",
       "    }\n",
       "\n",
       "    .dataframe thead th {\n",
       "        text-align: right;\n",
       "    }\n",
       "</style>\n",
       "<table border=\"1\" class=\"dataframe\">\n",
       "  <thead>\n",
       "    <tr style=\"text-align: right;\">\n",
       "      <th></th>\n",
       "      <th>tweet_id</th>\n",
       "      <th>in_reply_to_status_id_x</th>\n",
       "      <th>in_reply_to_user_id_x</th>\n",
       "      <th>timestamp</th>\n",
       "      <th>source_x</th>\n",
       "      <th>text</th>\n",
       "      <th>retweeted_status_id</th>\n",
       "      <th>retweeted_status_user_id</th>\n",
       "      <th>retweeted_status_timestamp</th>\n",
       "      <th>expanded_urls</th>\n",
       "      <th>...</th>\n",
       "      <th>p1</th>\n",
       "      <th>p1_conf</th>\n",
       "      <th>p1_dog</th>\n",
       "      <th>p2</th>\n",
       "      <th>p2_conf</th>\n",
       "      <th>p2_dog</th>\n",
       "      <th>p3</th>\n",
       "      <th>p3_conf</th>\n",
       "      <th>p3_dog</th>\n",
       "      <th>p1_conf_level</th>\n",
       "    </tr>\n",
       "  </thead>\n",
       "  <tbody>\n",
       "    <tr>\n",
       "      <th>2</th>\n",
       "      <td>891815181378084864</td>\n",
       "      <td>NaN</td>\n",
       "      <td>NaN</td>\n",
       "      <td>2017-07-31 00:18:03 +0000</td>\n",
       "      <td>&lt;a href=\"http://twitter.com/download/iphone\" r...</td>\n",
       "      <td>This is Archie. He is a rare Norwegian Pouncin...</td>\n",
       "      <td>NaN</td>\n",
       "      <td>NaN</td>\n",
       "      <td>NaN</td>\n",
       "      <td>https://twitter.com/dog_rates/status/891815181...</td>\n",
       "      <td>...</td>\n",
       "      <td>Chihuahua</td>\n",
       "      <td>0.716012</td>\n",
       "      <td>True</td>\n",
       "      <td>malamute</td>\n",
       "      <td>0.078253</td>\n",
       "      <td>True</td>\n",
       "      <td>kelpie</td>\n",
       "      <td>0.031379</td>\n",
       "      <td>True</td>\n",
       "      <td>confidence</td>\n",
       "    </tr>\n",
       "  </tbody>\n",
       "</table>\n",
       "<p>1 rows × 62 columns</p>\n",
       "</div>"
      ],
      "text/plain": [
       "             tweet_id  in_reply_to_status_id_x  in_reply_to_user_id_x  \\\n",
       "2  891815181378084864                      NaN                    NaN   \n",
       "\n",
       "                   timestamp  \\\n",
       "2  2017-07-31 00:18:03 +0000   \n",
       "\n",
       "                                            source_x  \\\n",
       "2  <a href=\"http://twitter.com/download/iphone\" r...   \n",
       "\n",
       "                                                text  retweeted_status_id  \\\n",
       "2  This is Archie. He is a rare Norwegian Pouncin...                  NaN   \n",
       "\n",
       "   retweeted_status_user_id retweeted_status_timestamp  \\\n",
       "2                       NaN                        NaN   \n",
       "\n",
       "                                       expanded_urls  ...         p1  \\\n",
       "2  https://twitter.com/dog_rates/status/891815181...  ...  Chihuahua   \n",
       "\n",
       "    p1_conf p1_dog        p2   p2_conf p2_dog      p3   p3_conf p3_dog  \\\n",
       "2  0.716012   True  malamute  0.078253   True  kelpie  0.031379   True   \n",
       "\n",
       "   p1_conf_level  \n",
       "2     confidence  \n",
       "\n",
       "[1 rows x 62 columns]"
      ]
     },
     "execution_count": 715,
     "metadata": {},
     "output_type": "execute_result"
    }
   ],
   "source": [
    "combined4.head(1)"
   ]
  },
  {
   "cell_type": "code",
   "execution_count": 716,
   "metadata": {
    "scrolled": true
   },
   "outputs": [],
   "source": [
    "combined5=combined4[['tweet_id','timestamp_time','timestamp_date','rating_numerator','rating_denominator_1','p1','p1_conf','p1_dog','p1_conf_level']]"
   ]
  },
  {
   "cell_type": "code",
   "execution_count": 717,
   "metadata": {
    "scrolled": true
   },
   "outputs": [
    {
     "data": {
      "text/html": [
       "<div>\n",
       "<style scoped>\n",
       "    .dataframe tbody tr th:only-of-type {\n",
       "        vertical-align: middle;\n",
       "    }\n",
       "\n",
       "    .dataframe tbody tr th {\n",
       "        vertical-align: top;\n",
       "    }\n",
       "\n",
       "    .dataframe thead th {\n",
       "        text-align: right;\n",
       "    }\n",
       "</style>\n",
       "<table border=\"1\" class=\"dataframe\">\n",
       "  <thead>\n",
       "    <tr style=\"text-align: right;\">\n",
       "      <th></th>\n",
       "      <th>tweet_id</th>\n",
       "      <th>timestamp_time</th>\n",
       "      <th>timestamp_date</th>\n",
       "      <th>rating_numerator</th>\n",
       "      <th>rating_denominator_1</th>\n",
       "      <th>p1</th>\n",
       "      <th>p1_conf</th>\n",
       "      <th>p1_dog</th>\n",
       "      <th>p1_conf_level</th>\n",
       "    </tr>\n",
       "  </thead>\n",
       "  <tbody>\n",
       "    <tr>\n",
       "      <th>2</th>\n",
       "      <td>891815181378084864</td>\n",
       "      <td>00:18:03</td>\n",
       "      <td>2017-07-31</td>\n",
       "      <td>12</td>\n",
       "      <td>10</td>\n",
       "      <td>Chihuahua</td>\n",
       "      <td>0.716012</td>\n",
       "      <td>True</td>\n",
       "      <td>confidence</td>\n",
       "    </tr>\n",
       "    <tr>\n",
       "      <th>4</th>\n",
       "      <td>891327558926688256</td>\n",
       "      <td>16:00:24</td>\n",
       "      <td>2017-07-29</td>\n",
       "      <td>12</td>\n",
       "      <td>10</td>\n",
       "      <td>basset</td>\n",
       "      <td>0.555712</td>\n",
       "      <td>True</td>\n",
       "      <td>confidence</td>\n",
       "    </tr>\n",
       "    <tr>\n",
       "      <th>7</th>\n",
       "      <td>890729181411237888</td>\n",
       "      <td>00:22:40</td>\n",
       "      <td>2017-07-28</td>\n",
       "      <td>13</td>\n",
       "      <td>10</td>\n",
       "      <td>Pomeranian</td>\n",
       "      <td>0.566142</td>\n",
       "      <td>True</td>\n",
       "      <td>confidence</td>\n",
       "    </tr>\n",
       "    <tr>\n",
       "      <th>9</th>\n",
       "      <td>890240255349198849</td>\n",
       "      <td>15:59:51</td>\n",
       "      <td>2017-07-26</td>\n",
       "      <td>14</td>\n",
       "      <td>10</td>\n",
       "      <td>Pembroke</td>\n",
       "      <td>0.511319</td>\n",
       "      <td>True</td>\n",
       "      <td>confidence</td>\n",
       "    </tr>\n",
       "  </tbody>\n",
       "</table>\n",
       "</div>"
      ],
      "text/plain": [
       "             tweet_id timestamp_time timestamp_date  rating_numerator  \\\n",
       "2  891815181378084864       00:18:03     2017-07-31                12   \n",
       "4  891327558926688256       16:00:24     2017-07-29                12   \n",
       "7  890729181411237888       00:22:40     2017-07-28                13   \n",
       "9  890240255349198849       15:59:51     2017-07-26                14   \n",
       "\n",
       "   rating_denominator_1          p1   p1_conf p1_dog p1_conf_level  \n",
       "2                    10   Chihuahua  0.716012   True    confidence  \n",
       "4                    10      basset  0.555712   True    confidence  \n",
       "7                    10  Pomeranian  0.566142   True    confidence  \n",
       "9                    10    Pembroke  0.511319   True    confidence  "
      ]
     },
     "execution_count": 717,
     "metadata": {},
     "output_type": "execute_result"
    }
   ],
   "source": [
    "combined5.head(4)"
   ]
  },
  {
   "cell_type": "code",
   "execution_count": null,
   "metadata": {
    "scrolled": true
   },
   "outputs": [],
   "source": []
  },
  {
   "cell_type": "code",
   "execution_count": null,
   "metadata": {
    "scrolled": true
   },
   "outputs": [],
   "source": []
  },
  {
   "cell_type": "code",
   "execution_count": 718,
   "metadata": {
    "scrolled": true
   },
   "outputs": [
    {
     "data": {
      "text/html": [
       "<div>\n",
       "<style scoped>\n",
       "    .dataframe tbody tr th:only-of-type {\n",
       "        vertical-align: middle;\n",
       "    }\n",
       "\n",
       "    .dataframe tbody tr th {\n",
       "        vertical-align: top;\n",
       "    }\n",
       "\n",
       "    .dataframe thead th {\n",
       "        text-align: right;\n",
       "    }\n",
       "</style>\n",
       "<table border=\"1\" class=\"dataframe\">\n",
       "  <thead>\n",
       "    <tr style=\"text-align: right;\">\n",
       "      <th></th>\n",
       "      <th>tweet_id</th>\n",
       "      <th>in_reply_to_status_id</th>\n",
       "      <th>in_reply_to_user_id</th>\n",
       "      <th>timestamp</th>\n",
       "      <th>source</th>\n",
       "      <th>text</th>\n",
       "      <th>retweeted_status_id</th>\n",
       "      <th>retweeted_status_user_id</th>\n",
       "      <th>retweeted_status_timestamp</th>\n",
       "      <th>expanded_urls</th>\n",
       "      <th>rating_numerator</th>\n",
       "      <th>rating_denominator</th>\n",
       "      <th>name</th>\n",
       "      <th>doggo</th>\n",
       "      <th>floofer</th>\n",
       "      <th>pupper</th>\n",
       "      <th>puppo</th>\n",
       "      <th>timestamp_date</th>\n",
       "      <th>timestamp_time</th>\n",
       "      <th>rating_denominator_1</th>\n",
       "    </tr>\n",
       "  </thead>\n",
       "  <tbody>\n",
       "    <tr>\n",
       "      <th>0</th>\n",
       "      <td>892420643555336193</td>\n",
       "      <td>NaN</td>\n",
       "      <td>NaN</td>\n",
       "      <td>2017-08-01 16:23:56 +0000</td>\n",
       "      <td>&lt;a href=\"http://twitter.com/download/iphone\" r...</td>\n",
       "      <td>This is Phineas. He's a mystical boy. Only eve...</td>\n",
       "      <td>NaN</td>\n",
       "      <td>NaN</td>\n",
       "      <td>NaN</td>\n",
       "      <td>https://twitter.com/dog_rates/status/892420643...</td>\n",
       "      <td>13</td>\n",
       "      <td>10</td>\n",
       "      <td>Phineas</td>\n",
       "      <td>None</td>\n",
       "      <td>None</td>\n",
       "      <td>None</td>\n",
       "      <td>None</td>\n",
       "      <td>2017-08-01</td>\n",
       "      <td>16:23:56</td>\n",
       "      <td>10</td>\n",
       "    </tr>\n",
       "  </tbody>\n",
       "</table>\n",
       "</div>"
      ],
      "text/plain": [
       "             tweet_id  in_reply_to_status_id  in_reply_to_user_id  \\\n",
       "0  892420643555336193                    NaN                  NaN   \n",
       "\n",
       "                   timestamp  \\\n",
       "0  2017-08-01 16:23:56 +0000   \n",
       "\n",
       "                                              source  \\\n",
       "0  <a href=\"http://twitter.com/download/iphone\" r...   \n",
       "\n",
       "                                                text  retweeted_status_id  \\\n",
       "0  This is Phineas. He's a mystical boy. Only eve...                  NaN   \n",
       "\n",
       "   retweeted_status_user_id retweeted_status_timestamp  \\\n",
       "0                       NaN                        NaN   \n",
       "\n",
       "                                       expanded_urls  rating_numerator  \\\n",
       "0  https://twitter.com/dog_rates/status/892420643...                13   \n",
       "\n",
       "   rating_denominator     name doggo floofer pupper puppo timestamp_date  \\\n",
       "0                  10  Phineas  None    None   None  None     2017-08-01   \n",
       "\n",
       "  timestamp_time  rating_denominator_1  \n",
       "0       16:23:56                    10  "
      ]
     },
     "execution_count": 718,
     "metadata": {},
     "output_type": "execute_result"
    }
   ],
   "source": [
    "df_clean.head(1)"
   ]
  },
  {
   "cell_type": "code",
   "execution_count": null,
   "metadata": {
    "scrolled": true
   },
   "outputs": [],
   "source": []
  },
  {
   "cell_type": "code",
   "execution_count": 719,
   "metadata": {
    "scrolled": true
   },
   "outputs": [
    {
     "data": {
      "text/plain": [
       "0       2017-08-01\n",
       "1       2017-08-01\n",
       "2       2017-07-31\n",
       "3       2017-07-30\n",
       "4       2017-07-29\n",
       "           ...    \n",
       "2351    2015-11-16\n",
       "2352    2015-11-16\n",
       "2353    2015-11-15\n",
       "2354    2015-11-15\n",
       "2355    2015-11-15\n",
       "Name: timestamp_date, Length: 2356, dtype: object"
      ]
     },
     "execution_count": 719,
     "metadata": {},
     "output_type": "execute_result"
    }
   ],
   "source": [
    "df_clean.timestamp_date"
   ]
  },
  {
   "cell_type": "code",
   "execution_count": 720,
   "metadata": {
    "scrolled": true
   },
   "outputs": [],
   "source": [
    "tweet_date_trend=df_clean.timestamp_date.value_counts()"
   ]
  },
  {
   "cell_type": "code",
   "execution_count": 721,
   "metadata": {
    "scrolled": true
   },
   "outputs": [
    {
     "data": {
      "text/plain": [
       "2015-11-28    26\n",
       "2015-11-29    26\n",
       "2015-11-16    25\n",
       "2015-12-01    24\n",
       "2015-11-19    23\n",
       "              ..\n",
       "2016-08-14     1\n",
       "2017-06-05     1\n",
       "2016-12-08     1\n",
       "2016-08-22     1\n",
       "2017-03-22     1\n",
       "Name: timestamp_date, Length: 608, dtype: int64"
      ]
     },
     "execution_count": 721,
     "metadata": {},
     "output_type": "execute_result"
    }
   ],
   "source": [
    "tweet_date_trend"
   ]
  },
  {
   "cell_type": "code",
   "execution_count": null,
   "metadata": {
    "scrolled": true
   },
   "outputs": [],
   "source": []
  },
  {
   "cell_type": "code",
   "execution_count": 722,
   "metadata": {
    "scrolled": true
   },
   "outputs": [
    {
     "data": {
      "text/plain": [
       "Text(0, 0.5, 'tweet counts')"
      ]
     },
     "execution_count": 722,
     "metadata": {},
     "output_type": "execute_result"
    },
    {
     "data": {
      "image/png": "[encoded data removed]",
      "text/plain": [
       "<Figure size 2160x720 with 1 Axes>"
      ]
     },
     "metadata": {
      "needs_background": "light"
     },
     "output_type": "display_data"
    }
   ],
   "source": [
    "tweet_date_trend.plot.line(figsize=(30,10), title='The trend of tweet engage in rate your dog')\n",
    "plt.xlabel('Years',fontsize=14)\n",
    "plt.ylabel('tweet counts',fontsize=18)"
   ]
  },
  {
   "cell_type": "code",
   "execution_count": 723,
   "metadata": {
    "scrolled": true
   },
   "outputs": [],
   "source": [
    "## the trend going slow from 2015 to 2017"
   ]
  },
  {
   "cell_type": "code",
   "execution_count": null,
   "metadata": {
    "scrolled": true
   },
   "outputs": [],
   "source": []
  },
  {
   "cell_type": "code",
   "execution_count": 724,
   "metadata": {
    "scrolled": true
   },
   "outputs": [
    {
     "name": "stdout",
     "output_type": "stream",
     "text": [
      "<class 'pandas.core.frame.DataFrame'>\n",
      "RangeIndex: 2356 entries, 0 to 2355\n",
      "Data columns (total 17 columns):\n",
      " #   Column                      Non-Null Count  Dtype  \n",
      "---  ------                      --------------  -----  \n",
      " 0   tweet_id                    2356 non-null   int64  \n",
      " 1   in_reply_to_status_id       78 non-null     float64\n",
      " 2   in_reply_to_user_id         78 non-null     float64\n",
      " 3   timestamp                   2356 non-null   object \n",
      " 4   source                      2356 non-null   object \n",
      " 5   text                        2356 non-null   object \n",
      " 6   retweeted_status_id         181 non-null    float64\n",
      " 7   retweeted_status_user_id    181 non-null    float64\n",
      " 8   retweeted_status_timestamp  181 non-null    object \n",
      " 9   expanded_urls               2297 non-null   object \n",
      " 10  rating_numerator            2356 non-null   int64  \n",
      " 11  rating_denominator          2356 non-null   int64  \n",
      " 12  name                        2356 non-null   object \n",
      " 13  doggo                       2356 non-null   object \n",
      " 14  floofer                     2356 non-null   object \n",
      " 15  pupper                      2356 non-null   object \n",
      " 16  puppo                       2356 non-null   object \n",
      "dtypes: float64(4), int64(3), object(10)\n",
      "memory usage: 313.0+ KB\n"
     ]
    }
   ],
   "source": [
    "df.info()"
   ]
  },
  {
   "cell_type": "code",
   "execution_count": 725,
   "metadata": {
    "scrolled": true
   },
   "outputs": [
    {
     "data": {
      "text/plain": [
       "2       25461\n",
       "4       41048\n",
       "7       56848\n",
       "9       32467\n",
       "10      31166\n",
       "        ...  \n",
       "2065      448\n",
       "2067      136\n",
       "2068      111\n",
       "2070      128\n",
       "2071      132\n",
       "Name: favorite_count, Length: 972, dtype: int64"
      ]
     },
     "execution_count": 725,
     "metadata": {},
     "output_type": "execute_result"
    }
   ],
   "source": [
    "combined3.favorite_count"
   ]
  },
  {
   "cell_type": "code",
   "execution_count": null,
   "metadata": {
    "scrolled": true
   },
   "outputs": [],
   "source": []
  },
  {
   "cell_type": "code",
   "execution_count": 726,
   "metadata": {
    "scrolled": true
   },
   "outputs": [
    {
     "name": "stdout",
     "output_type": "stream",
     "text": [
      "<class 'pandas.core.frame.DataFrame'>\n",
      "Int64Index: 962 entries, 2 to 2071\n",
      "Data columns (total 9 columns):\n",
      " #   Column                Non-Null Count  Dtype   \n",
      "---  ------                --------------  -----   \n",
      " 0   tweet_id              962 non-null    int64   \n",
      " 1   timestamp_time        962 non-null    object  \n",
      " 2   timestamp_date        962 non-null    object  \n",
      " 3   rating_numerator      962 non-null    int64   \n",
      " 4   rating_denominator_1  962 non-null    int64   \n",
      " 5   p1                    962 non-null    object  \n",
      " 6   p1_conf               962 non-null    float64 \n",
      " 7   p1_dog                962 non-null    object  \n",
      " 8   p1_conf_level         962 non-null    category\n",
      "dtypes: category(1), float64(1), int64(3), object(4)\n",
      "memory usage: 68.8+ KB\n"
     ]
    }
   ],
   "source": [
    "combined5.info()"
   ]
  },
  {
   "cell_type": "code",
   "execution_count": null,
   "metadata": {
    "scrolled": true
   },
   "outputs": [],
   "source": []
  },
  {
   "cell_type": "code",
   "execution_count": 727,
   "metadata": {
    "scrolled": true
   },
   "outputs": [
    {
     "name": "stdout",
     "output_type": "stream",
     "text": [
      "<class 'pandas.core.frame.DataFrame'>\n",
      "Int64Index: 972 entries, 2 to 2071\n",
      "Data columns (total 62 columns):\n",
      " #   Column                         Non-Null Count  Dtype   \n",
      "---  ------                         --------------  -----   \n",
      " 0   tweet_id                       972 non-null    int64   \n",
      " 1   in_reply_to_status_id_x        8 non-null      float64 \n",
      " 2   in_reply_to_user_id_x          8 non-null      float64 \n",
      " 3   timestamp                      972 non-null    object  \n",
      " 4   source_x                       972 non-null    object  \n",
      " 5   text                           972 non-null    object  \n",
      " 6   retweeted_status_id            35 non-null     float64 \n",
      " 7   retweeted_status_user_id       35 non-null     float64 \n",
      " 8   retweeted_status_timestamp     35 non-null     object  \n",
      " 9   expanded_urls                  972 non-null    object  \n",
      " 10  rating_numerator               972 non-null    int64   \n",
      " 11  rating_denominator             972 non-null    int64   \n",
      " 12  name                           972 non-null    object  \n",
      " 13  doggo                          972 non-null    object  \n",
      " 14  floofer                        972 non-null    object  \n",
      " 15  pupper                         972 non-null    object  \n",
      " 16  puppo                          972 non-null    object  \n",
      " 17  timestamp_date                 972 non-null    object  \n",
      " 18  timestamp_time                 972 non-null    object  \n",
      " 19  rating_denominator_1           972 non-null    int64   \n",
      " 20  created_at                     972 non-null    object  \n",
      " 21  id_str                         972 non-null    object  \n",
      " 22  full_text                      972 non-null    object  \n",
      " 23  truncated                      972 non-null    bool    \n",
      " 24  display_text_range             972 non-null    object  \n",
      " 25  entities                       972 non-null    object  \n",
      " 26  extended_entities              972 non-null    object  \n",
      " 27  source_y                       972 non-null    object  \n",
      " 28  in_reply_to_status_id_y        8 non-null      float64 \n",
      " 29  in_reply_to_status_id_str      972 non-null    object  \n",
      " 30  in_reply_to_user_id_y          972 non-null    object  \n",
      " 31  in_reply_to_user_id_str        972 non-null    object  \n",
      " 32  in_reply_to_screen_name        8 non-null      object  \n",
      " 33  user                           972 non-null    object  \n",
      " 34  geo                            0 non-null      float64 \n",
      " 35  coordinates                    0 non-null      float64 \n",
      " 36  place                          0 non-null      object  \n",
      " 37  contributors                   0 non-null      float64 \n",
      " 38  is_quote_status                972 non-null    bool    \n",
      " 39  retweet_count                  972 non-null    int64   \n",
      " 40  favorite_count                 972 non-null    int64   \n",
      " 41  favorited                      972 non-null    bool    \n",
      " 42  retweeted                      972 non-null    bool    \n",
      " 43  possibly_sensitive             972 non-null    bool    \n",
      " 44  possibly_sensitive_appealable  972 non-null    float64 \n",
      " 45  lang                           972 non-null    object  \n",
      " 46  retweeted_status               35 non-null     object  \n",
      " 47  quoted_status_id               0 non-null      float64 \n",
      " 48  quoted_status_id_str           0 non-null      float64 \n",
      " 49  quoted_status                  0 non-null      object  \n",
      " 50  jpg_url                        972 non-null    object  \n",
      " 51  img_num                        972 non-null    int64   \n",
      " 52  p1                             972 non-null    object  \n",
      " 53  p1_conf                        972 non-null    float64 \n",
      " 54  p1_dog                         972 non-null    object  \n",
      " 55  p2                             972 non-null    object  \n",
      " 56  p2_conf                        972 non-null    float64 \n",
      " 57  p2_dog                         972 non-null    bool    \n",
      " 58  p3                             972 non-null    object  \n",
      " 59  p3_conf                        972 non-null    float64 \n",
      " 60  p3_dog                         972 non-null    bool    \n",
      " 61  p1_conf_level                  972 non-null    category\n",
      "dtypes: bool(7), category(1), float64(14), int64(7), object(33)\n",
      "memory usage: 425.4+ KB\n"
     ]
    }
   ],
   "source": [
    "combined3.info()"
   ]
  },
  {
   "cell_type": "code",
   "execution_count": null,
   "metadata": {
    "scrolled": true
   },
   "outputs": [],
   "source": []
  },
  {
   "cell_type": "code",
   "execution_count": 728,
   "metadata": {
    "scrolled": true
   },
   "outputs": [
    {
     "data": {
      "text/plain": [
       "0                       orange\n",
       "1                    Chihuahua\n",
       "2                    Chihuahua\n",
       "3                  paper_towel\n",
       "4                       basset\n",
       "                 ...          \n",
       "2068        miniature_pinscher\n",
       "2069       Rhodesian_ridgeback\n",
       "2070           German_shepherd\n",
       "2071                   redbone\n",
       "2072    Welsh_springer_spaniel\n",
       "Name: p1, Length: 2073, dtype: object"
      ]
     },
     "execution_count": 728,
     "metadata": {},
     "output_type": "execute_result"
    }
   ],
   "source": [
    "combined2.p1"
   ]
  },
  {
   "cell_type": "code",
   "execution_count": null,
   "metadata": {
    "scrolled": true
   },
   "outputs": [],
   "source": []
  },
  {
   "cell_type": "code",
   "execution_count": 729,
   "metadata": {
    "scrolled": true
   },
   "outputs": [
    {
     "name": "stdout",
     "output_type": "stream",
     "text": [
      "Breed and number of tweets\n",
      "--------------------------\n",
      "golden_retriever      150\n",
      "Labrador_retriever    100\n",
      "Pembroke               88\n",
      "Chihuahua              83\n",
      "pug                    57\n",
      "chow                   44\n",
      "Samoyed                43\n",
      "toy_poodle             39\n",
      "Pomeranian             38\n",
      "cocker_spaniel         30\n",
      "Name: p1, dtype: int64\n",
      "\n",
      "Top 10 dog breeds make up 32% of all tweets\n"
     ]
    }
   ],
   "source": [
    "top10_breeds_count = \\\n",
    "combined2[combined2.p1 != 'none'].p1.value_counts().head(10)\n",
    "print(\"Breed and number of tweets\")\n",
    "print(\"--------------------------\")\n",
    "print(top10_breeds_count)\n",
    "\n",
    "top10_per = round(sum(top10_breeds_count) * 100 / combined2.shape[0])\n",
    "print(\"\\nTop 10 dog breeds make up {}% of all tweets\".format(top10_per))"
   ]
  },
  {
   "cell_type": "code",
   "execution_count": null,
   "metadata": {
    "scrolled": true
   },
   "outputs": [],
   "source": []
  },
  {
   "cell_type": "code",
   "execution_count": 730,
   "metadata": {
    "scrolled": true
   },
   "outputs": [],
   "source": [
    "# use combined5 because the dataset has sinificant meaning."
   ]
  },
  {
   "cell_type": "code",
   "execution_count": 731,
   "metadata": {
    "scrolled": true
   },
   "outputs": [
    {
     "name": "stdout",
     "output_type": "stream",
     "text": [
      "Breed and number of tweets\n",
      "--------------------------\n",
      "golden_retriever      124\n",
      "Pembroke               70\n",
      "Labrador_retriever     67\n",
      "Chihuahua              50\n",
      "pug                    45\n",
      "Samoyed                32\n",
      "Pomeranian             29\n",
      "chow                   26\n",
      "toy_poodle             24\n",
      "French_bulldog         22\n",
      "Name: p1, dtype: int64\n",
      "\n",
      "Top 10 dog breeds make up 51% of all tweets\n"
     ]
    }
   ],
   "source": [
    "top10_breeds_count = \\\n",
    "combined5[combined5.p1 != 'none'].p1.value_counts().head(10)\n",
    "print(\"Breed and number of tweets\")\n",
    "print(\"--------------------------\")\n",
    "print(top10_breeds_count)\n",
    "\n",
    "top10_per = round(sum(top10_breeds_count) * 100 / combined5.shape[0])\n",
    "print(\"\\nTop 10 dog breeds make up {}% of all tweets\".format(top10_per))"
   ]
  },
  {
   "cell_type": "code",
   "execution_count": null,
   "metadata": {
    "scrolled": true
   },
   "outputs": [],
   "source": []
  },
  {
   "cell_type": "code",
   "execution_count": 732,
   "metadata": {
    "scrolled": true
   },
   "outputs": [],
   "source": [
    "## Store Data\n",
    "\n",
    "### the most update dateset will be archived in combined5 file."
   ]
  },
  {
   "cell_type": "code",
   "execution_count": 733,
   "metadata": {
    "scrolled": true
   },
   "outputs": [],
   "source": [
    "combined5.to_csv('combined5.csv',index=False)"
   ]
  },
  {
   "cell_type": "code",
   "execution_count": null,
   "metadata": {
    "scrolled": true
   },
   "outputs": [],
   "source": []
  },
  {
   "cell_type": "code",
   "execution_count": 734,
   "metadata": {
    "scrolled": true
   },
   "outputs": [
    {
     "name": "stdout",
     "output_type": "stream",
     "text": [
      "<class 'pandas.core.frame.DataFrame'>\n",
      "Int64Index: 962 entries, 2 to 2071\n",
      "Data columns (total 62 columns):\n",
      " #   Column                         Non-Null Count  Dtype   \n",
      "---  ------                         --------------  -----   \n",
      " 0   tweet_id                       962 non-null    int64   \n",
      " 1   in_reply_to_status_id_x        8 non-null      float64 \n",
      " 2   in_reply_to_user_id_x          8 non-null      float64 \n",
      " 3   timestamp                      962 non-null    object  \n",
      " 4   source_x                       962 non-null    object  \n",
      " 5   text                           962 non-null    object  \n",
      " 6   retweeted_status_id            35 non-null     float64 \n",
      " 7   retweeted_status_user_id       35 non-null     float64 \n",
      " 8   retweeted_status_timestamp     35 non-null     object  \n",
      " 9   expanded_urls                  962 non-null    object  \n",
      " 10  rating_numerator               962 non-null    int64   \n",
      " 11  rating_denominator             962 non-null    int64   \n",
      " 12  name                           962 non-null    object  \n",
      " 13  doggo                          962 non-null    object  \n",
      " 14  floofer                        962 non-null    object  \n",
      " 15  pupper                         962 non-null    object  \n",
      " 16  puppo                          962 non-null    object  \n",
      " 17  timestamp_date                 962 non-null    object  \n",
      " 18  timestamp_time                 962 non-null    object  \n",
      " 19  rating_denominator_1           962 non-null    int64   \n",
      " 20  created_at                     962 non-null    object  \n",
      " 21  id_str                         962 non-null    object  \n",
      " 22  full_text                      962 non-null    object  \n",
      " 23  truncated                      962 non-null    bool    \n",
      " 24  display_text_range             962 non-null    object  \n",
      " 25  entities                       962 non-null    object  \n",
      " 26  extended_entities              962 non-null    object  \n",
      " 27  source_y                       962 non-null    object  \n",
      " 28  in_reply_to_status_id_y        8 non-null      float64 \n",
      " 29  in_reply_to_status_id_str      962 non-null    object  \n",
      " 30  in_reply_to_user_id_y          962 non-null    object  \n",
      " 31  in_reply_to_user_id_str        962 non-null    object  \n",
      " 32  in_reply_to_screen_name        8 non-null      object  \n",
      " 33  user                           962 non-null    object  \n",
      " 34  geo                            0 non-null      float64 \n",
      " 35  coordinates                    0 non-null      float64 \n",
      " 36  place                          0 non-null      object  \n",
      " 37  contributors                   0 non-null      float64 \n",
      " 38  is_quote_status                962 non-null    bool    \n",
      " 39  retweet_count                  962 non-null    int64   \n",
      " 40  favorite_count                 962 non-null    int64   \n",
      " 41  favorited                      962 non-null    bool    \n",
      " 42  retweeted                      962 non-null    bool    \n",
      " 43  possibly_sensitive             962 non-null    bool    \n",
      " 44  possibly_sensitive_appealable  962 non-null    float64 \n",
      " 45  lang                           962 non-null    object  \n",
      " 46  retweeted_status               35 non-null     object  \n",
      " 47  quoted_status_id               0 non-null      float64 \n",
      " 48  quoted_status_id_str           0 non-null      float64 \n",
      " 49  quoted_status                  0 non-null      object  \n",
      " 50  jpg_url                        962 non-null    object  \n",
      " 51  img_num                        962 non-null    int64   \n",
      " 52  p1                             962 non-null    object  \n",
      " 53  p1_conf                        962 non-null    float64 \n",
      " 54  p1_dog                         962 non-null    object  \n",
      " 55  p2                             962 non-null    object  \n",
      " 56  p2_conf                        962 non-null    float64 \n",
      " 57  p2_dog                         962 non-null    bool    \n",
      " 58  p3                             962 non-null    object  \n",
      " 59  p3_conf                        962 non-null    float64 \n",
      " 60  p3_dog                         962 non-null    bool    \n",
      " 61  p1_conf_level                  962 non-null    category\n",
      "dtypes: bool(7), category(1), float64(14), int64(7), object(33)\n",
      "memory usage: 421.1+ KB\n"
     ]
    }
   ],
   "source": [
    "combined4.info()"
   ]
  },
  {
   "cell_type": "code",
   "execution_count": 735,
   "metadata": {
    "scrolled": false
   },
   "outputs": [
    {
     "data": {
      "text/html": [
       "<div>\n",
       "<style scoped>\n",
       "    .dataframe tbody tr th:only-of-type {\n",
       "        vertical-align: middle;\n",
       "    }\n",
       "\n",
       "    .dataframe tbody tr th {\n",
       "        vertical-align: top;\n",
       "    }\n",
       "\n",
       "    .dataframe thead th {\n",
       "        text-align: right;\n",
       "    }\n",
       "</style>\n",
       "<table border=\"1\" class=\"dataframe\">\n",
       "  <thead>\n",
       "    <tr style=\"text-align: right;\">\n",
       "      <th></th>\n",
       "      <th>tweet_id</th>\n",
       "      <th>in_reply_to_status_id_x</th>\n",
       "      <th>in_reply_to_user_id_x</th>\n",
       "      <th>timestamp</th>\n",
       "      <th>source_x</th>\n",
       "      <th>text</th>\n",
       "      <th>retweeted_status_id</th>\n",
       "      <th>retweeted_status_user_id</th>\n",
       "      <th>retweeted_status_timestamp</th>\n",
       "      <th>expanded_urls</th>\n",
       "      <th>...</th>\n",
       "      <th>p1</th>\n",
       "      <th>p1_conf</th>\n",
       "      <th>p1_dog</th>\n",
       "      <th>p2</th>\n",
       "      <th>p2_conf</th>\n",
       "      <th>p2_dog</th>\n",
       "      <th>p3</th>\n",
       "      <th>p3_conf</th>\n",
       "      <th>p3_dog</th>\n",
       "      <th>p1_conf_level</th>\n",
       "    </tr>\n",
       "  </thead>\n",
       "  <tbody>\n",
       "    <tr>\n",
       "      <th>35</th>\n",
       "      <td>884876753390489601</td>\n",
       "      <td>NaN</td>\n",
       "      <td>NaN</td>\n",
       "      <td>2017-07-11 20:47:12 +0000</td>\n",
       "      <td>&lt;a href=\"http://twitter.com/download/iphone\" r...</td>\n",
       "      <td>This is Lola. It's her first time outside. Mus...</td>\n",
       "      <td>NaN</td>\n",
       "      <td>NaN</td>\n",
       "      <td>NaN</td>\n",
       "      <td>https://twitter.com/dog_rates/status/884876753...</td>\n",
       "      <td>...</td>\n",
       "      <td>chow</td>\n",
       "      <td>0.822103</td>\n",
       "      <td>True</td>\n",
       "      <td>Norwich_terrier</td>\n",
       "      <td>0.106075</td>\n",
       "      <td>True</td>\n",
       "      <td>Norfolk_terrier</td>\n",
       "      <td>0.037348</td>\n",
       "      <td>True</td>\n",
       "      <td>confidence</td>\n",
       "    </tr>\n",
       "    <tr>\n",
       "      <th>41</th>\n",
       "      <td>883360690899218434</td>\n",
       "      <td>NaN</td>\n",
       "      <td>NaN</td>\n",
       "      <td>2017-07-07 16:22:55 +0000</td>\n",
       "      <td>&lt;a href=\"http://twitter.com/download/iphone\" r...</td>\n",
       "      <td>Meet Grizzwald. He may be the floofiest floofe...</td>\n",
       "      <td>NaN</td>\n",
       "      <td>NaN</td>\n",
       "      <td>NaN</td>\n",
       "      <td>https://twitter.com/dog_rates/status/883360690...</td>\n",
       "      <td>...</td>\n",
       "      <td>chow</td>\n",
       "      <td>0.987997</td>\n",
       "      <td>True</td>\n",
       "      <td>Tibetan_mastiff</td>\n",
       "      <td>0.007099</td>\n",
       "      <td>True</td>\n",
       "      <td>Newfoundland</td>\n",
       "      <td>0.002140</td>\n",
       "      <td>True</td>\n",
       "      <td>very confidence</td>\n",
       "    </tr>\n",
       "    <tr>\n",
       "      <th>128</th>\n",
       "      <td>862096992088072192</td>\n",
       "      <td>NaN</td>\n",
       "      <td>NaN</td>\n",
       "      <td>2017-05-10 00:08:34 +0000</td>\n",
       "      <td>&lt;a href=\"http://twitter.com/download/iphone\" r...</td>\n",
       "      <td>We only rate dogs. Please don't send perfectly...</td>\n",
       "      <td>NaN</td>\n",
       "      <td>NaN</td>\n",
       "      <td>NaN</td>\n",
       "      <td>https://twitter.com/dog_rates/status/862096992...</td>\n",
       "      <td>...</td>\n",
       "      <td>chow</td>\n",
       "      <td>0.677589</td>\n",
       "      <td>True</td>\n",
       "      <td>Pomeranian</td>\n",
       "      <td>0.270648</td>\n",
       "      <td>True</td>\n",
       "      <td>Pekinese</td>\n",
       "      <td>0.038110</td>\n",
       "      <td>True</td>\n",
       "      <td>confidence</td>\n",
       "    </tr>\n",
       "    <tr>\n",
       "      <th>198</th>\n",
       "      <td>845677943972139009</td>\n",
       "      <td>NaN</td>\n",
       "      <td>NaN</td>\n",
       "      <td>2017-03-25 16:45:08 +0000</td>\n",
       "      <td>&lt;a href=\"http://twitter.com/download/iphone\" r...</td>\n",
       "      <td>C'mon guys. Please only send in dogs. We only ...</td>\n",
       "      <td>NaN</td>\n",
       "      <td>NaN</td>\n",
       "      <td>NaN</td>\n",
       "      <td>https://twitter.com/dog_rates/status/845677943...</td>\n",
       "      <td>...</td>\n",
       "      <td>chow</td>\n",
       "      <td>0.808681</td>\n",
       "      <td>True</td>\n",
       "      <td>groenendael</td>\n",
       "      <td>0.123141</td>\n",
       "      <td>True</td>\n",
       "      <td>Newfoundland</td>\n",
       "      <td>0.022143</td>\n",
       "      <td>True</td>\n",
       "      <td>confidence</td>\n",
       "    </tr>\n",
       "    <tr>\n",
       "      <th>232</th>\n",
       "      <td>838083903487373313</td>\n",
       "      <td>NaN</td>\n",
       "      <td>NaN</td>\n",
       "      <td>2017-03-04 17:49:08 +0000</td>\n",
       "      <td>&lt;a href=\"http://twitter.com/download/iphone\" r...</td>\n",
       "      <td>This is Daisy. She's puppears to be rare as al...</td>\n",
       "      <td>NaN</td>\n",
       "      <td>NaN</td>\n",
       "      <td>NaN</td>\n",
       "      <td>https://twitter.com/dog_rates/status/838083903...</td>\n",
       "      <td>...</td>\n",
       "      <td>chow</td>\n",
       "      <td>0.800975</td>\n",
       "      <td>True</td>\n",
       "      <td>seat_belt</td>\n",
       "      <td>0.164133</td>\n",
       "      <td>False</td>\n",
       "      <td>Pomeranian</td>\n",
       "      <td>0.017981</td>\n",
       "      <td>True</td>\n",
       "      <td>confidence</td>\n",
       "    </tr>\n",
       "    <tr>\n",
       "      <th>438</th>\n",
       "      <td>806219024703037440</td>\n",
       "      <td>NaN</td>\n",
       "      <td>NaN</td>\n",
       "      <td>2016-12-06 19:29:28 +0000</td>\n",
       "      <td>&lt;a href=\"http://twitter.com/download/iphone\" r...</td>\n",
       "      <td>We only rate dogs. Please stop sending in non-...</td>\n",
       "      <td>NaN</td>\n",
       "      <td>NaN</td>\n",
       "      <td>NaN</td>\n",
       "      <td>https://twitter.com/dog_rates/status/806219024...</td>\n",
       "      <td>...</td>\n",
       "      <td>chow</td>\n",
       "      <td>0.835102</td>\n",
       "      <td>True</td>\n",
       "      <td>Pomeranian</td>\n",
       "      <td>0.040783</td>\n",
       "      <td>True</td>\n",
       "      <td>Eskimo_dog</td>\n",
       "      <td>0.021274</td>\n",
       "      <td>True</td>\n",
       "      <td>confidence</td>\n",
       "    </tr>\n",
       "    <tr>\n",
       "      <th>453</th>\n",
       "      <td>802952499103731712</td>\n",
       "      <td>NaN</td>\n",
       "      <td>NaN</td>\n",
       "      <td>2016-11-27 19:09:28 +0000</td>\n",
       "      <td>&lt;a href=\"http://twitter.com/download/iphone\" r...</td>\n",
       "      <td>This is Marley. She's having a ruff day. Prett...</td>\n",
       "      <td>NaN</td>\n",
       "      <td>NaN</td>\n",
       "      <td>NaN</td>\n",
       "      <td>https://twitter.com/dog_rates/status/802952499...</td>\n",
       "      <td>...</td>\n",
       "      <td>chow</td>\n",
       "      <td>0.944032</td>\n",
       "      <td>True</td>\n",
       "      <td>golden_retriever</td>\n",
       "      <td>0.017240</td>\n",
       "      <td>True</td>\n",
       "      <td>Pomeranian</td>\n",
       "      <td>0.012085</td>\n",
       "      <td>True</td>\n",
       "      <td>very confidence</td>\n",
       "    </tr>\n",
       "    <tr>\n",
       "      <th>497</th>\n",
       "      <td>796080075804475393</td>\n",
       "      <td>NaN</td>\n",
       "      <td>NaN</td>\n",
       "      <td>2016-11-08 20:00:55 +0000</td>\n",
       "      <td>&lt;a href=\"http://twitter.com/download/iphone\" r...</td>\n",
       "      <td>This is Yogi. He's 98% floof. Snuggable af. 12...</td>\n",
       "      <td>NaN</td>\n",
       "      <td>NaN</td>\n",
       "      <td>NaN</td>\n",
       "      <td>https://twitter.com/dog_rates/status/796080075...</td>\n",
       "      <td>...</td>\n",
       "      <td>chow</td>\n",
       "      <td>0.973846</td>\n",
       "      <td>True</td>\n",
       "      <td>Tibetan_mastiff</td>\n",
       "      <td>0.014110</td>\n",
       "      <td>True</td>\n",
       "      <td>gibbon</td>\n",
       "      <td>0.002358</td>\n",
       "      <td>False</td>\n",
       "      <td>very confidence</td>\n",
       "    </tr>\n",
       "    <tr>\n",
       "      <th>550</th>\n",
       "      <td>788150585577050112</td>\n",
       "      <td>NaN</td>\n",
       "      <td>NaN</td>\n",
       "      <td>2016-10-17 22:51:57 +0000</td>\n",
       "      <td>&lt;a href=\"http://twitter.com/download/iphone\" r...</td>\n",
       "      <td>This is Leo. He's a golden chow. Rather h*ckin...</td>\n",
       "      <td>NaN</td>\n",
       "      <td>NaN</td>\n",
       "      <td>NaN</td>\n",
       "      <td>https://twitter.com/dog_rates/status/788150585...</td>\n",
       "      <td>...</td>\n",
       "      <td>chow</td>\n",
       "      <td>0.814145</td>\n",
       "      <td>True</td>\n",
       "      <td>Pomeranian</td>\n",
       "      <td>0.112704</td>\n",
       "      <td>True</td>\n",
       "      <td>Chihuahua</td>\n",
       "      <td>0.015883</td>\n",
       "      <td>True</td>\n",
       "      <td>confidence</td>\n",
       "    </tr>\n",
       "    <tr>\n",
       "      <th>618</th>\n",
       "      <td>777621514455814149</td>\n",
       "      <td>NaN</td>\n",
       "      <td>NaN</td>\n",
       "      <td>2016-09-18 21:33:11 +0000</td>\n",
       "      <td>&lt;a href=\"http://twitter.com/download/iphone\" r...</td>\n",
       "      <td>This is Derek. You can't look at him and not s...</td>\n",
       "      <td>NaN</td>\n",
       "      <td>NaN</td>\n",
       "      <td>NaN</td>\n",
       "      <td>https://twitter.com/dog_rates/status/777621514...</td>\n",
       "      <td>...</td>\n",
       "      <td>chow</td>\n",
       "      <td>0.999823</td>\n",
       "      <td>True</td>\n",
       "      <td>Norwich_terrier</td>\n",
       "      <td>0.000056</td>\n",
       "      <td>True</td>\n",
       "      <td>Pomeranian</td>\n",
       "      <td>0.000028</td>\n",
       "      <td>True</td>\n",
       "      <td>very confidence</td>\n",
       "    </tr>\n",
       "    <tr>\n",
       "      <th>628</th>\n",
       "      <td>775842724423557120</td>\n",
       "      <td>NaN</td>\n",
       "      <td>NaN</td>\n",
       "      <td>2016-09-13 23:44:54 +0000</td>\n",
       "      <td>&lt;a href=\"http://twitter.com/download/iphone\" r...</td>\n",
       "      <td>This is Blue. He was having an average day unt...</td>\n",
       "      <td>NaN</td>\n",
       "      <td>NaN</td>\n",
       "      <td>NaN</td>\n",
       "      <td>https://twitter.com/dog_rates/status/775842724...</td>\n",
       "      <td>...</td>\n",
       "      <td>chow</td>\n",
       "      <td>0.520022</td>\n",
       "      <td>True</td>\n",
       "      <td>bath_towel</td>\n",
       "      <td>0.028775</td>\n",
       "      <td>False</td>\n",
       "      <td>French_bulldog</td>\n",
       "      <td>0.025990</td>\n",
       "      <td>True</td>\n",
       "      <td>confidence</td>\n",
       "    </tr>\n",
       "    <tr>\n",
       "      <th>661</th>\n",
       "      <td>770772759874076672</td>\n",
       "      <td>NaN</td>\n",
       "      <td>NaN</td>\n",
       "      <td>2016-08-30 23:58:40 +0000</td>\n",
       "      <td>&lt;a href=\"http://twitter.com/download/iphone\" r...</td>\n",
       "      <td>This is Sebastian. He's super h*ckin fluffy. T...</td>\n",
       "      <td>NaN</td>\n",
       "      <td>NaN</td>\n",
       "      <td>NaN</td>\n",
       "      <td>https://twitter.com/dog_rates/status/770772759...</td>\n",
       "      <td>...</td>\n",
       "      <td>chow</td>\n",
       "      <td>0.979515</td>\n",
       "      <td>True</td>\n",
       "      <td>golden_retriever</td>\n",
       "      <td>0.010219</td>\n",
       "      <td>True</td>\n",
       "      <td>Pomeranian</td>\n",
       "      <td>0.004606</td>\n",
       "      <td>True</td>\n",
       "      <td>very confidence</td>\n",
       "    </tr>\n",
       "    <tr>\n",
       "      <th>671</th>\n",
       "      <td>768855141948723200</td>\n",
       "      <td>NaN</td>\n",
       "      <td>NaN</td>\n",
       "      <td>2016-08-25 16:58:45 +0000</td>\n",
       "      <td>&lt;a href=\"http://twitter.com/download/iphone\" r...</td>\n",
       "      <td>This is Jesse. He really wants a belly rub. Wi...</td>\n",
       "      <td>NaN</td>\n",
       "      <td>NaN</td>\n",
       "      <td>NaN</td>\n",
       "      <td>https://twitter.com/dog_rates/status/768855141...</td>\n",
       "      <td>...</td>\n",
       "      <td>chow</td>\n",
       "      <td>0.720219</td>\n",
       "      <td>True</td>\n",
       "      <td>Brabancon_griffon</td>\n",
       "      <td>0.058365</td>\n",
       "      <td>True</td>\n",
       "      <td>Rottweiler</td>\n",
       "      <td>0.055114</td>\n",
       "      <td>True</td>\n",
       "      <td>confidence</td>\n",
       "    </tr>\n",
       "    <tr>\n",
       "      <th>700</th>\n",
       "      <td>762464539388485633</td>\n",
       "      <td>NaN</td>\n",
       "      <td>NaN</td>\n",
       "      <td>2016-08-08 01:44:46 +0000</td>\n",
       "      <td>&lt;a href=\"http://twitter.com/download/iphone\" r...</td>\n",
       "      <td>This is Buddy. His father was a bear and his m...</td>\n",
       "      <td>NaN</td>\n",
       "      <td>NaN</td>\n",
       "      <td>NaN</td>\n",
       "      <td>https://twitter.com/dog_rates/status/762464539...</td>\n",
       "      <td>...</td>\n",
       "      <td>chow</td>\n",
       "      <td>0.999953</td>\n",
       "      <td>True</td>\n",
       "      <td>Tibetan_mastiff</td>\n",
       "      <td>0.000023</td>\n",
       "      <td>True</td>\n",
       "      <td>dhole</td>\n",
       "      <td>0.000003</td>\n",
       "      <td>False</td>\n",
       "      <td>very confidence</td>\n",
       "    </tr>\n",
       "    <tr>\n",
       "      <th>778</th>\n",
       "      <td>751830394383790080</td>\n",
       "      <td>NaN</td>\n",
       "      <td>NaN</td>\n",
       "      <td>2016-07-09 17:28:29 +0000</td>\n",
       "      <td>&lt;a href=\"http://twitter.com/download/iphone\" r...</td>\n",
       "      <td>This is Tucker. He's very camera shy. 12/10 wo...</td>\n",
       "      <td>NaN</td>\n",
       "      <td>NaN</td>\n",
       "      <td>NaN</td>\n",
       "      <td>https://twitter.com/dog_rates/status/751830394...</td>\n",
       "      <td>...</td>\n",
       "      <td>chow</td>\n",
       "      <td>0.703569</td>\n",
       "      <td>True</td>\n",
       "      <td>Pomeranian</td>\n",
       "      <td>0.076637</td>\n",
       "      <td>True</td>\n",
       "      <td>Siamese_cat</td>\n",
       "      <td>0.045959</td>\n",
       "      <td>False</td>\n",
       "      <td>confidence</td>\n",
       "    </tr>\n",
       "    <tr>\n",
       "      <th>839</th>\n",
       "      <td>746131877086527488</td>\n",
       "      <td>NaN</td>\n",
       "      <td>NaN</td>\n",
       "      <td>2016-06-24 00:04:36 +0000</td>\n",
       "      <td>&lt;a href=\"http://twitter.com/download/iphone\" r...</td>\n",
       "      <td>This is Gustav. He has claimed that plant. It ...</td>\n",
       "      <td>NaN</td>\n",
       "      <td>NaN</td>\n",
       "      <td>NaN</td>\n",
       "      <td>https://twitter.com/dog_rates/status/746131877...</td>\n",
       "      <td>...</td>\n",
       "      <td>chow</td>\n",
       "      <td>0.575637</td>\n",
       "      <td>True</td>\n",
       "      <td>Pomeranian</td>\n",
       "      <td>0.195950</td>\n",
       "      <td>True</td>\n",
       "      <td>Norwich_terrier</td>\n",
       "      <td>0.141224</td>\n",
       "      <td>True</td>\n",
       "      <td>confidence</td>\n",
       "    </tr>\n",
       "    <tr>\n",
       "      <th>889</th>\n",
       "      <td>738537504001953792</td>\n",
       "      <td>NaN</td>\n",
       "      <td>NaN</td>\n",
       "      <td>2016-06-03 01:07:16 +0000</td>\n",
       "      <td>&lt;a href=\"http://twitter.com/download/iphone\" r...</td>\n",
       "      <td>This is Bayley. She fell asleep trying to esca...</td>\n",
       "      <td>NaN</td>\n",
       "      <td>NaN</td>\n",
       "      <td>NaN</td>\n",
       "      <td>https://twitter.com/dog_rates/status/738537504...</td>\n",
       "      <td>...</td>\n",
       "      <td>chow</td>\n",
       "      <td>0.808737</td>\n",
       "      <td>True</td>\n",
       "      <td>gibbon</td>\n",
       "      <td>0.028942</td>\n",
       "      <td>False</td>\n",
       "      <td>Pembroke</td>\n",
       "      <td>0.026498</td>\n",
       "      <td>True</td>\n",
       "      <td>confidence</td>\n",
       "    </tr>\n",
       "    <tr>\n",
       "      <th>916</th>\n",
       "      <td>733460102733135873</td>\n",
       "      <td>NaN</td>\n",
       "      <td>NaN</td>\n",
       "      <td>2016-05-20 00:51:30 +0000</td>\n",
       "      <td>&lt;a href=\"http://twitter.com/download/iphone\" r...</td>\n",
       "      <td>This is Hermione. Her face is as old as time. ...</td>\n",
       "      <td>NaN</td>\n",
       "      <td>NaN</td>\n",
       "      <td>NaN</td>\n",
       "      <td>https://twitter.com/dog_rates/status/733460102...</td>\n",
       "      <td>...</td>\n",
       "      <td>chow</td>\n",
       "      <td>0.931275</td>\n",
       "      <td>True</td>\n",
       "      <td>beaver</td>\n",
       "      <td>0.028831</td>\n",
       "      <td>False</td>\n",
       "      <td>dhole</td>\n",
       "      <td>0.017379</td>\n",
       "      <td>False</td>\n",
       "      <td>very confidence</td>\n",
       "    </tr>\n",
       "    <tr>\n",
       "      <th>1058</th>\n",
       "      <td>709566166965075968</td>\n",
       "      <td>NaN</td>\n",
       "      <td>NaN</td>\n",
       "      <td>2016-03-15 02:25:31 +0000</td>\n",
       "      <td>&lt;a href=\"http://twitter.com/download/iphone\" r...</td>\n",
       "      <td>This is Olaf. He's gotta be rare. Seems sturdy...</td>\n",
       "      <td>NaN</td>\n",
       "      <td>NaN</td>\n",
       "      <td>NaN</td>\n",
       "      <td>https://twitter.com/dog_rates/status/709566166...</td>\n",
       "      <td>...</td>\n",
       "      <td>chow</td>\n",
       "      <td>0.999837</td>\n",
       "      <td>True</td>\n",
       "      <td>Tibetan_mastiff</td>\n",
       "      <td>0.000117</td>\n",
       "      <td>True</td>\n",
       "      <td>Australian_terrier</td>\n",
       "      <td>0.000011</td>\n",
       "      <td>True</td>\n",
       "      <td>very confidence</td>\n",
       "    </tr>\n",
       "    <tr>\n",
       "      <th>1102</th>\n",
       "      <td>706538006853918722</td>\n",
       "      <td>NaN</td>\n",
       "      <td>NaN</td>\n",
       "      <td>2016-03-06 17:52:42 +0000</td>\n",
       "      <td>&lt;a href=\"http://twitter.com/download/iphone\" r...</td>\n",
       "      <td>This is Oliver (pronounced \"Ricardo\"). He's a ...</td>\n",
       "      <td>NaN</td>\n",
       "      <td>NaN</td>\n",
       "      <td>NaN</td>\n",
       "      <td>https://twitter.com/dog_rates/status/706538006...</td>\n",
       "      <td>...</td>\n",
       "      <td>chow</td>\n",
       "      <td>0.541794</td>\n",
       "      <td>True</td>\n",
       "      <td>Pembroke</td>\n",
       "      <td>0.094918</td>\n",
       "      <td>True</td>\n",
       "      <td>Pomeranian</td>\n",
       "      <td>0.085439</td>\n",
       "      <td>True</td>\n",
       "      <td>confidence</td>\n",
       "    </tr>\n",
       "    <tr>\n",
       "      <th>1581</th>\n",
       "      <td>675534494439489536</td>\n",
       "      <td>NaN</td>\n",
       "      <td>NaN</td>\n",
       "      <td>2015-12-12 04:35:48 +0000</td>\n",
       "      <td>&lt;a href=\"http://twitter.com/download/iphone\" r...</td>\n",
       "      <td>Seriously guys?! Only send in dogs. I only rat...</td>\n",
       "      <td>NaN</td>\n",
       "      <td>NaN</td>\n",
       "      <td>NaN</td>\n",
       "      <td>https://twitter.com/dog_rates/status/675534494...</td>\n",
       "      <td>...</td>\n",
       "      <td>chow</td>\n",
       "      <td>0.749368</td>\n",
       "      <td>True</td>\n",
       "      <td>schipperke</td>\n",
       "      <td>0.133738</td>\n",
       "      <td>True</td>\n",
       "      <td>Newfoundland</td>\n",
       "      <td>0.049914</td>\n",
       "      <td>True</td>\n",
       "      <td>confidence</td>\n",
       "    </tr>\n",
       "    <tr>\n",
       "      <th>1597</th>\n",
       "      <td>675149409102012420</td>\n",
       "      <td>NaN</td>\n",
       "      <td>NaN</td>\n",
       "      <td>2015-12-11 03:05:37 +0000</td>\n",
       "      <td>&lt;a href=\"http://twitter.com/download/iphone\" r...</td>\n",
       "      <td>holy shit 12/10 https://t.co/p6O8X93bTQ</td>\n",
       "      <td>NaN</td>\n",
       "      <td>NaN</td>\n",
       "      <td>NaN</td>\n",
       "      <td>https://twitter.com/dog_rates/status/675149409...</td>\n",
       "      <td>...</td>\n",
       "      <td>chow</td>\n",
       "      <td>0.999876</td>\n",
       "      <td>True</td>\n",
       "      <td>Tibetan_mastiff</td>\n",
       "      <td>0.000059</td>\n",
       "      <td>True</td>\n",
       "      <td>Tibetan_terrier</td>\n",
       "      <td>0.000029</td>\n",
       "      <td>True</td>\n",
       "      <td>very confidence</td>\n",
       "    </tr>\n",
       "    <tr>\n",
       "      <th>1631</th>\n",
       "      <td>674468880899788800</td>\n",
       "      <td>NaN</td>\n",
       "      <td>NaN</td>\n",
       "      <td>2015-12-09 06:01:26 +0000</td>\n",
       "      <td>&lt;a href=\"http://twitter.com/download/iphone\" r...</td>\n",
       "      <td>This is Louis. He thinks he's flying. 13/10 th...</td>\n",
       "      <td>NaN</td>\n",
       "      <td>NaN</td>\n",
       "      <td>NaN</td>\n",
       "      <td>https://twitter.com/dog_rates/status/674468880...</td>\n",
       "      <td>...</td>\n",
       "      <td>chow</td>\n",
       "      <td>0.526230</td>\n",
       "      <td>True</td>\n",
       "      <td>Pomeranian</td>\n",
       "      <td>0.283647</td>\n",
       "      <td>True</td>\n",
       "      <td>toy_poodle</td>\n",
       "      <td>0.067665</td>\n",
       "      <td>True</td>\n",
       "      <td>confidence</td>\n",
       "    </tr>\n",
       "    <tr>\n",
       "      <th>1697</th>\n",
       "      <td>672997845381865473</td>\n",
       "      <td>NaN</td>\n",
       "      <td>NaN</td>\n",
       "      <td>2015-12-05 04:36:04 +0000</td>\n",
       "      <td>&lt;a href=\"http://twitter.com/download/iphone\" r...</td>\n",
       "      <td>Say hello to Kenzie. She is a fluff ball. 12/1...</td>\n",
       "      <td>NaN</td>\n",
       "      <td>NaN</td>\n",
       "      <td>NaN</td>\n",
       "      <td>https://twitter.com/dog_rates/status/672997845...</td>\n",
       "      <td>...</td>\n",
       "      <td>chow</td>\n",
       "      <td>0.517255</td>\n",
       "      <td>True</td>\n",
       "      <td>Pomeranian</td>\n",
       "      <td>0.206053</td>\n",
       "      <td>True</td>\n",
       "      <td>koala</td>\n",
       "      <td>0.127037</td>\n",
       "      <td>False</td>\n",
       "      <td>confidence</td>\n",
       "    </tr>\n",
       "    <tr>\n",
       "      <th>1948</th>\n",
       "      <td>668237644992782336</td>\n",
       "      <td>NaN</td>\n",
       "      <td>NaN</td>\n",
       "      <td>2015-11-22 01:20:44 +0000</td>\n",
       "      <td>&lt;a href=\"http://twitter.com/download/iphone\" r...</td>\n",
       "      <td>This is Torque. He served his nickel. Better n...</td>\n",
       "      <td>NaN</td>\n",
       "      <td>NaN</td>\n",
       "      <td>NaN</td>\n",
       "      <td>https://twitter.com/dog_rates/status/668237644...</td>\n",
       "      <td>...</td>\n",
       "      <td>chow</td>\n",
       "      <td>0.809320</td>\n",
       "      <td>True</td>\n",
       "      <td>minivan</td>\n",
       "      <td>0.071311</td>\n",
       "      <td>False</td>\n",
       "      <td>Pekinese</td>\n",
       "      <td>0.037870</td>\n",
       "      <td>True</td>\n",
       "      <td>confidence</td>\n",
       "    </tr>\n",
       "    <tr>\n",
       "      <th>2065</th>\n",
       "      <td>666055525042405380</td>\n",
       "      <td>NaN</td>\n",
       "      <td>NaN</td>\n",
       "      <td>2015-11-16 00:49:46 +0000</td>\n",
       "      <td>&lt;a href=\"http://twitter.com/download/iphone\" r...</td>\n",
       "      <td>Here is a Siberian heavily armored polar bear ...</td>\n",
       "      <td>NaN</td>\n",
       "      <td>NaN</td>\n",
       "      <td>NaN</td>\n",
       "      <td>https://twitter.com/dog_rates/status/666055525...</td>\n",
       "      <td>...</td>\n",
       "      <td>chow</td>\n",
       "      <td>0.692517</td>\n",
       "      <td>True</td>\n",
       "      <td>Tibetan_mastiff</td>\n",
       "      <td>0.058279</td>\n",
       "      <td>True</td>\n",
       "      <td>fur_coat</td>\n",
       "      <td>0.054449</td>\n",
       "      <td>False</td>\n",
       "      <td>confidence</td>\n",
       "    </tr>\n",
       "  </tbody>\n",
       "</table>\n",
       "<p>26 rows × 62 columns</p>\n",
       "</div>"
      ],
      "text/plain": [
       "                tweet_id  in_reply_to_status_id_x  in_reply_to_user_id_x  \\\n",
       "35    884876753390489601                      NaN                    NaN   \n",
       "41    883360690899218434                      NaN                    NaN   \n",
       "128   862096992088072192                      NaN                    NaN   \n",
       "198   845677943972139009                      NaN                    NaN   \n",
       "232   838083903487373313                      NaN                    NaN   \n",
       "438   806219024703037440                      NaN                    NaN   \n",
       "453   802952499103731712                      NaN                    NaN   \n",
       "497   796080075804475393                      NaN                    NaN   \n",
       "550   788150585577050112                      NaN                    NaN   \n",
       "618   777621514455814149                      NaN                    NaN   \n",
       "628   775842724423557120                      NaN                    NaN   \n",
       "661   770772759874076672                      NaN                    NaN   \n",
       "671   768855141948723200                      NaN                    NaN   \n",
       "700   762464539388485633                      NaN                    NaN   \n",
       "778   751830394383790080                      NaN                    NaN   \n",
       "839   746131877086527488                      NaN                    NaN   \n",
       "889   738537504001953792                      NaN                    NaN   \n",
       "916   733460102733135873                      NaN                    NaN   \n",
       "1058  709566166965075968                      NaN                    NaN   \n",
       "1102  706538006853918722                      NaN                    NaN   \n",
       "1581  675534494439489536                      NaN                    NaN   \n",
       "1597  675149409102012420                      NaN                    NaN   \n",
       "1631  674468880899788800                      NaN                    NaN   \n",
       "1697  672997845381865473                      NaN                    NaN   \n",
       "1948  668237644992782336                      NaN                    NaN   \n",
       "2065  666055525042405380                      NaN                    NaN   \n",
       "\n",
       "                      timestamp  \\\n",
       "35    2017-07-11 20:47:12 +0000   \n",
       "41    2017-07-07 16:22:55 +0000   \n",
       "128   2017-05-10 00:08:34 +0000   \n",
       "198   2017-03-25 16:45:08 +0000   \n",
       "232   2017-03-04 17:49:08 +0000   \n",
       "438   2016-12-06 19:29:28 +0000   \n",
       "453   2016-11-27 19:09:28 +0000   \n",
       "497   2016-11-08 20:00:55 +0000   \n",
       "550   2016-10-17 22:51:57 +0000   \n",
       "618   2016-09-18 21:33:11 +0000   \n",
       "628   2016-09-13 23:44:54 +0000   \n",
       "661   2016-08-30 23:58:40 +0000   \n",
       "671   2016-08-25 16:58:45 +0000   \n",
       "700   2016-08-08 01:44:46 +0000   \n",
       "778   2016-07-09 17:28:29 +0000   \n",
       "839   2016-06-24 00:04:36 +0000   \n",
       "889   2016-06-03 01:07:16 +0000   \n",
       "916   2016-05-20 00:51:30 +0000   \n",
       "1058  2016-03-15 02:25:31 +0000   \n",
       "1102  2016-03-06 17:52:42 +0000   \n",
       "1581  2015-12-12 04:35:48 +0000   \n",
       "1597  2015-12-11 03:05:37 +0000   \n",
       "1631  2015-12-09 06:01:26 +0000   \n",
       "1697  2015-12-05 04:36:04 +0000   \n",
       "1948  2015-11-22 01:20:44 +0000   \n",
       "2065  2015-11-16 00:49:46 +0000   \n",
       "\n",
       "                                               source_x  \\\n",
       "35    <a href=\"http://twitter.com/download/iphone\" r...   \n",
       "41    <a href=\"http://twitter.com/download/iphone\" r...   \n",
       "128   <a href=\"http://twitter.com/download/iphone\" r...   \n",
       "198   <a href=\"http://twitter.com/download/iphone\" r...   \n",
       "232   <a href=\"http://twitter.com/download/iphone\" r...   \n",
       "438   <a href=\"http://twitter.com/download/iphone\" r...   \n",
       "453   <a href=\"http://twitter.com/download/iphone\" r...   \n",
       "497   <a href=\"http://twitter.com/download/iphone\" r...   \n",
       "550   <a href=\"http://twitter.com/download/iphone\" r...   \n",
       "618   <a href=\"http://twitter.com/download/iphone\" r...   \n",
       "628   <a href=\"http://twitter.com/download/iphone\" r...   \n",
       "661   <a href=\"http://twitter.com/download/iphone\" r...   \n",
       "671   <a href=\"http://twitter.com/download/iphone\" r...   \n",
       "700   <a href=\"http://twitter.com/download/iphone\" r...   \n",
       "778   <a href=\"http://twitter.com/download/iphone\" r...   \n",
       "839   <a href=\"http://twitter.com/download/iphone\" r...   \n",
       "889   <a href=\"http://twitter.com/download/iphone\" r...   \n",
       "916   <a href=\"http://twitter.com/download/iphone\" r...   \n",
       "1058  <a href=\"http://twitter.com/download/iphone\" r...   \n",
       "1102  <a href=\"http://twitter.com/download/iphone\" r...   \n",
       "1581  <a href=\"http://twitter.com/download/iphone\" r...   \n",
       "1597  <a href=\"http://twitter.com/download/iphone\" r...   \n",
       "1631  <a href=\"http://twitter.com/download/iphone\" r...   \n",
       "1697  <a href=\"http://twitter.com/download/iphone\" r...   \n",
       "1948  <a href=\"http://twitter.com/download/iphone\" r...   \n",
       "2065  <a href=\"http://twitter.com/download/iphone\" r...   \n",
       "\n",
       "                                                   text  retweeted_status_id  \\\n",
       "35    This is Lola. It's her first time outside. Mus...                  NaN   \n",
       "41    Meet Grizzwald. He may be the floofiest floofe...                  NaN   \n",
       "128   We only rate dogs. Please don't send perfectly...                  NaN   \n",
       "198   C'mon guys. Please only send in dogs. We only ...                  NaN   \n",
       "232   This is Daisy. She's puppears to be rare as al...                  NaN   \n",
       "438   We only rate dogs. Please stop sending in non-...                  NaN   \n",
       "453   This is Marley. She's having a ruff day. Prett...                  NaN   \n",
       "497   This is Yogi. He's 98% floof. Snuggable af. 12...                  NaN   \n",
       "550   This is Leo. He's a golden chow. Rather h*ckin...                  NaN   \n",
       "618   This is Derek. You can't look at him and not s...                  NaN   \n",
       "628   This is Blue. He was having an average day unt...                  NaN   \n",
       "661   This is Sebastian. He's super h*ckin fluffy. T...                  NaN   \n",
       "671   This is Jesse. He really wants a belly rub. Wi...                  NaN   \n",
       "700   This is Buddy. His father was a bear and his m...                  NaN   \n",
       "778   This is Tucker. He's very camera shy. 12/10 wo...                  NaN   \n",
       "839   This is Gustav. He has claimed that plant. It ...                  NaN   \n",
       "889   This is Bayley. She fell asleep trying to esca...                  NaN   \n",
       "916   This is Hermione. Her face is as old as time. ...                  NaN   \n",
       "1058  This is Olaf. He's gotta be rare. Seems sturdy...                  NaN   \n",
       "1102  This is Oliver (pronounced \"Ricardo\"). He's a ...                  NaN   \n",
       "1581  Seriously guys?! Only send in dogs. I only rat...                  NaN   \n",
       "1597            holy shit 12/10 https://t.co/p6O8X93bTQ                  NaN   \n",
       "1631  This is Louis. He thinks he's flying. 13/10 th...                  NaN   \n",
       "1697  Say hello to Kenzie. She is a fluff ball. 12/1...                  NaN   \n",
       "1948  This is Torque. He served his nickel. Better n...                  NaN   \n",
       "2065  Here is a Siberian heavily armored polar bear ...                  NaN   \n",
       "\n",
       "      retweeted_status_user_id retweeted_status_timestamp  \\\n",
       "35                         NaN                        NaN   \n",
       "41                         NaN                        NaN   \n",
       "128                        NaN                        NaN   \n",
       "198                        NaN                        NaN   \n",
       "232                        NaN                        NaN   \n",
       "438                        NaN                        NaN   \n",
       "453                        NaN                        NaN   \n",
       "497                        NaN                        NaN   \n",
       "550                        NaN                        NaN   \n",
       "618                        NaN                        NaN   \n",
       "628                        NaN                        NaN   \n",
       "661                        NaN                        NaN   \n",
       "671                        NaN                        NaN   \n",
       "700                        NaN                        NaN   \n",
       "778                        NaN                        NaN   \n",
       "839                        NaN                        NaN   \n",
       "889                        NaN                        NaN   \n",
       "916                        NaN                        NaN   \n",
       "1058                       NaN                        NaN   \n",
       "1102                       NaN                        NaN   \n",
       "1581                       NaN                        NaN   \n",
       "1597                       NaN                        NaN   \n",
       "1631                       NaN                        NaN   \n",
       "1697                       NaN                        NaN   \n",
       "1948                       NaN                        NaN   \n",
       "2065                       NaN                        NaN   \n",
       "\n",
       "                                          expanded_urls  ...    p1   p1_conf  \\\n",
       "35    https://twitter.com/dog_rates/status/884876753...  ...  chow  0.822103   \n",
       "41    https://twitter.com/dog_rates/status/883360690...  ...  chow  0.987997   \n",
       "128   https://twitter.com/dog_rates/status/862096992...  ...  chow  0.677589   \n",
       "198   https://twitter.com/dog_rates/status/845677943...  ...  chow  0.808681   \n",
       "232   https://twitter.com/dog_rates/status/838083903...  ...  chow  0.800975   \n",
       "438   https://twitter.com/dog_rates/status/806219024...  ...  chow  0.835102   \n",
       "453   https://twitter.com/dog_rates/status/802952499...  ...  chow  0.944032   \n",
       "497   https://twitter.com/dog_rates/status/796080075...  ...  chow  0.973846   \n",
       "550   https://twitter.com/dog_rates/status/788150585...  ...  chow  0.814145   \n",
       "618   https://twitter.com/dog_rates/status/777621514...  ...  chow  0.999823   \n",
       "628   https://twitter.com/dog_rates/status/775842724...  ...  chow  0.520022   \n",
       "661   https://twitter.com/dog_rates/status/770772759...  ...  chow  0.979515   \n",
       "671   https://twitter.com/dog_rates/status/768855141...  ...  chow  0.720219   \n",
       "700   https://twitter.com/dog_rates/status/762464539...  ...  chow  0.999953   \n",
       "778   https://twitter.com/dog_rates/status/751830394...  ...  chow  0.703569   \n",
       "839   https://twitter.com/dog_rates/status/746131877...  ...  chow  0.575637   \n",
       "889   https://twitter.com/dog_rates/status/738537504...  ...  chow  0.808737   \n",
       "916   https://twitter.com/dog_rates/status/733460102...  ...  chow  0.931275   \n",
       "1058  https://twitter.com/dog_rates/status/709566166...  ...  chow  0.999837   \n",
       "1102  https://twitter.com/dog_rates/status/706538006...  ...  chow  0.541794   \n",
       "1581  https://twitter.com/dog_rates/status/675534494...  ...  chow  0.749368   \n",
       "1597  https://twitter.com/dog_rates/status/675149409...  ...  chow  0.999876   \n",
       "1631  https://twitter.com/dog_rates/status/674468880...  ...  chow  0.526230   \n",
       "1697  https://twitter.com/dog_rates/status/672997845...  ...  chow  0.517255   \n",
       "1948  https://twitter.com/dog_rates/status/668237644...  ...  chow  0.809320   \n",
       "2065  https://twitter.com/dog_rates/status/666055525...  ...  chow  0.692517   \n",
       "\n",
       "     p1_dog                 p2   p2_conf p2_dog                  p3   p3_conf  \\\n",
       "35     True    Norwich_terrier  0.106075   True     Norfolk_terrier  0.037348   \n",
       "41     True    Tibetan_mastiff  0.007099   True        Newfoundland  0.002140   \n",
       "128    True         Pomeranian  0.270648   True            Pekinese  0.038110   \n",
       "198    True        groenendael  0.123141   True        Newfoundland  0.022143   \n",
       "232    True          seat_belt  0.164133  False          Pomeranian  0.017981   \n",
       "438    True         Pomeranian  0.040783   True          Eskimo_dog  0.021274   \n",
       "453    True   golden_retriever  0.017240   True          Pomeranian  0.012085   \n",
       "497    True    Tibetan_mastiff  0.014110   True              gibbon  0.002358   \n",
       "550    True         Pomeranian  0.112704   True           Chihuahua  0.015883   \n",
       "618    True    Norwich_terrier  0.000056   True          Pomeranian  0.000028   \n",
       "628    True         bath_towel  0.028775  False      French_bulldog  0.025990   \n",
       "661    True   golden_retriever  0.010219   True          Pomeranian  0.004606   \n",
       "671    True  Brabancon_griffon  0.058365   True          Rottweiler  0.055114   \n",
       "700    True    Tibetan_mastiff  0.000023   True               dhole  0.000003   \n",
       "778    True         Pomeranian  0.076637   True         Siamese_cat  0.045959   \n",
       "839    True         Pomeranian  0.195950   True     Norwich_terrier  0.141224   \n",
       "889    True             gibbon  0.028942  False            Pembroke  0.026498   \n",
       "916    True             beaver  0.028831  False               dhole  0.017379   \n",
       "1058   True    Tibetan_mastiff  0.000117   True  Australian_terrier  0.000011   \n",
       "1102   True           Pembroke  0.094918   True          Pomeranian  0.085439   \n",
       "1581   True         schipperke  0.133738   True        Newfoundland  0.049914   \n",
       "1597   True    Tibetan_mastiff  0.000059   True     Tibetan_terrier  0.000029   \n",
       "1631   True         Pomeranian  0.283647   True          toy_poodle  0.067665   \n",
       "1697   True         Pomeranian  0.206053   True               koala  0.127037   \n",
       "1948   True            minivan  0.071311  False            Pekinese  0.037870   \n",
       "2065   True    Tibetan_mastiff  0.058279   True            fur_coat  0.054449   \n",
       "\n",
       "     p3_dog    p1_conf_level  \n",
       "35     True       confidence  \n",
       "41     True  very confidence  \n",
       "128    True       confidence  \n",
       "198    True       confidence  \n",
       "232    True       confidence  \n",
       "438    True       confidence  \n",
       "453    True  very confidence  \n",
       "497   False  very confidence  \n",
       "550    True       confidence  \n",
       "618    True  very confidence  \n",
       "628    True       confidence  \n",
       "661    True  very confidence  \n",
       "671    True       confidence  \n",
       "700   False  very confidence  \n",
       "778   False       confidence  \n",
       "839    True       confidence  \n",
       "889    True       confidence  \n",
       "916   False  very confidence  \n",
       "1058   True  very confidence  \n",
       "1102   True       confidence  \n",
       "1581   True       confidence  \n",
       "1597   True  very confidence  \n",
       "1631   True       confidence  \n",
       "1697  False       confidence  \n",
       "1948   True       confidence  \n",
       "2065  False       confidence  \n",
       "\n",
       "[26 rows x 62 columns]"
      ]
     },
     "execution_count": 735,
     "metadata": {},
     "output_type": "execute_result"
    }
   ],
   "source": [
    "combined4.query('p1==\"chow\"')"
   ]
  },
  {
   "cell_type": "code",
   "execution_count": 736,
   "metadata": {
    "scrolled": true
   },
   "outputs": [
    {
     "data": {
      "text/plain": [
       "35      https://pbs.twimg.com/media/DEe2tZXXkAAwyX3.jpg\n",
       "41      https://pbs.twimg.com/media/DEJT3FeXoAAtwUy.jpg\n",
       "128     https://pbs.twimg.com/media/C_bIo7QXYAAGfPu.jpg\n",
       "198     https://pbs.twimg.com/media/C7xzmngWkAAAp9C.jpg\n",
       "232     https://pbs.twimg.com/media/C6F42cGUYAAIKsX.jpg\n",
       "438     https://pbs.twimg.com/media/CzBD7MWVIAA5ptx.jpg\n",
       "453     https://pbs.twimg.com/media/CySpCSHXcAAN-qC.jpg\n",
       "497     https://pbs.twimg.com/media/Cww-msrXcAAxm3K.jpg\n",
       "550     https://pbs.twimg.com/media/CvASw6dWcAQmo3X.jpg\n",
       "618     https://pbs.twimg.com/media/Csqqoo5WEAAMTVW.jpg\n",
       "628     https://pbs.twimg.com/media/CsRY1jAWYAUOx55.jpg\n",
       "661     https://pbs.twimg.com/media/CrJVupHXgAA4Dkk.jpg\n",
       "671     https://pbs.twimg.com/media/CquFrCKWAAAr32m.jpg\n",
       "700     https://pbs.twimg.com/media/CpTRc4DUEAAYTq6.jpg\n",
       "778     https://pbs.twimg.com/media/Cm8JwBqW8AAFOEn.jpg\n",
       "839     https://pbs.twimg.com/media/ClrK-rGWAAENcAa.jpg\n",
       "889     https://pbs.twimg.com/media/Cj_P7rSUgAAYQbz.jpg\n",
       "916     https://pbs.twimg.com/media/Ci3GDeyUoAAKOxn.jpg\n",
       "1058    https://pbs.twimg.com/media/Cdjiqi6XIAIUOg-.jpg\n",
       "1102    https://pbs.twimg.com/media/Cc4gjxqW4AIoThO.jpg\n",
       "1581    https://pbs.twimg.com/media/CV_7CV6XIAEV05u.jpg\n",
       "1597    https://pbs.twimg.com/media/CV6czeEWEAEdChp.jpg\n",
       "1631    https://pbs.twimg.com/media/CVwx3dQXAAA0ksL.jpg\n",
       "1697    https://pbs.twimg.com/media/CVb39_1XIAAMoIv.jpg\n",
       "1948    https://pbs.twimg.com/media/CUYOl0kW4AAVe_p.jpg\n",
       "2065    https://pbs.twimg.com/media/CT5N9tpXIAAifs1.jpg\n",
       "Name: jpg_url, dtype: object"
      ]
     },
     "execution_count": 736,
     "metadata": {},
     "output_type": "execute_result"
    }
   ],
   "source": [
    "combined4.query('p1==\"chow\"').jpg_url"
   ]
  },
  {
   "cell_type": "code",
   "execution_count": null,
   "metadata": {
    "scrolled": true
   },
   "outputs": [],
   "source": []
  },
  {
   "cell_type": "code",
   "execution_count": null,
   "metadata": {
    "scrolled": true
   },
   "outputs": [],
   "source": []
  },
  {
   "cell_type": "code",
   "execution_count": 737,
   "metadata": {
    "scrolled": true
   },
   "outputs": [
    {
     "data": {
      "text/plain": [
       "35      https://pbs.twimg.com/media/DEe2tZXXkAAwyX3.jpg\n",
       "41      https://pbs.twimg.com/media/DEJT3FeXoAAtwUy.jpg\n",
       "128     https://pbs.twimg.com/media/C_bIo7QXYAAGfPu.jpg\n",
       "232     https://pbs.twimg.com/media/C6F42cGUYAAIKsX.jpg\n",
       "550     https://pbs.twimg.com/media/CvASw6dWcAQmo3X.jpg\n",
       "1631    https://pbs.twimg.com/media/CVwx3dQXAAA0ksL.jpg\n",
       "Name: jpg_url, dtype: object"
      ]
     },
     "execution_count": 737,
     "metadata": {},
     "output_type": "execute_result"
    }
   ],
   "source": [
    "combined4.loc[(combined4['p1']=='chow') & (combined4['rating_numerator'] >= 13.0)].jpg_url"
   ]
  },
  {
   "cell_type": "code",
   "execution_count": null,
   "metadata": {
    "scrolled": true
   },
   "outputs": [],
   "source": []
  },
  {
   "cell_type": "code",
   "execution_count": null,
   "metadata": {
    "scrolled": true
   },
   "outputs": [],
   "source": []
  },
  {
   "cell_type": "code",
   "execution_count": 738,
   "metadata": {
    "scrolled": true
   },
   "outputs": [
    {
     "data": {
      "text/html": [
       "<div>\n",
       "<style scoped>\n",
       "    .dataframe tbody tr th:only-of-type {\n",
       "        vertical-align: middle;\n",
       "    }\n",
       "\n",
       "    .dataframe tbody tr th {\n",
       "        vertical-align: top;\n",
       "    }\n",
       "\n",
       "    .dataframe thead th {\n",
       "        text-align: right;\n",
       "    }\n",
       "</style>\n",
       "<table border=\"1\" class=\"dataframe\">\n",
       "  <thead>\n",
       "    <tr style=\"text-align: right;\">\n",
       "      <th></th>\n",
       "      <th>tweet_id</th>\n",
       "      <th>in_reply_to_status_id_x</th>\n",
       "      <th>in_reply_to_user_id_x</th>\n",
       "      <th>timestamp</th>\n",
       "      <th>source_x</th>\n",
       "      <th>text</th>\n",
       "      <th>retweeted_status_id</th>\n",
       "      <th>retweeted_status_user_id</th>\n",
       "      <th>retweeted_status_timestamp</th>\n",
       "      <th>expanded_urls</th>\n",
       "      <th>...</th>\n",
       "      <th>p1</th>\n",
       "      <th>p1_conf</th>\n",
       "      <th>p1_dog</th>\n",
       "      <th>p2</th>\n",
       "      <th>p2_conf</th>\n",
       "      <th>p2_dog</th>\n",
       "      <th>p3</th>\n",
       "      <th>p3_conf</th>\n",
       "      <th>p3_dog</th>\n",
       "      <th>p1_conf_level</th>\n",
       "    </tr>\n",
       "  </thead>\n",
       "  <tbody>\n",
       "    <tr>\n",
       "      <th>2</th>\n",
       "      <td>891815181378084864</td>\n",
       "      <td>NaN</td>\n",
       "      <td>NaN</td>\n",
       "      <td>2017-07-31 00:18:03 +0000</td>\n",
       "      <td>&lt;a href=\"http://twitter.com/download/iphone\" r...</td>\n",
       "      <td>This is Archie. He is a rare Norwegian Pouncin...</td>\n",
       "      <td>NaN</td>\n",
       "      <td>NaN</td>\n",
       "      <td>NaN</td>\n",
       "      <td>https://twitter.com/dog_rates/status/891815181...</td>\n",
       "      <td>...</td>\n",
       "      <td>Chihuahua</td>\n",
       "      <td>0.716012</td>\n",
       "      <td>True</td>\n",
       "      <td>malamute</td>\n",
       "      <td>0.078253</td>\n",
       "      <td>True</td>\n",
       "      <td>kelpie</td>\n",
       "      <td>0.031379</td>\n",
       "      <td>True</td>\n",
       "      <td>confidence</td>\n",
       "    </tr>\n",
       "  </tbody>\n",
       "</table>\n",
       "<p>1 rows × 62 columns</p>\n",
       "</div>"
      ],
      "text/plain": [
       "             tweet_id  in_reply_to_status_id_x  in_reply_to_user_id_x  \\\n",
       "2  891815181378084864                      NaN                    NaN   \n",
       "\n",
       "                   timestamp  \\\n",
       "2  2017-07-31 00:18:03 +0000   \n",
       "\n",
       "                                            source_x  \\\n",
       "2  <a href=\"http://twitter.com/download/iphone\" r...   \n",
       "\n",
       "                                                text  retweeted_status_id  \\\n",
       "2  This is Archie. He is a rare Norwegian Pouncin...                  NaN   \n",
       "\n",
       "   retweeted_status_user_id retweeted_status_timestamp  \\\n",
       "2                       NaN                        NaN   \n",
       "\n",
       "                                       expanded_urls  ...         p1  \\\n",
       "2  https://twitter.com/dog_rates/status/891815181...  ...  Chihuahua   \n",
       "\n",
       "    p1_conf p1_dog        p2   p2_conf p2_dog      p3   p3_conf p3_dog  \\\n",
       "2  0.716012   True  malamute  0.078253   True  kelpie  0.031379   True   \n",
       "\n",
       "   p1_conf_level  \n",
       "2     confidence  \n",
       "\n",
       "[1 rows x 62 columns]"
      ]
     },
     "execution_count": 738,
     "metadata": {},
     "output_type": "execute_result"
    }
   ],
   "source": [
    "combined4.head(1)"
   ]
  },
  {
   "cell_type": "code",
   "execution_count": null,
   "metadata": {
    "scrolled": true
   },
   "outputs": [],
   "source": []
  },
  {
   "cell_type": "code",
   "execution_count": 739,
   "metadata": {
    "scrolled": true
   },
   "outputs": [],
   "source": [
    "top_chow_img1=combined4.loc[(combined4['p1']=='chow') & (combined4['rating_numerator'] >= 13.0)]"
   ]
  },
  {
   "cell_type": "code",
   "execution_count": 740,
   "metadata": {
    "scrolled": true
   },
   "outputs": [
    {
     "data": {
      "text/plain": [
       "(6, 62)"
      ]
     },
     "execution_count": 740,
     "metadata": {},
     "output_type": "execute_result"
    }
   ],
   "source": [
    "top_chow_img1.shape"
   ]
  },
  {
   "cell_type": "code",
   "execution_count": null,
   "metadata": {
    "scrolled": true
   },
   "outputs": [],
   "source": []
  },
  {
   "cell_type": "code",
   "execution_count": 741,
   "metadata": {
    "scrolled": true
   },
   "outputs": [
    {
     "data": {
      "text/html": [
       "<div>\n",
       "<style scoped>\n",
       "    .dataframe tbody tr th:only-of-type {\n",
       "        vertical-align: middle;\n",
       "    }\n",
       "\n",
       "    .dataframe tbody tr th {\n",
       "        vertical-align: top;\n",
       "    }\n",
       "\n",
       "    .dataframe thead th {\n",
       "        text-align: right;\n",
       "    }\n",
       "</style>\n",
       "<table border=\"1\" class=\"dataframe\">\n",
       "  <thead>\n",
       "    <tr style=\"text-align: right;\">\n",
       "      <th></th>\n",
       "      <th>tweet_id</th>\n",
       "      <th>in_reply_to_status_id_x</th>\n",
       "      <th>in_reply_to_user_id_x</th>\n",
       "      <th>timestamp</th>\n",
       "      <th>source_x</th>\n",
       "      <th>text</th>\n",
       "      <th>retweeted_status_id</th>\n",
       "      <th>retweeted_status_user_id</th>\n",
       "      <th>retweeted_status_timestamp</th>\n",
       "      <th>expanded_urls</th>\n",
       "      <th>...</th>\n",
       "      <th>p1</th>\n",
       "      <th>p1_conf</th>\n",
       "      <th>p1_dog</th>\n",
       "      <th>p2</th>\n",
       "      <th>p2_conf</th>\n",
       "      <th>p2_dog</th>\n",
       "      <th>p3</th>\n",
       "      <th>p3_conf</th>\n",
       "      <th>p3_dog</th>\n",
       "      <th>p1_conf_level</th>\n",
       "    </tr>\n",
       "  </thead>\n",
       "  <tbody>\n",
       "    <tr>\n",
       "      <th>35</th>\n",
       "      <td>884876753390489601</td>\n",
       "      <td>NaN</td>\n",
       "      <td>NaN</td>\n",
       "      <td>2017-07-11 20:47:12 +0000</td>\n",
       "      <td>&lt;a href=\"http://twitter.com/download/iphone\" r...</td>\n",
       "      <td>This is Lola. It's her first time outside. Mus...</td>\n",
       "      <td>NaN</td>\n",
       "      <td>NaN</td>\n",
       "      <td>NaN</td>\n",
       "      <td>https://twitter.com/dog_rates/status/884876753...</td>\n",
       "      <td>...</td>\n",
       "      <td>chow</td>\n",
       "      <td>0.822103</td>\n",
       "      <td>True</td>\n",
       "      <td>Norwich_terrier</td>\n",
       "      <td>0.106075</td>\n",
       "      <td>True</td>\n",
       "      <td>Norfolk_terrier</td>\n",
       "      <td>0.037348</td>\n",
       "      <td>True</td>\n",
       "      <td>confidence</td>\n",
       "    </tr>\n",
       "    <tr>\n",
       "      <th>41</th>\n",
       "      <td>883360690899218434</td>\n",
       "      <td>NaN</td>\n",
       "      <td>NaN</td>\n",
       "      <td>2017-07-07 16:22:55 +0000</td>\n",
       "      <td>&lt;a href=\"http://twitter.com/download/iphone\" r...</td>\n",
       "      <td>Meet Grizzwald. He may be the floofiest floofe...</td>\n",
       "      <td>NaN</td>\n",
       "      <td>NaN</td>\n",
       "      <td>NaN</td>\n",
       "      <td>https://twitter.com/dog_rates/status/883360690...</td>\n",
       "      <td>...</td>\n",
       "      <td>chow</td>\n",
       "      <td>0.987997</td>\n",
       "      <td>True</td>\n",
       "      <td>Tibetan_mastiff</td>\n",
       "      <td>0.007099</td>\n",
       "      <td>True</td>\n",
       "      <td>Newfoundland</td>\n",
       "      <td>0.002140</td>\n",
       "      <td>True</td>\n",
       "      <td>very confidence</td>\n",
       "    </tr>\n",
       "    <tr>\n",
       "      <th>128</th>\n",
       "      <td>862096992088072192</td>\n",
       "      <td>NaN</td>\n",
       "      <td>NaN</td>\n",
       "      <td>2017-05-10 00:08:34 +0000</td>\n",
       "      <td>&lt;a href=\"http://twitter.com/download/iphone\" r...</td>\n",
       "      <td>We only rate dogs. Please don't send perfectly...</td>\n",
       "      <td>NaN</td>\n",
       "      <td>NaN</td>\n",
       "      <td>NaN</td>\n",
       "      <td>https://twitter.com/dog_rates/status/862096992...</td>\n",
       "      <td>...</td>\n",
       "      <td>chow</td>\n",
       "      <td>0.677589</td>\n",
       "      <td>True</td>\n",
       "      <td>Pomeranian</td>\n",
       "      <td>0.270648</td>\n",
       "      <td>True</td>\n",
       "      <td>Pekinese</td>\n",
       "      <td>0.038110</td>\n",
       "      <td>True</td>\n",
       "      <td>confidence</td>\n",
       "    </tr>\n",
       "    <tr>\n",
       "      <th>232</th>\n",
       "      <td>838083903487373313</td>\n",
       "      <td>NaN</td>\n",
       "      <td>NaN</td>\n",
       "      <td>2017-03-04 17:49:08 +0000</td>\n",
       "      <td>&lt;a href=\"http://twitter.com/download/iphone\" r...</td>\n",
       "      <td>This is Daisy. She's puppears to be rare as al...</td>\n",
       "      <td>NaN</td>\n",
       "      <td>NaN</td>\n",
       "      <td>NaN</td>\n",
       "      <td>https://twitter.com/dog_rates/status/838083903...</td>\n",
       "      <td>...</td>\n",
       "      <td>chow</td>\n",
       "      <td>0.800975</td>\n",
       "      <td>True</td>\n",
       "      <td>seat_belt</td>\n",
       "      <td>0.164133</td>\n",
       "      <td>False</td>\n",
       "      <td>Pomeranian</td>\n",
       "      <td>0.017981</td>\n",
       "      <td>True</td>\n",
       "      <td>confidence</td>\n",
       "    </tr>\n",
       "    <tr>\n",
       "      <th>550</th>\n",
       "      <td>788150585577050112</td>\n",
       "      <td>NaN</td>\n",
       "      <td>NaN</td>\n",
       "      <td>2016-10-17 22:51:57 +0000</td>\n",
       "      <td>&lt;a href=\"http://twitter.com/download/iphone\" r...</td>\n",
       "      <td>This is Leo. He's a golden chow. Rather h*ckin...</td>\n",
       "      <td>NaN</td>\n",
       "      <td>NaN</td>\n",
       "      <td>NaN</td>\n",
       "      <td>https://twitter.com/dog_rates/status/788150585...</td>\n",
       "      <td>...</td>\n",
       "      <td>chow</td>\n",
       "      <td>0.814145</td>\n",
       "      <td>True</td>\n",
       "      <td>Pomeranian</td>\n",
       "      <td>0.112704</td>\n",
       "      <td>True</td>\n",
       "      <td>Chihuahua</td>\n",
       "      <td>0.015883</td>\n",
       "      <td>True</td>\n",
       "      <td>confidence</td>\n",
       "    </tr>\n",
       "    <tr>\n",
       "      <th>1631</th>\n",
       "      <td>674468880899788800</td>\n",
       "      <td>NaN</td>\n",
       "      <td>NaN</td>\n",
       "      <td>2015-12-09 06:01:26 +0000</td>\n",
       "      <td>&lt;a href=\"http://twitter.com/download/iphone\" r...</td>\n",
       "      <td>This is Louis. He thinks he's flying. 13/10 th...</td>\n",
       "      <td>NaN</td>\n",
       "      <td>NaN</td>\n",
       "      <td>NaN</td>\n",
       "      <td>https://twitter.com/dog_rates/status/674468880...</td>\n",
       "      <td>...</td>\n",
       "      <td>chow</td>\n",
       "      <td>0.526230</td>\n",
       "      <td>True</td>\n",
       "      <td>Pomeranian</td>\n",
       "      <td>0.283647</td>\n",
       "      <td>True</td>\n",
       "      <td>toy_poodle</td>\n",
       "      <td>0.067665</td>\n",
       "      <td>True</td>\n",
       "      <td>confidence</td>\n",
       "    </tr>\n",
       "  </tbody>\n",
       "</table>\n",
       "<p>6 rows × 62 columns</p>\n",
       "</div>"
      ],
      "text/plain": [
       "                tweet_id  in_reply_to_status_id_x  in_reply_to_user_id_x  \\\n",
       "35    884876753390489601                      NaN                    NaN   \n",
       "41    883360690899218434                      NaN                    NaN   \n",
       "128   862096992088072192                      NaN                    NaN   \n",
       "232   838083903487373313                      NaN                    NaN   \n",
       "550   788150585577050112                      NaN                    NaN   \n",
       "1631  674468880899788800                      NaN                    NaN   \n",
       "\n",
       "                      timestamp  \\\n",
       "35    2017-07-11 20:47:12 +0000   \n",
       "41    2017-07-07 16:22:55 +0000   \n",
       "128   2017-05-10 00:08:34 +0000   \n",
       "232   2017-03-04 17:49:08 +0000   \n",
       "550   2016-10-17 22:51:57 +0000   \n",
       "1631  2015-12-09 06:01:26 +0000   \n",
       "\n",
       "                                               source_x  \\\n",
       "35    <a href=\"http://twitter.com/download/iphone\" r...   \n",
       "41    <a href=\"http://twitter.com/download/iphone\" r...   \n",
       "128   <a href=\"http://twitter.com/download/iphone\" r...   \n",
       "232   <a href=\"http://twitter.com/download/iphone\" r...   \n",
       "550   <a href=\"http://twitter.com/download/iphone\" r...   \n",
       "1631  <a href=\"http://twitter.com/download/iphone\" r...   \n",
       "\n",
       "                                                   text  retweeted_status_id  \\\n",
       "35    This is Lola. It's her first time outside. Mus...                  NaN   \n",
       "41    Meet Grizzwald. He may be the floofiest floofe...                  NaN   \n",
       "128   We only rate dogs. Please don't send perfectly...                  NaN   \n",
       "232   This is Daisy. She's puppears to be rare as al...                  NaN   \n",
       "550   This is Leo. He's a golden chow. Rather h*ckin...                  NaN   \n",
       "1631  This is Louis. He thinks he's flying. 13/10 th...                  NaN   \n",
       "\n",
       "      retweeted_status_user_id retweeted_status_timestamp  \\\n",
       "35                         NaN                        NaN   \n",
       "41                         NaN                        NaN   \n",
       "128                        NaN                        NaN   \n",
       "232                        NaN                        NaN   \n",
       "550                        NaN                        NaN   \n",
       "1631                       NaN                        NaN   \n",
       "\n",
       "                                          expanded_urls  ...    p1   p1_conf  \\\n",
       "35    https://twitter.com/dog_rates/status/884876753...  ...  chow  0.822103   \n",
       "41    https://twitter.com/dog_rates/status/883360690...  ...  chow  0.987997   \n",
       "128   https://twitter.com/dog_rates/status/862096992...  ...  chow  0.677589   \n",
       "232   https://twitter.com/dog_rates/status/838083903...  ...  chow  0.800975   \n",
       "550   https://twitter.com/dog_rates/status/788150585...  ...  chow  0.814145   \n",
       "1631  https://twitter.com/dog_rates/status/674468880...  ...  chow  0.526230   \n",
       "\n",
       "     p1_dog               p2   p2_conf p2_dog               p3   p3_conf  \\\n",
       "35     True  Norwich_terrier  0.106075   True  Norfolk_terrier  0.037348   \n",
       "41     True  Tibetan_mastiff  0.007099   True     Newfoundland  0.002140   \n",
       "128    True       Pomeranian  0.270648   True         Pekinese  0.038110   \n",
       "232    True        seat_belt  0.164133  False       Pomeranian  0.017981   \n",
       "550    True       Pomeranian  0.112704   True        Chihuahua  0.015883   \n",
       "1631   True       Pomeranian  0.283647   True       toy_poodle  0.067665   \n",
       "\n",
       "     p3_dog    p1_conf_level  \n",
       "35     True       confidence  \n",
       "41     True  very confidence  \n",
       "128    True       confidence  \n",
       "232    True       confidence  \n",
       "550    True       confidence  \n",
       "1631   True       confidence  \n",
       "\n",
       "[6 rows x 62 columns]"
      ]
     },
     "execution_count": 741,
     "metadata": {},
     "output_type": "execute_result"
    }
   ],
   "source": [
    "top_chow_img1"
   ]
  },
  {
   "cell_type": "code",
   "execution_count": null,
   "metadata": {
    "scrolled": true
   },
   "outputs": [],
   "source": []
  },
  {
   "cell_type": "code",
   "execution_count": 742,
   "metadata": {
    "scrolled": true
   },
   "outputs": [],
   "source": [
    "# top_chow_img=(combined4.loc[(combined4['p1']=='chow') & (combined4['rating_numerator'] >= 13.0)].jpg_url)"
   ]
  },
  {
   "cell_type": "code",
   "execution_count": null,
   "metadata": {
    "scrolled": true
   },
   "outputs": [],
   "source": []
  },
  {
   "cell_type": "code",
   "execution_count": 743,
   "metadata": {
    "scrolled": true
   },
   "outputs": [],
   "source": [
    "img_link=['https://pbs.twimg.com/media/DEe2tZXXkAAwyX3.jpg',\n",
    "     'https://pbs.twimg.com/media/DEJT3FeXoAAtwUy.jpg',\n",
    "     'https://pbs.twimg.com/media/C_bIo7QXYAAGfPu.jpg',\n",
    "     'https://pbs.twimg.com/media/C6F42cGUYAAIKsX.jpg',\n",
    "     'https://pbs.twimg.com/media/CvASw6dWcAQmo3X.jpg',\n",
    "     'https://pbs.twimg.com/media/CVwx3dQXAAA0ksL.jpg']"
   ]
  },
  {
   "cell_type": "code",
   "execution_count": null,
   "metadata": {
    "scrolled": true
   },
   "outputs": [],
   "source": []
  },
  {
   "cell_type": "code",
   "execution_count": 744,
   "metadata": {
    "scrolled": true
   },
   "outputs": [
    {
     "name": "stderr",
     "output_type": "stream",
     "text": [
      "/opt/anaconda3/lib/python3.7/site-packages/ipykernel_launcher.py:1: SettingWithCopyWarning: \n",
      "A value is trying to be set on a copy of a slice from a DataFrame.\n",
      "Try using .loc[row_indexer,col_indexer] = value instead\n",
      "\n",
      "See the caveats in the documentation: https://pandas.pydata.org/pandas-docs/stable/user_guide/indexing.html#returning-a-view-versus-a-copy\n",
      "  \"\"\"Entry point for launching an IPython kernel.\n"
     ]
    }
   ],
   "source": [
    "top_chow_img1['dog_image']=img_link"
   ]
  },
  {
   "cell_type": "code",
   "execution_count": null,
   "metadata": {
    "scrolled": true
   },
   "outputs": [],
   "source": []
  },
  {
   "cell_type": "code",
   "execution_count": 745,
   "metadata": {
    "scrolled": true
   },
   "outputs": [
    {
     "data": {
      "text/html": [
       "<div>\n",
       "<style scoped>\n",
       "    .dataframe tbody tr th:only-of-type {\n",
       "        vertical-align: middle;\n",
       "    }\n",
       "\n",
       "    .dataframe tbody tr th {\n",
       "        vertical-align: top;\n",
       "    }\n",
       "\n",
       "    .dataframe thead th {\n",
       "        text-align: right;\n",
       "    }\n",
       "</style>\n",
       "<table border=\"1\" class=\"dataframe\">\n",
       "  <thead>\n",
       "    <tr style=\"text-align: right;\">\n",
       "      <th></th>\n",
       "      <th>tweet_id</th>\n",
       "      <th>in_reply_to_status_id_x</th>\n",
       "      <th>in_reply_to_user_id_x</th>\n",
       "      <th>timestamp</th>\n",
       "      <th>source_x</th>\n",
       "      <th>text</th>\n",
       "      <th>retweeted_status_id</th>\n",
       "      <th>retweeted_status_user_id</th>\n",
       "      <th>retweeted_status_timestamp</th>\n",
       "      <th>expanded_urls</th>\n",
       "      <th>...</th>\n",
       "      <th>p1_conf</th>\n",
       "      <th>p1_dog</th>\n",
       "      <th>p2</th>\n",
       "      <th>p2_conf</th>\n",
       "      <th>p2_dog</th>\n",
       "      <th>p3</th>\n",
       "      <th>p3_conf</th>\n",
       "      <th>p3_dog</th>\n",
       "      <th>p1_conf_level</th>\n",
       "      <th>dog_image</th>\n",
       "    </tr>\n",
       "  </thead>\n",
       "  <tbody>\n",
       "    <tr>\n",
       "      <th>35</th>\n",
       "      <td>884876753390489601</td>\n",
       "      <td>NaN</td>\n",
       "      <td>NaN</td>\n",
       "      <td>2017-07-11 20:47:12 +0000</td>\n",
       "      <td>&lt;a href=\"http://twitter.com/download/iphone\" r...</td>\n",
       "      <td>This is Lola. It's her first time outside. Mus...</td>\n",
       "      <td>NaN</td>\n",
       "      <td>NaN</td>\n",
       "      <td>NaN</td>\n",
       "      <td>https://twitter.com/dog_rates/status/884876753...</td>\n",
       "      <td>...</td>\n",
       "      <td>0.822103</td>\n",
       "      <td>True</td>\n",
       "      <td>Norwich_terrier</td>\n",
       "      <td>0.106075</td>\n",
       "      <td>True</td>\n",
       "      <td>Norfolk_terrier</td>\n",
       "      <td>0.037348</td>\n",
       "      <td>True</td>\n",
       "      <td>confidence</td>\n",
       "      <td>https://pbs.twimg.com/media/DEe2tZXXkAAwyX3.jpg</td>\n",
       "    </tr>\n",
       "  </tbody>\n",
       "</table>\n",
       "<p>1 rows × 63 columns</p>\n",
       "</div>"
      ],
      "text/plain": [
       "              tweet_id  in_reply_to_status_id_x  in_reply_to_user_id_x  \\\n",
       "35  884876753390489601                      NaN                    NaN   \n",
       "\n",
       "                    timestamp  \\\n",
       "35  2017-07-11 20:47:12 +0000   \n",
       "\n",
       "                                             source_x  \\\n",
       "35  <a href=\"http://twitter.com/download/iphone\" r...   \n",
       "\n",
       "                                                 text  retweeted_status_id  \\\n",
       "35  This is Lola. It's her first time outside. Mus...                  NaN   \n",
       "\n",
       "    retweeted_status_user_id retweeted_status_timestamp  \\\n",
       "35                       NaN                        NaN   \n",
       "\n",
       "                                        expanded_urls  ...   p1_conf  p1_dog  \\\n",
       "35  https://twitter.com/dog_rates/status/884876753...  ...  0.822103    True   \n",
       "\n",
       "                 p2   p2_conf p2_dog               p3   p3_conf p3_dog  \\\n",
       "35  Norwich_terrier  0.106075   True  Norfolk_terrier  0.037348   True   \n",
       "\n",
       "   p1_conf_level                                        dog_image  \n",
       "35    confidence  https://pbs.twimg.com/media/DEe2tZXXkAAwyX3.jpg  \n",
       "\n",
       "[1 rows x 63 columns]"
      ]
     },
     "execution_count": 745,
     "metadata": {},
     "output_type": "execute_result"
    }
   ],
   "source": [
    "## append the image url into the dataframe\n",
    "top_chow_img1.head(1)"
   ]
  },
  {
   "cell_type": "code",
   "execution_count": null,
   "metadata": {
    "scrolled": true
   },
   "outputs": [],
   "source": []
  },
  {
   "cell_type": "code",
   "execution_count": 746,
   "metadata": {
    "scrolled": true
   },
   "outputs": [],
   "source": [
    "def path_to_image_html(path):\n",
    "    return '<img src=\"'+ path + '\" width=\"60\" >'"
   ]
  },
  {
   "cell_type": "code",
   "execution_count": 747,
   "metadata": {
    "scrolled": false
   },
   "outputs": [
    {
     "data": {
      "text/plain": [
       "'<table border=\"1\" class=\"dataframe\">\\n  <thead>\\n    <tr style=\"text-align: right;\">\\n      <th></th>\\n      <th>tweet_id</th>\\n      <th>in_reply_to_status_id_x</th>\\n      <th>in_reply_to_user_id_x</th>\\n      <th>timestamp</th>\\n      <th>source_x</th>\\n      <th>text</th>\\n      <th>retweeted_status_id</th>\\n      <th>retweeted_status_user_id</th>\\n      <th>retweeted_status_timestamp</th>\\n      <th>expanded_urls</th>\\n      <th>rating_numerator</th>\\n      <th>rating_denominator</th>\\n      <th>name</th>\\n      <th>doggo</th>\\n      <th>floofer</th>\\n      <th>pupper</th>\\n      <th>puppo</th>\\n      <th>timestamp_date</th>\\n      <th>timestamp_time</th>\\n      <th>rating_denominator_1</th>\\n      <th>created_at</th>\\n      <th>id_str</th>\\n      <th>full_text</th>\\n      <th>truncated</th>\\n      <th>display_text_range</th>\\n      <th>entities</th>\\n      <th>extended_entities</th>\\n      <th>source_y</th>\\n      <th>in_reply_to_status_id_y</th>\\n      <th>in_reply_to_status_id_str</th>\\n      <th>in_reply_to_user_id_y</th>\\n      <th>in_reply_to_user_id_str</th>\\n      <th>in_reply_to_screen_name</th>\\n      <th>user</th>\\n      <th>geo</th>\\n      <th>coordinates</th>\\n      <th>place</th>\\n      <th>contributors</th>\\n      <th>is_quote_status</th>\\n      <th>retweet_count</th>\\n      <th>favorite_count</th>\\n      <th>favorited</th>\\n      <th>retweeted</th>\\n      <th>possibly_sensitive</th>\\n      <th>possibly_sensitive_appealable</th>\\n      <th>lang</th>\\n      <th>retweeted_status</th>\\n      <th>quoted_status_id</th>\\n      <th>quoted_status_id_str</th>\\n      <th>quoted_status</th>\\n      <th>jpg_url</th>\\n      <th>img_num</th>\\n      <th>p1</th>\\n      <th>p1_conf</th>\\n      <th>p1_dog</th>\\n      <th>p2</th>\\n      <th>p2_conf</th>\\n      <th>p2_dog</th>\\n      <th>p3</th>\\n      <th>p3_conf</th>\\n      <th>p3_dog</th>\\n      <th>p1_conf_level</th>\\n      <th>dog_image</th>\\n    </tr>\\n  </thead>\\n  <tbody>\\n    <tr>\\n      <th>35</th>\\n      <td>884876753390489601</td>\\n      <td>NaN</td>\\n      <td>NaN</td>\\n      <td>2017-07-11 20:47:12 +0000</td>\\n      <td><a href=\"http://twitter.com/download/iphone\" rel=\"nofollow\">Twitter for iPhone</a></td>\\n      <td>This is Lola. It\\'s her first time outside. Must test the earth and taste the atmosphere. 13/10 you\\'re doing great Lola https://t.co/74TKAUsLkO</td>\\n      <td>NaN</td>\\n      <td>NaN</td>\\n      <td>NaN</td>\\n      <td>https://twitter.com/dog_rates/status/884876753390489601/photo/1,https://twitter.com/dog_rates/status/884876753390489601/photo/1,https://twitter.com/dog_rates/status/884876753390489601/photo/1,https://twitter.com/dog_rates/status/884876753390489601/photo/1</td>\\n      <td>13</td>\\n      <td>10</td>\\n      <td>Lola</td>\\n      <td>None</td>\\n      <td>None</td>\\n      <td>None</td>\\n      <td>None</td>\\n      <td>2017-07-11</td>\\n      <td>20:47:12</td>\\n      <td>10</td>\\n      <td>2017-07-11 20:47:12+00:00</td>\\n      <td>\\'884876753390489600\\'</td>\\n      <td>This is Lola. It\\'s her first time outside. Must test the earth and taste the atmosphere. 13/10 you\\'re doing great Lola https://t.co/74TKAUsLkO</td>\\n      <td>False</td>\\n      <td>[0, 118]</td>\\n      <td>{\\'hashtags\\': [], \\'symbols\\': [], \\'user_mentions\\': [], \\'urls\\': [], \\'media\\': [{\\'id\\': 884876742820859904, \\'id_str\\': \\'884876742820859904\\', \\'indices\\': [119, 142], \\'media_url\\': \\'http://pbs.twimg.com/media/DEe2tZXXkAAwyX3.jpg\\', \\'media_url_https\\': \\'https://pbs.twimg.com/media/DEe2tZXXkAAwyX3.jpg\\', \\'url\\': \\'https://t.co/74TKAUsLkO\\', \\'display_url\\': \\'pic.twitter.com/74TKAUsLkO\\', \\'expanded_url\\': \\'https://twitter.com/dog_rates/status/884876753390489601/photo/1\\', \\'type\\': \\'photo\\', \\'sizes\\': {\\'large\\': {\\'w\\': 1234, \\'h\\': 1338, \\'resize\\': \\'fit\\'}, \\'thumb\\': {\\'w\\': 150, \\'h\\': 150, \\'resize\\': \\'crop\\'}, \\'small\\': {\\'w\\': 627, \\'h\\': 680, \\'resize\\': \\'fit\\'}, \\'medium\\': {\\'w\\': 1107, \\'h\\': 1200, \\'resize\\': \\'fit\\'}}}]}</td>\\n      <td>{\\'media\\': [{\\'id\\': 884876742820859904, \\'id_str\\': \\'884876742820859904\\', \\'indices\\': [119, 142], \\'media_url\\': \\'http://pbs.twimg.com/media/DEe2tZXXkAAwyX3.jpg\\', \\'media_url_https\\': \\'https://pbs.twimg.com/media/DEe2tZXXkAAwyX3.jpg\\', \\'url\\': \\'https://t.co/74TKAUsLkO\\', \\'display_url\\': \\'pic.twitter.com/74TKAUsLkO\\', \\'expanded_url\\': \\'https://twitter.com/dog_rates/status/884876753390489601/photo/1\\', \\'type\\': \\'photo\\', \\'sizes\\': {\\'large\\': {\\'w\\': 1234, \\'h\\': 1338, \\'resize\\': \\'fit\\'}, \\'thumb\\': {\\'w\\': 150, \\'h\\': 150, \\'resize\\': \\'crop\\'}, \\'small\\': {\\'w\\': 627, \\'h\\': 680, \\'resize\\': \\'fit\\'}, \\'medium\\': {\\'w\\': 1107, \\'h\\': 1200, \\'resize\\': \\'fit\\'}}}, {\\'id\\': 884876742816616450, \\'id_str\\': \\'884876742816616450\\', \\'indices\\': [119, 142], \\'media_url\\': \\'http://pbs.twimg.com/media/DEe2tZWW0AIhXjS.jpg\\', \\'media_url_https\\': \\'https://pbs.twimg.com/media/DEe2tZWW0AIhXjS.jpg\\', \\'url\\': \\'https://t.co/74TKAUsLkO\\', \\'display_url\\': \\'pic.twitter.com/74TKAUsLkO\\', \\'expanded_url\\': \\'https://twitter.com/dog_rates/status/884876753390489601/photo/1\\', \\'type\\': \\'photo\\', \\'sizes\\': {\\'large\\': {\\'w\\': 910, \\'h\\': 1215, \\'resize\\': \\'fit\\'}, \\'thumb\\': {\\'w\\': 150, \\'h\\': 150, \\'resize\\': \\'crop\\'}, \\'medium\\': {\\'w\\': 899, \\'h\\': 1200, \\'resize\\': \\'fit\\'}, \\'small\\': {\\'w\\': 509, \\'h\\': 680, \\'resize\\': \\'fit\\'}}}, {\\'id\\': 884876742741065730, \\'id_str\\': \\'884876742741065730\\', \\'indices\\': [119, 142], \\'media_url\\': \\'http://pbs.twimg.com/media/DEe2tZEWAAIrpbu.jpg\\', \\'media_url_https\\': \\'https://pbs.twimg.com/media/DEe2tZEWAAIrpbu.jpg\\', \\'url\\': \\'https://t.co/74TKAUsLkO\\', \\'display_url\\': \\'pic.twitter.com/74TKAUsLkO\\', \\'expanded_url\\': \\'https://twitter.com/dog_rates/status/884876753390489601/photo/1\\', \\'type\\': \\'photo\\', \\'sizes\\': {\\'medium\\': {\\'w\\': 1196, \\'h\\': 1200, \\'resize\\': \\'fit\\'}, \\'small\\': {\\'w\\': 678, \\'h\\': 680, \\'resize\\': \\'fit\\'}, \\'thumb\\': {\\'w\\': 150, \\'h\\': 150, \\'resize\\': \\'crop\\'}, \\'large\\': {\\'w\\': 1269, \\'h\\': 1273, \\'resize\\': \\'fit\\'}}}, {\\'id\\': 884876742753734656, \\'id_str\\': \\'884876742753734656\\', \\'indices\\': [119, 142], \\'media_url\\': \\'http://pbs.twimg.com/media/DEe2tZHXUAA8r4k.jpg\\', \\'media_url_https\\': \\'https://pbs.twimg.com/media/DEe2tZHXUAA8r4k.jpg\\', \\'url\\': \\'https://t.co/74TKAUsLkO\\', \\'display_url\\': \\'pic.twitter.com/74TKAUsLkO\\', \\'expanded_url\\': \\'https://twitter.com/dog_rates/status/884876753390489601/photo/1\\', \\'type\\': \\'photo\\', \\'sizes\\': {\\'large\\': {\\'w\\': 938, \\'h\\': 1168, \\'resize\\': \\'fit\\'}, \\'thumb\\': {\\'w\\': 150, \\'h\\': 150, \\'resize\\': \\'crop\\'}, \\'small\\': {\\'w\\': 546, \\'h\\': 680, \\'resize\\': \\'fit\\'}, \\'medium\\': {\\'w\\': 938, \\'h\\': 1168, \\'resize\\': \\'fit\\'}}}]}</td>\\n      <td><a href=\"http://twitter.com/download/iphone\" rel=\"nofollow\">Twitter for iPhone</a></td>\\n      <td>NaN</td>\\n      <td>nan</td>\\n      <td>nan</td>\\n      <td>nan</td>\\n      <td>None</td>\\n      <td>{\\'id\\': 4196983835, \\'id_str\\': \\'4196983835\\', \\'name\\': \\'WeRateDogs™ (author)\\', \\'screen_name\\': \\'dog_rates\\', \\'location\\': \\'DM YOUR DOGS, WE WILL RATE\\', \\'description\\': \\'#1 Source for Professional Dog Ratings | STORE: @ShopWeRateDogs | IG, FB & SC: WeRateDogs MOBILE APP: @GoodDogsGame | Business: dogratingtwitter@gmail.com\\', \\'url\\': \\'https://t.co/N7sNNHAEXS\\', \\'entities\\': {\\'url\\': {\\'urls\\': [{\\'url\\': \\'https://t.co/N7sNNHAEXS\\', \\'expanded_url\\': \\'http://weratedogs.com\\', \\'display_url\\': \\'weratedogs.com\\', \\'indices\\': [0, 23]}]}, \\'description\\': {\\'urls\\': []}}, \\'protected\\': False, \\'followers_count\\': 3200890, \\'friends_count\\': 104, \\'listed_count\\': 2784, \\'created_at\\': \\'Sun Nov 15 21:41:29 +0000 2015\\', \\'favourites_count\\': 114031, \\'utc_offset\\': None, \\'time_zone\\': None, \\'geo_enabled\\': True, \\'verified\\': True, \\'statuses_count\\': 5288, \\'lang\\': \\'en\\', \\'contributors_enabled\\': False, \\'is_translator\\': False, \\'is_translation_enabled\\': False, \\'profile_background_color\\': \\'000000\\', \\'profile_background_image_url\\': \\'http://abs.twimg.com/images/themes/theme1/bg.png\\', \\'profile_background_image_url_https\\': \\'https://abs.twimg.com/images/themes/theme1/bg.png\\', \\'profile_background_tile\\': False, \\'profile_image_url\\': \\'http://pbs.twimg.com/profile_images/861415328504569856/R2xOOfwe_normal.jpg\\', \\'profile_image_url_https\\': \\'https://pbs.twimg.com/profile_images/861415328504569856/R2xOOfwe_normal.jpg\\', \\'profile_banner_url\\': \\'https://pbs.twimg.com/profile_banners/4196983835/1501129017\\', \\'profile_link_color\\': \\'F5ABB5\\', \\'profile_sidebar_border_color\\': \\'000000\\', \\'profile_sidebar_fill_color\\': \\'000000\\', \\'profile_text_color\\': \\'000000\\', \\'profile_use_background_image\\': False, \\'has_extended_profile\\': True, \\'default_profile\\': False, \\'default_profile_image\\': False, \\'following\\': True, \\'follow_request_sent\\': False, \\'notifications\\': False, \\'translator_type\\': \\'none\\'}</td>\\n      <td>NaN</td>\\n      <td>NaN</td>\\n      <td>None</td>\\n      <td>NaN</td>\\n      <td>False</td>\\n      <td>6096</td>\\n      <td>28514</td>\\n      <td>False</td>\\n      <td>False</td>\\n      <td>False</td>\\n      <td>0.0</td>\\n      <td>en</td>\\n      <td>NaN</td>\\n      <td>NaN</td>\\n      <td>NaN</td>\\n      <td>NaN</td>\\n      <td>https://pbs.twimg.com/media/DEe2tZXXkAAwyX3.jpg</td>\\n      <td>1</td>\\n      <td>chow</td>\\n      <td>0.822103</td>\\n      <td>True</td>\\n      <td>Norwich_terrier</td>\\n      <td>0.106075</td>\\n      <td>True</td>\\n      <td>Norfolk_terrier</td>\\n      <td>0.037348</td>\\n      <td>True</td>\\n      <td>confidence</td>\\n      <td><img src=\"https://pbs.twimg.com/media/DEe2tZXXkAAwyX3.jpg\" width=\"60\" ></td>\\n    </tr>\\n    <tr>\\n      <th>41</th>\\n      <td>883360690899218434</td>\\n      <td>NaN</td>\\n      <td>NaN</td>\\n      <td>2017-07-07 16:22:55 +0000</td>\\n      <td><a href=\"http://twitter.com/download/iphone\" rel=\"nofollow\">Twitter for iPhone</a></td>\\n      <td>Meet Grizzwald. He may be the floofiest floofer I ever did see. Lost eyes saving a schoolbus from a volcano erpuption. 13/10 heroic as h*ck https://t.co/rf661IFEYP</td>\\n      <td>NaN</td>\\n      <td>NaN</td>\\n      <td>NaN</td>\\n      <td>https://twitter.com/dog_rates/status/883360690899218434/photo/1</td>\\n      <td>13</td>\\n      <td>10</td>\\n      <td>Grizzwald</td>\\n      <td>None</td>\\n      <td>floofer</td>\\n      <td>None</td>\\n      <td>None</td>\\n      <td>2017-07-07</td>\\n      <td>16:22:55</td>\\n      <td>10</td>\\n      <td>2017-07-07 16:22:55+00:00</td>\\n      <td>\\'883360690899218432\\'</td>\\n      <td>Meet Grizzwald. He may be the floofiest floofer I ever did see. Lost eyes saving a schoolbus from a volcano erpuption. 13/10 heroic as h*ck https://t.co/rf661IFEYP</td>\\n      <td>False</td>\\n      <td>[0, 139]</td>\\n      <td>{\\'hashtags\\': [], \\'symbols\\': [], \\'user_mentions\\': [], \\'urls\\': [], \\'media\\': [{\\'id\\': 883360682745503744, \\'id_str\\': \\'883360682745503744\\', \\'indices\\': [140, 163], \\'media_url\\': \\'http://pbs.twimg.com/media/DEJT3FeXoAAtwUy.jpg\\', \\'media_url_https\\': \\'https://pbs.twimg.com/media/DEJT3FeXoAAtwUy.jpg\\', \\'url\\': \\'https://t.co/rf661IFEYP\\', \\'display_url\\': \\'pic.twitter.com/rf661IFEYP\\', \\'expanded_url\\': \\'https://twitter.com/dog_rates/status/883360690899218434/photo/1\\', \\'type\\': \\'photo\\', \\'sizes\\': {\\'small\\': {\\'w\\': 544, \\'h\\': 680, \\'resize\\': \\'fit\\'}, \\'large\\': {\\'w\\': 1280, \\'h\\': 1600, \\'resize\\': \\'fit\\'}, \\'medium\\': {\\'w\\': 960, \\'h\\': 1200, \\'resize\\': \\'fit\\'}, \\'thumb\\': {\\'w\\': 150, \\'h\\': 150, \\'resize\\': \\'crop\\'}}}]}</td>\\n      <td>{\\'media\\': [{\\'id\\': 883360682745503744, \\'id_str\\': \\'883360682745503744\\', \\'indices\\': [140, 163], \\'media_url\\': \\'http://pbs.twimg.com/media/DEJT3FeXoAAtwUy.jpg\\', \\'media_url_https\\': \\'https://pbs.twimg.com/media/DEJT3FeXoAAtwUy.jpg\\', \\'url\\': \\'https://t.co/rf661IFEYP\\', \\'display_url\\': \\'pic.twitter.com/rf661IFEYP\\', \\'expanded_url\\': \\'https://twitter.com/dog_rates/status/883360690899218434/photo/1\\', \\'type\\': \\'photo\\', \\'sizes\\': {\\'small\\': {\\'w\\': 544, \\'h\\': 680, \\'resize\\': \\'fit\\'}, \\'large\\': {\\'w\\': 1280, \\'h\\': 1600, \\'resize\\': \\'fit\\'}, \\'medium\\': {\\'w\\': 960, \\'h\\': 1200, \\'resize\\': \\'fit\\'}, \\'thumb\\': {\\'w\\': 150, \\'h\\': 150, \\'resize\\': \\'crop\\'}}}]}</td>\\n      <td><a href=\"http://twitter.com/download/iphone\" rel=\"nofollow\">Twitter for iPhone</a></td>\\n      <td>NaN</td>\\n      <td>nan</td>\\n      <td>nan</td>\\n      <td>nan</td>\\n      <td>None</td>\\n      <td>{\\'id\\': 4196983835, \\'id_str\\': \\'4196983835\\', \\'name\\': \\'WeRateDogs™ (author)\\', \\'screen_name\\': \\'dog_rates\\', \\'location\\': \\'DM YOUR DOGS, WE WILL RATE\\', \\'description\\': \\'#1 Source for Professional Dog Ratings | STORE: @ShopWeRateDogs | IG, FB & SC: WeRateDogs MOBILE APP: @GoodDogsGame | Business: dogratingtwitter@gmail.com\\', \\'url\\': \\'https://t.co/N7sNNHAEXS\\', \\'entities\\': {\\'url\\': {\\'urls\\': [{\\'url\\': \\'https://t.co/N7sNNHAEXS\\', \\'expanded_url\\': \\'http://weratedogs.com\\', \\'display_url\\': \\'weratedogs.com\\', \\'indices\\': [0, 23]}]}, \\'description\\': {\\'urls\\': []}}, \\'protected\\': False, \\'followers_count\\': 3200890, \\'friends_count\\': 104, \\'listed_count\\': 2784, \\'created_at\\': \\'Sun Nov 15 21:41:29 +0000 2015\\', \\'favourites_count\\': 114031, \\'utc_offset\\': None, \\'time_zone\\': None, \\'geo_enabled\\': True, \\'verified\\': True, \\'statuses_count\\': 5288, \\'lang\\': \\'en\\', \\'contributors_enabled\\': False, \\'is_translator\\': False, \\'is_translation_enabled\\': False, \\'profile_background_color\\': \\'000000\\', \\'profile_background_image_url\\': \\'http://abs.twimg.com/images/themes/theme1/bg.png\\', \\'profile_background_image_url_https\\': \\'https://abs.twimg.com/images/themes/theme1/bg.png\\', \\'profile_background_tile\\': False, \\'profile_image_url\\': \\'http://pbs.twimg.com/profile_images/861415328504569856/R2xOOfwe_normal.jpg\\', \\'profile_image_url_https\\': \\'https://pbs.twimg.com/profile_images/861415328504569856/R2xOOfwe_normal.jpg\\', \\'profile_banner_url\\': \\'https://pbs.twimg.com/profile_banners/4196983835/1501129017\\', \\'profile_link_color\\': \\'F5ABB5\\', \\'profile_sidebar_border_color\\': \\'000000\\', \\'profile_sidebar_fill_color\\': \\'000000\\', \\'profile_text_color\\': \\'000000\\', \\'profile_use_background_image\\': False, \\'has_extended_profile\\': True, \\'default_profile\\': False, \\'default_profile_image\\': False, \\'following\\': True, \\'follow_request_sent\\': False, \\'notifications\\': False, \\'translator_type\\': \\'none\\'}</td>\\n      <td>NaN</td>\\n      <td>NaN</td>\\n      <td>None</td>\\n      <td>NaN</td>\\n      <td>False</td>\\n      <td>3825</td>\\n      <td>22986</td>\\n      <td>False</td>\\n      <td>False</td>\\n      <td>False</td>\\n      <td>0.0</td>\\n      <td>en</td>\\n      <td>NaN</td>\\n      <td>NaN</td>\\n      <td>NaN</td>\\n      <td>NaN</td>\\n      <td>https://pbs.twimg.com/media/DEJT3FeXoAAtwUy.jpg</td>\\n      <td>1</td>\\n      <td>chow</td>\\n      <td>0.987997</td>\\n      <td>True</td>\\n      <td>Tibetan_mastiff</td>\\n      <td>0.007099</td>\\n      <td>True</td>\\n      <td>Newfoundland</td>\\n      <td>0.002140</td>\\n      <td>True</td>\\n      <td>very confidence</td>\\n      <td><img src=\"https://pbs.twimg.com/media/DEJT3FeXoAAtwUy.jpg\" width=\"60\" ></td>\\n    </tr>\\n    <tr>\\n      <th>128</th>\\n      <td>862096992088072192</td>\\n      <td>NaN</td>\\n      <td>NaN</td>\\n      <td>2017-05-10 00:08:34 +0000</td>\\n      <td><a href=\"http://twitter.com/download/iphone\" rel=\"nofollow\">Twitter for iPhone</a></td>\\n      <td>We only rate dogs. Please don\\'t send perfectly toasted marshmallows attempting to drive. Thank you... 13/10 https://t.co/nvZyyrp0kd</td>\\n      <td>NaN</td>\\n      <td>NaN</td>\\n      <td>NaN</td>\\n      <td>https://twitter.com/dog_rates/status/862096992088072192/photo/1,https://twitter.com/dog_rates/status/862096992088072192/photo/1</td>\\n      <td>13</td>\\n      <td>10</td>\\n      <td>None</td>\\n      <td>None</td>\\n      <td>None</td>\\n      <td>None</td>\\n      <td>None</td>\\n      <td>2017-05-10</td>\\n      <td>00:08:34</td>\\n      <td>10</td>\\n      <td>2017-05-10 00:08:34+00:00</td>\\n      <td>\\'862096992088072192\\'</td>\\n      <td>We only rate dogs. Please don\\'t send perfectly toasted marshmallows attempting to drive. Thank you... 13/10 https://t.co/nvZyyrp0kd</td>\\n      <td>False</td>\\n      <td>[0, 107]</td>\\n      <td>{\\'hashtags\\': [], \\'symbols\\': [], \\'user_mentions\\': [], \\'urls\\': [], \\'media\\': [{\\'id\\': 862096984366354432, \\'id_str\\': \\'862096984366354432\\', \\'indices\\': [108, 131], \\'media_url\\': \\'http://pbs.twimg.com/media/C_bIo8MXkAA3xBK.jpg\\', \\'media_url_https\\': \\'https://pbs.twimg.com/media/C_bIo8MXkAA3xBK.jpg\\', \\'url\\': \\'https://t.co/nvZyyrp0kd\\', \\'display_url\\': \\'pic.twitter.com/nvZyyrp0kd\\', \\'expanded_url\\': \\'https://twitter.com/dog_rates/status/862096992088072192/photo/1\\', \\'type\\': \\'photo\\', \\'sizes\\': {\\'small\\': {\\'w\\': 383, \\'h\\': 680, \\'resize\\': \\'fit\\'}, \\'thumb\\': {\\'w\\': 150, \\'h\\': 150, \\'resize\\': \\'crop\\'}, \\'medium\\': {\\'w\\': 676, \\'h\\': 1200, \\'resize\\': \\'fit\\'}, \\'large\\': {\\'w\\': 901, \\'h\\': 1600, \\'resize\\': \\'fit\\'}}}]}</td>\\n      <td>{\\'media\\': [{\\'id\\': 862096984366354432, \\'id_str\\': \\'862096984366354432\\', \\'indices\\': [108, 131], \\'media_url\\': \\'http://pbs.twimg.com/media/C_bIo8MXkAA3xBK.jpg\\', \\'media_url_https\\': \\'https://pbs.twimg.com/media/C_bIo8MXkAA3xBK.jpg\\', \\'url\\': \\'https://t.co/nvZyyrp0kd\\', \\'display_url\\': \\'pic.twitter.com/nvZyyrp0kd\\', \\'expanded_url\\': \\'https://twitter.com/dog_rates/status/862096992088072192/photo/1\\', \\'type\\': \\'photo\\', \\'sizes\\': {\\'small\\': {\\'w\\': 383, \\'h\\': 680, \\'resize\\': \\'fit\\'}, \\'thumb\\': {\\'w\\': 150, \\'h\\': 150, \\'resize\\': \\'crop\\'}, \\'medium\\': {\\'w\\': 676, \\'h\\': 1200, \\'resize\\': \\'fit\\'}, \\'large\\': {\\'w\\': 901, \\'h\\': 1600, \\'resize\\': \\'fit\\'}}}, {\\'id\\': 862096984114683904, \\'id_str\\': \\'862096984114683904\\', \\'indices\\': [108, 131], \\'media_url\\': \\'http://pbs.twimg.com/media/C_bIo7QXYAAGfPu.jpg\\', \\'media_url_https\\': \\'https://pbs.twimg.com/media/C_bIo7QXYAAGfPu.jpg\\', \\'url\\': \\'https://t.co/nvZyyrp0kd\\', \\'display_url\\': \\'pic.twitter.com/nvZyyrp0kd\\', \\'expanded_url\\': \\'https://twitter.com/dog_rates/status/862096992088072192/photo/1\\', \\'type\\': \\'photo\\', \\'sizes\\': {\\'small\\': {\\'w\\': 383, \\'h\\': 680, \\'resize\\': \\'fit\\'}, \\'thumb\\': {\\'w\\': 150, \\'h\\': 150, \\'resize\\': \\'crop\\'}, \\'medium\\': {\\'w\\': 676, \\'h\\': 1200, \\'resize\\': \\'fit\\'}, \\'large\\': {\\'w\\': 901, \\'h\\': 1600, \\'resize\\': \\'fit\\'}}}]}</td>\\n      <td><a href=\"http://twitter.com/download/iphone\" rel=\"nofollow\">Twitter for iPhone</a></td>\\n      <td>NaN</td>\\n      <td>nan</td>\\n      <td>nan</td>\\n      <td>nan</td>\\n      <td>None</td>\\n      <td>{\\'id\\': 4196983835, \\'id_str\\': \\'4196983835\\', \\'name\\': \\'WeRateDogs™ (author)\\', \\'screen_name\\': \\'dog_rates\\', \\'location\\': \\'DM YOUR DOGS, WE WILL RATE\\', \\'description\\': \\'#1 Source for Professional Dog Ratings | STORE: @ShopWeRateDogs | IG, FB & SC: WeRateDogs MOBILE APP: @GoodDogsGame | Business: dogratingtwitter@gmail.com\\', \\'url\\': \\'https://t.co/N7sNNHAEXS\\', \\'entities\\': {\\'url\\': {\\'urls\\': [{\\'url\\': \\'https://t.co/N7sNNHAEXS\\', \\'expanded_url\\': \\'http://weratedogs.com\\', \\'display_url\\': \\'weratedogs.com\\', \\'indices\\': [0, 23]}]}, \\'description\\': {\\'urls\\': []}}, \\'protected\\': False, \\'followers_count\\': 3200891, \\'friends_count\\': 104, \\'listed_count\\': 2786, \\'created_at\\': \\'Sun Nov 15 21:41:29 +0000 2015\\', \\'favourites_count\\': 114031, \\'utc_offset\\': None, \\'time_zone\\': None, \\'geo_enabled\\': True, \\'verified\\': True, \\'statuses_count\\': 5288, \\'lang\\': \\'en\\', \\'contributors_enabled\\': False, \\'is_translator\\': False, \\'is_translation_enabled\\': False, \\'profile_background_color\\': \\'000000\\', \\'profile_background_image_url\\': \\'http://abs.twimg.com/images/themes/theme1/bg.png\\', \\'profile_background_image_url_https\\': \\'https://abs.twimg.com/images/themes/theme1/bg.png\\', \\'profile_background_tile\\': False, \\'profile_image_url\\': \\'http://pbs.twimg.com/profile_images/861415328504569856/R2xOOfwe_normal.jpg\\', \\'profile_image_url_https\\': \\'https://pbs.twimg.com/profile_images/861415328504569856/R2xOOfwe_normal.jpg\\', \\'profile_banner_url\\': \\'https://pbs.twimg.com/profile_banners/4196983835/1501129017\\', \\'profile_link_color\\': \\'F5ABB5\\', \\'profile_sidebar_border_color\\': \\'000000\\', \\'profile_sidebar_fill_color\\': \\'000000\\', \\'profile_text_color\\': \\'000000\\', \\'profile_use_background_image\\': False, \\'has_extended_profile\\': True, \\'default_profile\\': False, \\'default_profile_image\\': False, \\'following\\': True, \\'follow_request_sent\\': False, \\'notifications\\': False, \\'translator_type\\': \\'none\\'}</td>\\n      <td>NaN</td>\\n      <td>NaN</td>\\n      <td>None</td>\\n      <td>NaN</td>\\n      <td>False</td>\\n      <td>21840</td>\\n      <td>66437</td>\\n      <td>False</td>\\n      <td>False</td>\\n      <td>False</td>\\n      <td>0.0</td>\\n      <td>en</td>\\n      <td>NaN</td>\\n      <td>NaN</td>\\n      <td>NaN</td>\\n      <td>NaN</td>\\n      <td>https://pbs.twimg.com/media/C_bIo7QXYAAGfPu.jpg</td>\\n      <td>2</td>\\n      <td>chow</td>\\n      <td>0.677589</td>\\n      <td>True</td>\\n      <td>Pomeranian</td>\\n      <td>0.270648</td>\\n      <td>True</td>\\n      <td>Pekinese</td>\\n      <td>0.038110</td>\\n      <td>True</td>\\n      <td>confidence</td>\\n      <td><img src=\"https://pbs.twimg.com/media/C_bIo7QXYAAGfPu.jpg\" width=\"60\" ></td>\\n    </tr>\\n    <tr>\\n      <th>232</th>\\n      <td>838083903487373313</td>\\n      <td>NaN</td>\\n      <td>NaN</td>\\n      <td>2017-03-04 17:49:08 +0000</td>\\n      <td><a href=\"http://twitter.com/download/iphone\" rel=\"nofollow\">Twitter for iPhone</a></td>\\n      <td>This is Daisy. She\\'s puppears to be rare as all h*ck. Only seven like her currently domesticated. 13/10 pettable af https://t.co/meUc8jufAO</td>\\n      <td>NaN</td>\\n      <td>NaN</td>\\n      <td>NaN</td>\\n      <td>https://twitter.com/dog_rates/status/838083903487373313/photo/1,https://twitter.com/dog_rates/status/838083903487373313/photo/1</td>\\n      <td>13</td>\\n      <td>10</td>\\n      <td>Daisy</td>\\n      <td>None</td>\\n      <td>None</td>\\n      <td>None</td>\\n      <td>None</td>\\n      <td>2017-03-04</td>\\n      <td>17:49:08</td>\\n      <td>10</td>\\n      <td>2017-03-04 17:49:08+00:00</td>\\n      <td>\\'838083903487373312\\'</td>\\n      <td>This is Daisy. She\\'s puppears to be rare as all h*ck. Only seven like her currently domesticated. 13/10 pettable af https://t.co/meUc8jufAO</td>\\n      <td>False</td>\\n      <td>[0, 115]</td>\\n      <td>{\\'hashtags\\': [], \\'symbols\\': [], \\'user_mentions\\': [], \\'urls\\': [], \\'media\\': [{\\'id\\': 838083881886633984, \\'id_str\\': \\'838083881886633984\\', \\'indices\\': [116, 139], \\'media_url\\': \\'http://pbs.twimg.com/media/C6F42afVUAA9Wlz.jpg\\', \\'media_url_https\\': \\'https://pbs.twimg.com/media/C6F42afVUAA9Wlz.jpg\\', \\'url\\': \\'https://t.co/meUc8jufAO\\', \\'display_url\\': \\'pic.twitter.com/meUc8jufAO\\', \\'expanded_url\\': \\'https://twitter.com/dog_rates/status/838083903487373313/photo/1\\', \\'type\\': \\'photo\\', \\'sizes\\': {\\'medium\\': {\\'w\\': 900, \\'h\\': 1200, \\'resize\\': \\'fit\\'}, \\'thumb\\': {\\'w\\': 150, \\'h\\': 150, \\'resize\\': \\'crop\\'}, \\'large\\': {\\'w\\': 1536, \\'h\\': 2048, \\'resize\\': \\'fit\\'}, \\'small\\': {\\'w\\': 510, \\'h\\': 680, \\'resize\\': \\'fit\\'}}}]}</td>\\n      <td>{\\'media\\': [{\\'id\\': 838083881886633984, \\'id_str\\': \\'838083881886633984\\', \\'indices\\': [116, 139], \\'media_url\\': \\'http://pbs.twimg.com/media/C6F42afVUAA9Wlz.jpg\\', \\'media_url_https\\': \\'https://pbs.twimg.com/media/C6F42afVUAA9Wlz.jpg\\', \\'url\\': \\'https://t.co/meUc8jufAO\\', \\'display_url\\': \\'pic.twitter.com/meUc8jufAO\\', \\'expanded_url\\': \\'https://twitter.com/dog_rates/status/838083903487373313/photo/1\\', \\'type\\': \\'photo\\', \\'sizes\\': {\\'medium\\': {\\'w\\': 900, \\'h\\': 1200, \\'resize\\': \\'fit\\'}, \\'thumb\\': {\\'w\\': 150, \\'h\\': 150, \\'resize\\': \\'crop\\'}, \\'large\\': {\\'w\\': 1536, \\'h\\': 2048, \\'resize\\': \\'fit\\'}, \\'small\\': {\\'w\\': 510, \\'h\\': 680, \\'resize\\': \\'fit\\'}}}, {\\'id\\': 838083882318585856, \\'id_str\\': \\'838083882318585856\\', \\'indices\\': [116, 139], \\'media_url\\': \\'http://pbs.twimg.com/media/C6F42cGUYAAIKsX.jpg\\', \\'media_url_https\\': \\'https://pbs.twimg.com/media/C6F42cGUYAAIKsX.jpg\\', \\'url\\': \\'https://t.co/meUc8jufAO\\', \\'display_url\\': \\'pic.twitter.com/meUc8jufAO\\', \\'expanded_url\\': \\'https://twitter.com/dog_rates/status/838083903487373313/photo/1\\', \\'type\\': \\'photo\\', \\'sizes\\': {\\'medium\\': {\\'w\\': 900, \\'h\\': 1200, \\'resize\\': \\'fit\\'}, \\'thumb\\': {\\'w\\': 150, \\'h\\': 150, \\'resize\\': \\'crop\\'}, \\'large\\': {\\'w\\': 1536, \\'h\\': 2048, \\'resize\\': \\'fit\\'}, \\'small\\': {\\'w\\': 510, \\'h\\': 680, \\'resize\\': \\'fit\\'}}}]}</td>\\n      <td><a href=\"http://twitter.com/download/iphone\" rel=\"nofollow\">Twitter for iPhone</a></td>\\n      <td>NaN</td>\\n      <td>nan</td>\\n      <td>nan</td>\\n      <td>nan</td>\\n      <td>None</td>\\n      <td>{\\'id\\': 4196983835, \\'id_str\\': \\'4196983835\\', \\'name\\': \\'WeRateDogs™ (author)\\', \\'screen_name\\': \\'dog_rates\\', \\'location\\': \\'DM YOUR DOGS, WE WILL RATE\\', \\'description\\': \\'#1 Source for Professional Dog Ratings | STORE: @ShopWeRateDogs | IG, FB & SC: WeRateDogs MOBILE APP: @GoodDogsGame | Business: dogratingtwitter@gmail.com\\', \\'url\\': \\'https://t.co/N7sNNHAEXS\\', \\'entities\\': {\\'url\\': {\\'urls\\': [{\\'url\\': \\'https://t.co/N7sNNHAEXS\\', \\'expanded_url\\': \\'http://weratedogs.com\\', \\'display_url\\': \\'weratedogs.com\\', \\'indices\\': [0, 23]}]}, \\'description\\': {\\'urls\\': []}}, \\'protected\\': False, \\'followers_count\\': 3200891, \\'friends_count\\': 104, \\'listed_count\\': 2786, \\'created_at\\': \\'Sun Nov 15 21:41:29 +0000 2015\\', \\'favourites_count\\': 114031, \\'utc_offset\\': None, \\'time_zone\\': None, \\'geo_enabled\\': True, \\'verified\\': True, \\'statuses_count\\': 5288, \\'lang\\': \\'en\\', \\'contributors_enabled\\': False, \\'is_translator\\': False, \\'is_translation_enabled\\': False, \\'profile_background_color\\': \\'000000\\', \\'profile_background_image_url\\': \\'http://abs.twimg.com/images/themes/theme1/bg.png\\', \\'profile_background_image_url_https\\': \\'https://abs.twimg.com/images/themes/theme1/bg.png\\', \\'profile_background_tile\\': False, \\'profile_image_url\\': \\'http://pbs.twimg.com/profile_images/861415328504569856/R2xOOfwe_normal.jpg\\', \\'profile_image_url_https\\': \\'https://pbs.twimg.com/profile_images/861415328504569856/R2xOOfwe_normal.jpg\\', \\'profile_banner_url\\': \\'https://pbs.twimg.com/profile_banners/4196983835/1501129017\\', \\'profile_link_color\\': \\'F5ABB5\\', \\'profile_sidebar_border_color\\': \\'000000\\', \\'profile_sidebar_fill_color\\': \\'000000\\', \\'profile_text_color\\': \\'000000\\', \\'profile_use_background_image\\': False, \\'has_extended_profile\\': True, \\'default_profile\\': False, \\'default_profile_image\\': False, \\'following\\': True, \\'follow_request_sent\\': False, \\'notifications\\': False, \\'translator_type\\': \\'none\\'}</td>\\n      <td>NaN</td>\\n      <td>NaN</td>\\n      <td>None</td>\\n      <td>NaN</td>\\n      <td>False</td>\\n      <td>3582</td>\\n      <td>19183</td>\\n      <td>False</td>\\n      <td>False</td>\\n      <td>False</td>\\n      <td>0.0</td>\\n      <td>en</td>\\n      <td>NaN</td>\\n      <td>NaN</td>\\n      <td>NaN</td>\\n      <td>NaN</td>\\n      <td>https://pbs.twimg.com/media/C6F42cGUYAAIKsX.jpg</td>\\n      <td>2</td>\\n      <td>chow</td>\\n      <td>0.800975</td>\\n      <td>True</td>\\n      <td>seat_belt</td>\\n      <td>0.164133</td>\\n      <td>False</td>\\n      <td>Pomeranian</td>\\n      <td>0.017981</td>\\n      <td>True</td>\\n      <td>confidence</td>\\n      <td><img src=\"https://pbs.twimg.com/media/C6F42cGUYAAIKsX.jpg\" width=\"60\" ></td>\\n    </tr>\\n    <tr>\\n      <th>550</th>\\n      <td>788150585577050112</td>\\n      <td>NaN</td>\\n      <td>NaN</td>\\n      <td>2016-10-17 22:51:57 +0000</td>\\n      <td><a href=\"http://twitter.com/download/iphone\" rel=\"nofollow\">Twitter for iPhone</a></td>\\n      <td>This is Leo. He\\'s a golden chow. Rather h*ckin rare. 13/10 would give extra pats https://t.co/xosHjFzVXc</td>\\n      <td>NaN</td>\\n      <td>NaN</td>\\n      <td>NaN</td>\\n      <td>https://twitter.com/dog_rates/status/788150585577050112/photo/1,https://twitter.com/dog_rates/status/788150585577050112/photo/1,https://twitter.com/dog_rates/status/788150585577050112/photo/1,https://twitter.com/dog_rates/status/788150585577050112/photo/1</td>\\n      <td>13</td>\\n      <td>10</td>\\n      <td>Leo</td>\\n      <td>None</td>\\n      <td>None</td>\\n      <td>None</td>\\n      <td>None</td>\\n      <td>2016-10-17</td>\\n      <td>22:51:57</td>\\n      <td>10</td>\\n      <td>2016-10-17 22:51:57+00:00</td>\\n      <td>\\'788150585577050112\\'</td>\\n      <td>This is Leo. He\\'s a golden chow. Rather h*ckin rare. 13/10 would give extra pats https://t.co/xosHjFzVXc</td>\\n      <td>False</td>\\n      <td>[0, 80]</td>\\n      <td>{\\'hashtags\\': [], \\'symbols\\': [], \\'user_mentions\\': [], \\'urls\\': [], \\'media\\': [{\\'id\\': 788150566354583552, \\'id_str\\': \\'788150566354583552\\', \\'indices\\': [81, 104], \\'media_url\\': \\'http://pbs.twimg.com/media/CvASw6kWgAAYs2d.jpg\\', \\'media_url_https\\': \\'https://pbs.twimg.com/media/CvASw6kWgAAYs2d.jpg\\', \\'url\\': \\'https://t.co/xosHjFzVXc\\', \\'display_url\\': \\'pic.twitter.com/xosHjFzVXc\\', \\'expanded_url\\': \\'https://twitter.com/dog_rates/status/788150585577050112/photo/1\\', \\'type\\': \\'photo\\', \\'sizes\\': {\\'medium\\': {\\'w\\': 675, \\'h\\': 1200, \\'resize\\': \\'fit\\'}, \\'small\\': {\\'w\\': 383, \\'h\\': 680, \\'resize\\': \\'fit\\'}, \\'thumb\\': {\\'w\\': 150, \\'h\\': 150, \\'resize\\': \\'crop\\'}, \\'large\\': {\\'w\\': 1024, \\'h\\': 1820, \\'resize\\': \\'fit\\'}}}]}</td>\\n      <td>{\\'media\\': [{\\'id\\': 788150566354583552, \\'id_str\\': \\'788150566354583552\\', \\'indices\\': [81, 104], \\'media_url\\': \\'http://pbs.twimg.com/media/CvASw6kWgAAYs2d.jpg\\', \\'media_url_https\\': \\'https://pbs.twimg.com/media/CvASw6kWgAAYs2d.jpg\\', \\'url\\': \\'https://t.co/xosHjFzVXc\\', \\'display_url\\': \\'pic.twitter.com/xosHjFzVXc\\', \\'expanded_url\\': \\'https://twitter.com/dog_rates/status/788150585577050112/photo/1\\', \\'type\\': \\'photo\\', \\'sizes\\': {\\'medium\\': {\\'w\\': 675, \\'h\\': 1200, \\'resize\\': \\'fit\\'}, \\'small\\': {\\'w\\': 383, \\'h\\': 680, \\'resize\\': \\'fit\\'}, \\'thumb\\': {\\'w\\': 150, \\'h\\': 150, \\'resize\\': \\'crop\\'}, \\'large\\': {\\'w\\': 1024, \\'h\\': 1820, \\'resize\\': \\'fit\\'}}}, {\\'id\\': 788150566325252096, \\'id_str\\': \\'788150566325252096\\', \\'indices\\': [81, 104], \\'media_url\\': \\'http://pbs.twimg.com/media/CvASw6dW8AAITXr.jpg\\', \\'media_url_https\\': \\'https://pbs.twimg.com/media/CvASw6dW8AAITXr.jpg\\', \\'url\\': \\'https://t.co/xosHjFzVXc\\', \\'display_url\\': \\'pic.twitter.com/xosHjFzVXc\\', \\'expanded_url\\': \\'https://twitter.com/dog_rates/status/788150585577050112/photo/1\\', \\'type\\': \\'photo\\', \\'sizes\\': {\\'medium\\': {\\'w\\': 675, \\'h\\': 1200, \\'resize\\': \\'fit\\'}, \\'small\\': {\\'w\\': 383, \\'h\\': 680, \\'resize\\': \\'fit\\'}, \\'thumb\\': {\\'w\\': 150, \\'h\\': 150, \\'resize\\': \\'crop\\'}, \\'large\\': {\\'w\\': 1024, \\'h\\': 1820, \\'resize\\': \\'fit\\'}}}, {\\'id\\': 788150566325219332, \\'id_str\\': \\'788150566325219332\\', \\'indices\\': [81, 104], \\'media_url\\': \\'http://pbs.twimg.com/media/CvASw6dWcAQmo3X.jpg\\', \\'media_url_https\\': \\'https://pbs.twimg.com/media/CvASw6dWcAQmo3X.jpg\\', \\'url\\': \\'https://t.co/xosHjFzVXc\\', \\'display_url\\': \\'pic.twitter.com/xosHjFzVXc\\', \\'expanded_url\\': \\'https://twitter.com/dog_rates/status/788150585577050112/photo/1\\', \\'type\\': \\'photo\\', \\'sizes\\': {\\'medium\\': {\\'w\\': 675, \\'h\\': 1200, \\'resize\\': \\'fit\\'}, \\'small\\': {\\'w\\': 383, \\'h\\': 680, \\'resize\\': \\'fit\\'}, \\'thumb\\': {\\'w\\': 150, \\'h\\': 150, \\'resize\\': \\'crop\\'}, \\'large\\': {\\'w\\': 1152, \\'h\\': 2048, \\'resize\\': \\'fit\\'}}}, {\\'id\\': 788150566341967872, \\'id_str\\': \\'788150566341967872\\', \\'indices\\': [81, 104], \\'media_url\\': \\'http://pbs.twimg.com/media/CvASw6hWAAAQ_F4.jpg\\', \\'media_url_https\\': \\'https://pbs.twimg.com/media/CvASw6hWAAAQ_F4.jpg\\', \\'url\\': \\'https://t.co/xosHjFzVXc\\', \\'display_url\\': \\'pic.twitter.com/xosHjFzVXc\\', \\'expanded_url\\': \\'https://twitter.com/dog_rates/status/788150585577050112/photo/1\\', \\'type\\': \\'photo\\', \\'sizes\\': {\\'medium\\': {\\'w\\': 675, \\'h\\': 1200, \\'resize\\': \\'fit\\'}, \\'small\\': {\\'w\\': 383, \\'h\\': 680, \\'resize\\': \\'fit\\'}, \\'thumb\\': {\\'w\\': 150, \\'h\\': 150, \\'resize\\': \\'crop\\'}, \\'large\\': {\\'w\\': 1152, \\'h\\': 2048, \\'resize\\': \\'fit\\'}}}]}</td>\\n      <td><a href=\"http://twitter.com/download/iphone\" rel=\"nofollow\">Twitter for iPhone</a></td>\\n      <td>NaN</td>\\n      <td>nan</td>\\n      <td>nan</td>\\n      <td>nan</td>\\n      <td>None</td>\\n      <td>{\\'id\\': 4196983835, \\'id_str\\': \\'4196983835\\', \\'name\\': \\'WeRateDogs™ (author)\\', \\'screen_name\\': \\'dog_rates\\', \\'location\\': \\'DM YOUR DOGS, WE WILL RATE\\', \\'description\\': \\'#1 Source for Professional Dog Ratings | STORE: @ShopWeRateDogs | IG, FB & SC: WeRateDogs MOBILE APP: @GoodDogsGame | Business: dogratingtwitter@gmail.com\\', \\'url\\': \\'https://t.co/N7sNNHAEXS\\', \\'entities\\': {\\'url\\': {\\'urls\\': [{\\'url\\': \\'https://t.co/N7sNNHAEXS\\', \\'expanded_url\\': \\'http://weratedogs.com\\', \\'display_url\\': \\'weratedogs.com\\', \\'indices\\': [0, 23]}]}, \\'description\\': {\\'urls\\': []}}, \\'protected\\': False, \\'followers_count\\': 3200901, \\'friends_count\\': 104, \\'listed_count\\': 2788, \\'created_at\\': \\'Sun Nov 15 21:41:29 +0000 2015\\', \\'favourites_count\\': 114031, \\'utc_offset\\': None, \\'time_zone\\': None, \\'geo_enabled\\': True, \\'verified\\': True, \\'statuses_count\\': 5288, \\'lang\\': \\'en\\', \\'contributors_enabled\\': False, \\'is_translator\\': False, \\'is_translation_enabled\\': False, \\'profile_background_color\\': \\'000000\\', \\'profile_background_image_url\\': \\'http://abs.twimg.com/images/themes/theme1/bg.png\\', \\'profile_background_image_url_https\\': \\'https://abs.twimg.com/images/themes/theme1/bg.png\\', \\'profile_background_tile\\': False, \\'profile_image_url\\': \\'http://pbs.twimg.com/profile_images/861415328504569856/R2xOOfwe_normal.jpg\\', \\'profile_image_url_https\\': \\'https://pbs.twimg.com/profile_images/861415328504569856/R2xOOfwe_normal.jpg\\', \\'profile_banner_url\\': \\'https://pbs.twimg.com/profile_banners/4196983835/1501129017\\', \\'profile_link_color\\': \\'F5ABB5\\', \\'profile_sidebar_border_color\\': \\'000000\\', \\'profile_sidebar_fill_color\\': \\'000000\\', \\'profile_text_color\\': \\'000000\\', \\'profile_use_background_image\\': False, \\'has_extended_profile\\': True, \\'default_profile\\': False, \\'default_profile_image\\': False, \\'following\\': True, \\'follow_request_sent\\': False, \\'notifications\\': False, \\'translator_type\\': \\'none\\'}</td>\\n      <td>NaN</td>\\n      <td>NaN</td>\\n      <td>None</td>\\n      <td>NaN</td>\\n      <td>False</td>\\n      <td>1510</td>\\n      <td>6865</td>\\n      <td>False</td>\\n      <td>False</td>\\n      <td>False</td>\\n      <td>0.0</td>\\n      <td>en</td>\\n      <td>NaN</td>\\n      <td>NaN</td>\\n      <td>NaN</td>\\n      <td>NaN</td>\\n      <td>https://pbs.twimg.com/media/CvASw6dWcAQmo3X.jpg</td>\\n      <td>3</td>\\n      <td>chow</td>\\n      <td>0.814145</td>\\n      <td>True</td>\\n      <td>Pomeranian</td>\\n      <td>0.112704</td>\\n      <td>True</td>\\n      <td>Chihuahua</td>\\n      <td>0.015883</td>\\n      <td>True</td>\\n      <td>confidence</td>\\n      <td><img src=\"https://pbs.twimg.com/media/CvASw6dWcAQmo3X.jpg\" width=\"60\" ></td>\\n    </tr>\\n    <tr>\\n      <th>1631</th>\\n      <td>674468880899788800</td>\\n      <td>NaN</td>\\n      <td>NaN</td>\\n      <td>2015-12-09 06:01:26 +0000</td>\\n      <td><a href=\"http://twitter.com/download/iphone\" rel=\"nofollow\">Twitter for iPhone</a></td>\\n      <td>This is Louis. He thinks he\\'s flying. 13/10 this is a legendary pup https://t.co/6d9WziPXmx</td>\\n      <td>NaN</td>\\n      <td>NaN</td>\\n      <td>NaN</td>\\n      <td>https://twitter.com/dog_rates/status/674468880899788800/photo/1,https://twitter.com/dog_rates/status/674468880899788800/photo/1</td>\\n      <td>13</td>\\n      <td>10</td>\\n      <td>Louis</td>\\n      <td>None</td>\\n      <td>None</td>\\n      <td>None</td>\\n      <td>None</td>\\n      <td>2015-12-09</td>\\n      <td>06:01:26</td>\\n      <td>10</td>\\n      <td>2015-12-09 06:01:26+00:00</td>\\n      <td>\\'674468880899788800\\'</td>\\n      <td>This is Louis. He thinks he\\'s flying. 13/10 this is a legendary pup https://t.co/6d9WziPXmx</td>\\n      <td>False</td>\\n      <td>[0, 91]</td>\\n      <td>{\\'hashtags\\': [], \\'symbols\\': [], \\'user_mentions\\': [], \\'urls\\': [], \\'media\\': [{\\'id\\': 674468873001938944, \\'id_str\\': \\'674468873001938944\\', \\'indices\\': [68, 91], \\'media_url\\': \\'http://pbs.twimg.com/media/CVwx3dNWsAAdo4G.jpg\\', \\'media_url_https\\': \\'https://pbs.twimg.com/media/CVwx3dNWsAAdo4G.jpg\\', \\'url\\': \\'https://t.co/6d9WziPXmx\\', \\'display_url\\': \\'pic.twitter.com/6d9WziPXmx\\', \\'expanded_url\\': \\'https://twitter.com/dog_rates/status/674468880899788800/photo/1\\', \\'type\\': \\'photo\\', \\'sizes\\': {\\'small\\': {\\'w\\': 340, \\'h\\': 603, \\'resize\\': \\'fit\\'}, \\'large\\': {\\'w\\': 577, \\'h\\': 1024, \\'resize\\': \\'fit\\'}, \\'medium\\': {\\'w\\': 577, \\'h\\': 1024, \\'resize\\': \\'fit\\'}, \\'thumb\\': {\\'w\\': 150, \\'h\\': 150, \\'resize\\': \\'crop\\'}}}]}</td>\\n      <td>{\\'media\\': [{\\'id\\': 674468873001938944, \\'id_str\\': \\'674468873001938944\\', \\'indices\\': [68, 91], \\'media_url\\': \\'http://pbs.twimg.com/media/CVwx3dNWsAAdo4G.jpg\\', \\'media_url_https\\': \\'https://pbs.twimg.com/media/CVwx3dNWsAAdo4G.jpg\\', \\'url\\': \\'https://t.co/6d9WziPXmx\\', \\'display_url\\': \\'pic.twitter.com/6d9WziPXmx\\', \\'expanded_url\\': \\'https://twitter.com/dog_rates/status/674468880899788800/photo/1\\', \\'type\\': \\'photo\\', \\'sizes\\': {\\'small\\': {\\'w\\': 340, \\'h\\': 603, \\'resize\\': \\'fit\\'}, \\'large\\': {\\'w\\': 577, \\'h\\': 1024, \\'resize\\': \\'fit\\'}, \\'medium\\': {\\'w\\': 577, \\'h\\': 1024, \\'resize\\': \\'fit\\'}, \\'thumb\\': {\\'w\\': 150, \\'h\\': 150, \\'resize\\': \\'crop\\'}}}, {\\'id\\': 674468873014542336, \\'id_str\\': \\'674468873014542336\\', \\'indices\\': [68, 91], \\'media_url\\': \\'http://pbs.twimg.com/media/CVwx3dQXAAA0ksL.jpg\\', \\'media_url_https\\': \\'https://pbs.twimg.com/media/CVwx3dQXAAA0ksL.jpg\\', \\'url\\': \\'https://t.co/6d9WziPXmx\\', \\'display_url\\': \\'pic.twitter.com/6d9WziPXmx\\', \\'expanded_url\\': \\'https://twitter.com/dog_rates/status/674468880899788800/photo/1\\', \\'type\\': \\'photo\\', \\'sizes\\': {\\'large\\': {\\'w\\': 768, \\'h\\': 1024, \\'resize\\': \\'fit\\'}, \\'small\\': {\\'w\\': 340, \\'h\\': 453, \\'resize\\': \\'fit\\'}, \\'thumb\\': {\\'w\\': 150, \\'h\\': 150, \\'resize\\': \\'crop\\'}, \\'medium\\': {\\'w\\': 600, \\'h\\': 800, \\'resize\\': \\'fit\\'}}}]}</td>\\n      <td><a href=\"http://twitter.com/download/iphone\" rel=\"nofollow\">Twitter for iPhone</a></td>\\n      <td>NaN</td>\\n      <td>nan</td>\\n      <td>nan</td>\\n      <td>nan</td>\\n      <td>None</td>\\n      <td>{\\'id\\': 4196983835, \\'id_str\\': \\'4196983835\\', \\'name\\': \\'WeRateDogs™ (author)\\', \\'screen_name\\': \\'dog_rates\\', \\'location\\': \\'DM YOUR DOGS, WE WILL RATE\\', \\'description\\': \\'#1 Source for Professional Dog Ratings | STORE: @ShopWeRateDogs | IG, FB & SC: WeRateDogs MOBILE APP: @GoodDogsGame | Business: dogratingtwitter@gmail.com\\', \\'url\\': \\'https://t.co/N7sNNHAEXS\\', \\'entities\\': {\\'url\\': {\\'urls\\': [{\\'url\\': \\'https://t.co/N7sNNHAEXS\\', \\'expanded_url\\': \\'http://weratedogs.com\\', \\'display_url\\': \\'weratedogs.com\\', \\'indices\\': [0, 23]}]}, \\'description\\': {\\'urls\\': []}}, \\'protected\\': False, \\'followers_count\\': 3201003, \\'friends_count\\': 104, \\'listed_count\\': 2812, \\'created_at\\': \\'Sun Nov 15 21:41:29 +0000 2015\\', \\'favourites_count\\': 114031, \\'utc_offset\\': None, \\'time_zone\\': None, \\'geo_enabled\\': True, \\'verified\\': True, \\'statuses_count\\': 5288, \\'lang\\': \\'en\\', \\'contributors_enabled\\': False, \\'is_translator\\': False, \\'is_translation_enabled\\': False, \\'profile_background_color\\': \\'000000\\', \\'profile_background_image_url\\': \\'http://abs.twimg.com/images/themes/theme1/bg.png\\', \\'profile_background_image_url_https\\': \\'https://abs.twimg.com/images/themes/theme1/bg.png\\', \\'profile_background_tile\\': False, \\'profile_image_url\\': \\'http://pbs.twimg.com/profile_images/861415328504569856/R2xOOfwe_normal.jpg\\', \\'profile_image_url_https\\': \\'https://pbs.twimg.com/profile_images/861415328504569856/R2xOOfwe_normal.jpg\\', \\'profile_banner_url\\': \\'https://pbs.twimg.com/profile_banners/4196983835/1501129017\\', \\'profile_link_color\\': \\'F5ABB5\\', \\'profile_sidebar_border_color\\': \\'000000\\', \\'profile_sidebar_fill_color\\': \\'000000\\', \\'profile_text_color\\': \\'000000\\', \\'profile_use_background_image\\': False, \\'has_extended_profile\\': True, \\'default_profile\\': False, \\'default_profile_image\\': False, \\'following\\': True, \\'follow_request_sent\\': False, \\'notifications\\': False, \\'translator_type\\': \\'none\\'}</td>\\n      <td>NaN</td>\\n      <td>NaN</td>\\n      <td>None</td>\\n      <td>NaN</td>\\n      <td>False</td>\\n      <td>2275</td>\\n      <td>6676</td>\\n      <td>False</td>\\n      <td>False</td>\\n      <td>False</td>\\n      <td>0.0</td>\\n      <td>en</td>\\n      <td>NaN</td>\\n      <td>NaN</td>\\n      <td>NaN</td>\\n      <td>NaN</td>\\n      <td>https://pbs.twimg.com/media/CVwx3dQXAAA0ksL.jpg</td>\\n      <td>2</td>\\n      <td>chow</td>\\n      <td>0.526230</td>\\n      <td>True</td>\\n      <td>Pomeranian</td>\\n      <td>0.283647</td>\\n      <td>True</td>\\n      <td>toy_poodle</td>\\n      <td>0.067665</td>\\n      <td>True</td>\\n      <td>confidence</td>\\n      <td><img src=\"https://pbs.twimg.com/media/CVwx3dQXAAA0ksL.jpg\" width=\"60\" ></td>\\n    </tr>\\n  </tbody>\\n</table>'"
      ]
     },
     "execution_count": 747,
     "metadata": {},
     "output_type": "execute_result"
    }
   ],
   "source": [
    "top_chow_img1.to_html(escape=False, formatters=dict(dog_image=path_to_image_html))"
   ]
  },
  {
   "cell_type": "code",
   "execution_count": null,
   "metadata": {
    "scrolled": true
   },
   "outputs": [],
   "source": []
  },
  {
   "cell_type": "code",
   "execution_count": 748,
   "metadata": {
    "scrolled": true
   },
   "outputs": [],
   "source": [
    "## combined5=combined4[['tweet_id','timestamp_time','timestamp_date','rating_numerator','rating_denominator_1','p1','p1_conf','p1_dog','p1_conf_level']]"
   ]
  },
  {
   "cell_type": "code",
   "execution_count": 749,
   "metadata": {
    "scrolled": true
   },
   "outputs": [],
   "source": [
    "top_chow_img2=top_chow_img1[['tweet_id','timestamp_time','timestamp_date','rating_numerator','rating_denominator_1','p1','p1_conf','p1_dog','p1_conf_level', 'name','dog_image']]"
   ]
  },
  {
   "cell_type": "code",
   "execution_count": null,
   "metadata": {
    "scrolled": true
   },
   "outputs": [],
   "source": []
  },
  {
   "cell_type": "code",
   "execution_count": 750,
   "metadata": {
    "scrolled": true
   },
   "outputs": [],
   "source": [
    "from IPython.core.display import HTML"
   ]
  },
  {
   "cell_type": "code",
   "execution_count": 751,
   "metadata": {
    "scrolled": true
   },
   "outputs": [
    {
     "data": {
      "text/html": [
       "<table border=\"1\" class=\"dataframe\">\n",
       "  <thead>\n",
       "    <tr style=\"text-align: right;\">\n",
       "      <th></th>\n",
       "      <th>tweet_id</th>\n",
       "      <th>timestamp_time</th>\n",
       "      <th>timestamp_date</th>\n",
       "      <th>rating_numerator</th>\n",
       "      <th>rating_denominator_1</th>\n",
       "      <th>p1</th>\n",
       "      <th>p1_conf</th>\n",
       "      <th>p1_dog</th>\n",
       "      <th>p1_conf_level</th>\n",
       "      <th>name</th>\n",
       "      <th>dog_image</th>\n",
       "    </tr>\n",
       "  </thead>\n",
       "  <tbody>\n",
       "    <tr>\n",
       "      <th>35</th>\n",
       "      <td>884876753390489601</td>\n",
       "      <td>20:47:12</td>\n",
       "      <td>2017-07-11</td>\n",
       "      <td>13</td>\n",
       "      <td>10</td>\n",
       "      <td>chow</td>\n",
       "      <td>0.822103</td>\n",
       "      <td>True</td>\n",
       "      <td>confidence</td>\n",
       "      <td>Lola</td>\n",
       "      <td><img src=\"https://pbs.twimg.com/media/DEe2tZXXkAAwyX3.jpg\" width=\"60\" ></td>\n",
       "    </tr>\n",
       "    <tr>\n",
       "      <th>41</th>\n",
       "      <td>883360690899218434</td>\n",
       "      <td>16:22:55</td>\n",
       "      <td>2017-07-07</td>\n",
       "      <td>13</td>\n",
       "      <td>10</td>\n",
       "      <td>chow</td>\n",
       "      <td>0.987997</td>\n",
       "      <td>True</td>\n",
       "      <td>very confidence</td>\n",
       "      <td>Grizzwald</td>\n",
       "      <td><img src=\"https://pbs.twimg.com/media/DEJT3FeXoAAtwUy.jpg\" width=\"60\" ></td>\n",
       "    </tr>\n",
       "    <tr>\n",
       "      <th>128</th>\n",
       "      <td>862096992088072192</td>\n",
       "      <td>00:08:34</td>\n",
       "      <td>2017-05-10</td>\n",
       "      <td>13</td>\n",
       "      <td>10</td>\n",
       "      <td>chow</td>\n",
       "      <td>0.677589</td>\n",
       "      <td>True</td>\n",
       "      <td>confidence</td>\n",
       "      <td>None</td>\n",
       "      <td><img src=\"https://pbs.twimg.com/media/C_bIo7QXYAAGfPu.jpg\" width=\"60\" ></td>\n",
       "    </tr>\n",
       "    <tr>\n",
       "      <th>232</th>\n",
       "      <td>838083903487373313</td>\n",
       "      <td>17:49:08</td>\n",
       "      <td>2017-03-04</td>\n",
       "      <td>13</td>\n",
       "      <td>10</td>\n",
       "      <td>chow</td>\n",
       "      <td>0.800975</td>\n",
       "      <td>True</td>\n",
       "      <td>confidence</td>\n",
       "      <td>Daisy</td>\n",
       "      <td><img src=\"https://pbs.twimg.com/media/C6F42cGUYAAIKsX.jpg\" width=\"60\" ></td>\n",
       "    </tr>\n",
       "    <tr>\n",
       "      <th>550</th>\n",
       "      <td>788150585577050112</td>\n",
       "      <td>22:51:57</td>\n",
       "      <td>2016-10-17</td>\n",
       "      <td>13</td>\n",
       "      <td>10</td>\n",
       "      <td>chow</td>\n",
       "      <td>0.814145</td>\n",
       "      <td>True</td>\n",
       "      <td>confidence</td>\n",
       "      <td>Leo</td>\n",
       "      <td><img src=\"https://pbs.twimg.com/media/CvASw6dWcAQmo3X.jpg\" width=\"60\" ></td>\n",
       "    </tr>\n",
       "    <tr>\n",
       "      <th>1631</th>\n",
       "      <td>674468880899788800</td>\n",
       "      <td>06:01:26</td>\n",
       "      <td>2015-12-09</td>\n",
       "      <td>13</td>\n",
       "      <td>10</td>\n",
       "      <td>chow</td>\n",
       "      <td>0.526230</td>\n",
       "      <td>True</td>\n",
       "      <td>confidence</td>\n",
       "      <td>Louis</td>\n",
       "      <td><img src=\"https://pbs.twimg.com/media/CVwx3dQXAAA0ksL.jpg\" width=\"60\" ></td>\n",
       "    </tr>\n",
       "  </tbody>\n",
       "</table>"
      ],
      "text/plain": [
       "<IPython.core.display.HTML object>"
      ]
     },
     "execution_count": 751,
     "metadata": {},
     "output_type": "execute_result"
    }
   ],
   "source": [
    "# Rendering the images in the dataframe using the HTML method.\n",
    "## show the picture of the most high rate 'chow' and append on the dataframe\n",
    "\n",
    "HTML(top_chow_img2.to_html(escape=False,formatters=dict(dog_image=path_to_image_html)))"
   ]
  },
  {
   "cell_type": "code",
   "execution_count": null,
   "metadata": {
    "scrolled": true
   },
   "outputs": [],
   "source": []
  },
  {
   "cell_type": "code",
   "execution_count": 752,
   "metadata": {
    "scrolled": true
   },
   "outputs": [],
   "source": [
    "top_chow_img3=top_chow_img1[['dog_image']]"
   ]
  },
  {
   "cell_type": "code",
   "execution_count": 753,
   "metadata": {
    "scrolled": true
   },
   "outputs": [
    {
     "data": {
      "text/html": [
       "<div>\n",
       "<style scoped>\n",
       "    .dataframe tbody tr th:only-of-type {\n",
       "        vertical-align: middle;\n",
       "    }\n",
       "\n",
       "    .dataframe tbody tr th {\n",
       "        vertical-align: top;\n",
       "    }\n",
       "\n",
       "    .dataframe thead th {\n",
       "        text-align: right;\n",
       "    }\n",
       "</style>\n",
       "<table border=\"1\" class=\"dataframe\">\n",
       "  <thead>\n",
       "    <tr style=\"text-align: right;\">\n",
       "      <th></th>\n",
       "      <th>dog_image</th>\n",
       "    </tr>\n",
       "  </thead>\n",
       "  <tbody>\n",
       "    <tr>\n",
       "      <th>35</th>\n",
       "      <td>https://pbs.twimg.com/media/DEe2tZXXkAAwyX3.jpg</td>\n",
       "    </tr>\n",
       "    <tr>\n",
       "      <th>41</th>\n",
       "      <td>https://pbs.twimg.com/media/DEJT3FeXoAAtwUy.jpg</td>\n",
       "    </tr>\n",
       "    <tr>\n",
       "      <th>128</th>\n",
       "      <td>https://pbs.twimg.com/media/C_bIo7QXYAAGfPu.jpg</td>\n",
       "    </tr>\n",
       "    <tr>\n",
       "      <th>232</th>\n",
       "      <td>https://pbs.twimg.com/media/C6F42cGUYAAIKsX.jpg</td>\n",
       "    </tr>\n",
       "    <tr>\n",
       "      <th>550</th>\n",
       "      <td>https://pbs.twimg.com/media/CvASw6dWcAQmo3X.jpg</td>\n",
       "    </tr>\n",
       "    <tr>\n",
       "      <th>1631</th>\n",
       "      <td>https://pbs.twimg.com/media/CVwx3dQXAAA0ksL.jpg</td>\n",
       "    </tr>\n",
       "  </tbody>\n",
       "</table>\n",
       "</div>"
      ],
      "text/plain": [
       "                                            dog_image\n",
       "35    https://pbs.twimg.com/media/DEe2tZXXkAAwyX3.jpg\n",
       "41    https://pbs.twimg.com/media/DEJT3FeXoAAtwUy.jpg\n",
       "128   https://pbs.twimg.com/media/C_bIo7QXYAAGfPu.jpg\n",
       "232   https://pbs.twimg.com/media/C6F42cGUYAAIKsX.jpg\n",
       "550   https://pbs.twimg.com/media/CvASw6dWcAQmo3X.jpg\n",
       "1631  https://pbs.twimg.com/media/CVwx3dQXAAA0ksL.jpg"
      ]
     },
     "execution_count": 753,
     "metadata": {},
     "output_type": "execute_result"
    }
   ],
   "source": [
    "top_chow_img3"
   ]
  },
  {
   "cell_type": "code",
   "execution_count": 754,
   "metadata": {
    "scrolled": true
   },
   "outputs": [
    {
     "data": {
      "text/html": [
       "<table border=\"1\" class=\"dataframe\">\n",
       "  <thead>\n",
       "    <tr style=\"text-align: right;\">\n",
       "      <th></th>\n",
       "      <th>dog_image</th>\n",
       "    </tr>\n",
       "  </thead>\n",
       "  <tbody>\n",
       "    <tr>\n",
       "      <th>35</th>\n",
       "      <td><img src=\"https://pbs.twimg.com/media/DEe2tZXXkAAwyX3.jpg\" width=\"60\" ></td>\n",
       "    </tr>\n",
       "    <tr>\n",
       "      <th>41</th>\n",
       "      <td><img src=\"https://pbs.twimg.com/media/DEJT3FeXoAAtwUy.jpg\" width=\"60\" ></td>\n",
       "    </tr>\n",
       "    <tr>\n",
       "      <th>128</th>\n",
       "      <td><img src=\"https://pbs.twimg.com/media/C_bIo7QXYAAGfPu.jpg\" width=\"60\" ></td>\n",
       "    </tr>\n",
       "    <tr>\n",
       "      <th>232</th>\n",
       "      <td><img src=\"https://pbs.twimg.com/media/C6F42cGUYAAIKsX.jpg\" width=\"60\" ></td>\n",
       "    </tr>\n",
       "    <tr>\n",
       "      <th>550</th>\n",
       "      <td><img src=\"https://pbs.twimg.com/media/CvASw6dWcAQmo3X.jpg\" width=\"60\" ></td>\n",
       "    </tr>\n",
       "    <tr>\n",
       "      <th>1631</th>\n",
       "      <td><img src=\"https://pbs.twimg.com/media/CVwx3dQXAAA0ksL.jpg\" width=\"60\" ></td>\n",
       "    </tr>\n",
       "  </tbody>\n",
       "</table>"
      ],
      "text/plain": [
       "<IPython.core.display.HTML object>"
      ]
     },
     "execution_count": 754,
     "metadata": {},
     "output_type": "execute_result"
    }
   ],
   "source": [
    "HTML(top_chow_img3.to_html(escape=False,formatters=dict(dog_image=path_to_image_html)))"
   ]
  },
  {
   "cell_type": "code",
   "execution_count": null,
   "metadata": {
    "scrolled": true
   },
   "outputs": [],
   "source": []
  },
  {
   "cell_type": "code",
   "execution_count": 755,
   "metadata": {
    "scrolled": true
   },
   "outputs": [],
   "source": [
    "# Saving the dataframe as a webpage\n",
    "top_chow_img2.to_html('webpage.html',escape=False, formatters=dict(dog_image=path_to_image_html))"
   ]
  },
  {
   "cell_type": "code",
   "execution_count": null,
   "metadata": {
    "scrolled": true
   },
   "outputs": [],
   "source": []
  },
  {
   "cell_type": "code",
   "execution_count": 756,
   "metadata": {
    "scrolled": true
   },
   "outputs": [],
   "source": [
    "## find out what are thoese dog looks like (the rating larger than 100)"
   ]
  },
  {
   "cell_type": "code",
   "execution_count": 757,
   "metadata": {
    "scrolled": true
   },
   "outputs": [
    {
     "data": {
      "text/plain": [
       "(962, 62)"
      ]
     },
     "execution_count": 757,
     "metadata": {},
     "output_type": "execute_result"
    }
   ],
   "source": [
    "combined4.shape"
   ]
  },
  {
   "cell_type": "code",
   "execution_count": 758,
   "metadata": {
    "scrolled": true
   },
   "outputs": [
    {
     "data": {
      "text/plain": [
       "12      473\n",
       "10      429\n",
       "11      413\n",
       "13      283\n",
       "9       151\n",
       "8        95\n",
       "7        52\n",
       "14       40\n",
       "5        34\n",
       "6        32\n",
       "3        19\n",
       "4        16\n",
       "2         9\n",
       "1         5\n",
       "0         2\n",
       "80        1\n",
       "24        1\n",
       "26        1\n",
       "44        1\n",
       "50        1\n",
       "60        1\n",
       "165       1\n",
       "84        1\n",
       "88        1\n",
       "144       1\n",
       "143       1\n",
       "420       1\n",
       "1776      1\n",
       "15        1\n",
       "27        1\n",
       "45        1\n",
       "75        1\n",
       "99        1\n",
       "121       1\n",
       "204       1\n",
       "Name: rating_numerator, dtype: int64"
      ]
     },
     "execution_count": 758,
     "metadata": {},
     "output_type": "execute_result"
    }
   ],
   "source": [
    "combined2.rating_numerator.value_counts()"
   ]
  },
  {
   "cell_type": "code",
   "execution_count": null,
   "metadata": {
    "scrolled": true
   },
   "outputs": [],
   "source": []
  },
  {
   "cell_type": "code",
   "execution_count": 759,
   "metadata": {
    "scrolled": true
   },
   "outputs": [],
   "source": [
    "super_rate=combined2.query('rating_numerator > 100')"
   ]
  },
  {
   "cell_type": "code",
   "execution_count": 760,
   "metadata": {
    "scrolled": true
   },
   "outputs": [
    {
     "data": {
      "text/plain": [
       "734     https://pbs.twimg.com/ext_tw_video_thumb/75846...\n",
       "802       https://pbs.twimg.com/media/CmgBZ7kWcAAlzFD.jpg\n",
       "924       https://pbs.twimg.com/media/CiWWhVNUYAAab_r.jpg\n",
       "1379      https://pbs.twimg.com/media/CX7br3HWsAAQ9L1.jpg\n",
       "1380      https://pbs.twimg.com/media/CX7Y_ByWwAEJdUy.jpg\n",
       "1512      https://pbs.twimg.com/media/CWe7kw9W4AE8UJh.jpg\n",
       "1795      https://pbs.twimg.com/media/CU9P717W4AAOlKx.jpg\n",
       "Name: jpg_url, dtype: object"
      ]
     },
     "execution_count": 760,
     "metadata": {},
     "output_type": "execute_result"
    }
   ],
   "source": [
    "super_rate.jpg_url"
   ]
  },
  {
   "cell_type": "code",
   "execution_count": null,
   "metadata": {
    "scrolled": true
   },
   "outputs": [],
   "source": []
  },
  {
   "cell_type": "code",
   "execution_count": 761,
   "metadata": {
    "scrolled": true
   },
   "outputs": [],
   "source": [
    "super_rate_img_link=['https://pbs.twimg.com/ext_tw_video_thumb/75846...',\n",
    "     'https://pbs.twimg.com/media/CmgBZ7kWcAAlzFD.jpg',\n",
    "     'https://pbs.twimg.com/media/CiWWhVNUYAAab_r.jpg',\n",
    "     'https://pbs.twimg.com/media/CX7br3HWsAAQ9L1.jpg',\n",
    "     'https://pbs.twimg.com/media/CWe7kw9W4AE8UJh.jpg',\n",
    "     'https://pbs.twimg.com/media/CVwx3dQXAAA0ksL.jpg',\n",
    "    'https://pbs.twimg.com/media/CU9P717W4AAOlKx.jpg']"
   ]
  },
  {
   "cell_type": "code",
   "execution_count": null,
   "metadata": {
    "scrolled": true
   },
   "outputs": [],
   "source": []
  },
  {
   "cell_type": "code",
   "execution_count": 762,
   "metadata": {
    "scrolled": true
   },
   "outputs": [
    {
     "name": "stderr",
     "output_type": "stream",
     "text": [
      "/opt/anaconda3/lib/python3.7/site-packages/ipykernel_launcher.py:1: SettingWithCopyWarning: \n",
      "A value is trying to be set on a copy of a slice from a DataFrame.\n",
      "Try using .loc[row_indexer,col_indexer] = value instead\n",
      "\n",
      "See the caveats in the documentation: https://pandas.pydata.org/pandas-docs/stable/user_guide/indexing.html#returning-a-view-versus-a-copy\n",
      "  \"\"\"Entry point for launching an IPython kernel.\n"
     ]
    }
   ],
   "source": [
    "super_rate['dog_image']=super_rate_img_link"
   ]
  },
  {
   "cell_type": "code",
   "execution_count": null,
   "metadata": {
    "scrolled": true
   },
   "outputs": [],
   "source": []
  },
  {
   "cell_type": "code",
   "execution_count": 763,
   "metadata": {
    "scrolled": true
   },
   "outputs": [],
   "source": [
    "def path_to_image_html1(path):\n",
    "    return '<img src=\"'+ path + '\" width=\"80\" >'"
   ]
  },
  {
   "cell_type": "code",
   "execution_count": 764,
   "metadata": {
    "scrolled": false
   },
   "outputs": [
    {
     "data": {
      "text/plain": [
       "'<table border=\"1\" class=\"dataframe\">\\n  <thead>\\n    <tr style=\"text-align: right;\">\\n      <th></th>\\n      <th>tweet_id</th>\\n      <th>in_reply_to_status_id_x</th>\\n      <th>in_reply_to_user_id_x</th>\\n      <th>timestamp</th>\\n      <th>source_x</th>\\n      <th>text</th>\\n      <th>retweeted_status_id</th>\\n      <th>retweeted_status_user_id</th>\\n      <th>retweeted_status_timestamp</th>\\n      <th>expanded_urls</th>\\n      <th>rating_numerator</th>\\n      <th>rating_denominator</th>\\n      <th>name</th>\\n      <th>doggo</th>\\n      <th>floofer</th>\\n      <th>pupper</th>\\n      <th>puppo</th>\\n      <th>timestamp_date</th>\\n      <th>timestamp_time</th>\\n      <th>rating_denominator_1</th>\\n      <th>created_at</th>\\n      <th>id_str</th>\\n      <th>full_text</th>\\n      <th>truncated</th>\\n      <th>display_text_range</th>\\n      <th>entities</th>\\n      <th>extended_entities</th>\\n      <th>source_y</th>\\n      <th>in_reply_to_status_id_y</th>\\n      <th>in_reply_to_status_id_str</th>\\n      <th>in_reply_to_user_id_y</th>\\n      <th>in_reply_to_user_id_str</th>\\n      <th>in_reply_to_screen_name</th>\\n      <th>user</th>\\n      <th>geo</th>\\n      <th>coordinates</th>\\n      <th>place</th>\\n      <th>contributors</th>\\n      <th>is_quote_status</th>\\n      <th>retweet_count</th>\\n      <th>favorite_count</th>\\n      <th>favorited</th>\\n      <th>retweeted</th>\\n      <th>possibly_sensitive</th>\\n      <th>possibly_sensitive_appealable</th>\\n      <th>lang</th>\\n      <th>retweeted_status</th>\\n      <th>quoted_status_id</th>\\n      <th>quoted_status_id_str</th>\\n      <th>quoted_status</th>\\n      <th>jpg_url</th>\\n      <th>img_num</th>\\n      <th>p1</th>\\n      <th>p1_conf</th>\\n      <th>p1_dog</th>\\n      <th>p2</th>\\n      <th>p2_conf</th>\\n      <th>p2_dog</th>\\n      <th>p3</th>\\n      <th>p3_conf</th>\\n      <th>p3_dog</th>\\n      <th>p1_conf_level</th>\\n      <th>dog_image</th>\\n    </tr>\\n  </thead>\\n  <tbody>\\n    <tr>\\n      <th>734</th>\\n      <td>758467244762497024</td>\\n      <td>NaN</td>\\n      <td>NaN</td>\\n      <td>2016-07-28 01:00:57 +0000</td>\\n      <td><a href=\"http://twitter.com/download/iphone\" rel=\"nofollow\">Twitter for iPhone</a></td>\\n      <td>Why does this never happen at my front door... 165/150 https://t.co/HmwrdfEfUE</td>\\n      <td>NaN</td>\\n      <td>NaN</td>\\n      <td>NaN</td>\\n      <td>https://twitter.com/dog_rates/status/758467244762497024/video/1</td>\\n      <td>165</td>\\n      <td>150</td>\\n      <td>None</td>\\n      <td>None</td>\\n      <td>None</td>\\n      <td>None</td>\\n      <td>None</td>\\n      <td>2016-07-28</td>\\n      <td>01:00:57</td>\\n      <td>10</td>\\n      <td>2016-07-28 01:00:57+00:00</td>\\n      <td>\\'758467244762497024\\'</td>\\n      <td>Why does this never happen at my front door... 165/150 https://t.co/HmwrdfEfUE</td>\\n      <td>False</td>\\n      <td>[0, 54]</td>\\n      <td>{\\'hashtags\\': [], \\'symbols\\': [], \\'user_mentions\\': [], \\'urls\\': [], \\'media\\': [{\\'id\\': 758467147756691456, \\'id_str\\': \\'758467147756691456\\', \\'indices\\': [55, 78], \\'media_url\\': \\'http://pbs.twimg.com/ext_tw_video_thumb/758467147756691456/pu/img/YTNzjRFDSPNXukmM.jpg\\', \\'media_url_https\\': \\'https://pbs.twimg.com/ext_tw_video_thumb/758467147756691456/pu/img/YTNzjRFDSPNXukmM.jpg\\', \\'url\\': \\'https://t.co/HmwrdfEfUE\\', \\'display_url\\': \\'pic.twitter.com/HmwrdfEfUE\\', \\'expanded_url\\': \\'https://twitter.com/dog_rates/status/758467244762497024/video/1\\', \\'type\\': \\'photo\\', \\'sizes\\': {\\'small\\': {\\'w\\': 320, \\'h\\': 568, \\'resize\\': \\'fit\\'}, \\'large\\': {\\'w\\': 320, \\'h\\': 568, \\'resize\\': \\'fit\\'}, \\'thumb\\': {\\'w\\': 150, \\'h\\': 150, \\'resize\\': \\'crop\\'}, \\'medium\\': {\\'w\\': 320, \\'h\\': 568, \\'resize\\': \\'fit\\'}}}]}</td>\\n      <td>{\\'media\\': [{\\'id\\': 758467147756691456, \\'id_str\\': \\'758467147756691456\\', \\'indices\\': [55, 78], \\'media_url\\': \\'http://pbs.twimg.com/ext_tw_video_thumb/758467147756691456/pu/img/YTNzjRFDSPNXukmM.jpg\\', \\'media_url_https\\': \\'https://pbs.twimg.com/ext_tw_video_thumb/758467147756691456/pu/img/YTNzjRFDSPNXukmM.jpg\\', \\'url\\': \\'https://t.co/HmwrdfEfUE\\', \\'display_url\\': \\'pic.twitter.com/HmwrdfEfUE\\', \\'expanded_url\\': \\'https://twitter.com/dog_rates/status/758467244762497024/video/1\\', \\'type\\': \\'video\\', \\'sizes\\': {\\'small\\': {\\'w\\': 320, \\'h\\': 568, \\'resize\\': \\'fit\\'}, \\'large\\': {\\'w\\': 320, \\'h\\': 568, \\'resize\\': \\'fit\\'}, \\'thumb\\': {\\'w\\': 150, \\'h\\': 150, \\'resize\\': \\'crop\\'}, \\'medium\\': {\\'w\\': 320, \\'h\\': 568, \\'resize\\': \\'fit\\'}}, \\'video_info\\': {\\'aspect_ratio\\': [40, 71], \\'duration_millis\\': 19013, \\'variants\\': [{\\'bitrate\\': 320000, \\'content_type\\': \\'video/mp4\\', \\'url\\': \\'https://video.twimg.com/ext_tw_video/758467147756691456/pu/vid/180x320/ajPqRhUto7kev5y0.mp4\\'}, {\\'content_type\\': \\'application/x-mpegURL\\', \\'url\\': \\'https://video.twimg.com/ext_tw_video/758467147756691456/pu/pl/oAzNNYfZJy8wShWm.m3u8\\'}]}, \\'additional_media_info\\': {\\'monetizable\\': False}}]}</td>\\n      <td><a href=\"http://twitter.com/download/iphone\" rel=\"nofollow\">Twitter for iPhone</a></td>\\n      <td>NaN</td>\\n      <td>nan</td>\\n      <td>nan</td>\\n      <td>nan</td>\\n      <td>None</td>\\n      <td>{\\'id\\': 4196983835, \\'id_str\\': \\'4196983835\\', \\'name\\': \\'WeRateDogs™ (author)\\', \\'screen_name\\': \\'dog_rates\\', \\'location\\': \\'DM YOUR DOGS, WE WILL RATE\\', \\'description\\': \\'#1 Source for Professional Dog Ratings | STORE: @ShopWeRateDogs | IG, FB & SC: WeRateDogs MOBILE APP: @GoodDogsGame | Business: dogratingtwitter@gmail.com\\', \\'url\\': \\'https://t.co/N7sNNHAEXS\\', \\'entities\\': {\\'url\\': {\\'urls\\': [{\\'url\\': \\'https://t.co/N7sNNHAEXS\\', \\'expanded_url\\': \\'http://weratedogs.com\\', \\'display_url\\': \\'weratedogs.com\\', \\'indices\\': [0, 23]}]}, \\'description\\': {\\'urls\\': []}}, \\'protected\\': False, \\'followers_count\\': 3200942, \\'friends_count\\': 104, \\'listed_count\\': 2802, \\'created_at\\': \\'Sun Nov 15 21:41:29 +0000 2015\\', \\'favourites_count\\': 114031, \\'utc_offset\\': None, \\'time_zone\\': None, \\'geo_enabled\\': True, \\'verified\\': True, \\'statuses_count\\': 5288, \\'lang\\': \\'en\\', \\'contributors_enabled\\': False, \\'is_translator\\': False, \\'is_translation_enabled\\': False, \\'profile_background_color\\': \\'000000\\', \\'profile_background_image_url\\': \\'http://abs.twimg.com/images/themes/theme1/bg.png\\', \\'profile_background_image_url_https\\': \\'https://abs.twimg.com/images/themes/theme1/bg.png\\', \\'profile_background_tile\\': False, \\'profile_image_url\\': \\'http://pbs.twimg.com/profile_images/861415328504569856/R2xOOfwe_normal.jpg\\', \\'profile_image_url_https\\': \\'https://pbs.twimg.com/profile_images/861415328504569856/R2xOOfwe_normal.jpg\\', \\'profile_banner_url\\': \\'https://pbs.twimg.com/profile_banners/4196983835/1501129017\\', \\'profile_link_color\\': \\'F5ABB5\\', \\'profile_sidebar_border_color\\': \\'000000\\', \\'profile_sidebar_fill_color\\': \\'000000\\', \\'profile_text_color\\': \\'000000\\', \\'profile_use_background_image\\': False, \\'has_extended_profile\\': True, \\'default_profile\\': False, \\'default_profile_image\\': False, \\'following\\': True, \\'follow_request_sent\\': False, \\'notifications\\': False, \\'translator_type\\': \\'none\\'}</td>\\n      <td>NaN</td>\\n      <td>NaN</td>\\n      <td>None</td>\\n      <td>NaN</td>\\n      <td>False</td>\\n      <td>2539</td>\\n      <td>5316</td>\\n      <td>False</td>\\n      <td>False</td>\\n      <td>False</td>\\n      <td>0.0</td>\\n      <td>en</td>\\n      <td>NaN</td>\\n      <td>NaN</td>\\n      <td>NaN</td>\\n      <td>NaN</td>\\n      <td>https://pbs.twimg.com/ext_tw_video_thumb/758467147756691456/pu/img/YTNzjRFDSPNXukmM.jpg</td>\\n      <td>1</td>\\n      <td>Labrador_retriever</td>\\n      <td>0.436377</td>\\n      <td>True</td>\\n      <td>Chihuahua</td>\\n      <td>0.113956</td>\\n      <td>True</td>\\n      <td>American_Staffordshire_terrier</td>\\n      <td>0.099689</td>\\n      <td>True</td>\\n      <td>fair confidence</td>\\n      <td>https://pbs.twimg.com/ext_tw_video_thumb/75846...</td>\\n    </tr>\\n    <tr>\\n      <th>802</th>\\n      <td>749981277374128128</td>\\n      <td>NaN</td>\\n      <td>NaN</td>\\n      <td>2016-07-04 15:00:45 +0000</td>\\n      <td><a href=\"https://about.twitter.com/products/tweetdeck\" rel=\"nofollow\">TweetDeck</a></td>\\n      <td>This is Atticus. He\\'s quite simply America af. 1776/10 https://t.co/GRXwMxLBkh</td>\\n      <td>NaN</td>\\n      <td>NaN</td>\\n      <td>NaN</td>\\n      <td>https://twitter.com/dog_rates/status/749981277374128128/photo/1</td>\\n      <td>1776</td>\\n      <td>10</td>\\n      <td>Atticus</td>\\n      <td>None</td>\\n      <td>None</td>\\n      <td>None</td>\\n      <td>None</td>\\n      <td>2016-07-04</td>\\n      <td>15:00:45</td>\\n      <td>10</td>\\n      <td>2016-07-04 15:00:45+00:00</td>\\n      <td>\\'749981277374128128\\'</td>\\n      <td>This is Atticus. He\\'s quite simply America af. 1776/10 https://t.co/GRXwMxLBkh</td>\\n      <td>False</td>\\n      <td>[0, 54]</td>\\n      <td>{\\'hashtags\\': [], \\'symbols\\': [], \\'user_mentions\\': [], \\'urls\\': [], \\'media\\': [{\\'id\\': 749850882955702272, \\'id_str\\': \\'749850882955702272\\', \\'indices\\': [55, 78], \\'media_url\\': \\'http://pbs.twimg.com/media/CmgBZ7kWcAAlzFD.jpg\\', \\'media_url_https\\': \\'https://pbs.twimg.com/media/CmgBZ7kWcAAlzFD.jpg\\', \\'url\\': \\'https://t.co/GRXwMxLBkh\\', \\'display_url\\': \\'pic.twitter.com/GRXwMxLBkh\\', \\'expanded_url\\': \\'https://twitter.com/dog_rates/status/749981277374128128/photo/1\\', \\'type\\': \\'photo\\', \\'sizes\\': {\\'medium\\': {\\'w\\': 371, \\'h\\': 479, \\'resize\\': \\'fit\\'}, \\'large\\': {\\'w\\': 371, \\'h\\': 479, \\'resize\\': \\'fit\\'}, \\'thumb\\': {\\'w\\': 150, \\'h\\': 150, \\'resize\\': \\'crop\\'}, \\'small\\': {\\'w\\': 371, \\'h\\': 479, \\'resize\\': \\'fit\\'}}}]}</td>\\n      <td>{\\'media\\': [{\\'id\\': 749850882955702272, \\'id_str\\': \\'749850882955702272\\', \\'indices\\': [55, 78], \\'media_url\\': \\'http://pbs.twimg.com/media/CmgBZ7kWcAAlzFD.jpg\\', \\'media_url_https\\': \\'https://pbs.twimg.com/media/CmgBZ7kWcAAlzFD.jpg\\', \\'url\\': \\'https://t.co/GRXwMxLBkh\\', \\'display_url\\': \\'pic.twitter.com/GRXwMxLBkh\\', \\'expanded_url\\': \\'https://twitter.com/dog_rates/status/749981277374128128/photo/1\\', \\'type\\': \\'photo\\', \\'sizes\\': {\\'medium\\': {\\'w\\': 371, \\'h\\': 479, \\'resize\\': \\'fit\\'}, \\'large\\': {\\'w\\': 371, \\'h\\': 479, \\'resize\\': \\'fit\\'}, \\'thumb\\': {\\'w\\': 150, \\'h\\': 150, \\'resize\\': \\'crop\\'}, \\'small\\': {\\'w\\': 371, \\'h\\': 479, \\'resize\\': \\'fit\\'}}}]}</td>\\n      <td><a href=\"https://about.twitter.com/products/tweetdeck\" rel=\"nofollow\">TweetDeck</a></td>\\n      <td>NaN</td>\\n      <td>nan</td>\\n      <td>nan</td>\\n      <td>nan</td>\\n      <td>None</td>\\n      <td>{\\'id\\': 4196983835, \\'id_str\\': \\'4196983835\\', \\'name\\': \\'WeRateDogs™ (author)\\', \\'screen_name\\': \\'dog_rates\\', \\'location\\': \\'DM YOUR DOGS, WE WILL RATE\\', \\'description\\': \\'#1 Source for Professional Dog Ratings | STORE: @ShopWeRateDogs | IG, FB & SC: WeRateDogs MOBILE APP: @GoodDogsGame | Business: dogratingtwitter@gmail.com\\', \\'url\\': \\'https://t.co/N7sNNHAEXS\\', \\'entities\\': {\\'url\\': {\\'urls\\': [{\\'url\\': \\'https://t.co/N7sNNHAEXS\\', \\'expanded_url\\': \\'http://weratedogs.com\\', \\'display_url\\': \\'weratedogs.com\\', \\'indices\\': [0, 23]}]}, \\'description\\': {\\'urls\\': []}}, \\'protected\\': False, \\'followers_count\\': 3200943, \\'friends_count\\': 104, \\'listed_count\\': 2802, \\'created_at\\': \\'Sun Nov 15 21:41:29 +0000 2015\\', \\'favourites_count\\': 114031, \\'utc_offset\\': None, \\'time_zone\\': None, \\'geo_enabled\\': True, \\'verified\\': True, \\'statuses_count\\': 5288, \\'lang\\': \\'en\\', \\'contributors_enabled\\': False, \\'is_translator\\': False, \\'is_translation_enabled\\': False, \\'profile_background_color\\': \\'000000\\', \\'profile_background_image_url\\': \\'http://abs.twimg.com/images/themes/theme1/bg.png\\', \\'profile_background_image_url_https\\': \\'https://abs.twimg.com/images/themes/theme1/bg.png\\', \\'profile_background_tile\\': False, \\'profile_image_url\\': \\'http://pbs.twimg.com/profile_images/861415328504569856/R2xOOfwe_normal.jpg\\', \\'profile_image_url_https\\': \\'https://pbs.twimg.com/profile_images/861415328504569856/R2xOOfwe_normal.jpg\\', \\'profile_banner_url\\': \\'https://pbs.twimg.com/profile_banners/4196983835/1501129017\\', \\'profile_link_color\\': \\'F5ABB5\\', \\'profile_sidebar_border_color\\': \\'000000\\', \\'profile_sidebar_fill_color\\': \\'000000\\', \\'profile_text_color\\': \\'000000\\', \\'profile_use_background_image\\': False, \\'has_extended_profile\\': True, \\'default_profile\\': False, \\'default_profile_image\\': False, \\'following\\': True, \\'follow_request_sent\\': False, \\'notifications\\': False, \\'translator_type\\': \\'none\\'}</td>\\n      <td>NaN</td>\\n      <td>NaN</td>\\n      <td>None</td>\\n      <td>NaN</td>\\n      <td>False</td>\\n      <td>2772</td>\\n      <td>5569</td>\\n      <td>False</td>\\n      <td>False</td>\\n      <td>False</td>\\n      <td>0.0</td>\\n      <td>en</td>\\n      <td>NaN</td>\\n      <td>NaN</td>\\n      <td>NaN</td>\\n      <td>NaN</td>\\n      <td>https://pbs.twimg.com/media/CmgBZ7kWcAAlzFD.jpg</td>\\n      <td>1</td>\\n      <td>bow_tie</td>\\n      <td>0.533941</td>\\n      <td>False</td>\\n      <td>sunglasses</td>\\n      <td>0.080822</td>\\n      <td>False</td>\\n      <td>sunglass</td>\\n      <td>0.050776</td>\\n      <td>False</td>\\n      <td>confidence</td>\\n      <td>https://pbs.twimg.com/media/CmgBZ7kWcAAlzFD.jpg</td>\\n    </tr>\\n    <tr>\\n      <th>924</th>\\n      <td>731156023742988288</td>\\n      <td>NaN</td>\\n      <td>NaN</td>\\n      <td>2016-05-13 16:15:54 +0000</td>\\n      <td><a href=\"http://twitter.com/download/iphone\" rel=\"nofollow\">Twitter for iPhone</a></td>\\n      <td>Say hello to this unbelievably well behaved squad of doggos. 204/170 would try to pet all at once https://t.co/yGQI3He3xv</td>\\n      <td>NaN</td>\\n      <td>NaN</td>\\n      <td>NaN</td>\\n      <td>https://twitter.com/dog_rates/status/731156023742988288/photo/1</td>\\n      <td>204</td>\\n      <td>170</td>\\n      <td>this</td>\\n      <td>None</td>\\n      <td>None</td>\\n      <td>None</td>\\n      <td>None</td>\\n      <td>2016-05-13</td>\\n      <td>16:15:54</td>\\n      <td>10</td>\\n      <td>2016-05-13 16:15:54+00:00</td>\\n      <td>\\'731156023742988288\\'</td>\\n      <td>Say hello to this unbelievably well behaved squad of doggos. 204/170 would try to pet all at once https://t.co/yGQI3He3xv</td>\\n      <td>False</td>\\n      <td>[0, 97]</td>\\n      <td>{\\'hashtags\\': [], \\'symbols\\': [], \\'user_mentions\\': [], \\'urls\\': [], \\'media\\': [{\\'id\\': 731156013890428928, \\'id_str\\': \\'731156013890428928\\', \\'indices\\': [98, 121], \\'media_url\\': \\'http://pbs.twimg.com/media/CiWWhVNUYAAab_r.jpg\\', \\'media_url_https\\': \\'https://pbs.twimg.com/media/CiWWhVNUYAAab_r.jpg\\', \\'url\\': \\'https://t.co/yGQI3He3xv\\', \\'display_url\\': \\'pic.twitter.com/yGQI3He3xv\\', \\'expanded_url\\': \\'https://twitter.com/dog_rates/status/731156023742988288/photo/1\\', \\'type\\': \\'photo\\', \\'sizes\\': {\\'large\\': {\\'w\\': 564, \\'h\\': 564, \\'resize\\': \\'fit\\'}, \\'thumb\\': {\\'w\\': 150, \\'h\\': 150, \\'resize\\': \\'crop\\'}, \\'medium\\': {\\'w\\': 564, \\'h\\': 564, \\'resize\\': \\'fit\\'}, \\'small\\': {\\'w\\': 340, \\'h\\': 340, \\'resize\\': \\'fit\\'}}}]}</td>\\n      <td>{\\'media\\': [{\\'id\\': 731156013890428928, \\'id_str\\': \\'731156013890428928\\', \\'indices\\': [98, 121], \\'media_url\\': \\'http://pbs.twimg.com/media/CiWWhVNUYAAab_r.jpg\\', \\'media_url_https\\': \\'https://pbs.twimg.com/media/CiWWhVNUYAAab_r.jpg\\', \\'url\\': \\'https://t.co/yGQI3He3xv\\', \\'display_url\\': \\'pic.twitter.com/yGQI3He3xv\\', \\'expanded_url\\': \\'https://twitter.com/dog_rates/status/731156023742988288/photo/1\\', \\'type\\': \\'photo\\', \\'sizes\\': {\\'large\\': {\\'w\\': 564, \\'h\\': 564, \\'resize\\': \\'fit\\'}, \\'thumb\\': {\\'w\\': 150, \\'h\\': 150, \\'resize\\': \\'crop\\'}, \\'medium\\': {\\'w\\': 564, \\'h\\': 564, \\'resize\\': \\'fit\\'}, \\'small\\': {\\'w\\': 340, \\'h\\': 340, \\'resize\\': \\'fit\\'}}}]}</td>\\n      <td><a href=\"http://twitter.com/download/iphone\" rel=\"nofollow\">Twitter for iPhone</a></td>\\n      <td>NaN</td>\\n      <td>nan</td>\\n      <td>nan</td>\\n      <td>nan</td>\\n      <td>None</td>\\n      <td>{\\'id\\': 4196983835, \\'id_str\\': \\'4196983835\\', \\'name\\': \\'WeRateDogs™ (author)\\', \\'screen_name\\': \\'dog_rates\\', \\'location\\': \\'DM YOUR DOGS, WE WILL RATE\\', \\'description\\': \\'#1 Source for Professional Dog Ratings | STORE: @ShopWeRateDogs | IG, FB & SC: WeRateDogs MOBILE APP: @GoodDogsGame | Business: dogratingtwitter@gmail.com\\', \\'url\\': \\'https://t.co/N7sNNHAEXS\\', \\'entities\\': {\\'url\\': {\\'urls\\': [{\\'url\\': \\'https://t.co/N7sNNHAEXS\\', \\'expanded_url\\': \\'http://weratedogs.com\\', \\'display_url\\': \\'weratedogs.com\\', \\'indices\\': [0, 23]}]}, \\'description\\': {\\'urls\\': []}}, \\'protected\\': False, \\'followers_count\\': 3200944, \\'friends_count\\': 104, \\'listed_count\\': 2803, \\'created_at\\': \\'Sun Nov 15 21:41:29 +0000 2015\\', \\'favourites_count\\': 114031, \\'utc_offset\\': None, \\'time_zone\\': None, \\'geo_enabled\\': True, \\'verified\\': True, \\'statuses_count\\': 5288, \\'lang\\': \\'en\\', \\'contributors_enabled\\': False, \\'is_translator\\': False, \\'is_translation_enabled\\': False, \\'profile_background_color\\': \\'000000\\', \\'profile_background_image_url\\': \\'http://abs.twimg.com/images/themes/theme1/bg.png\\', \\'profile_background_image_url_https\\': \\'https://abs.twimg.com/images/themes/theme1/bg.png\\', \\'profile_background_tile\\': False, \\'profile_image_url\\': \\'http://pbs.twimg.com/profile_images/861415328504569856/R2xOOfwe_normal.jpg\\', \\'profile_image_url_https\\': \\'https://pbs.twimg.com/profile_images/861415328504569856/R2xOOfwe_normal.jpg\\', \\'profile_banner_url\\': \\'https://pbs.twimg.com/profile_banners/4196983835/1501129017\\', \\'profile_link_color\\': \\'F5ABB5\\', \\'profile_sidebar_border_color\\': \\'000000\\', \\'profile_sidebar_fill_color\\': \\'000000\\', \\'profile_text_color\\': \\'000000\\', \\'profile_use_background_image\\': False, \\'has_extended_profile\\': True, \\'default_profile\\': False, \\'default_profile_image\\': False, \\'following\\': True, \\'follow_request_sent\\': False, \\'notifications\\': False, \\'translator_type\\': \\'none\\'}</td>\\n      <td>NaN</td>\\n      <td>NaN</td>\\n      <td>None</td>\\n      <td>NaN</td>\\n      <td>False</td>\\n      <td>1434</td>\\n      <td>4196</td>\\n      <td>False</td>\\n      <td>False</td>\\n      <td>False</td>\\n      <td>0.0</td>\\n      <td>en</td>\\n      <td>NaN</td>\\n      <td>NaN</td>\\n      <td>NaN</td>\\n      <td>NaN</td>\\n      <td>https://pbs.twimg.com/media/CiWWhVNUYAAab_r.jpg</td>\\n      <td>1</td>\\n      <td>lakeside</td>\\n      <td>0.501767</td>\\n      <td>False</td>\\n      <td>breakwater</td>\\n      <td>0.051351</td>\\n      <td>False</td>\\n      <td>king_penguin</td>\\n      <td>0.049444</td>\\n      <td>False</td>\\n      <td>confidence</td>\\n      <td>https://pbs.twimg.com/media/CiWWhVNUYAAab_r.jpg</td>\\n    </tr>\\n    <tr>\\n      <th>1379</th>\\n      <td>684225744407494656</td>\\n      <td>6.842229e+17</td>\\n      <td>4.196984e+09</td>\\n      <td>2016-01-05 04:11:44 +0000</td>\\n      <td><a href=\"http://twitter.com/download/iphone\" rel=\"nofollow\">Twitter for iPhone</a></td>\\n      <td>Two sneaky puppers were not initially seen, moving the rating to 143/130. Please forgive us. Thank you https://t.co/kRK51Y5ac3</td>\\n      <td>NaN</td>\\n      <td>NaN</td>\\n      <td>NaN</td>\\n      <td>https://twitter.com/dog_rates/status/684225744407494656/photo/1,https://twitter.com/dog_rates/status/684225744407494656/photo/1</td>\\n      <td>143</td>\\n      <td>130</td>\\n      <td>None</td>\\n      <td>None</td>\\n      <td>None</td>\\n      <td>None</td>\\n      <td>None</td>\\n      <td>2016-01-05</td>\\n      <td>04:11:44</td>\\n      <td>10</td>\\n      <td>2016-01-05 04:11:44+00:00</td>\\n      <td>\\'684225744407494656\\'</td>\\n      <td>Two sneaky puppers were not initially seen, moving the rating to 143/130. Please forgive us. Thank you https://t.co/kRK51Y5ac3</td>\\n      <td>False</td>\\n      <td>[0, 126]</td>\\n      <td>{\\'hashtags\\': [], \\'symbols\\': [], \\'user_mentions\\': [], \\'urls\\': [], \\'media\\': [{\\'id\\': 684225739852492800, \\'id_str\\': \\'684225739852492800\\', \\'indices\\': [103, 126], \\'media_url\\': \\'http://pbs.twimg.com/media/CX7br2oWMAA4fhO.jpg\\', \\'media_url_https\\': \\'https://pbs.twimg.com/media/CX7br2oWMAA4fhO.jpg\\', \\'url\\': \\'https://t.co/kRK51Y5ac3\\', \\'display_url\\': \\'pic.twitter.com/kRK51Y5ac3\\', \\'expanded_url\\': \\'https://twitter.com/dog_rates/status/684225744407494656/photo/1\\', \\'type\\': \\'photo\\', \\'sizes\\': {\\'medium\\': {\\'w\\': 119, \\'h\\': 119, \\'resize\\': \\'fit\\'}, \\'large\\': {\\'w\\': 119, \\'h\\': 119, \\'resize\\': \\'fit\\'}, \\'small\\': {\\'w\\': 119, \\'h\\': 119, \\'resize\\': \\'fit\\'}, \\'thumb\\': {\\'w\\': 119, \\'h\\': 119, \\'resize\\': \\'crop\\'}}}]}</td>\\n      <td>{\\'media\\': [{\\'id\\': 684225739852492800, \\'id_str\\': \\'684225739852492800\\', \\'indices\\': [103, 126], \\'media_url\\': \\'http://pbs.twimg.com/media/CX7br2oWMAA4fhO.jpg\\', \\'media_url_https\\': \\'https://pbs.twimg.com/media/CX7br2oWMAA4fhO.jpg\\', \\'url\\': \\'https://t.co/kRK51Y5ac3\\', \\'display_url\\': \\'pic.twitter.com/kRK51Y5ac3\\', \\'expanded_url\\': \\'https://twitter.com/dog_rates/status/684225744407494656/photo/1\\', \\'type\\': \\'photo\\', \\'sizes\\': {\\'medium\\': {\\'w\\': 119, \\'h\\': 119, \\'resize\\': \\'fit\\'}, \\'large\\': {\\'w\\': 119, \\'h\\': 119, \\'resize\\': \\'fit\\'}, \\'small\\': {\\'w\\': 119, \\'h\\': 119, \\'resize\\': \\'fit\\'}, \\'thumb\\': {\\'w\\': 119, \\'h\\': 119, \\'resize\\': \\'crop\\'}}}, {\\'id\\': 684225739982548992, \\'id_str\\': \\'684225739982548992\\', \\'indices\\': [103, 126], \\'media_url\\': \\'http://pbs.twimg.com/media/CX7br3HWsAAQ9L1.jpg\\', \\'media_url_https\\': \\'https://pbs.twimg.com/media/CX7br3HWsAAQ9L1.jpg\\', \\'url\\': \\'https://t.co/kRK51Y5ac3\\', \\'display_url\\': \\'pic.twitter.com/kRK51Y5ac3\\', \\'expanded_url\\': \\'https://twitter.com/dog_rates/status/684225744407494656/photo/1\\', \\'type\\': \\'photo\\', \\'sizes\\': {\\'thumb\\': {\\'w\\': 112, \\'h\\': 112, \\'resize\\': \\'crop\\'}, \\'medium\\': {\\'w\\': 112, \\'h\\': 112, \\'resize\\': \\'fit\\'}, \\'small\\': {\\'w\\': 112, \\'h\\': 112, \\'resize\\': \\'fit\\'}, \\'large\\': {\\'w\\': 112, \\'h\\': 112, \\'resize\\': \\'fit\\'}}}]}</td>\\n      <td><a href=\"http://twitter.com/download/iphone\" rel=\"nofollow\">Twitter for iPhone</a></td>\\n      <td>6.842229e+17</td>\\n      <td>6.842228683355054e+17</td>\\n      <td>4196983835.0</td>\\n      <td>4196983835.0</td>\\n      <td>dog_rates</td>\\n      <td>{\\'id\\': 4196983835, \\'id_str\\': \\'4196983835\\', \\'name\\': \\'WeRateDogs™ (author)\\', \\'screen_name\\': \\'dog_rates\\', \\'location\\': \\'DM YOUR DOGS, WE WILL RATE\\', \\'description\\': \\'#1 Source for Professional Dog Ratings | STORE: @ShopWeRateDogs | IG, FB & SC: WeRateDogs MOBILE APP: @GoodDogsGame | Business: dogratingtwitter@gmail.com\\', \\'url\\': \\'https://t.co/N7sNNHAEXS\\', \\'entities\\': {\\'url\\': {\\'urls\\': [{\\'url\\': \\'https://t.co/N7sNNHAEXS\\', \\'expanded_url\\': \\'http://weratedogs.com\\', \\'display_url\\': \\'weratedogs.com\\', \\'indices\\': [0, 23]}]}, \\'description\\': {\\'urls\\': []}}, \\'protected\\': False, \\'followers_count\\': 3200952, \\'friends_count\\': 104, \\'listed_count\\': 2805, \\'created_at\\': \\'Sun Nov 15 21:41:29 +0000 2015\\', \\'favourites_count\\': 114031, \\'utc_offset\\': None, \\'time_zone\\': None, \\'geo_enabled\\': True, \\'verified\\': True, \\'statuses_count\\': 5288, \\'lang\\': \\'en\\', \\'contributors_enabled\\': False, \\'is_translator\\': False, \\'is_translation_enabled\\': False, \\'profile_background_color\\': \\'000000\\', \\'profile_background_image_url\\': \\'http://abs.twimg.com/images/themes/theme1/bg.png\\', \\'profile_background_image_url_https\\': \\'https://abs.twimg.com/images/themes/theme1/bg.png\\', \\'profile_background_tile\\': False, \\'profile_image_url\\': \\'http://pbs.twimg.com/profile_images/861415328504569856/R2xOOfwe_normal.jpg\\', \\'profile_image_url_https\\': \\'https://pbs.twimg.com/profile_images/861415328504569856/R2xOOfwe_normal.jpg\\', \\'profile_banner_url\\': \\'https://pbs.twimg.com/profile_banners/4196983835/1501129017\\', \\'profile_link_color\\': \\'F5ABB5\\', \\'profile_sidebar_border_color\\': \\'000000\\', \\'profile_sidebar_fill_color\\': \\'000000\\', \\'profile_text_color\\': \\'000000\\', \\'profile_use_background_image\\': False, \\'has_extended_profile\\': True, \\'default_profile\\': False, \\'default_profile_image\\': False, \\'following\\': True, \\'follow_request_sent\\': False, \\'notifications\\': False, \\'translator_type\\': \\'none\\'}</td>\\n      <td>NaN</td>\\n      <td>NaN</td>\\n      <td>None</td>\\n      <td>NaN</td>\\n      <td>False</td>\\n      <td>239</td>\\n      <td>1369</td>\\n      <td>False</td>\\n      <td>False</td>\\n      <td>False</td>\\n      <td>0.0</td>\\n      <td>en</td>\\n      <td>NaN</td>\\n      <td>NaN</td>\\n      <td>NaN</td>\\n      <td>NaN</td>\\n      <td>https://pbs.twimg.com/media/CX7br3HWsAAQ9L1.jpg</td>\\n      <td>2</td>\\n      <td>golden_retriever</td>\\n      <td>0.203249</td>\\n      <td>True</td>\\n      <td>Samoyed</td>\\n      <td>0.067958</td>\\n      <td>True</td>\\n      <td>Great_Pyrenees</td>\\n      <td>0.065327</td>\\n      <td>True</td>\\n      <td>poor confidence</td>\\n      <td>https://pbs.twimg.com/media/CX7br3HWsAAQ9L1.jpg</td>\\n    </tr>\\n    <tr>\\n      <th>1380</th>\\n      <td>684222868335505415</td>\\n      <td>NaN</td>\\n      <td>NaN</td>\\n      <td>2016-01-05 04:00:18 +0000</td>\\n      <td><a href=\"http://twitter.com/download/iphone\" rel=\"nofollow\">Twitter for iPhone</a></td>\\n      <td>Someone help the girl is being mugged. Several are distracting her while two steal her shoes. Clever puppers 121/110 https://t.co/1zfnTJLt55</td>\\n      <td>NaN</td>\\n      <td>NaN</td>\\n      <td>NaN</td>\\n      <td>https://twitter.com/dog_rates/status/684222868335505415/photo/1</td>\\n      <td>121</td>\\n      <td>110</td>\\n      <td>None</td>\\n      <td>None</td>\\n      <td>None</td>\\n      <td>None</td>\\n      <td>None</td>\\n      <td>2016-01-05</td>\\n      <td>04:00:18</td>\\n      <td>10</td>\\n      <td>2016-01-05 04:00:18+00:00</td>\\n      <td>\\'684222868335505408\\'</td>\\n      <td>Someone help the girl is being mugged. Several are distracting her while two steal her shoes. Clever puppers 121/110 https://t.co/1zfnTJLt55</td>\\n      <td>False</td>\\n      <td>[0, 140]</td>\\n      <td>{\\'hashtags\\': [], \\'symbols\\': [], \\'user_mentions\\': [], \\'urls\\': [], \\'media\\': [{\\'id\\': 684222770729893889, \\'id_str\\': \\'684222770729893889\\', \\'indices\\': [117, 140], \\'media_url\\': \\'http://pbs.twimg.com/media/CX7Y_ByWwAEJdUy.jpg\\', \\'media_url_https\\': \\'https://pbs.twimg.com/media/CX7Y_ByWwAEJdUy.jpg\\', \\'url\\': \\'https://t.co/1zfnTJLt55\\', \\'display_url\\': \\'pic.twitter.com/1zfnTJLt55\\', \\'expanded_url\\': \\'https://twitter.com/dog_rates/status/684222868335505415/photo/1\\', \\'type\\': \\'photo\\', \\'sizes\\': {\\'medium\\': {\\'w\\': 600, \\'h\\': 705, \\'resize\\': \\'fit\\'}, \\'large\\': {\\'w\\': 872, \\'h\\': 1024, \\'resize\\': \\'fit\\'}, \\'thumb\\': {\\'w\\': 150, \\'h\\': 150, \\'resize\\': \\'crop\\'}, \\'small\\': {\\'w\\': 340, \\'h\\': 399, \\'resize\\': \\'fit\\'}}}]}</td>\\n      <td>{\\'media\\': [{\\'id\\': 684222770729893889, \\'id_str\\': \\'684222770729893889\\', \\'indices\\': [117, 140], \\'media_url\\': \\'http://pbs.twimg.com/media/CX7Y_ByWwAEJdUy.jpg\\', \\'media_url_https\\': \\'https://pbs.twimg.com/media/CX7Y_ByWwAEJdUy.jpg\\', \\'url\\': \\'https://t.co/1zfnTJLt55\\', \\'display_url\\': \\'pic.twitter.com/1zfnTJLt55\\', \\'expanded_url\\': \\'https://twitter.com/dog_rates/status/684222868335505415/photo/1\\', \\'type\\': \\'photo\\', \\'sizes\\': {\\'medium\\': {\\'w\\': 600, \\'h\\': 705, \\'resize\\': \\'fit\\'}, \\'large\\': {\\'w\\': 872, \\'h\\': 1024, \\'resize\\': \\'fit\\'}, \\'thumb\\': {\\'w\\': 150, \\'h\\': 150, \\'resize\\': \\'crop\\'}, \\'small\\': {\\'w\\': 340, \\'h\\': 399, \\'resize\\': \\'fit\\'}}}]}</td>\\n      <td><a href=\"http://twitter.com/download/iphone\" rel=\"nofollow\">Twitter for iPhone</a></td>\\n      <td>NaN</td>\\n      <td>nan</td>\\n      <td>nan</td>\\n      <td>nan</td>\\n      <td>None</td>\\n      <td>{\\'id\\': 4196983835, \\'id_str\\': \\'4196983835\\', \\'name\\': \\'WeRateDogs™ (author)\\', \\'screen_name\\': \\'dog_rates\\', \\'location\\': \\'DM YOUR DOGS, WE WILL RATE\\', \\'description\\': \\'#1 Source for Professional Dog Ratings | STORE: @ShopWeRateDogs | IG, FB & SC: WeRateDogs MOBILE APP: @GoodDogsGame | Business: dogratingtwitter@gmail.com\\', \\'url\\': \\'https://t.co/N7sNNHAEXS\\', \\'entities\\': {\\'url\\': {\\'urls\\': [{\\'url\\': \\'https://t.co/N7sNNHAEXS\\', \\'expanded_url\\': \\'http://weratedogs.com\\', \\'display_url\\': \\'weratedogs.com\\', \\'indices\\': [0, 23]}]}, \\'description\\': {\\'urls\\': []}}, \\'protected\\': False, \\'followers_count\\': 3200952, \\'friends_count\\': 104, \\'listed_count\\': 2805, \\'created_at\\': \\'Sun Nov 15 21:41:29 +0000 2015\\', \\'favourites_count\\': 114031, \\'utc_offset\\': None, \\'time_zone\\': None, \\'geo_enabled\\': True, \\'verified\\': True, \\'statuses_count\\': 5288, \\'lang\\': \\'en\\', \\'contributors_enabled\\': False, \\'is_translator\\': False, \\'is_translation_enabled\\': False, \\'profile_background_color\\': \\'000000\\', \\'profile_background_image_url\\': \\'http://abs.twimg.com/images/themes/theme1/bg.png\\', \\'profile_background_image_url_https\\': \\'https://abs.twimg.com/images/themes/theme1/bg.png\\', \\'profile_background_tile\\': False, \\'profile_image_url\\': \\'http://pbs.twimg.com/profile_images/861415328504569856/R2xOOfwe_normal.jpg\\', \\'profile_image_url_https\\': \\'https://pbs.twimg.com/profile_images/861415328504569856/R2xOOfwe_normal.jpg\\', \\'profile_banner_url\\': \\'https://pbs.twimg.com/profile_banners/4196983835/1501129017\\', \\'profile_link_color\\': \\'F5ABB5\\', \\'profile_sidebar_border_color\\': \\'000000\\', \\'profile_sidebar_fill_color\\': \\'000000\\', \\'profile_text_color\\': \\'000000\\', \\'profile_use_background_image\\': False, \\'has_extended_profile\\': True, \\'default_profile\\': False, \\'default_profile_image\\': False, \\'following\\': True, \\'follow_request_sent\\': False, \\'notifications\\': False, \\'translator_type\\': \\'none\\'}</td>\\n      <td>NaN</td>\\n      <td>NaN</td>\\n      <td>None</td>\\n      <td>NaN</td>\\n      <td>False</td>\\n      <td>1563</td>\\n      <td>4225</td>\\n      <td>False</td>\\n      <td>False</td>\\n      <td>False</td>\\n      <td>0.0</td>\\n      <td>en</td>\\n      <td>NaN</td>\\n      <td>NaN</td>\\n      <td>NaN</td>\\n      <td>NaN</td>\\n      <td>https://pbs.twimg.com/media/CX7Y_ByWwAEJdUy.jpg</td>\\n      <td>1</td>\\n      <td>soft-coated_wheaten_terrier</td>\\n      <td>0.791182</td>\\n      <td>True</td>\\n      <td>cocker_spaniel</td>\\n      <td>0.072444</td>\\n      <td>True</td>\\n      <td>teddy</td>\\n      <td>0.071486</td>\\n      <td>False</td>\\n      <td>confidence</td>\\n      <td>https://pbs.twimg.com/media/CWe7kw9W4AE8UJh.jpg</td>\\n    </tr>\\n    <tr>\\n      <th>1512</th>\\n      <td>677716515794329600</td>\\n      <td>NaN</td>\\n      <td>NaN</td>\\n      <td>2015-12-18 05:06:23 +0000</td>\\n      <td><a href=\"http://twitter.com/download/iphone\" rel=\"nofollow\">Twitter for iPhone</a></td>\\n      <td>IT\\'S PUPPERGEDDON. Total of 144/120 ...I think https://t.co/ZanVtAtvIq</td>\\n      <td>NaN</td>\\n      <td>NaN</td>\\n      <td>NaN</td>\\n      <td>https://twitter.com/dog_rates/status/677716515794329600/photo/1</td>\\n      <td>144</td>\\n      <td>120</td>\\n      <td>None</td>\\n      <td>None</td>\\n      <td>None</td>\\n      <td>None</td>\\n      <td>None</td>\\n      <td>2015-12-18</td>\\n      <td>05:06:23</td>\\n      <td>10</td>\\n      <td>2015-12-18 05:06:23+00:00</td>\\n      <td>\\'677716515794329600\\'</td>\\n      <td>IT\\'S PUPPERGEDDON. Total of 144/120 ...I think https://t.co/ZanVtAtvIq</td>\\n      <td>False</td>\\n      <td>[0, 70]</td>\\n      <td>{\\'hashtags\\': [], \\'symbols\\': [], \\'user_mentions\\': [], \\'urls\\': [], \\'media\\': [{\\'id\\': 677716509234487297, \\'id_str\\': \\'677716509234487297\\', \\'indices\\': [47, 70], \\'media_url\\': \\'http://pbs.twimg.com/media/CWe7kw9W4AE8UJh.jpg\\', \\'media_url_https\\': \\'https://pbs.twimg.com/media/CWe7kw9W4AE8UJh.jpg\\', \\'url\\': \\'https://t.co/ZanVtAtvIq\\', \\'display_url\\': \\'pic.twitter.com/ZanVtAtvIq\\', \\'expanded_url\\': \\'https://twitter.com/dog_rates/status/677716515794329600/photo/1\\', \\'type\\': \\'photo\\', \\'sizes\\': {\\'medium\\': {\\'w\\': 600, \\'h\\': 600, \\'resize\\': \\'fit\\'}, \\'thumb\\': {\\'w\\': 150, \\'h\\': 150, \\'resize\\': \\'crop\\'}, \\'small\\': {\\'w\\': 340, \\'h\\': 340, \\'resize\\': \\'fit\\'}, \\'large\\': {\\'w\\': 1024, \\'h\\': 1024, \\'resize\\': \\'fit\\'}}}]}</td>\\n      <td>{\\'media\\': [{\\'id\\': 677716509234487297, \\'id_str\\': \\'677716509234487297\\', \\'indices\\': [47, 70], \\'media_url\\': \\'http://pbs.twimg.com/media/CWe7kw9W4AE8UJh.jpg\\', \\'media_url_https\\': \\'https://pbs.twimg.com/media/CWe7kw9W4AE8UJh.jpg\\', \\'url\\': \\'https://t.co/ZanVtAtvIq\\', \\'display_url\\': \\'pic.twitter.com/ZanVtAtvIq\\', \\'expanded_url\\': \\'https://twitter.com/dog_rates/status/677716515794329600/photo/1\\', \\'type\\': \\'photo\\', \\'sizes\\': {\\'medium\\': {\\'w\\': 600, \\'h\\': 600, \\'resize\\': \\'fit\\'}, \\'thumb\\': {\\'w\\': 150, \\'h\\': 150, \\'resize\\': \\'crop\\'}, \\'small\\': {\\'w\\': 340, \\'h\\': 340, \\'resize\\': \\'fit\\'}, \\'large\\': {\\'w\\': 1024, \\'h\\': 1024, \\'resize\\': \\'fit\\'}}}]}</td>\\n      <td><a href=\"http://twitter.com/download/iphone\" rel=\"nofollow\">Twitter for iPhone</a></td>\\n      <td>NaN</td>\\n      <td>nan</td>\\n      <td>nan</td>\\n      <td>nan</td>\\n      <td>None</td>\\n      <td>{\\'id\\': 4196983835, \\'id_str\\': \\'4196983835\\', \\'name\\': \\'WeRateDogs™ (author)\\', \\'screen_name\\': \\'dog_rates\\', \\'location\\': \\'DM YOUR DOGS, WE WILL RATE\\', \\'description\\': \\'#1 Source for Professional Dog Ratings | STORE: @ShopWeRateDogs | IG, FB & SC: WeRateDogs MOBILE APP: @GoodDogsGame | Business: dogratingtwitter@gmail.com\\', \\'url\\': \\'https://t.co/N7sNNHAEXS\\', \\'entities\\': {\\'url\\': {\\'urls\\': [{\\'url\\': \\'https://t.co/N7sNNHAEXS\\', \\'expanded_url\\': \\'http://weratedogs.com\\', \\'display_url\\': \\'weratedogs.com\\', \\'indices\\': [0, 23]}]}, \\'description\\': {\\'urls\\': []}}, \\'protected\\': False, \\'followers_count\\': 3200954, \\'friends_count\\': 104, \\'listed_count\\': 2805, \\'created_at\\': \\'Sun Nov 15 21:41:29 +0000 2015\\', \\'favourites_count\\': 114031, \\'utc_offset\\': None, \\'time_zone\\': None, \\'geo_enabled\\': True, \\'verified\\': True, \\'statuses_count\\': 5288, \\'lang\\': \\'en\\', \\'contributors_enabled\\': False, \\'is_translator\\': False, \\'is_translation_enabled\\': False, \\'profile_background_color\\': \\'000000\\', \\'profile_background_image_url\\': \\'http://abs.twimg.com/images/themes/theme1/bg.png\\', \\'profile_background_image_url_https\\': \\'https://abs.twimg.com/images/themes/theme1/bg.png\\', \\'profile_background_tile\\': False, \\'profile_image_url\\': \\'http://pbs.twimg.com/profile_images/861415328504569856/R2xOOfwe_normal.jpg\\', \\'profile_image_url_https\\': \\'https://pbs.twimg.com/profile_images/861415328504569856/R2xOOfwe_normal.jpg\\', \\'profile_banner_url\\': \\'https://pbs.twimg.com/profile_banners/4196983835/1501129017\\', \\'profile_link_color\\': \\'F5ABB5\\', \\'profile_sidebar_border_color\\': \\'000000\\', \\'profile_sidebar_fill_color\\': \\'000000\\', \\'profile_text_color\\': \\'000000\\', \\'profile_use_background_image\\': False, \\'has_extended_profile\\': True, \\'default_profile\\': False, \\'default_profile_image\\': False, \\'following\\': True, \\'follow_request_sent\\': False, \\'notifications\\': False, \\'translator_type\\': \\'none\\'}</td>\\n      <td>NaN</td>\\n      <td>NaN</td>\\n      <td>None</td>\\n      <td>NaN</td>\\n      <td>False</td>\\n      <td>1104</td>\\n      <td>3323</td>\\n      <td>False</td>\\n      <td>False</td>\\n      <td>False</td>\\n      <td>0.0</td>\\n      <td>en</td>\\n      <td>NaN</td>\\n      <td>NaN</td>\\n      <td>NaN</td>\\n      <td>NaN</td>\\n      <td>https://pbs.twimg.com/media/CWe7kw9W4AE8UJh.jpg</td>\\n      <td>1</td>\\n      <td>teddy</td>\\n      <td>0.662908</td>\\n      <td>False</td>\\n      <td>crib</td>\\n      <td>0.031891</td>\\n      <td>False</td>\\n      <td>chow</td>\\n      <td>0.025438</td>\\n      <td>True</td>\\n      <td>confidence</td>\\n      <td>https://pbs.twimg.com/media/CVwx3dQXAAA0ksL.jpg</td>\\n    </tr>\\n    <tr>\\n      <th>1795</th>\\n      <td>670842764863651840</td>\\n      <td>NaN</td>\\n      <td>NaN</td>\\n      <td>2015-11-29 05:52:33 +0000</td>\\n      <td><a href=\"http://twitter.com/download/iphone\" rel=\"nofollow\">Twitter for iPhone</a></td>\\n      <td>After so many requests... here you go.\\\\n\\\\nGood dogg. 420/10 https://t.co/yfAAo1gdeY</td>\\n      <td>NaN</td>\\n      <td>NaN</td>\\n      <td>NaN</td>\\n      <td>https://twitter.com/dog_rates/status/670842764863651840/photo/1</td>\\n      <td>420</td>\\n      <td>10</td>\\n      <td>None</td>\\n      <td>None</td>\\n      <td>None</td>\\n      <td>None</td>\\n      <td>None</td>\\n      <td>2015-11-29</td>\\n      <td>05:52:33</td>\\n      <td>10</td>\\n      <td>2015-11-29 05:52:33+00:00</td>\\n      <td>\\'670842764863651840\\'</td>\\n      <td>After so many requests... here you go.\\\\n\\\\nGood dogg. 420/10 https://t.co/yfAAo1gdeY</td>\\n      <td>False</td>\\n      <td>[0, 81]</td>\\n      <td>{\\'hashtags\\': [], \\'symbols\\': [], \\'user_mentions\\': [], \\'urls\\': [], \\'media\\': [{\\'id\\': 670842759008411648, \\'id_str\\': \\'670842759008411648\\', \\'indices\\': [58, 81], \\'media_url\\': \\'http://pbs.twimg.com/media/CU9P717W4AAOlKx.jpg\\', \\'media_url_https\\': \\'https://pbs.twimg.com/media/CU9P717W4AAOlKx.jpg\\', \\'url\\': \\'https://t.co/yfAAo1gdeY\\', \\'display_url\\': \\'pic.twitter.com/yfAAo1gdeY\\', \\'expanded_url\\': \\'https://twitter.com/dog_rates/status/670842764863651840/photo/1\\', \\'type\\': \\'photo\\', \\'sizes\\': {\\'large\\': {\\'w\\': 470, \\'h\\': 338, \\'resize\\': \\'fit\\'}, \\'small\\': {\\'w\\': 340, \\'h\\': 245, \\'resize\\': \\'fit\\'}, \\'medium\\': {\\'w\\': 470, \\'h\\': 338, \\'resize\\': \\'fit\\'}, \\'thumb\\': {\\'w\\': 150, \\'h\\': 150, \\'resize\\': \\'crop\\'}}}]}</td>\\n      <td>{\\'media\\': [{\\'id\\': 670842759008411648, \\'id_str\\': \\'670842759008411648\\', \\'indices\\': [58, 81], \\'media_url\\': \\'http://pbs.twimg.com/media/CU9P717W4AAOlKx.jpg\\', \\'media_url_https\\': \\'https://pbs.twimg.com/media/CU9P717W4AAOlKx.jpg\\', \\'url\\': \\'https://t.co/yfAAo1gdeY\\', \\'display_url\\': \\'pic.twitter.com/yfAAo1gdeY\\', \\'expanded_url\\': \\'https://twitter.com/dog_rates/status/670842764863651840/photo/1\\', \\'type\\': \\'photo\\', \\'sizes\\': {\\'large\\': {\\'w\\': 470, \\'h\\': 338, \\'resize\\': \\'fit\\'}, \\'small\\': {\\'w\\': 340, \\'h\\': 245, \\'resize\\': \\'fit\\'}, \\'medium\\': {\\'w\\': 470, \\'h\\': 338, \\'resize\\': \\'fit\\'}, \\'thumb\\': {\\'w\\': 150, \\'h\\': 150, \\'resize\\': \\'crop\\'}}}]}</td>\\n      <td><a href=\"http://twitter.com/download/iphone\" rel=\"nofollow\">Twitter for iPhone</a></td>\\n      <td>NaN</td>\\n      <td>nan</td>\\n      <td>nan</td>\\n      <td>nan</td>\\n      <td>None</td>\\n      <td>{\\'id\\': 4196983835, \\'id_str\\': \\'4196983835\\', \\'name\\': \\'WeRateDogs™ (author)\\', \\'screen_name\\': \\'dog_rates\\', \\'location\\': \\'DM YOUR DOGS, WE WILL RATE\\', \\'description\\': \\'#1 Source for Professional Dog Ratings | STORE: @ShopWeRateDogs | IG, FB & SC: WeRateDogs MOBILE APP: @GoodDogsGame | Business: dogratingtwitter@gmail.com\\', \\'url\\': \\'https://t.co/N7sNNHAEXS\\', \\'entities\\': {\\'url\\': {\\'urls\\': [{\\'url\\': \\'https://t.co/N7sNNHAEXS\\', \\'expanded_url\\': \\'http://weratedogs.com\\', \\'display_url\\': \\'weratedogs.com\\', \\'indices\\': [0, 23]}]}, \\'description\\': {\\'urls\\': []}}, \\'protected\\': False, \\'followers_count\\': 3201008, \\'friends_count\\': 104, \\'listed_count\\': 2812, \\'created_at\\': \\'Sun Nov 15 21:41:29 +0000 2015\\', \\'favourites_count\\': 114031, \\'utc_offset\\': None, \\'time_zone\\': None, \\'geo_enabled\\': True, \\'verified\\': True, \\'statuses_count\\': 5288, \\'lang\\': \\'en\\', \\'contributors_enabled\\': False, \\'is_translator\\': False, \\'is_translation_enabled\\': False, \\'profile_background_color\\': \\'000000\\', \\'profile_background_image_url\\': \\'http://abs.twimg.com/images/themes/theme1/bg.png\\', \\'profile_background_image_url_https\\': \\'https://abs.twimg.com/images/themes/theme1/bg.png\\', \\'profile_background_tile\\': False, \\'profile_image_url\\': \\'http://pbs.twimg.com/profile_images/861415328504569856/R2xOOfwe_normal.jpg\\', \\'profile_image_url_https\\': \\'https://pbs.twimg.com/profile_images/861415328504569856/R2xOOfwe_normal.jpg\\', \\'profile_banner_url\\': \\'https://pbs.twimg.com/profile_banners/4196983835/1501129017\\', \\'profile_link_color\\': \\'F5ABB5\\', \\'profile_sidebar_border_color\\': \\'000000\\', \\'profile_sidebar_fill_color\\': \\'000000\\', \\'profile_text_color\\': \\'000000\\', \\'profile_use_background_image\\': False, \\'has_extended_profile\\': True, \\'default_profile\\': False, \\'default_profile_image\\': False, \\'following\\': True, \\'follow_request_sent\\': False, \\'notifications\\': False, \\'translator_type\\': \\'none\\'}</td>\\n      <td>NaN</td>\\n      <td>NaN</td>\\n      <td>None</td>\\n      <td>NaN</td>\\n      <td>False</td>\\n      <td>4324</td>\\n      <td>7989</td>\\n      <td>False</td>\\n      <td>False</td>\\n      <td>False</td>\\n      <td>0.0</td>\\n      <td>en</td>\\n      <td>NaN</td>\\n      <td>NaN</td>\\n      <td>NaN</td>\\n      <td>NaN</td>\\n      <td>https://pbs.twimg.com/media/CU9P717W4AAOlKx.jpg</td>\\n      <td>1</td>\\n      <td>microphone</td>\\n      <td>0.096063</td>\\n      <td>False</td>\\n      <td>accordion</td>\\n      <td>0.094075</td>\\n      <td>False</td>\\n      <td>drumstick</td>\\n      <td>0.061113</td>\\n      <td>False</td>\\n      <td>NaN</td>\\n      <td>https://pbs.twimg.com/media/CU9P717W4AAOlKx.jpg</td>\\n    </tr>\\n  </tbody>\\n</table>'"
      ]
     },
     "execution_count": 764,
     "metadata": {},
     "output_type": "execute_result"
    }
   ],
   "source": [
    "super_rate.to_html(escape=False, formatters=dict(dog_image1=path_to_image_html1))"
   ]
  },
  {
   "cell_type": "code",
   "execution_count": 765,
   "metadata": {
    "scrolled": true
   },
   "outputs": [],
   "source": [
    "super_rate1=super_rate[['tweet_id','timestamp_time','timestamp_date','rating_numerator','rating_denominator_1','p1','p1_conf','p1_dog','p1_conf_level','dog_image']]"
   ]
  },
  {
   "cell_type": "code",
   "execution_count": null,
   "metadata": {
    "scrolled": true
   },
   "outputs": [],
   "source": []
  },
  {
   "cell_type": "code",
   "execution_count": 766,
   "metadata": {
    "scrolled": true
   },
   "outputs": [
    {
     "data": {
      "text/html": [
       "<table border=\"1\" class=\"dataframe\">\n",
       "  <thead>\n",
       "    <tr style=\"text-align: right;\">\n",
       "      <th></th>\n",
       "      <th>tweet_id</th>\n",
       "      <th>timestamp_time</th>\n",
       "      <th>timestamp_date</th>\n",
       "      <th>rating_numerator</th>\n",
       "      <th>rating_denominator_1</th>\n",
       "      <th>p1</th>\n",
       "      <th>p1_conf</th>\n",
       "      <th>p1_dog</th>\n",
       "      <th>p1_conf_level</th>\n",
       "      <th>dog_image</th>\n",
       "    </tr>\n",
       "  </thead>\n",
       "  <tbody>\n",
       "    <tr>\n",
       "      <th>734</th>\n",
       "      <td>758467244762497024</td>\n",
       "      <td>01:00:57</td>\n",
       "      <td>2016-07-28</td>\n",
       "      <td>165</td>\n",
       "      <td>10</td>\n",
       "      <td>Labrador_retriever</td>\n",
       "      <td>0.436377</td>\n",
       "      <td>True</td>\n",
       "      <td>fair confidence</td>\n",
       "      <td><img src=\"https://pbs.twimg.com/ext_tw_video_thumb/75846...\" width=\"80\" ></td>\n",
       "    </tr>\n",
       "    <tr>\n",
       "      <th>802</th>\n",
       "      <td>749981277374128128</td>\n",
       "      <td>15:00:45</td>\n",
       "      <td>2016-07-04</td>\n",
       "      <td>1776</td>\n",
       "      <td>10</td>\n",
       "      <td>bow_tie</td>\n",
       "      <td>0.533941</td>\n",
       "      <td>False</td>\n",
       "      <td>confidence</td>\n",
       "      <td><img src=\"https://pbs.twimg.com/media/CmgBZ7kWcAAlzFD.jpg\" width=\"80\" ></td>\n",
       "    </tr>\n",
       "    <tr>\n",
       "      <th>924</th>\n",
       "      <td>731156023742988288</td>\n",
       "      <td>16:15:54</td>\n",
       "      <td>2016-05-13</td>\n",
       "      <td>204</td>\n",
       "      <td>10</td>\n",
       "      <td>lakeside</td>\n",
       "      <td>0.501767</td>\n",
       "      <td>False</td>\n",
       "      <td>confidence</td>\n",
       "      <td><img src=\"https://pbs.twimg.com/media/CiWWhVNUYAAab_r.jpg\" width=\"80\" ></td>\n",
       "    </tr>\n",
       "    <tr>\n",
       "      <th>1379</th>\n",
       "      <td>684225744407494656</td>\n",
       "      <td>04:11:44</td>\n",
       "      <td>2016-01-05</td>\n",
       "      <td>143</td>\n",
       "      <td>10</td>\n",
       "      <td>golden_retriever</td>\n",
       "      <td>0.203249</td>\n",
       "      <td>True</td>\n",
       "      <td>poor confidence</td>\n",
       "      <td><img src=\"https://pbs.twimg.com/media/CX7br3HWsAAQ9L1.jpg\" width=\"80\" ></td>\n",
       "    </tr>\n",
       "    <tr>\n",
       "      <th>1380</th>\n",
       "      <td>684222868335505415</td>\n",
       "      <td>04:00:18</td>\n",
       "      <td>2016-01-05</td>\n",
       "      <td>121</td>\n",
       "      <td>10</td>\n",
       "      <td>soft-coated_wheaten_terrier</td>\n",
       "      <td>0.791182</td>\n",
       "      <td>True</td>\n",
       "      <td>confidence</td>\n",
       "      <td><img src=\"https://pbs.twimg.com/media/CWe7kw9W4AE8UJh.jpg\" width=\"80\" ></td>\n",
       "    </tr>\n",
       "    <tr>\n",
       "      <th>1512</th>\n",
       "      <td>677716515794329600</td>\n",
       "      <td>05:06:23</td>\n",
       "      <td>2015-12-18</td>\n",
       "      <td>144</td>\n",
       "      <td>10</td>\n",
       "      <td>teddy</td>\n",
       "      <td>0.662908</td>\n",
       "      <td>False</td>\n",
       "      <td>confidence</td>\n",
       "      <td><img src=\"https://pbs.twimg.com/media/CVwx3dQXAAA0ksL.jpg\" width=\"80\" ></td>\n",
       "    </tr>\n",
       "    <tr>\n",
       "      <th>1795</th>\n",
       "      <td>670842764863651840</td>\n",
       "      <td>05:52:33</td>\n",
       "      <td>2015-11-29</td>\n",
       "      <td>420</td>\n",
       "      <td>10</td>\n",
       "      <td>microphone</td>\n",
       "      <td>0.096063</td>\n",
       "      <td>False</td>\n",
       "      <td>NaN</td>\n",
       "      <td><img src=\"https://pbs.twimg.com/media/CU9P717W4AAOlKx.jpg\" width=\"80\" ></td>\n",
       "    </tr>\n",
       "  </tbody>\n",
       "</table>"
      ],
      "text/plain": [
       "<IPython.core.display.HTML object>"
      ]
     },
     "execution_count": 766,
     "metadata": {},
     "output_type": "execute_result"
    }
   ],
   "source": [
    "## from IPython.core.display import HTML\n",
    "HTML(super_rate1.to_html(escape=False,formatters=dict(dog_image=path_to_image_html1)))"
   ]
  },
  {
   "cell_type": "code",
   "execution_count": null,
   "metadata": {
    "scrolled": true
   },
   "outputs": [],
   "source": []
  },
  {
   "cell_type": "code",
   "execution_count": null,
   "metadata": {
    "scrolled": true
   },
   "outputs": [],
   "source": []
  }
 ],
 "metadata": {
  "kernelspec": {
   "display_name": "Python 3",
   "language": "python",
   "name": "python3"
  },
  "language_info": {
   "codemirror_mode": {
    "name": "ipython",
    "version": 3
   },
   "file_extension": ".py",
   "mimetype": "text/x-python",
   "name": "python",
   "nbconvert_exporter": "python",
   "pygments_lexer": "ipython3",
   "version": "3.7.9"
  }
 },
 "nbformat": 4,
 "nbformat_minor": 4
}
